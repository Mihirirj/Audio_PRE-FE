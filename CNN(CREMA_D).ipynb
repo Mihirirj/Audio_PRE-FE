{
  "nbformat": 4,
  "nbformat_minor": 0,
  "metadata": {
    "colab": {
      "provenance": [],
      "authorship_tag": "ABX9TyOieUPuNfmp0nfffJ3e+PGn",
      "include_colab_link": true
    },
    "kernelspec": {
      "name": "python3",
      "display_name": "Python 3"
    },
    "language_info": {
      "name": "python"
    }
  },
  "cells": [
    {
      "cell_type": "markdown",
      "metadata": {
        "id": "view-in-github",
        "colab_type": "text"
      },
      "source": [
        "<a href=\"https://colab.research.google.com/github/Mihirirj/Audio_PRE-FE/blob/main/CNN(CREMA_D).ipynb\" target=\"_parent\"><img src=\"https://colab.research.google.com/assets/colab-badge.svg\" alt=\"Open In Colab\"/></a>"
      ]
    },
    {
      "cell_type": "code",
      "execution_count": 1,
      "metadata": {
        "id": "p-h9BM1Cwob6"
      },
      "outputs": [],
      "source": [
        "import pandas as pd\n",
        "import numpy as np\n",
        "import os\n",
        "import sys\n",
        "import pickle\n",
        "from tqdm import tqdm\n",
        "import timeit"
      ]
    },
    {
      "cell_type": "code",
      "source": [
        "# Audio Processing\n",
        "import librosa\n",
        "import librosa.display"
      ],
      "metadata": {
        "id": "ehtlGP19KcxF"
      },
      "execution_count": 2,
      "outputs": []
    },
    {
      "cell_type": "code",
      "source": [
        "# Visualization\n",
        "import seaborn as sns\n",
        "import matplotlib.pyplot as plt"
      ],
      "metadata": {
        "id": "X28ixe4rKfB-"
      },
      "execution_count": 3,
      "outputs": []
    },
    {
      "cell_type": "code",
      "source": [
        "# Scikit-learn for Preprocessing and Metrics\n",
        "from sklearn.preprocessing import StandardScaler, OneHotEncoder\n",
        "from sklearn.model_selection import train_test_split\n",
        "from sklearn.metrics import confusion_matrix, classification_report"
      ],
      "metadata": {
        "id": "DoRbBfZPK5OE"
      },
      "execution_count": 4,
      "outputs": []
    },
    {
      "cell_type": "code",
      "source": [
        "# Keras / TensorFlow for Model Building\n",
        "import tensorflow as tf\n",
        "from tensorflow.keras.models import Sequential, model_from_json\n",
        "from tensorflow.keras.layers import (\n",
        "    Conv1D, MaxPooling1D, BatchNormalization, Dropout, Flatten, Dense\n",
        ")\n",
        "from tensorflow.keras.callbacks import ModelCheckpoint, EarlyStopping, ReduceLROnPlateau"
      ],
      "metadata": {
        "id": "jE0zBWhJK_Ak"
      },
      "execution_count": 5,
      "outputs": []
    },
    {
      "cell_type": "code",
      "source": [
        "# Ignore warnings for a cleaner output\n",
        "import warnings\n",
        "if not sys.warnoptions:\n",
        "    warnings.simplefilter(\"ignore\")\n",
        "warnings.filterwarnings(\"ignore\", category=DeprecationWarning)"
      ],
      "metadata": {
        "id": "v_MfKTkaLFRq"
      },
      "execution_count": 6,
      "outputs": []
    },
    {
      "cell_type": "code",
      "source": [
        "!apt-get update -qq && apt-get install -y libsndfile1 -qq\n",
        "\n",
        "print(\"Libraries imported and system updated successfully.\")"
      ],
      "metadata": {
        "colab": {
          "base_uri": "https://localhost:8080/"
        },
        "id": "0yx09wjKLKiP",
        "outputId": "6bfbdb77-602d-4f77-ceb4-7407d7fef9e6"
      },
      "execution_count": 7,
      "outputs": [
        {
          "output_type": "stream",
          "name": "stdout",
          "text": [
            "W: Skipping acquire of configured file 'main/source/Sources' as repository 'https://r2u.stat.illinois.edu/ubuntu jammy InRelease' does not seem to provide it (sources.list entry misspelt?)\n",
            "Libraries imported and system updated successfully.\n"
          ]
        }
      ]
    },
    {
      "cell_type": "code",
      "source": [
        "print(\"\\nStep 2: Mounting Google Drive and setting paths...\")\n",
        "\n",
        "from google.colab import drive\n",
        "drive.mount('/content/drive')"
      ],
      "metadata": {
        "colab": {
          "base_uri": "https://localhost:8080/"
        },
        "id": "RgtQNyuZLXSA",
        "outputId": "b294f374-2f06-4976-b9dc-11afe0c6cc0d"
      },
      "execution_count": 8,
      "outputs": [
        {
          "output_type": "stream",
          "name": "stdout",
          "text": [
            "\n",
            "Step 2: Mounting Google Drive and setting paths...\n",
            "Mounted at /content/drive\n"
          ]
        }
      ]
    },
    {
      "cell_type": "code",
      "source": [
        "CREMA_D_PATH = \"/content/drive/MyDrive/AudioWAV/\"\n",
        "\n",
        "if not os.path.exists(CREMA_D_PATH):\n",
        "    print(f\"ERROR: The path '{CREMA_D_PATH}' does not exist.\")\n",
        "    print(\"Please make sure you have uploaded the 'AudioWAV' folder to your Google Drive and updated the CREMA_D_PATH variable.\")\n",
        "else:\n",
        "    print(\"Dataset path confirmed.\")"
      ],
      "metadata": {
        "colab": {
          "base_uri": "https://localhost:8080/"
        },
        "id": "rFZOpCfRLvK7",
        "outputId": "bf3bbab4-a373-474c-f563-31a7106b5350"
      },
      "execution_count": 9,
      "outputs": [
        {
          "output_type": "stream",
          "name": "stdout",
          "text": [
            "Dataset path confirmed.\n"
          ]
        }
      ]
    },
    {
      "cell_type": "code",
      "source": [
        "# STEP 3: LOAD AND PROCESS DATASET METADATA\n",
        "# ==============================================================================\n",
        "print(\"\\nStep 3: Loading and processing CREMA-D metadata...\")\n",
        "\n",
        "crema_directory_list = os.listdir(CREMA_D_PATH)\n",
        "\n",
        "file_emotion = []\n",
        "file_path = []\n",
        "\n",
        "for file in crema_directory_list:\n",
        "    # storing file paths\n",
        "    file_path.append(os.path.join(CREMA_D_PATH, file))\n",
        "    # storing file emotions\n",
        "    part = file.split('_')\n",
        "    if part[2] == 'SAD':\n",
        "        file_emotion.append('sad')\n",
        "    elif part[2] == 'ANG':\n",
        "        file_emotion.append('angry')\n",
        "    elif part[2] == 'DIS':\n",
        "        file_emotion.append('disgust')\n",
        "    elif part[2] == 'FEA':\n",
        "        file_emotion.append('fear')\n",
        "    elif part[2] == 'HAP':\n",
        "        file_emotion.append('happy')\n",
        "    elif part[2] == 'NEU':\n",
        "        file_emotion.append('neutral')\n",
        "    else:\n",
        "        file_emotion.append('Unknown')\n",
        "\n",
        "# DataFrame for emotion of files\n",
        "emotion_df = pd.DataFrame(file_emotion, columns=['Emotions'])\n",
        "\n",
        "# DataFrame for path of files.\n",
        "path_df = pd.DataFrame(file_path, columns=['Path'])\n",
        "data_path = pd.concat([emotion_df, path_df], axis=1)\n",
        "\n",
        "print(\"CREMA-D DataFrame created successfully.\")\n",
        "print(\"Emotion Counts:\")\n",
        "print(data_path['Emotions'].value_counts())\n",
        "print(\"\\nDataFrame Head:\")\n",
        "print(data_path.head())"
      ],
      "metadata": {
        "colab": {
          "base_uri": "https://localhost:8080/"
        },
        "id": "C1stO5P3L6oc",
        "outputId": "665dcae2-0000-4b3c-88bb-93ad91902a59"
      },
      "execution_count": 10,
      "outputs": [
        {
          "output_type": "stream",
          "name": "stdout",
          "text": [
            "\n",
            "Step 3: Loading and processing CREMA-D metadata...\n",
            "CREMA-D DataFrame created successfully.\n",
            "Emotion Counts:\n",
            "Emotions\n",
            "sad        1271\n",
            "happy      1271\n",
            "angry      1271\n",
            "fear       1271\n",
            "disgust    1271\n",
            "neutral    1087\n",
            "Name: count, dtype: int64\n",
            "\n",
            "DataFrame Head:\n",
            "  Emotions                                               Path\n",
            "0      sad  /content/drive/MyDrive/AudioWAV/1080_DFA_SAD_X...\n",
            "1    happy  /content/drive/MyDrive/AudioWAV/1079_WSI_HAP_X...\n",
            "2    angry  /content/drive/MyDrive/AudioWAV/1079_TSI_ANG_X...\n",
            "3  neutral  /content/drive/MyDrive/AudioWAV/1080_DFA_NEU_X...\n",
            "4     fear  /content/drive/MyDrive/AudioWAV/1079_WSI_FEA_X...\n"
          ]
        }
      ]
    },
    {
      "cell_type": "code",
      "source": [],
      "metadata": {
        "id": "S-KLmvl2MIH0"
      },
      "execution_count": null,
      "outputs": []
    },
    {
      "cell_type": "code",
      "source": [
        "print(\"\\nStep 4: Visualizing data distribution...\")\n",
        "\n",
        "plt.figure(figsize=(10, 5))\n",
        "plt.title('Count of Emotions in CREMA-D Dataset', size=16)\n",
        "sns.countplot(x=data_path.Emotions, palette=\"viridis\")\n",
        "plt.ylabel('Count', size=12)\n",
        "plt.xlabel('Emotions', size=12)\n",
        "sns.despine(top=True, right=True, left=False, bottom=False)\n",
        "plt.show()\n"
      ],
      "metadata": {
        "colab": {
          "base_uri": "https://localhost:8080/",
          "height": 621
        },
        "id": "dyJWs3ZPMOhu",
        "outputId": "700be86a-b6ef-42f3-f1f7-e40dbaa84a54"
      },
      "execution_count": 11,
      "outputs": [
        {
          "output_type": "stream",
          "name": "stdout",
          "text": [
            "\n",
            "Step 4: Visualizing data distribution...\n"
          ]
        },
        {
          "output_type": "stream",
          "name": "stderr",
          "text": [
            "/tmp/ipython-input-11-3406805176.py:5: FutureWarning: \n",
            "\n",
            "Passing `palette` without assigning `hue` is deprecated and will be removed in v0.14.0. Assign the `x` variable to `hue` and set `legend=False` for the same effect.\n",
            "\n",
            "  sns.countplot(x=data_path.Emotions, palette=\"viridis\")\n"
          ]
        },
        {
          "output_type": "display_data",
          "data": {
            "text/plain": [
              "<Figure size 1000x500 with 1 Axes>"
            ],
            "image/png": "[encoded data removed]"
          },
          "metadata": {}
        }
      ]
    },
    {
      "cell_type": "code",
      "source": [
        "# ==============================================================================\n",
        "# STEP 5: FEATURE EXTRACTION & AUGMENTATION FUNCTIONS\n",
        "# ==============================================================================\n",
        "print(\"\\nStep 5: Defining feature extraction and augmentation functions...\")\n",
        "\n",
        "# --- Data Augmentation Functions ---\n",
        "def noise(data):\n",
        "    noise_amp = 0.035 * np.random.uniform() * np.amax(data)\n",
        "    data = data + noise_amp * np.random.normal(size=data.shape[0])\n",
        "    return data\n",
        "\n",
        "def pitch(data, sampling_rate, pitch_factor=0.7):\n",
        "    return librosa.effects.pitch_shift(data, sr=sampling_rate, n_steps=pitch_factor)\n",
        "\n",
        "# --- Feature Extraction Functions ---\n",
        "def extract_features(data, sr=22050):\n",
        "    result = np.array([])\n",
        "    # ZCR\n",
        "    zcr = np.mean(librosa.feature.zero_crossing_rate(y=data).T, axis=0)\n",
        "    result = np.hstack((result, zcr))\n",
        "    # RMS\n",
        "    rms = np.mean(librosa.feature.rms(y=data).T, axis=0)\n",
        "    result = np.hstack((result, rms))\n",
        "    # MFCC\n",
        "    mfcc = np.mean(librosa.feature.mfcc(y=data, sr=sr, n_mfcc=13).T, axis=0)\n",
        "    result = np.hstack((result, mfcc))\n",
        "    # Mel Spectrogram\n",
        "    mel = np.mean(librosa.feature.melspectrogram(y=data, sr=sr).T, axis=0)\n",
        "    result = np.hstack((result, mel))\n",
        "\n",
        "    return result\n",
        "\n",
        "def get_features_with_augmentation(path):\n",
        "    # Load audio file\n",
        "    data, sr = librosa.load(path, duration=2.5, offset=0.6)\n",
        "\n",
        "    # Original audio features\n",
        "    res1 = extract_features(data, sr)\n",
        "\n",
        "    # Noise augmented audio features\n",
        "    noise_data = noise(data)\n",
        "    res2 = extract_features(noise_data, sr)\n",
        "\n",
        "    # Pitch augmented audio features\n",
        "    pitch_data = pitch(data, sr)\n",
        "    res3 = extract_features(pitch_data, sr)\n",
        "\n",
        "    # Combine all features\n",
        "    all_features = np.vstack((res1, res2, res3))\n",
        "\n",
        "    return all_features\n",
        "\n",
        "print(\"Functions defined.\")"
      ],
      "metadata": {
        "colab": {
          "base_uri": "https://localhost:8080/"
        },
        "id": "U9o0oS9qMW2E",
        "outputId": "3e46177f-060f-462f-bf9e-744f2405a453"
      },
      "execution_count": 12,
      "outputs": [
        {
          "output_type": "stream",
          "name": "stdout",
          "text": [
            "\n",
            "Step 5: Defining feature extraction and augmentation functions...\n",
            "Functions defined.\n"
          ]
        }
      ]
    },
    {
      "cell_type": "code",
      "source": [
        "# ==============================================================================\n",
        "# STEP 6: GENERATE AND SAVE FEATURES (LONG PROCESS)\n",
        "# ==============================================================================\n",
        "print(\"\\nStep 6: Generating features from audio files. This may take a long time...\")\n",
        "\n",
        "start_time = timeit.default_timer()\n",
        "\n",
        "X, Y = [], []\n",
        "for path, emotion in tqdm(zip(data_path.Path, data_path.Emotions), total=len(data_path)):\n",
        "    try:\n",
        "        features = get_features_with_augmentation(path)\n",
        "        for f in features:\n",
        "            X.append(f)\n",
        "            Y.append(emotion)\n",
        "    except Exception as e:\n",
        "        print(f\"Error processing {path}: {e}\")\n",
        "\n",
        "stop_time = timeit.default_timer()\n",
        "print(f'\\nFeature extraction completed in: {stop_time - start_time:.2f}s')\n",
        "\n",
        "# Save features to avoid re-running this step\n",
        "features_df = pd.DataFrame(X)\n",
        "features_df['Emotions'] = Y\n",
        "features_df.to_csv('crema_features_with_augmentation.csv', index=False)\n",
        "print(\"Features saved to 'crema_features_with_augmentation.csv'\")"
      ],
      "metadata": {
        "colab": {
          "base_uri": "https://localhost:8080/"
        },
        "id": "MfWyAzZeM-xC",
        "outputId": "ef582fb4-52aa-4857-ae45-99e1f06bc1b7"
      },
      "execution_count": 14,
      "outputs": [
        {
          "output_type": "stream",
          "name": "stdout",
          "text": [
            "\n",
            "Step 6: Generating features from audio files. This may take a long time...\n"
          ]
        },
        {
          "output_type": "stream",
          "name": "stderr",
          "text": [
            "100%|██████████| 7442/7442 [1:18:12<00:00,  1.59it/s]\n"
          ]
        },
        {
          "output_type": "stream",
          "name": "stdout",
          "text": [
            "\n",
            "Feature extraction completed in: 4692.62s\n",
            "Features saved to 'crema_features_with_augmentation.csv'\n"
          ]
        }
      ]
    },
    {
      "cell_type": "code",
      "source": [
        "# STEP 7: LOAD SAVED FEATURES AND PREPARE FOR MODELING\n",
        "# ==============================================================================\n",
        "print(\"\\nStep 7: Loading features and preparing data for the model...\")\n",
        "\n",
        "# Load the saved features\n",
        "features_df = pd.read_csv('crema_features_with_augmentation.csv')\n",
        "print(f\"Loaded {len(features_df)} feature sets.\")\n",
        "\n",
        "# Separate features (X) and labels (Y)\n",
        "X = features_df.drop('Emotions', axis=1).values\n",
        "Y = features_df['Emotions'].values\n",
        "\n",
        "# One-Hot Encode the labels\n",
        "encoder = OneHotEncoder()\n",
        "Y = encoder.fit_transform(np.array(Y).reshape(-1, 1)).toarray()\n",
        "\n",
        "# Split data into training and testing sets\n",
        "x_train, x_test, y_train, y_test = train_test_split(X, Y, random_state=42, test_size=0.2, shuffle=True)\n",
        "\n",
        "# Scale the features\n",
        "scaler = StandardScaler()\n",
        "x_train = scaler.fit_transform(x_train)\n",
        "x_test = scaler.transform(x_test)\n",
        "\n",
        "# Reshape data for the 1D CNN model\n",
        "x_train = np.expand_dims(x_train, axis=2)\n",
        "x_test = np.expand_dims(x_test, axis=2)\n",
        "\n",
        "print(f\"Data shapes: \\nx_train: {x_train.shape}\\ny_train: {y_train.shape}\\nx_test: {x_test.shape}\\ny_test: {y_test.shape}\")\n"
      ],
      "metadata": {
        "colab": {
          "base_uri": "https://localhost:8080/"
        },
        "id": "_pnW6q93e92-",
        "outputId": "6cbc8803-a8a4-40cc-b546-3dffd9d5a06d"
      },
      "execution_count": 15,
      "outputs": [
        {
          "output_type": "stream",
          "name": "stdout",
          "text": [
            "\n",
            "Step 7: Loading features and preparing data for the model...\n",
            "Loaded 22326 feature sets.\n",
            "Data shapes: \n",
            "x_train: (17860, 143, 1)\n",
            "y_train: (17860, 6)\n",
            "x_test: (4466, 143, 1)\n",
            "y_test: (4466, 6)\n"
          ]
        }
      ]
    },
    {
      "cell_type": "code",
      "source": [
        "# STEP 8: BUILD THE 1D CONVOLUTIONAL NEURAL NETWORK (CNN)\n",
        "# ==============================================================================\n",
        "print(\"\\nStep 8: Building the 1D CNN model...\")\n",
        "\n",
        "model = Sequential([\n",
        "    Conv1D(256, kernel_size=5, strides=1, padding='same', activation='relu', input_shape=(x_train.shape[1], 1)),\n",
        "    BatchNormalization(),\n",
        "    MaxPooling1D(pool_size=5, strides=2, padding='same'),\n",
        "\n",
        "    Conv1D(256, kernel_size=5, strides=1, padding='same', activation='relu'),\n",
        "    BatchNormalization(),\n",
        "    MaxPooling1D(pool_size=5, strides=2, padding='same'),\n",
        "    Dropout(0.2),\n",
        "\n",
        "    Conv1D(128, kernel_size=5, strides=1, padding='same', activation='relu'),\n",
        "    BatchNormalization(),\n",
        "    MaxPooling1D(pool_size=5, strides=2, padding='same'),\n",
        "\n",
        "    Conv1D(64, kernel_size=3, strides=1, padding='same', activation='relu'),\n",
        "    BatchNormalization(),\n",
        "    MaxPooling1D(pool_size=5, strides=2, padding='same'),\n",
        "    Dropout(0.2),\n",
        "\n",
        "    Flatten(),\n",
        "    Dense(128, activation='relu'),\n",
        "    BatchNormalization(),\n",
        "    Dense(y_train.shape[1], activation='softmax')\n",
        "])\n",
        "\n",
        "model.compile(optimizer='adam', loss='categorical_crossentropy', metrics=['accuracy'])\n",
        "model.summary()\n"
      ],
      "metadata": {
        "colab": {
          "base_uri": "https://localhost:8080/",
          "height": 878
        },
        "id": "xFfEuQtIfOpA",
        "outputId": "b867345e-7ffb-4560-ec92-cff1e4d1acb9"
      },
      "execution_count": 16,
      "outputs": [
        {
          "output_type": "stream",
          "name": "stdout",
          "text": [
            "\n",
            "Step 8: Building the 1D CNN model...\n"
          ]
        },
        {
          "output_type": "stream",
          "name": "stderr",
          "text": [
            "/usr/local/lib/python3.11/dist-packages/keras/src/layers/convolutional/base_conv.py:107: UserWarning: Do not pass an `input_shape`/`input_dim` argument to a layer. When using Sequential models, prefer using an `Input(shape)` object as the first layer in the model instead.\n",
            "  super().__init__(activity_regularizer=activity_regularizer, **kwargs)\n"
          ]
        },
        {
          "output_type": "display_data",
          "data": {
            "text/plain": [
              "\u001b[1mModel: \"sequential\"\u001b[0m\n"
            ],
            "text/html": [
              "<pre style=\"white-space:pre;overflow-x:auto;line-height:normal;font-family:Menlo,'DejaVu Sans Mono',consolas,'Courier New',monospace\"><span style=\"font-weight: bold\">Model: \"sequential\"</span>\n",
              "</pre>\n"
            ]
          },
          "metadata": {}
        },
        {
          "output_type": "display_data",
          "data": {
            "text/plain": [
              "┏━━━━━━━━━━━━━━━━━━━━━━━━━━━━━━━━━┳━━━━━━━━━━━━━━━━━━━━━━━━┳━━━━━━━━━━━━━━━┓\n",
              "┃\u001b[1m \u001b[0m\u001b[1mLayer (type)                   \u001b[0m\u001b[1m \u001b[0m┃\u001b[1m \u001b[0m\u001b[1mOutput Shape          \u001b[0m\u001b[1m \u001b[0m┃\u001b[1m \u001b[0m\u001b[1m      Param #\u001b[0m\u001b[1m \u001b[0m┃\n",
              "┡━━━━━━━━━━━━━━━━━━━━━━━━━━━━━━━━━╇━━━━━━━━━━━━━━━━━━━━━━━━╇━━━━━━━━━━━━━━━┩\n",
              "│ conv1d (\u001b[38;5;33mConv1D\u001b[0m)                 │ (\u001b[38;5;45mNone\u001b[0m, \u001b[38;5;34m143\u001b[0m, \u001b[38;5;34m256\u001b[0m)       │         \u001b[38;5;34m1,536\u001b[0m │\n",
              "├─────────────────────────────────┼────────────────────────┼───────────────┤\n",
              "│ batch_normalization             │ (\u001b[38;5;45mNone\u001b[0m, \u001b[38;5;34m143\u001b[0m, \u001b[38;5;34m256\u001b[0m)       │         \u001b[38;5;34m1,024\u001b[0m │\n",
              "│ (\u001b[38;5;33mBatchNormalization\u001b[0m)            │                        │               │\n",
              "├─────────────────────────────────┼────────────────────────┼───────────────┤\n",
              "│ max_pooling1d (\u001b[38;5;33mMaxPooling1D\u001b[0m)    │ (\u001b[38;5;45mNone\u001b[0m, \u001b[38;5;34m72\u001b[0m, \u001b[38;5;34m256\u001b[0m)        │             \u001b[38;5;34m0\u001b[0m │\n",
              "├─────────────────────────────────┼────────────────────────┼───────────────┤\n",
              "│ conv1d_1 (\u001b[38;5;33mConv1D\u001b[0m)               │ (\u001b[38;5;45mNone\u001b[0m, \u001b[38;5;34m72\u001b[0m, \u001b[38;5;34m256\u001b[0m)        │       \u001b[38;5;34m327,936\u001b[0m │\n",
              "├─────────────────────────────────┼────────────────────────┼───────────────┤\n",
              "│ batch_normalization_1           │ (\u001b[38;5;45mNone\u001b[0m, \u001b[38;5;34m72\u001b[0m, \u001b[38;5;34m256\u001b[0m)        │         \u001b[38;5;34m1,024\u001b[0m │\n",
              "│ (\u001b[38;5;33mBatchNormalization\u001b[0m)            │                        │               │\n",
              "├─────────────────────────────────┼────────────────────────┼───────────────┤\n",
              "│ max_pooling1d_1 (\u001b[38;5;33mMaxPooling1D\u001b[0m)  │ (\u001b[38;5;45mNone\u001b[0m, \u001b[38;5;34m36\u001b[0m, \u001b[38;5;34m256\u001b[0m)        │             \u001b[38;5;34m0\u001b[0m │\n",
              "├─────────────────────────────────┼────────────────────────┼───────────────┤\n",
              "│ dropout (\u001b[38;5;33mDropout\u001b[0m)               │ (\u001b[38;5;45mNone\u001b[0m, \u001b[38;5;34m36\u001b[0m, \u001b[38;5;34m256\u001b[0m)        │             \u001b[38;5;34m0\u001b[0m │\n",
              "├─────────────────────────────────┼────────────────────────┼───────────────┤\n",
              "│ conv1d_2 (\u001b[38;5;33mConv1D\u001b[0m)               │ (\u001b[38;5;45mNone\u001b[0m, \u001b[38;5;34m36\u001b[0m, \u001b[38;5;34m128\u001b[0m)        │       \u001b[38;5;34m163,968\u001b[0m │\n",
              "├─────────────────────────────────┼────────────────────────┼───────────────┤\n",
              "│ batch_normalization_2           │ (\u001b[38;5;45mNone\u001b[0m, \u001b[38;5;34m36\u001b[0m, \u001b[38;5;34m128\u001b[0m)        │           \u001b[38;5;34m512\u001b[0m │\n",
              "│ (\u001b[38;5;33mBatchNormalization\u001b[0m)            │                        │               │\n",
              "├─────────────────────────────────┼────────────────────────┼───────────────┤\n",
              "│ max_pooling1d_2 (\u001b[38;5;33mMaxPooling1D\u001b[0m)  │ (\u001b[38;5;45mNone\u001b[0m, \u001b[38;5;34m18\u001b[0m, \u001b[38;5;34m128\u001b[0m)        │             \u001b[38;5;34m0\u001b[0m │\n",
              "├─────────────────────────────────┼────────────────────────┼───────────────┤\n",
              "│ conv1d_3 (\u001b[38;5;33mConv1D\u001b[0m)               │ (\u001b[38;5;45mNone\u001b[0m, \u001b[38;5;34m18\u001b[0m, \u001b[38;5;34m64\u001b[0m)         │        \u001b[38;5;34m24,640\u001b[0m │\n",
              "├─────────────────────────────────┼────────────────────────┼───────────────┤\n",
              "│ batch_normalization_3           │ (\u001b[38;5;45mNone\u001b[0m, \u001b[38;5;34m18\u001b[0m, \u001b[38;5;34m64\u001b[0m)         │           \u001b[38;5;34m256\u001b[0m │\n",
              "│ (\u001b[38;5;33mBatchNormalization\u001b[0m)            │                        │               │\n",
              "├─────────────────────────────────┼────────────────────────┼───────────────┤\n",
              "│ max_pooling1d_3 (\u001b[38;5;33mMaxPooling1D\u001b[0m)  │ (\u001b[38;5;45mNone\u001b[0m, \u001b[38;5;34m9\u001b[0m, \u001b[38;5;34m64\u001b[0m)          │             \u001b[38;5;34m0\u001b[0m │\n",
              "├─────────────────────────────────┼────────────────────────┼───────────────┤\n",
              "│ dropout_1 (\u001b[38;5;33mDropout\u001b[0m)             │ (\u001b[38;5;45mNone\u001b[0m, \u001b[38;5;34m9\u001b[0m, \u001b[38;5;34m64\u001b[0m)          │             \u001b[38;5;34m0\u001b[0m │\n",
              "├─────────────────────────────────┼────────────────────────┼───────────────┤\n",
              "│ flatten (\u001b[38;5;33mFlatten\u001b[0m)               │ (\u001b[38;5;45mNone\u001b[0m, \u001b[38;5;34m576\u001b[0m)            │             \u001b[38;5;34m0\u001b[0m │\n",
              "├─────────────────────────────────┼────────────────────────┼───────────────┤\n",
              "│ dense (\u001b[38;5;33mDense\u001b[0m)                   │ (\u001b[38;5;45mNone\u001b[0m, \u001b[38;5;34m128\u001b[0m)            │        \u001b[38;5;34m73,856\u001b[0m │\n",
              "├─────────────────────────────────┼────────────────────────┼───────────────┤\n",
              "│ batch_normalization_4           │ (\u001b[38;5;45mNone\u001b[0m, \u001b[38;5;34m128\u001b[0m)            │           \u001b[38;5;34m512\u001b[0m │\n",
              "│ (\u001b[38;5;33mBatchNormalization\u001b[0m)            │                        │               │\n",
              "├─────────────────────────────────┼────────────────────────┼───────────────┤\n",
              "│ dense_1 (\u001b[38;5;33mDense\u001b[0m)                 │ (\u001b[38;5;45mNone\u001b[0m, \u001b[38;5;34m6\u001b[0m)              │           \u001b[38;5;34m774\u001b[0m │\n",
              "└─────────────────────────────────┴────────────────────────┴───────────────┘\n"
            ],
            "text/html": [
              "<pre style=\"white-space:pre;overflow-x:auto;line-height:normal;font-family:Menlo,'DejaVu Sans Mono',consolas,'Courier New',monospace\">┏━━━━━━━━━━━━━━━━━━━━━━━━━━━━━━━━━┳━━━━━━━━━━━━━━━━━━━━━━━━┳━━━━━━━━━━━━━━━┓\n",
              "┃<span style=\"font-weight: bold\"> Layer (type)                    </span>┃<span style=\"font-weight: bold\"> Output Shape           </span>┃<span style=\"font-weight: bold\">       Param # </span>┃\n",
              "┡━━━━━━━━━━━━━━━━━━━━━━━━━━━━━━━━━╇━━━━━━━━━━━━━━━━━━━━━━━━╇━━━━━━━━━━━━━━━┩\n",
              "│ conv1d (<span style=\"color: #0087ff; text-decoration-color: #0087ff\">Conv1D</span>)                 │ (<span style=\"color: #00d7ff; text-decoration-color: #00d7ff\">None</span>, <span style=\"color: #00af00; text-decoration-color: #00af00\">143</span>, <span style=\"color: #00af00; text-decoration-color: #00af00\">256</span>)       │         <span style=\"color: #00af00; text-decoration-color: #00af00\">1,536</span> │\n",
              "├─────────────────────────────────┼────────────────────────┼───────────────┤\n",
              "│ batch_normalization             │ (<span style=\"color: #00d7ff; text-decoration-color: #00d7ff\">None</span>, <span style=\"color: #00af00; text-decoration-color: #00af00\">143</span>, <span style=\"color: #00af00; text-decoration-color: #00af00\">256</span>)       │         <span style=\"color: #00af00; text-decoration-color: #00af00\">1,024</span> │\n",
              "│ (<span style=\"color: #0087ff; text-decoration-color: #0087ff\">BatchNormalization</span>)            │                        │               │\n",
              "├─────────────────────────────────┼────────────────────────┼───────────────┤\n",
              "│ max_pooling1d (<span style=\"color: #0087ff; text-decoration-color: #0087ff\">MaxPooling1D</span>)    │ (<span style=\"color: #00d7ff; text-decoration-color: #00d7ff\">None</span>, <span style=\"color: #00af00; text-decoration-color: #00af00\">72</span>, <span style=\"color: #00af00; text-decoration-color: #00af00\">256</span>)        │             <span style=\"color: #00af00; text-decoration-color: #00af00\">0</span> │\n",
              "├─────────────────────────────────┼────────────────────────┼───────────────┤\n",
              "│ conv1d_1 (<span style=\"color: #0087ff; text-decoration-color: #0087ff\">Conv1D</span>)               │ (<span style=\"color: #00d7ff; text-decoration-color: #00d7ff\">None</span>, <span style=\"color: #00af00; text-decoration-color: #00af00\">72</span>, <span style=\"color: #00af00; text-decoration-color: #00af00\">256</span>)        │       <span style=\"color: #00af00; text-decoration-color: #00af00\">327,936</span> │\n",
              "├─────────────────────────────────┼────────────────────────┼───────────────┤\n",
              "│ batch_normalization_1           │ (<span style=\"color: #00d7ff; text-decoration-color: #00d7ff\">None</span>, <span style=\"color: #00af00; text-decoration-color: #00af00\">72</span>, <span style=\"color: #00af00; text-decoration-color: #00af00\">256</span>)        │         <span style=\"color: #00af00; text-decoration-color: #00af00\">1,024</span> │\n",
              "│ (<span style=\"color: #0087ff; text-decoration-color: #0087ff\">BatchNormalization</span>)            │                        │               │\n",
              "├─────────────────────────────────┼────────────────────────┼───────────────┤\n",
              "│ max_pooling1d_1 (<span style=\"color: #0087ff; text-decoration-color: #0087ff\">MaxPooling1D</span>)  │ (<span style=\"color: #00d7ff; text-decoration-color: #00d7ff\">None</span>, <span style=\"color: #00af00; text-decoration-color: #00af00\">36</span>, <span style=\"color: #00af00; text-decoration-color: #00af00\">256</span>)        │             <span style=\"color: #00af00; text-decoration-color: #00af00\">0</span> │\n",
              "├─────────────────────────────────┼────────────────────────┼───────────────┤\n",
              "│ dropout (<span style=\"color: #0087ff; text-decoration-color: #0087ff\">Dropout</span>)               │ (<span style=\"color: #00d7ff; text-decoration-color: #00d7ff\">None</span>, <span style=\"color: #00af00; text-decoration-color: #00af00\">36</span>, <span style=\"color: #00af00; text-decoration-color: #00af00\">256</span>)        │             <span style=\"color: #00af00; text-decoration-color: #00af00\">0</span> │\n",
              "├─────────────────────────────────┼────────────────────────┼───────────────┤\n",
              "│ conv1d_2 (<span style=\"color: #0087ff; text-decoration-color: #0087ff\">Conv1D</span>)               │ (<span style=\"color: #00d7ff; text-decoration-color: #00d7ff\">None</span>, <span style=\"color: #00af00; text-decoration-color: #00af00\">36</span>, <span style=\"color: #00af00; text-decoration-color: #00af00\">128</span>)        │       <span style=\"color: #00af00; text-decoration-color: #00af00\">163,968</span> │\n",
              "├─────────────────────────────────┼────────────────────────┼───────────────┤\n",
              "│ batch_normalization_2           │ (<span style=\"color: #00d7ff; text-decoration-color: #00d7ff\">None</span>, <span style=\"color: #00af00; text-decoration-color: #00af00\">36</span>, <span style=\"color: #00af00; text-decoration-color: #00af00\">128</span>)        │           <span style=\"color: #00af00; text-decoration-color: #00af00\">512</span> │\n",
              "│ (<span style=\"color: #0087ff; text-decoration-color: #0087ff\">BatchNormalization</span>)            │                        │               │\n",
              "├─────────────────────────────────┼────────────────────────┼───────────────┤\n",
              "│ max_pooling1d_2 (<span style=\"color: #0087ff; text-decoration-color: #0087ff\">MaxPooling1D</span>)  │ (<span style=\"color: #00d7ff; text-decoration-color: #00d7ff\">None</span>, <span style=\"color: #00af00; text-decoration-color: #00af00\">18</span>, <span style=\"color: #00af00; text-decoration-color: #00af00\">128</span>)        │             <span style=\"color: #00af00; text-decoration-color: #00af00\">0</span> │\n",
              "├─────────────────────────────────┼────────────────────────┼───────────────┤\n",
              "│ conv1d_3 (<span style=\"color: #0087ff; text-decoration-color: #0087ff\">Conv1D</span>)               │ (<span style=\"color: #00d7ff; text-decoration-color: #00d7ff\">None</span>, <span style=\"color: #00af00; text-decoration-color: #00af00\">18</span>, <span style=\"color: #00af00; text-decoration-color: #00af00\">64</span>)         │        <span style=\"color: #00af00; text-decoration-color: #00af00\">24,640</span> │\n",
              "├─────────────────────────────────┼────────────────────────┼───────────────┤\n",
              "│ batch_normalization_3           │ (<span style=\"color: #00d7ff; text-decoration-color: #00d7ff\">None</span>, <span style=\"color: #00af00; text-decoration-color: #00af00\">18</span>, <span style=\"color: #00af00; text-decoration-color: #00af00\">64</span>)         │           <span style=\"color: #00af00; text-decoration-color: #00af00\">256</span> │\n",
              "│ (<span style=\"color: #0087ff; text-decoration-color: #0087ff\">BatchNormalization</span>)            │                        │               │\n",
              "├─────────────────────────────────┼────────────────────────┼───────────────┤\n",
              "│ max_pooling1d_3 (<span style=\"color: #0087ff; text-decoration-color: #0087ff\">MaxPooling1D</span>)  │ (<span style=\"color: #00d7ff; text-decoration-color: #00d7ff\">None</span>, <span style=\"color: #00af00; text-decoration-color: #00af00\">9</span>, <span style=\"color: #00af00; text-decoration-color: #00af00\">64</span>)          │             <span style=\"color: #00af00; text-decoration-color: #00af00\">0</span> │\n",
              "├─────────────────────────────────┼────────────────────────┼───────────────┤\n",
              "│ dropout_1 (<span style=\"color: #0087ff; text-decoration-color: #0087ff\">Dropout</span>)             │ (<span style=\"color: #00d7ff; text-decoration-color: #00d7ff\">None</span>, <span style=\"color: #00af00; text-decoration-color: #00af00\">9</span>, <span style=\"color: #00af00; text-decoration-color: #00af00\">64</span>)          │             <span style=\"color: #00af00; text-decoration-color: #00af00\">0</span> │\n",
              "├─────────────────────────────────┼────────────────────────┼───────────────┤\n",
              "│ flatten (<span style=\"color: #0087ff; text-decoration-color: #0087ff\">Flatten</span>)               │ (<span style=\"color: #00d7ff; text-decoration-color: #00d7ff\">None</span>, <span style=\"color: #00af00; text-decoration-color: #00af00\">576</span>)            │             <span style=\"color: #00af00; text-decoration-color: #00af00\">0</span> │\n",
              "├─────────────────────────────────┼────────────────────────┼───────────────┤\n",
              "│ dense (<span style=\"color: #0087ff; text-decoration-color: #0087ff\">Dense</span>)                   │ (<span style=\"color: #00d7ff; text-decoration-color: #00d7ff\">None</span>, <span style=\"color: #00af00; text-decoration-color: #00af00\">128</span>)            │        <span style=\"color: #00af00; text-decoration-color: #00af00\">73,856</span> │\n",
              "├─────────────────────────────────┼────────────────────────┼───────────────┤\n",
              "│ batch_normalization_4           │ (<span style=\"color: #00d7ff; text-decoration-color: #00d7ff\">None</span>, <span style=\"color: #00af00; text-decoration-color: #00af00\">128</span>)            │           <span style=\"color: #00af00; text-decoration-color: #00af00\">512</span> │\n",
              "│ (<span style=\"color: #0087ff; text-decoration-color: #0087ff\">BatchNormalization</span>)            │                        │               │\n",
              "├─────────────────────────────────┼────────────────────────┼───────────────┤\n",
              "│ dense_1 (<span style=\"color: #0087ff; text-decoration-color: #0087ff\">Dense</span>)                 │ (<span style=\"color: #00d7ff; text-decoration-color: #00d7ff\">None</span>, <span style=\"color: #00af00; text-decoration-color: #00af00\">6</span>)              │           <span style=\"color: #00af00; text-decoration-color: #00af00\">774</span> │\n",
              "└─────────────────────────────────┴────────────────────────┴───────────────┘\n",
              "</pre>\n"
            ]
          },
          "metadata": {}
        },
        {
          "output_type": "display_data",
          "data": {
            "text/plain": [
              "\u001b[1m Total params: \u001b[0m\u001b[38;5;34m596,038\u001b[0m (2.27 MB)\n"
            ],
            "text/html": [
              "<pre style=\"white-space:pre;overflow-x:auto;line-height:normal;font-family:Menlo,'DejaVu Sans Mono',consolas,'Courier New',monospace\"><span style=\"font-weight: bold\"> Total params: </span><span style=\"color: #00af00; text-decoration-color: #00af00\">596,038</span> (2.27 MB)\n",
              "</pre>\n"
            ]
          },
          "metadata": {}
        },
        {
          "output_type": "display_data",
          "data": {
            "text/plain": [
              "\u001b[1m Trainable params: \u001b[0m\u001b[38;5;34m594,374\u001b[0m (2.27 MB)\n"
            ],
            "text/html": [
              "<pre style=\"white-space:pre;overflow-x:auto;line-height:normal;font-family:Menlo,'DejaVu Sans Mono',consolas,'Courier New',monospace\"><span style=\"font-weight: bold\"> Trainable params: </span><span style=\"color: #00af00; text-decoration-color: #00af00\">594,374</span> (2.27 MB)\n",
              "</pre>\n"
            ]
          },
          "metadata": {}
        },
        {
          "output_type": "display_data",
          "data": {
            "text/plain": [
              "\u001b[1m Non-trainable params: \u001b[0m\u001b[38;5;34m1,664\u001b[0m (6.50 KB)\n"
            ],
            "text/html": [
              "<pre style=\"white-space:pre;overflow-x:auto;line-height:normal;font-family:Menlo,'DejaVu Sans Mono',consolas,'Courier New',monospace\"><span style=\"font-weight: bold\"> Non-trainable params: </span><span style=\"color: #00af00; text-decoration-color: #00af00\">1,664</span> (6.50 KB)\n",
              "</pre>\n"
            ]
          },
          "metadata": {}
        }
      ]
    },
    {
      "cell_type": "code",
      "source": [
        "print(\"\\nStep 9: Training the model...\")\n",
        "\n",
        "# Define callbacks\n",
        "early_stop = EarlyStopping(monitor='val_accuracy', mode='auto', patience=10, restore_best_weights=True)\n",
        "lr_reduction = ReduceLROnPlateau(monitor='val_accuracy', patience=5, verbose=1, factor=0.5, min_lr=0.00001)\n",
        "model_checkpoint = ModelCheckpoint('best_cnn_model.h5', monitor='val_accuracy', save_best_only=True)\n",
        "\n",
        "# Train the model\n",
        "history = model.fit(\n",
        "    x_train, y_train,\n",
        "    epochs=100,  # Increased epochs, EarlyStopping will handle stopping\n",
        "    batch_size=64,\n",
        "    validation_data=(x_test, y_test),\n",
        "    callbacks=[early_stop, lr_reduction, model_checkpoint]\n",
        ")"
      ],
      "metadata": {
        "colab": {
          "base_uri": "https://localhost:8080/"
        },
        "id": "4dTEPdiGfVeY",
        "outputId": "57285c94-1870-475b-b6e8-f6895886105b"
      },
      "execution_count": 17,
      "outputs": [
        {
          "output_type": "stream",
          "name": "stdout",
          "text": [
            "\n",
            "Step 9: Training the model...\n",
            "Epoch 1/100\n",
            "\u001b[1m279/280\u001b[0m \u001b[32m━━━━━━━━━━━━━━━━━━━\u001b[0m\u001b[37m━\u001b[0m \u001b[1m0s\u001b[0m 402ms/step - accuracy: 0.3375 - loss: 1.6509"
          ]
        },
        {
          "output_type": "stream",
          "name": "stderr",
          "text": [
            "WARNING:absl:You are saving your model as an HDF5 file via `model.save()` or `keras.saving.save_model(model)`. This file format is considered legacy. We recommend using instead the native Keras format, e.g. `model.save('my_model.keras')` or `keras.saving.save_model(model, 'my_model.keras')`. \n"
          ]
        },
        {
          "output_type": "stream",
          "name": "stdout",
          "text": [
            "\b\b\b\b\b\b\b\b\b\b\b\b\b\b\b\b\b\b\b\b\b\b\b\b\b\b\b\b\b\b\b\b\b\b\b\b\b\b\b\b\b\b\b\b\b\b\b\b\b\b\b\b\b\b\b\b\b\b\b\b\b\b\b\b\b\b\b\b\b\b\b\b\b\b\b\b\r\u001b[1m280/280\u001b[0m \u001b[32m━━━━━━━━━━━━━━━━━━━━\u001b[0m\u001b[37m\u001b[0m \u001b[1m123s\u001b[0m 421ms/step - accuracy: 0.3377 - loss: 1.6501 - val_accuracy: 0.2244 - val_loss: 1.6676 - learning_rate: 0.0010\n",
            "Epoch 2/100\n",
            "\u001b[1m279/280\u001b[0m \u001b[32m━━━━━━━━━━━━━━━━━━━\u001b[0m\u001b[37m━\u001b[0m \u001b[1m0s\u001b[0m 405ms/step - accuracy: 0.3959 - loss: 1.4567"
          ]
        },
        {
          "output_type": "stream",
          "name": "stderr",
          "text": [
            "WARNING:absl:You are saving your model as an HDF5 file via `model.save()` or `keras.saving.save_model(model)`. This file format is considered legacy. We recommend using instead the native Keras format, e.g. `model.save('my_model.keras')` or `keras.saving.save_model(model, 'my_model.keras')`. \n"
          ]
        },
        {
          "output_type": "stream",
          "name": "stdout",
          "text": [
            "\b\b\b\b\b\b\b\b\b\b\b\b\b\b\b\b\b\b\b\b\b\b\b\b\b\b\b\b\b\b\b\b\b\b\b\b\b\b\b\b\b\b\b\b\b\b\b\b\b\b\b\b\b\b\b\b\b\b\b\b\b\b\b\b\b\b\b\b\b\b\b\b\b\b\b\b\r\u001b[1m280/280\u001b[0m \u001b[32m━━━━━━━━━━━━━━━━━━━━\u001b[0m\u001b[37m\u001b[0m \u001b[1m142s\u001b[0m 423ms/step - accuracy: 0.3960 - loss: 1.4564 - val_accuracy: 0.2703 - val_loss: 1.6041 - learning_rate: 0.0010\n",
            "Epoch 3/100\n",
            "\u001b[1m279/280\u001b[0m \u001b[32m━━━━━━━━━━━━━━━━━━━\u001b[0m\u001b[37m━\u001b[0m \u001b[1m0s\u001b[0m 403ms/step - accuracy: 0.4313 - loss: 1.4015"
          ]
        },
        {
          "output_type": "stream",
          "name": "stderr",
          "text": [
            "WARNING:absl:You are saving your model as an HDF5 file via `model.save()` or `keras.saving.save_model(model)`. This file format is considered legacy. We recommend using instead the native Keras format, e.g. `model.save('my_model.keras')` or `keras.saving.save_model(model, 'my_model.keras')`. \n"
          ]
        },
        {
          "output_type": "stream",
          "name": "stdout",
          "text": [
            "\b\b\b\b\b\b\b\b\b\b\b\b\b\b\b\b\b\b\b\b\b\b\b\b\b\b\b\b\b\b\b\b\b\b\b\b\b\b\b\b\b\b\b\b\b\b\b\b\b\b\b\b\b\b\b\b\b\b\b\b\b\b\b\b\b\b\b\b\b\b\b\b\b\b\b\b\r\u001b[1m280/280\u001b[0m \u001b[32m━━━━━━━━━━━━━━━━━━━━\u001b[0m\u001b[37m\u001b[0m \u001b[1m123s\u001b[0m 439ms/step - accuracy: 0.4313 - loss: 1.4015 - val_accuracy: 0.3034 - val_loss: 1.7830 - learning_rate: 0.0010\n",
            "Epoch 4/100\n",
            "\u001b[1m279/280\u001b[0m \u001b[32m━━━━━━━━━━━━━━━━━━━\u001b[0m\u001b[37m━\u001b[0m \u001b[1m0s\u001b[0m 398ms/step - accuracy: 0.4471 - loss: 1.3697"
          ]
        },
        {
          "output_type": "stream",
          "name": "stderr",
          "text": [
            "WARNING:absl:You are saving your model as an HDF5 file via `model.save()` or `keras.saving.save_model(model)`. This file format is considered legacy. We recommend using instead the native Keras format, e.g. `model.save('my_model.keras')` or `keras.saving.save_model(model, 'my_model.keras')`. \n"
          ]
        },
        {
          "output_type": "stream",
          "name": "stdout",
          "text": [
            "\b\b\b\b\b\b\b\b\b\b\b\b\b\b\b\b\b\b\b\b\b\b\b\b\b\b\b\b\b\b\b\b\b\b\b\b\b\b\b\b\b\b\b\b\b\b\b\b\b\b\b\b\b\b\b\b\b\b\b\b\b\b\b\b\b\b\b\b\b\b\b\b\b\b\b\b\r\u001b[1m280/280\u001b[0m \u001b[32m━━━━━━━━━━━━━━━━━━━━\u001b[0m\u001b[37m\u001b[0m \u001b[1m136s\u001b[0m 416ms/step - accuracy: 0.4471 - loss: 1.3697 - val_accuracy: 0.4194 - val_loss: 1.4393 - learning_rate: 0.0010\n",
            "Epoch 5/100\n",
            "\u001b[1m280/280\u001b[0m \u001b[32m━━━━━━━━━━━━━━━━━━━━\u001b[0m\u001b[37m\u001b[0m \u001b[1m146s\u001b[0m 431ms/step - accuracy: 0.4590 - loss: 1.3442 - val_accuracy: 0.3777 - val_loss: 1.5614 - learning_rate: 0.0010\n",
            "Epoch 6/100\n",
            "\u001b[1m280/280\u001b[0m \u001b[32m━━━━━━━━━━━━━━━━━━━━\u001b[0m\u001b[37m\u001b[0m \u001b[1m138s\u001b[0m 418ms/step - accuracy: 0.4636 - loss: 1.3339 - val_accuracy: 0.3912 - val_loss: 1.6068 - learning_rate: 0.0010\n",
            "Epoch 7/100\n",
            "\u001b[1m279/280\u001b[0m \u001b[32m━━━━━━━━━━━━━━━━━━━\u001b[0m\u001b[37m━\u001b[0m \u001b[1m0s\u001b[0m 391ms/step - accuracy: 0.4738 - loss: 1.3141"
          ]
        },
        {
          "output_type": "stream",
          "name": "stderr",
          "text": [
            "WARNING:absl:You are saving your model as an HDF5 file via `model.save()` or `keras.saving.save_model(model)`. This file format is considered legacy. We recommend using instead the native Keras format, e.g. `model.save('my_model.keras')` or `keras.saving.save_model(model, 'my_model.keras')`. \n"
          ]
        },
        {
          "output_type": "stream",
          "name": "stdout",
          "text": [
            "\b\b\b\b\b\b\b\b\b\b\b\b\b\b\b\b\b\b\b\b\b\b\b\b\b\b\b\b\b\b\b\b\b\b\b\b\b\b\b\b\b\b\b\b\b\b\b\b\b\b\b\b\b\b\b\b\b\b\b\b\b\b\b\b\b\b\b\b\b\b\b\b\b\b\b\b\r\u001b[1m280/280\u001b[0m \u001b[32m━━━━━━━━━━━━━━━━━━━━\u001b[0m\u001b[37m\u001b[0m \u001b[1m144s\u001b[0m 426ms/step - accuracy: 0.4738 - loss: 1.3141 - val_accuracy: 0.4425 - val_loss: 1.3809 - learning_rate: 0.0010\n",
            "Epoch 8/100\n",
            "\u001b[1m280/280\u001b[0m \u001b[32m━━━━━━━━━━━━━━━━━━━━\u001b[0m\u001b[37m\u001b[0m \u001b[1m0s\u001b[0m 396ms/step - accuracy: 0.4750 - loss: 1.3068"
          ]
        },
        {
          "output_type": "stream",
          "name": "stderr",
          "text": [
            "WARNING:absl:You are saving your model as an HDF5 file via `model.save()` or `keras.saving.save_model(model)`. This file format is considered legacy. We recommend using instead the native Keras format, e.g. `model.save('my_model.keras')` or `keras.saving.save_model(model, 'my_model.keras')`. \n"
          ]
        },
        {
          "output_type": "stream",
          "name": "stdout",
          "text": [
            "\b\b\b\b\b\b\b\b\b\b\b\b\b\b\b\b\b\b\b\b\b\b\b\b\b\b\b\b\b\b\b\b\b\b\b\b\b\b\b\b\b\b\b\b\b\b\b\b\b\b\b\b\b\b\b\b\b\b\b\b\b\b\b\b\b\b\b\b\b\b\b\b\b\b\b\b\r\u001b[1m280/280\u001b[0m \u001b[32m━━━━━━━━━━━━━━━━━━━━\u001b[0m\u001b[37m\u001b[0m \u001b[1m144s\u001b[0m 433ms/step - accuracy: 0.4750 - loss: 1.3068 - val_accuracy: 0.4615 - val_loss: 1.3423 - learning_rate: 0.0010\n",
            "Epoch 9/100\n",
            "\u001b[1m280/280\u001b[0m \u001b[32m━━━━━━━━━━━━━━━━━━━━\u001b[0m\u001b[37m\u001b[0m \u001b[1m137s\u001b[0m 417ms/step - accuracy: 0.4825 - loss: 1.2910 - val_accuracy: 0.4165 - val_loss: 1.4098 - learning_rate: 0.0010\n",
            "Epoch 10/100\n",
            "\u001b[1m280/280\u001b[0m \u001b[32m━━━━━━━━━━━━━━━━━━━━\u001b[0m\u001b[37m\u001b[0m \u001b[1m119s\u001b[0m 424ms/step - accuracy: 0.4967 - loss: 1.2689 - val_accuracy: 0.4149 - val_loss: 1.5244 - learning_rate: 0.0010\n",
            "Epoch 11/100\n",
            "\u001b[1m280/280\u001b[0m \u001b[32m━━━━━━━━━━━━━━━━━━━━\u001b[0m\u001b[37m\u001b[0m \u001b[1m128s\u001b[0m 457ms/step - accuracy: 0.5065 - loss: 1.2390 - val_accuracy: 0.3997 - val_loss: 1.4771 - learning_rate: 0.0010\n",
            "Epoch 12/100\n",
            "\u001b[1m280/280\u001b[0m \u001b[32m━━━━━━━━━━━━━━━━━━━━\u001b[0m\u001b[37m\u001b[0m \u001b[1m133s\u001b[0m 423ms/step - accuracy: 0.5029 - loss: 1.2424 - val_accuracy: 0.3126 - val_loss: 1.6048 - learning_rate: 0.0010\n",
            "Epoch 13/100\n",
            "\u001b[1m279/280\u001b[0m \u001b[32m━━━━━━━━━━━━━━━━━━━\u001b[0m\u001b[37m━\u001b[0m \u001b[1m0s\u001b[0m 399ms/step - accuracy: 0.5048 - loss: 1.2385\n",
            "Epoch 13: ReduceLROnPlateau reducing learning rate to 0.0005000000237487257.\n",
            "\u001b[1m280/280\u001b[0m \u001b[32m━━━━━━━━━━━━━━━━━━━━\u001b[0m\u001b[37m\u001b[0m \u001b[1m116s\u001b[0m 415ms/step - accuracy: 0.5049 - loss: 1.2385 - val_accuracy: 0.3459 - val_loss: 1.5700 - learning_rate: 0.0010\n",
            "Epoch 14/100\n",
            "\u001b[1m279/280\u001b[0m \u001b[32m━━━━━━━━━━━━━━━━━━━\u001b[0m\u001b[37m━\u001b[0m \u001b[1m0s\u001b[0m 400ms/step - accuracy: 0.5272 - loss: 1.1897"
          ]
        },
        {
          "output_type": "stream",
          "name": "stderr",
          "text": [
            "WARNING:absl:You are saving your model as an HDF5 file via `model.save()` or `keras.saving.save_model(model)`. This file format is considered legacy. We recommend using instead the native Keras format, e.g. `model.save('my_model.keras')` or `keras.saving.save_model(model, 'my_model.keras')`. \n"
          ]
        },
        {
          "output_type": "stream",
          "name": "stdout",
          "text": [
            "\b\b\b\b\b\b\b\b\b\b\b\b\b\b\b\b\b\b\b\b\b\b\b\b\b\b\b\b\b\b\b\b\b\b\b\b\b\b\b\b\b\b\b\b\b\b\b\b\b\b\b\b\b\b\b\b\b\b\b\b\b\b\b\b\b\b\b\b\b\b\b\b\b\b\b\b\r\u001b[1m280/280\u001b[0m \u001b[32m━━━━━━━━━━━━━━━━━━━━\u001b[0m\u001b[37m\u001b[0m \u001b[1m117s\u001b[0m 417ms/step - accuracy: 0.5272 - loss: 1.1896 - val_accuracy: 0.4691 - val_loss: 1.3157 - learning_rate: 5.0000e-04\n",
            "Epoch 15/100\n",
            "\u001b[1m280/280\u001b[0m \u001b[32m━━━━━━━━━━━━━━━━━━━━\u001b[0m\u001b[37m\u001b[0m \u001b[1m142s\u001b[0m 417ms/step - accuracy: 0.5517 - loss: 1.1441 - val_accuracy: 0.4073 - val_loss: 1.4952 - learning_rate: 5.0000e-04\n",
            "Epoch 16/100\n",
            "\u001b[1m279/280\u001b[0m \u001b[32m━━━━━━━━━━━━━━━━━━━\u001b[0m\u001b[37m━\u001b[0m \u001b[1m0s\u001b[0m 400ms/step - accuracy: 0.5553 - loss: 1.1269"
          ]
        },
        {
          "output_type": "stream",
          "name": "stderr",
          "text": [
            "WARNING:absl:You are saving your model as an HDF5 file via `model.save()` or `keras.saving.save_model(model)`. This file format is considered legacy. We recommend using instead the native Keras format, e.g. `model.save('my_model.keras')` or `keras.saving.save_model(model, 'my_model.keras')`. \n"
          ]
        },
        {
          "output_type": "stream",
          "name": "stdout",
          "text": [
            "\b\b\b\b\b\b\b\b\b\b\b\b\b\b\b\b\b\b\b\b\b\b\b\b\b\b\b\b\b\b\b\b\b\b\b\b\b\b\b\b\b\b\b\b\b\b\b\b\b\b\b\b\b\b\b\b\b\b\b\b\b\b\b\b\b\b\b\b\b\b\b\b\b\b\b\b\r\u001b[1m280/280\u001b[0m \u001b[32m━━━━━━━━━━━━━━━━━━━━\u001b[0m\u001b[37m\u001b[0m \u001b[1m143s\u001b[0m 422ms/step - accuracy: 0.5553 - loss: 1.1270 - val_accuracy: 0.4933 - val_loss: 1.3015 - learning_rate: 5.0000e-04\n",
            "Epoch 17/100\n",
            "\u001b[1m279/280\u001b[0m \u001b[32m━━━━━━━━━━━━━━━━━━━\u001b[0m\u001b[37m━\u001b[0m \u001b[1m0s\u001b[0m 396ms/step - accuracy: 0.5617 - loss: 1.1100"
          ]
        },
        {
          "output_type": "stream",
          "name": "stderr",
          "text": [
            "WARNING:absl:You are saving your model as an HDF5 file via `model.save()` or `keras.saving.save_model(model)`. This file format is considered legacy. We recommend using instead the native Keras format, e.g. `model.save('my_model.keras')` or `keras.saving.save_model(model, 'my_model.keras')`. \n"
          ]
        },
        {
          "output_type": "stream",
          "name": "stdout",
          "text": [
            "\b\b\b\b\b\b\b\b\b\b\b\b\b\b\b\b\b\b\b\b\b\b\b\b\b\b\b\b\b\b\b\b\b\b\b\b\b\b\b\b\b\b\b\b\b\b\b\b\b\b\b\b\b\b\b\b\b\b\b\b\b\b\b\b\b\b\b\b\b\b\b\b\b\b\b\b\r\u001b[1m280/280\u001b[0m \u001b[32m━━━━━━━━━━━━━━━━━━━━\u001b[0m\u001b[37m\u001b[0m \u001b[1m141s\u001b[0m 418ms/step - accuracy: 0.5617 - loss: 1.1101 - val_accuracy: 0.4962 - val_loss: 1.2801 - learning_rate: 5.0000e-04\n",
            "Epoch 18/100\n",
            "\u001b[1m280/280\u001b[0m \u001b[32m━━━━━━━━━━━━━━━━━━━━\u001b[0m\u001b[37m\u001b[0m \u001b[1m121s\u001b[0m 432ms/step - accuracy: 0.5735 - loss: 1.0860 - val_accuracy: 0.4198 - val_loss: 1.4273 - learning_rate: 5.0000e-04\n",
            "Epoch 19/100\n",
            "\u001b[1m279/280\u001b[0m \u001b[32m━━━━━━━━━━━━━━━━━━━\u001b[0m\u001b[37m━\u001b[0m \u001b[1m0s\u001b[0m 389ms/step - accuracy: 0.5789 - loss: 1.0750"
          ]
        },
        {
          "output_type": "stream",
          "name": "stderr",
          "text": [
            "WARNING:absl:You are saving your model as an HDF5 file via `model.save()` or `keras.saving.save_model(model)`. This file format is considered legacy. We recommend using instead the native Keras format, e.g. `model.save('my_model.keras')` or `keras.saving.save_model(model, 'my_model.keras')`. \n"
          ]
        },
        {
          "output_type": "stream",
          "name": "stdout",
          "text": [
            "\b\b\b\b\b\b\b\b\b\b\b\b\b\b\b\b\b\b\b\b\b\b\b\b\b\b\b\b\b\b\b\b\b\b\b\b\b\b\b\b\b\b\b\b\b\b\b\b\b\b\b\b\b\b\b\b\b\b\b\b\b\b\b\b\b\b\b\b\b\b\b\b\b\b\b\b\r\u001b[1m280/280\u001b[0m \u001b[32m━━━━━━━━━━━━━━━━━━━━\u001b[0m\u001b[37m\u001b[0m \u001b[1m136s\u001b[0m 412ms/step - accuracy: 0.5788 - loss: 1.0750 - val_accuracy: 0.4978 - val_loss: 1.2594 - learning_rate: 5.0000e-04\n",
            "Epoch 20/100\n",
            "\u001b[1m280/280\u001b[0m \u001b[32m━━━━━━━━━━━━━━━━━━━━\u001b[0m\u001b[37m\u001b[0m \u001b[1m0s\u001b[0m 392ms/step - accuracy: 0.5829 - loss: 1.0669"
          ]
        },
        {
          "output_type": "stream",
          "name": "stderr",
          "text": [
            "WARNING:absl:You are saving your model as an HDF5 file via `model.save()` or `keras.saving.save_model(model)`. This file format is considered legacy. We recommend using instead the native Keras format, e.g. `model.save('my_model.keras')` or `keras.saving.save_model(model, 'my_model.keras')`. \n"
          ]
        },
        {
          "output_type": "stream",
          "name": "stdout",
          "text": [
            "\b\b\b\b\b\b\b\b\b\b\b\b\b\b\b\b\b\b\b\b\b\b\b\b\b\b\b\b\b\b\b\b\b\b\b\b\b\b\b\b\b\b\b\b\b\b\b\b\b\b\b\b\b\b\b\b\b\b\b\b\b\b\b\b\b\b\b\b\b\b\b\b\b\b\b\b\r\u001b[1m280/280\u001b[0m \u001b[32m━━━━━━━━━━━━━━━━━━━━\u001b[0m\u001b[37m\u001b[0m \u001b[1m147s\u001b[0m 429ms/step - accuracy: 0.5829 - loss: 1.0669 - val_accuracy: 0.5325 - val_loss: 1.2071 - learning_rate: 5.0000e-04\n",
            "Epoch 21/100\n",
            "\u001b[1m279/280\u001b[0m \u001b[32m━━━━━━━━━━━━━━━━━━━\u001b[0m\u001b[37m━\u001b[0m \u001b[1m0s\u001b[0m 398ms/step - accuracy: 0.5995 - loss: 1.0316"
          ]
        },
        {
          "output_type": "stream",
          "name": "stderr",
          "text": [
            "WARNING:absl:You are saving your model as an HDF5 file via `model.save()` or `keras.saving.save_model(model)`. This file format is considered legacy. We recommend using instead the native Keras format, e.g. `model.save('my_model.keras')` or `keras.saving.save_model(model, 'my_model.keras')`. \n"
          ]
        },
        {
          "output_type": "stream",
          "name": "stdout",
          "text": [
            "\b\b\b\b\b\b\b\b\b\b\b\b\b\b\b\b\b\b\b\b\b\b\b\b\b\b\b\b\b\b\b\b\b\b\b\b\b\b\b\b\b\b\b\b\b\b\b\b\b\b\b\b\b\b\b\b\b\b\b\b\b\b\b\b\b\b\b\b\b\b\b\b\b\b\b\b\r\u001b[1m280/280\u001b[0m \u001b[32m━━━━━━━━━━━━━━━━━━━━\u001b[0m\u001b[37m\u001b[0m \u001b[1m138s\u001b[0m 414ms/step - accuracy: 0.5994 - loss: 1.0316 - val_accuracy: 0.5412 - val_loss: 1.1730 - learning_rate: 5.0000e-04\n",
            "Epoch 22/100\n",
            "\u001b[1m280/280\u001b[0m \u001b[32m━━━━━━━━━━━━━━━━━━━━\u001b[0m\u001b[37m\u001b[0m \u001b[1m142s\u001b[0m 415ms/step - accuracy: 0.6033 - loss: 1.0071 - val_accuracy: 0.5298 - val_loss: 1.2329 - learning_rate: 5.0000e-04\n",
            "Epoch 23/100\n",
            "\u001b[1m280/280\u001b[0m \u001b[32m━━━━━━━━━━━━━━━━━━━━\u001b[0m\u001b[37m\u001b[0m \u001b[1m116s\u001b[0m 415ms/step - accuracy: 0.6103 - loss: 0.9944 - val_accuracy: 0.4913 - val_loss: 1.2852 - learning_rate: 5.0000e-04\n",
            "Epoch 24/100\n",
            "\u001b[1m280/280\u001b[0m \u001b[32m━━━━━━━━━━━━━━━━━━━━\u001b[0m\u001b[37m\u001b[0m \u001b[1m116s\u001b[0m 414ms/step - accuracy: 0.6221 - loss: 0.9778 - val_accuracy: 0.4760 - val_loss: 1.3937 - learning_rate: 5.0000e-04\n",
            "Epoch 25/100\n",
            "\u001b[1m279/280\u001b[0m \u001b[32m━━━━━━━━━━━━━━━━━━━\u001b[0m\u001b[37m━\u001b[0m \u001b[1m0s\u001b[0m 398ms/step - accuracy: 0.6294 - loss: 0.9486"
          ]
        },
        {
          "output_type": "stream",
          "name": "stderr",
          "text": [
            "WARNING:absl:You are saving your model as an HDF5 file via `model.save()` or `keras.saving.save_model(model)`. This file format is considered legacy. We recommend using instead the native Keras format, e.g. `model.save('my_model.keras')` or `keras.saving.save_model(model, 'my_model.keras')`. \n"
          ]
        },
        {
          "output_type": "stream",
          "name": "stdout",
          "text": [
            "\b\b\b\b\b\b\b\b\b\b\b\b\b\b\b\b\b\b\b\b\b\b\b\b\b\b\b\b\b\b\b\b\b\b\b\b\b\b\b\b\b\b\b\b\b\b\b\b\b\b\b\b\b\b\b\b\b\b\b\b\b\b\b\b\b\b\b\b\b\b\b\b\b\b\b\b\r\u001b[1m280/280\u001b[0m \u001b[32m━━━━━━━━━━━━━━━━━━━━\u001b[0m\u001b[37m\u001b[0m \u001b[1m143s\u001b[0m 416ms/step - accuracy: 0.6294 - loss: 0.9486 - val_accuracy: 0.5479 - val_loss: 1.1958 - learning_rate: 5.0000e-04\n",
            "Epoch 26/100\n",
            "\u001b[1m280/280\u001b[0m \u001b[32m━━━━━━━━━━━━━━━━━━━━\u001b[0m\u001b[37m\u001b[0m \u001b[1m121s\u001b[0m 431ms/step - accuracy: 0.6401 - loss: 0.9300 - val_accuracy: 0.5450 - val_loss: 1.1646 - learning_rate: 5.0000e-04\n",
            "Epoch 27/100\n",
            "\u001b[1m280/280\u001b[0m \u001b[32m━━━━━━━━━━━━━━━━━━━━\u001b[0m\u001b[37m\u001b[0m \u001b[1m115s\u001b[0m 410ms/step - accuracy: 0.6397 - loss: 0.9339 - val_accuracy: 0.4678 - val_loss: 1.4106 - learning_rate: 5.0000e-04\n",
            "Epoch 28/100\n",
            "\u001b[1m280/280\u001b[0m \u001b[32m━━━━━━━━━━━━━━━━━━━━\u001b[0m\u001b[37m\u001b[0m \u001b[1m0s\u001b[0m 389ms/step - accuracy: 0.6339 - loss: 0.9461"
          ]
        },
        {
          "output_type": "stream",
          "name": "stderr",
          "text": [
            "WARNING:absl:You are saving your model as an HDF5 file via `model.save()` or `keras.saving.save_model(model)`. This file format is considered legacy. We recommend using instead the native Keras format, e.g. `model.save('my_model.keras')` or `keras.saving.save_model(model, 'my_model.keras')`. \n"
          ]
        },
        {
          "output_type": "stream",
          "name": "stdout",
          "text": [
            "\b\b\b\b\b\b\b\b\b\b\b\b\b\b\b\b\b\b\b\b\b\b\b\b\b\b\b\b\b\b\b\b\b\b\b\b\b\b\b\b\b\b\b\b\b\b\b\b\b\b\b\b\b\b\b\b\b\b\b\b\b\b\b\b\b\b\b\b\b\b\b\b\b\b\b\b\r\u001b[1m280/280\u001b[0m \u001b[32m━━━━━━━━━━━━━━━━━━━━\u001b[0m\u001b[37m\u001b[0m \u001b[1m115s\u001b[0m 412ms/step - accuracy: 0.6339 - loss: 0.9461 - val_accuracy: 0.5488 - val_loss: 1.1755 - learning_rate: 5.0000e-04\n",
            "Epoch 29/100\n",
            "\u001b[1m280/280\u001b[0m \u001b[32m━━━━━━━━━━━━━━━━━━━━\u001b[0m\u001b[37m\u001b[0m \u001b[1m118s\u001b[0m 421ms/step - accuracy: 0.6535 - loss: 0.9015 - val_accuracy: 0.5271 - val_loss: 1.2354 - learning_rate: 5.0000e-04\n",
            "Epoch 30/100\n",
            "\u001b[1m280/280\u001b[0m \u001b[32m━━━━━━━━━━━━━━━━━━━━\u001b[0m\u001b[37m\u001b[0m \u001b[1m117s\u001b[0m 416ms/step - accuracy: 0.6106 - loss: 0.9968 - val_accuracy: 0.5439 - val_loss: 1.1771 - learning_rate: 5.0000e-04\n",
            "Epoch 31/100\n",
            "\u001b[1m280/280\u001b[0m \u001b[32m━━━━━━━━━━━━━━━━━━━━\u001b[0m\u001b[37m\u001b[0m \u001b[1m117s\u001b[0m 419ms/step - accuracy: 0.6517 - loss: 0.8969 - val_accuracy: 0.4962 - val_loss: 1.3880 - learning_rate: 5.0000e-04\n",
            "Epoch 32/100\n",
            "\u001b[1m280/280\u001b[0m \u001b[32m━━━━━━━━━━━━━━━━━━━━\u001b[0m\u001b[37m\u001b[0m \u001b[1m140s\u001b[0m 413ms/step - accuracy: 0.6639 - loss: 0.8590 - val_accuracy: 0.5410 - val_loss: 1.3093 - learning_rate: 5.0000e-04\n",
            "Epoch 33/100\n",
            "\u001b[1m279/280\u001b[0m \u001b[32m━━━━━━━━━━━━━━━━━━━\u001b[0m\u001b[37m━\u001b[0m \u001b[1m0s\u001b[0m 398ms/step - accuracy: 0.6584 - loss: 0.8801"
          ]
        },
        {
          "output_type": "stream",
          "name": "stderr",
          "text": [
            "WARNING:absl:You are saving your model as an HDF5 file via `model.save()` or `keras.saving.save_model(model)`. This file format is considered legacy. We recommend using instead the native Keras format, e.g. `model.save('my_model.keras')` or `keras.saving.save_model(model, 'my_model.keras')`. \n"
          ]
        },
        {
          "output_type": "stream",
          "name": "stdout",
          "text": [
            "\b\b\b\b\b\b\b\b\b\b\b\b\b\b\b\b\b\b\b\b\b\b\b\b\b\b\b\b\b\b\b\b\b\b\b\b\b\b\b\b\b\b\b\b\b\b\b\b\b\b\b\b\b\b\b\b\b\b\b\b\b\b\b\b\b\b\b\b\b\b\b\b\b\b\b\b\r\u001b[1m280/280\u001b[0m \u001b[32m━━━━━━━━━━━━━━━━━━━━\u001b[0m\u001b[37m\u001b[0m \u001b[1m143s\u001b[0m 415ms/step - accuracy: 0.6585 - loss: 0.8800 - val_accuracy: 0.5578 - val_loss: 1.2086 - learning_rate: 5.0000e-04\n",
            "Epoch 34/100\n",
            "\u001b[1m279/280\u001b[0m \u001b[32m━━━━━━━━━━━━━━━━━━━\u001b[0m\u001b[37m━\u001b[0m \u001b[1m0s\u001b[0m 397ms/step - accuracy: 0.6851 - loss: 0.8180"
          ]
        },
        {
          "output_type": "stream",
          "name": "stderr",
          "text": [
            "WARNING:absl:You are saving your model as an HDF5 file via `model.save()` or `keras.saving.save_model(model)`. This file format is considered legacy. We recommend using instead the native Keras format, e.g. `model.save('my_model.keras')` or `keras.saving.save_model(model, 'my_model.keras')`. \n"
          ]
        },
        {
          "output_type": "stream",
          "name": "stdout",
          "text": [
            "\b\b\b\b\b\b\b\b\b\b\b\b\b\b\b\b\b\b\b\b\b\b\b\b\b\b\b\b\b\b\b\b\b\b\b\b\b\b\b\b\b\b\b\b\b\b\b\b\b\b\b\b\b\b\b\b\b\b\b\b\b\b\b\b\b\b\b\b\b\b\b\b\b\b\b\b\r\u001b[1m280/280\u001b[0m \u001b[32m━━━━━━━━━━━━━━━━━━━━\u001b[0m\u001b[37m\u001b[0m \u001b[1m147s\u001b[0m 433ms/step - accuracy: 0.6851 - loss: 0.8180 - val_accuracy: 0.5638 - val_loss: 1.2404 - learning_rate: 5.0000e-04\n",
            "Epoch 35/100\n",
            "\u001b[1m279/280\u001b[0m \u001b[32m━━━━━━━━━━━━━━━━━━━\u001b[0m\u001b[37m━\u001b[0m \u001b[1m0s\u001b[0m 394ms/step - accuracy: 0.6561 - loss: 0.8848"
          ]
        },
        {
          "output_type": "stream",
          "name": "stderr",
          "text": [
            "WARNING:absl:You are saving your model as an HDF5 file via `model.save()` or `keras.saving.save_model(model)`. This file format is considered legacy. We recommend using instead the native Keras format, e.g. `model.save('my_model.keras')` or `keras.saving.save_model(model, 'my_model.keras')`. \n"
          ]
        },
        {
          "output_type": "stream",
          "name": "stdout",
          "text": [
            "\b\b\b\b\b\b\b\b\b\b\b\b\b\b\b\b\b\b\b\b\b\b\b\b\b\b\b\b\b\b\b\b\b\b\b\b\b\b\b\b\b\b\b\b\b\b\b\b\b\b\b\b\b\b\b\b\b\b\b\b\b\b\b\b\b\b\b\b\b\b\b\b\b\b\b\b\r\u001b[1m280/280\u001b[0m \u001b[32m━━━━━━━━━━━━━━━━━━━━\u001b[0m\u001b[37m\u001b[0m \u001b[1m141s\u001b[0m 429ms/step - accuracy: 0.6561 - loss: 0.8847 - val_accuracy: 0.5696 - val_loss: 1.1226 - learning_rate: 5.0000e-04\n",
            "Epoch 36/100\n",
            "\u001b[1m279/280\u001b[0m \u001b[32m━━━━━━━━━━━━━━━━━━━\u001b[0m\u001b[37m━\u001b[0m \u001b[1m0s\u001b[0m 404ms/step - accuracy: 0.6785 - loss: 0.8230"
          ]
        },
        {
          "output_type": "stream",
          "name": "stderr",
          "text": [
            "WARNING:absl:You are saving your model as an HDF5 file via `model.save()` or `keras.saving.save_model(model)`. This file format is considered legacy. We recommend using instead the native Keras format, e.g. `model.save('my_model.keras')` or `keras.saving.save_model(model, 'my_model.keras')`. \n"
          ]
        },
        {
          "output_type": "stream",
          "name": "stdout",
          "text": [
            "\b\b\b\b\b\b\b\b\b\b\b\b\b\b\b\b\b\b\b\b\b\b\b\b\b\b\b\b\b\b\b\b\b\b\b\b\b\b\b\b\b\b\b\b\b\b\b\b\b\b\b\b\b\b\b\b\b\b\b\b\b\b\b\b\b\b\b\b\b\b\b\b\b\b\b\b\r\u001b[1m280/280\u001b[0m \u001b[32m━━━━━━━━━━━━━━━━━━━━\u001b[0m\u001b[37m\u001b[0m \u001b[1m118s\u001b[0m 421ms/step - accuracy: 0.6785 - loss: 0.8230 - val_accuracy: 0.5916 - val_loss: 1.1083 - learning_rate: 5.0000e-04\n",
            "Epoch 37/100\n",
            "\u001b[1m280/280\u001b[0m \u001b[32m━━━━━━━━━━━━━━━━━━━━\u001b[0m\u001b[37m\u001b[0m \u001b[1m141s\u001b[0m 416ms/step - accuracy: 0.6912 - loss: 0.7991 - val_accuracy: 0.4971 - val_loss: 1.3922 - learning_rate: 5.0000e-04\n",
            "Epoch 38/100\n",
            "\u001b[1m280/280\u001b[0m \u001b[32m━━━━━━━━━━━━━━━━━━━━\u001b[0m\u001b[37m\u001b[0m \u001b[1m142s\u001b[0m 418ms/step - accuracy: 0.6570 - loss: 0.8880 - val_accuracy: 0.5658 - val_loss: 1.1570 - learning_rate: 5.0000e-04\n",
            "Epoch 39/100\n",
            "\u001b[1m280/280\u001b[0m \u001b[32m━━━━━━━━━━━━━━━━━━━━\u001b[0m\u001b[37m\u001b[0m \u001b[1m148s\u001b[0m 439ms/step - accuracy: 0.7036 - loss: 0.7723 - val_accuracy: 0.5607 - val_loss: 1.1977 - learning_rate: 5.0000e-04\n",
            "Epoch 40/100\n",
            "\u001b[1m280/280\u001b[0m \u001b[32m━━━━━━━━━━━━━━━━━━━━\u001b[0m\u001b[37m\u001b[0m \u001b[1m122s\u001b[0m 436ms/step - accuracy: 0.7046 - loss: 0.7667 - val_accuracy: 0.5540 - val_loss: 1.1947 - learning_rate: 5.0000e-04\n",
            "Epoch 41/100\n",
            "\u001b[1m279/280\u001b[0m \u001b[32m━━━━━━━━━━━━━━━━━━━\u001b[0m\u001b[37m━\u001b[0m \u001b[1m0s\u001b[0m 408ms/step - accuracy: 0.6830 - loss: 0.8157\n",
            "Epoch 41: ReduceLROnPlateau reducing learning rate to 0.0002500000118743628.\n",
            "\u001b[1m280/280\u001b[0m \u001b[32m━━━━━━━━━━━━━━━━━━━━\u001b[0m\u001b[37m\u001b[0m \u001b[1m139s\u001b[0m 424ms/step - accuracy: 0.6831 - loss: 0.8155 - val_accuracy: 0.5708 - val_loss: 1.1743 - learning_rate: 5.0000e-04\n",
            "Epoch 42/100\n",
            "\u001b[1m279/280\u001b[0m \u001b[32m━━━━━━━━━━━━━━━━━━━\u001b[0m\u001b[37m━\u001b[0m \u001b[1m0s\u001b[0m 416ms/step - accuracy: 0.7179 - loss: 0.7449"
          ]
        },
        {
          "output_type": "stream",
          "name": "stderr",
          "text": [
            "WARNING:absl:You are saving your model as an HDF5 file via `model.save()` or `keras.saving.save_model(model)`. This file format is considered legacy. We recommend using instead the native Keras format, e.g. `model.save('my_model.keras')` or `keras.saving.save_model(model, 'my_model.keras')`. \n"
          ]
        },
        {
          "output_type": "stream",
          "name": "stdout",
          "text": [
            "\b\b\b\b\b\b\b\b\b\b\b\b\b\b\b\b\b\b\b\b\b\b\b\b\b\b\b\b\b\b\b\b\b\b\b\b\b\b\b\b\b\b\b\b\b\b\b\b\b\b\b\b\b\b\b\b\b\b\b\b\b\b\b\b\b\b\b\b\b\b\b\b\b\b\b\b\r\u001b[1m280/280\u001b[0m \u001b[32m━━━━━━━━━━━━━━━━━━━━\u001b[0m\u001b[37m\u001b[0m \u001b[1m121s\u001b[0m 433ms/step - accuracy: 0.7180 - loss: 0.7448 - val_accuracy: 0.6050 - val_loss: 1.0856 - learning_rate: 2.5000e-04\n",
            "Epoch 43/100\n",
            "\u001b[1m279/280\u001b[0m \u001b[32m━━━━━━━━━━━━━━━━━━━\u001b[0m\u001b[37m━\u001b[0m \u001b[1m0s\u001b[0m 406ms/step - accuracy: 0.7196 - loss: 0.7301"
          ]
        },
        {
          "output_type": "stream",
          "name": "stderr",
          "text": [
            "WARNING:absl:You are saving your model as an HDF5 file via `model.save()` or `keras.saving.save_model(model)`. This file format is considered legacy. We recommend using instead the native Keras format, e.g. `model.save('my_model.keras')` or `keras.saving.save_model(model, 'my_model.keras')`. \n"
          ]
        },
        {
          "output_type": "stream",
          "name": "stdout",
          "text": [
            "\b\b\b\b\b\b\b\b\b\b\b\b\b\b\b\b\b\b\b\b\b\b\b\b\b\b\b\b\b\b\b\b\b\b\b\b\b\b\b\b\b\b\b\b\b\b\b\b\b\b\b\b\b\b\b\b\b\b\b\b\b\b\b\b\b\b\b\b\b\b\b\b\b\b\b\b\r\u001b[1m280/280\u001b[0m \u001b[32m━━━━━━━━━━━━━━━━━━━━\u001b[0m\u001b[37m\u001b[0m \u001b[1m139s\u001b[0m 423ms/step - accuracy: 0.7196 - loss: 0.7300 - val_accuracy: 0.6070 - val_loss: 1.0774 - learning_rate: 2.5000e-04\n",
            "Epoch 44/100\n",
            "\u001b[1m279/280\u001b[0m \u001b[32m━━━━━━━━━━━━━━━━━━━\u001b[0m\u001b[37m━\u001b[0m \u001b[1m0s\u001b[0m 408ms/step - accuracy: 0.7455 - loss: 0.6764"
          ]
        },
        {
          "output_type": "stream",
          "name": "stderr",
          "text": [
            "WARNING:absl:You are saving your model as an HDF5 file via `model.save()` or `keras.saving.save_model(model)`. This file format is considered legacy. We recommend using instead the native Keras format, e.g. `model.save('my_model.keras')` or `keras.saving.save_model(model, 'my_model.keras')`. \n"
          ]
        },
        {
          "output_type": "stream",
          "name": "stdout",
          "text": [
            "\b\b\b\b\b\b\b\b\b\b\b\b\b\b\b\b\b\b\b\b\b\b\b\b\b\b\b\b\b\b\b\b\b\b\b\b\b\b\b\b\b\b\b\b\b\b\b\b\b\b\b\b\b\b\b\b\b\b\b\b\b\b\b\b\b\b\b\b\b\b\b\b\b\b\b\b\r\u001b[1m280/280\u001b[0m \u001b[32m━━━━━━━━━━━━━━━━━━━━\u001b[0m\u001b[37m\u001b[0m \u001b[1m124s\u001b[0m 444ms/step - accuracy: 0.7455 - loss: 0.6764 - val_accuracy: 0.6099 - val_loss: 1.0625 - learning_rate: 2.5000e-04\n",
            "Epoch 45/100\n",
            "\u001b[1m280/280\u001b[0m \u001b[32m━━━━━━━━━━━━━━━━━━━━\u001b[0m\u001b[37m\u001b[0m \u001b[1m136s\u001b[0m 424ms/step - accuracy: 0.7518 - loss: 0.6514 - val_accuracy: 0.5734 - val_loss: 1.1773 - learning_rate: 2.5000e-04\n",
            "Epoch 46/100\n",
            "\u001b[1m280/280\u001b[0m \u001b[32m━━━━━━━━━━━━━━━━━━━━\u001b[0m\u001b[37m\u001b[0m \u001b[1m144s\u001b[0m 431ms/step - accuracy: 0.7463 - loss: 0.6620 - val_accuracy: 0.6012 - val_loss: 1.1060 - learning_rate: 2.5000e-04\n",
            "Epoch 47/100\n",
            "\u001b[1m280/280\u001b[0m \u001b[32m━━━━━━━━━━━━━━━━━━━━\u001b[0m\u001b[37m\u001b[0m \u001b[1m141s\u001b[0m 429ms/step - accuracy: 0.7557 - loss: 0.6375 - val_accuracy: 0.6003 - val_loss: 1.1038 - learning_rate: 2.5000e-04\n",
            "Epoch 48/100\n",
            "\u001b[1m279/280\u001b[0m \u001b[32m━━━━━━━━━━━━━━━━━━━\u001b[0m\u001b[37m━\u001b[0m \u001b[1m0s\u001b[0m 401ms/step - accuracy: 0.7611 - loss: 0.6320"
          ]
        },
        {
          "output_type": "stream",
          "name": "stderr",
          "text": [
            "WARNING:absl:You are saving your model as an HDF5 file via `model.save()` or `keras.saving.save_model(model)`. This file format is considered legacy. We recommend using instead the native Keras format, e.g. `model.save('my_model.keras')` or `keras.saving.save_model(model, 'my_model.keras')`. \n"
          ]
        },
        {
          "output_type": "stream",
          "name": "stdout",
          "text": [
            "\b\b\b\b\b\b\b\b\b\b\b\b\b\b\b\b\b\b\b\b\b\b\b\b\b\b\b\b\b\b\b\b\b\b\b\b\b\b\b\b\b\b\b\b\b\b\b\b\b\b\b\b\b\b\b\b\b\b\b\b\b\b\b\b\b\b\b\b\b\b\b\b\b\b\b\b\r\u001b[1m280/280\u001b[0m \u001b[32m━━━━━━━━━━━━━━━━━━━━\u001b[0m\u001b[37m\u001b[0m \u001b[1m119s\u001b[0m 423ms/step - accuracy: 0.7611 - loss: 0.6321 - val_accuracy: 0.6108 - val_loss: 1.0932 - learning_rate: 2.5000e-04\n",
            "Epoch 49/100\n",
            "\u001b[1m280/280\u001b[0m \u001b[32m━━━━━━━━━━━━━━━━━━━━\u001b[0m\u001b[37m\u001b[0m \u001b[1m140s\u001b[0m 417ms/step - accuracy: 0.7600 - loss: 0.6235 - val_accuracy: 0.6095 - val_loss: 1.0810 - learning_rate: 2.5000e-04\n",
            "Epoch 50/100\n",
            "\u001b[1m280/280\u001b[0m \u001b[32m━━━━━━━━━━━━━━━━━━━━\u001b[0m\u001b[37m\u001b[0m \u001b[1m142s\u001b[0m 416ms/step - accuracy: 0.7707 - loss: 0.6048 - val_accuracy: 0.5860 - val_loss: 1.1540 - learning_rate: 2.5000e-04\n",
            "Epoch 51/100\n",
            "\u001b[1m280/280\u001b[0m \u001b[32m━━━━━━━━━━━━━━━━━━━━\u001b[0m\u001b[37m\u001b[0m \u001b[1m121s\u001b[0m 431ms/step - accuracy: 0.7770 - loss: 0.5937 - val_accuracy: 0.5681 - val_loss: 1.2129 - learning_rate: 2.5000e-04\n",
            "Epoch 52/100\n",
            "\u001b[1m280/280\u001b[0m \u001b[32m━━━━━━━━━━━━━━━━━━━━\u001b[0m\u001b[37m\u001b[0m \u001b[1m138s\u001b[0m 416ms/step - accuracy: 0.7735 - loss: 0.5990 - val_accuracy: 0.5927 - val_loss: 1.2336 - learning_rate: 2.5000e-04\n",
            "Epoch 53/100\n",
            "\u001b[1m279/280\u001b[0m \u001b[32m━━━━━━━━━━━━━━━━━━━\u001b[0m\u001b[37m━\u001b[0m \u001b[1m0s\u001b[0m 404ms/step - accuracy: 0.7761 - loss: 0.5855\n",
            "Epoch 53: ReduceLROnPlateau reducing learning rate to 0.0001250000059371814.\n",
            "\u001b[1m280/280\u001b[0m \u001b[32m━━━━━━━━━━━━━━━━━━━━\u001b[0m\u001b[37m\u001b[0m \u001b[1m143s\u001b[0m 421ms/step - accuracy: 0.7761 - loss: 0.5855 - val_accuracy: 0.5943 - val_loss: 1.2194 - learning_rate: 2.5000e-04\n",
            "Epoch 54/100\n",
            "\u001b[1m279/280\u001b[0m \u001b[32m━━━━━━━━━━━━━━━━━━━\u001b[0m\u001b[37m━\u001b[0m \u001b[1m0s\u001b[0m 402ms/step - accuracy: 0.7881 - loss: 0.5609"
          ]
        },
        {
          "output_type": "stream",
          "name": "stderr",
          "text": [
            "WARNING:absl:You are saving your model as an HDF5 file via `model.save()` or `keras.saving.save_model(model)`. This file format is considered legacy. We recommend using instead the native Keras format, e.g. `model.save('my_model.keras')` or `keras.saving.save_model(model, 'my_model.keras')`. \n"
          ]
        },
        {
          "output_type": "stream",
          "name": "stdout",
          "text": [
            "\b\b\b\b\b\b\b\b\b\b\b\b\b\b\b\b\b\b\b\b\b\b\b\b\b\b\b\b\b\b\b\b\b\b\b\b\b\b\b\b\b\b\b\b\b\b\b\b\b\b\b\b\b\b\b\b\b\b\b\b\b\b\b\b\b\b\b\b\b\b\b\b\b\b\b\b\r\u001b[1m280/280\u001b[0m \u001b[32m━━━━━━━━━━━━━━━━━━━━\u001b[0m\u001b[37m\u001b[0m \u001b[1m141s\u001b[0m 418ms/step - accuracy: 0.7880 - loss: 0.5609 - val_accuracy: 0.6111 - val_loss: 1.0779 - learning_rate: 1.2500e-04\n",
            "Epoch 55/100\n",
            "\u001b[1m279/280\u001b[0m \u001b[32m━━━━━━━━━━━━━━━━━━━\u001b[0m\u001b[37m━\u001b[0m \u001b[1m0s\u001b[0m 412ms/step - accuracy: 0.7994 - loss: 0.5370"
          ]
        },
        {
          "output_type": "stream",
          "name": "stderr",
          "text": [
            "WARNING:absl:You are saving your model as an HDF5 file via `model.save()` or `keras.saving.save_model(model)`. This file format is considered legacy. We recommend using instead the native Keras format, e.g. `model.save('my_model.keras')` or `keras.saving.save_model(model, 'my_model.keras')`. \n"
          ]
        },
        {
          "output_type": "stream",
          "name": "stdout",
          "text": [
            "\b\b\b\b\b\b\b\b\b\b\b\b\b\b\b\b\b\b\b\b\b\b\b\b\b\b\b\b\b\b\b\b\b\b\b\b\b\b\b\b\b\b\b\b\b\b\b\b\b\b\b\b\b\b\b\b\b\b\b\b\b\b\b\b\b\b\b\b\b\b\b\b\b\b\b\b\r\u001b[1m280/280\u001b[0m \u001b[32m━━━━━━━━━━━━━━━━━━━━\u001b[0m\u001b[37m\u001b[0m \u001b[1m122s\u001b[0m 435ms/step - accuracy: 0.7994 - loss: 0.5370 - val_accuracy: 0.6140 - val_loss: 1.1295 - learning_rate: 1.2500e-04\n",
            "Epoch 56/100\n",
            "\u001b[1m279/280\u001b[0m \u001b[32m━━━━━━━━━━━━━━━━━━━\u001b[0m\u001b[37m━\u001b[0m \u001b[1m0s\u001b[0m 405ms/step - accuracy: 0.7969 - loss: 0.5300"
          ]
        },
        {
          "output_type": "stream",
          "name": "stderr",
          "text": [
            "WARNING:absl:You are saving your model as an HDF5 file via `model.save()` or `keras.saving.save_model(model)`. This file format is considered legacy. We recommend using instead the native Keras format, e.g. `model.save('my_model.keras')` or `keras.saving.save_model(model, 'my_model.keras')`. \n"
          ]
        },
        {
          "output_type": "stream",
          "name": "stdout",
          "text": [
            "\b\b\b\b\b\b\b\b\b\b\b\b\b\b\b\b\b\b\b\b\b\b\b\b\b\b\b\b\b\b\b\b\b\b\b\b\b\b\b\b\b\b\b\b\b\b\b\b\b\b\b\b\b\b\b\b\b\b\b\b\b\b\b\b\b\b\b\b\b\b\b\b\b\b\b\b\r\u001b[1m280/280\u001b[0m \u001b[32m━━━━━━━━━━━━━━━━━━━━\u001b[0m\u001b[37m\u001b[0m \u001b[1m144s\u001b[0m 441ms/step - accuracy: 0.7969 - loss: 0.5301 - val_accuracy: 0.6146 - val_loss: 1.1236 - learning_rate: 1.2500e-04\n",
            "Epoch 57/100\n",
            "\u001b[1m279/280\u001b[0m \u001b[32m━━━━━━━━━━━━━━━━━━━\u001b[0m\u001b[37m━\u001b[0m \u001b[1m0s\u001b[0m 404ms/step - accuracy: 0.8019 - loss: 0.5327"
          ]
        },
        {
          "output_type": "stream",
          "name": "stderr",
          "text": [
            "WARNING:absl:You are saving your model as an HDF5 file via `model.save()` or `keras.saving.save_model(model)`. This file format is considered legacy. We recommend using instead the native Keras format, e.g. `model.save('my_model.keras')` or `keras.saving.save_model(model, 'my_model.keras')`. \n"
          ]
        },
        {
          "output_type": "stream",
          "name": "stdout",
          "text": [
            "\b\b\b\b\b\b\b\b\b\b\b\b\b\b\b\b\b\b\b\b\b\b\b\b\b\b\b\b\b\b\b\b\b\b\b\b\b\b\b\b\b\b\b\b\b\b\b\b\b\b\b\b\b\b\b\b\b\b\b\b\b\b\b\b\b\b\b\b\b\b\b\b\b\b\b\b\r\u001b[1m280/280\u001b[0m \u001b[32m━━━━━━━━━━━━━━━━━━━━\u001b[0m\u001b[37m\u001b[0m \u001b[1m137s\u001b[0m 423ms/step - accuracy: 0.8019 - loss: 0.5327 - val_accuracy: 0.6207 - val_loss: 1.0989 - learning_rate: 1.2500e-04\n",
            "Epoch 58/100\n",
            "\u001b[1m280/280\u001b[0m \u001b[32m━━━━━━━━━━━━━━━━━━━━\u001b[0m\u001b[37m\u001b[0m \u001b[1m142s\u001b[0m 424ms/step - accuracy: 0.8038 - loss: 0.5158 - val_accuracy: 0.6086 - val_loss: 1.1734 - learning_rate: 1.2500e-04\n",
            "Epoch 59/100\n",
            "\u001b[1m280/280\u001b[0m \u001b[32m━━━━━━━━━━━━━━━━━━━━\u001b[0m\u001b[37m\u001b[0m \u001b[1m141s\u001b[0m 419ms/step - accuracy: 0.8054 - loss: 0.5201 - val_accuracy: 0.6124 - val_loss: 1.1968 - learning_rate: 1.2500e-04\n",
            "Epoch 60/100\n",
            "\u001b[1m279/280\u001b[0m \u001b[32m━━━━━━━━━━━━━━━━━━━\u001b[0m\u001b[37m━\u001b[0m \u001b[1m0s\u001b[0m 393ms/step - accuracy: 0.8031 - loss: 0.5186"
          ]
        },
        {
          "output_type": "stream",
          "name": "stderr",
          "text": [
            "WARNING:absl:You are saving your model as an HDF5 file via `model.save()` or `keras.saving.save_model(model)`. This file format is considered legacy. We recommend using instead the native Keras format, e.g. `model.save('my_model.keras')` or `keras.saving.save_model(model, 'my_model.keras')`. \n"
          ]
        },
        {
          "output_type": "stream",
          "name": "stdout",
          "text": [
            "\b\b\b\b\b\b\b\b\b\b\b\b\b\b\b\b\b\b\b\b\b\b\b\b\b\b\b\b\b\b\b\b\b\b\b\b\b\b\b\b\b\b\b\b\b\b\b\b\b\b\b\b\b\b\b\b\b\b\b\b\b\b\b\b\b\b\b\b\b\b\b\b\b\b\b\b\r\u001b[1m280/280\u001b[0m \u001b[32m━━━━━━━━━━━━━━━━━━━━\u001b[0m\u001b[37m\u001b[0m \u001b[1m145s\u001b[0m 429ms/step - accuracy: 0.8031 - loss: 0.5186 - val_accuracy: 0.6225 - val_loss: 1.1154 - learning_rate: 1.2500e-04\n",
            "Epoch 61/100\n",
            "\u001b[1m280/280\u001b[0m \u001b[32m━━━━━━━━━━━━━━━━━━━━\u001b[0m\u001b[37m\u001b[0m \u001b[1m137s\u001b[0m 412ms/step - accuracy: 0.8070 - loss: 0.5021 - val_accuracy: 0.6214 - val_loss: 1.1139 - learning_rate: 1.2500e-04\n",
            "Epoch 62/100\n",
            "\u001b[1m280/280\u001b[0m \u001b[32m━━━━━━━━━━━━━━━━━━━━\u001b[0m\u001b[37m\u001b[0m \u001b[1m143s\u001b[0m 415ms/step - accuracy: 0.8066 - loss: 0.5013 - val_accuracy: 0.6191 - val_loss: 1.1185 - learning_rate: 1.2500e-04\n",
            "Epoch 63/100\n",
            "\u001b[1m280/280\u001b[0m \u001b[32m━━━━━━━━━━━━━━━━━━━━\u001b[0m\u001b[37m\u001b[0m \u001b[1m120s\u001b[0m 429ms/step - accuracy: 0.8048 - loss: 0.5099 - val_accuracy: 0.6104 - val_loss: 1.1221 - learning_rate: 1.2500e-04\n",
            "Epoch 64/100\n",
            "\u001b[1m280/280\u001b[0m \u001b[32m━━━━━━━━━━━━━━━━━━━━\u001b[0m\u001b[37m\u001b[0m \u001b[1m139s\u001b[0m 417ms/step - accuracy: 0.8045 - loss: 0.5050 - val_accuracy: 0.6191 - val_loss: 1.1080 - learning_rate: 1.2500e-04\n",
            "Epoch 65/100\n",
            "\u001b[1m279/280\u001b[0m \u001b[32m━━━━━━━━━━━━━━━━━━━\u001b[0m\u001b[37m━\u001b[0m \u001b[1m0s\u001b[0m 393ms/step - accuracy: 0.8128 - loss: 0.4911"
          ]
        },
        {
          "output_type": "stream",
          "name": "stderr",
          "text": [
            "WARNING:absl:You are saving your model as an HDF5 file via `model.save()` or `keras.saving.save_model(model)`. This file format is considered legacy. We recommend using instead the native Keras format, e.g. `model.save('my_model.keras')` or `keras.saving.save_model(model, 'my_model.keras')`. \n"
          ]
        },
        {
          "output_type": "stream",
          "name": "stdout",
          "text": [
            "\b\b\b\b\b\b\b\b\b\b\b\b\b\b\b\b\b\b\b\b\b\b\b\b\b\b\b\b\b\b\b\b\b\b\b\b\b\b\b\b\b\b\b\b\b\b\b\b\b\b\b\b\b\b\b\b\b\b\b\b\b\b\b\b\b\b\b\b\b\b\b\b\b\b\b\b\r\u001b[1m280/280\u001b[0m \u001b[32m━━━━━━━━━━━━━━━━━━━━\u001b[0m\u001b[37m\u001b[0m \u001b[1m140s\u001b[0m 411ms/step - accuracy: 0.8128 - loss: 0.4912 - val_accuracy: 0.6232 - val_loss: 1.1103 - learning_rate: 1.2500e-04\n",
            "Epoch 66/100\n",
            "\u001b[1m280/280\u001b[0m \u001b[32m━━━━━━━━━━━━━━━━━━━━\u001b[0m\u001b[37m\u001b[0m \u001b[1m116s\u001b[0m 415ms/step - accuracy: 0.8219 - loss: 0.4694 - val_accuracy: 0.6189 - val_loss: 1.1111 - learning_rate: 1.2500e-04\n",
            "Epoch 67/100\n",
            "\u001b[1m280/280\u001b[0m \u001b[32m━━━━━━━━━━━━━━━━━━━━\u001b[0m\u001b[37m\u001b[0m \u001b[1m117s\u001b[0m 417ms/step - accuracy: 0.8117 - loss: 0.4933 - val_accuracy: 0.6153 - val_loss: 1.1869 - learning_rate: 1.2500e-04\n",
            "Epoch 68/100\n",
            "\u001b[1m280/280\u001b[0m \u001b[32m━━━━━━━━━━━━━━━━━━━━\u001b[0m\u001b[37m\u001b[0m \u001b[1m147s\u001b[0m 433ms/step - accuracy: 0.8058 - loss: 0.5082 - val_accuracy: 0.6068 - val_loss: 1.1367 - learning_rate: 1.2500e-04\n",
            "Epoch 69/100\n",
            "\u001b[1m280/280\u001b[0m \u001b[32m━━━━━━━━━━━━━━━━━━━━\u001b[0m\u001b[37m\u001b[0m \u001b[1m139s\u001b[0m 423ms/step - accuracy: 0.8015 - loss: 0.5158 - val_accuracy: 0.6146 - val_loss: 1.1569 - learning_rate: 1.2500e-04\n",
            "Epoch 70/100\n",
            "\u001b[1m280/280\u001b[0m \u001b[32m━━━━━━━━━━━━━━━━━━━━\u001b[0m\u001b[37m\u001b[0m \u001b[1m0s\u001b[0m 398ms/step - accuracy: 0.7913 - loss: 0.5328\n",
            "Epoch 70: ReduceLROnPlateau reducing learning rate to 6.25000029685907e-05.\n",
            "\u001b[1m280/280\u001b[0m \u001b[32m━━━━━━━━━━━━━━━━━━━━\u001b[0m\u001b[37m\u001b[0m \u001b[1m145s\u001b[0m 435ms/step - accuracy: 0.7913 - loss: 0.5327 - val_accuracy: 0.6223 - val_loss: 1.1086 - learning_rate: 1.2500e-04\n",
            "Epoch 71/100\n",
            "\u001b[1m280/280\u001b[0m \u001b[32m━━━━━━━━━━━━━━━━━━━━\u001b[0m\u001b[37m\u001b[0m \u001b[1m137s\u001b[0m 418ms/step - accuracy: 0.8163 - loss: 0.4831 - val_accuracy: 0.6229 - val_loss: 1.1288 - learning_rate: 6.2500e-05\n",
            "Epoch 72/100\n",
            "\u001b[1m280/280\u001b[0m \u001b[32m━━━━━━━━━━━━━━━━━━━━\u001b[0m\u001b[37m\u001b[0m \u001b[1m0s\u001b[0m 394ms/step - accuracy: 0.8262 - loss: 0.4515"
          ]
        },
        {
          "output_type": "stream",
          "name": "stderr",
          "text": [
            "WARNING:absl:You are saving your model as an HDF5 file via `model.save()` or `keras.saving.save_model(model)`. This file format is considered legacy. We recommend using instead the native Keras format, e.g. `model.save('my_model.keras')` or `keras.saving.save_model(model, 'my_model.keras')`. \n"
          ]
        },
        {
          "output_type": "stream",
          "name": "stdout",
          "text": [
            "\b\b\b\b\b\b\b\b\b\b\b\b\b\b\b\b\b\b\b\b\b\b\b\b\b\b\b\b\b\b\b\b\b\b\b\b\b\b\b\b\b\b\b\b\b\b\b\b\b\b\b\b\b\b\b\b\b\b\b\b\b\b\b\b\b\b\b\b\b\b\b\b\b\b\b\b\r\u001b[1m280/280\u001b[0m \u001b[32m━━━━━━━━━━━━━━━━━━━━\u001b[0m\u001b[37m\u001b[0m \u001b[1m116s\u001b[0m 414ms/step - accuracy: 0.8262 - loss: 0.4515 - val_accuracy: 0.6281 - val_loss: 1.1105 - learning_rate: 6.2500e-05\n",
            "Epoch 73/100\n",
            "\u001b[1m280/280\u001b[0m \u001b[32m━━━━━━━━━━━━━━━━━━━━\u001b[0m\u001b[37m\u001b[0m \u001b[1m142s\u001b[0m 416ms/step - accuracy: 0.8223 - loss: 0.4664 - val_accuracy: 0.6167 - val_loss: 1.1442 - learning_rate: 6.2500e-05\n",
            "Epoch 74/100\n",
            "\u001b[1m280/280\u001b[0m \u001b[32m━━━━━━━━━━━━━━━━━━━━\u001b[0m\u001b[37m\u001b[0m \u001b[1m119s\u001b[0m 424ms/step - accuracy: 0.8365 - loss: 0.4471 - val_accuracy: 0.6200 - val_loss: 1.1205 - learning_rate: 6.2500e-05\n",
            "Epoch 75/100\n",
            "\u001b[1m280/280\u001b[0m \u001b[32m━━━━━━━━━━━━━━━━━━━━\u001b[0m\u001b[37m\u001b[0m \u001b[1m140s\u001b[0m 418ms/step - accuracy: 0.8337 - loss: 0.4422 - val_accuracy: 0.6272 - val_loss: 1.1328 - learning_rate: 6.2500e-05\n",
            "Epoch 76/100\n",
            "\u001b[1m280/280\u001b[0m \u001b[32m━━━━━━━━━━━━━━━━━━━━\u001b[0m\u001b[37m\u001b[0m \u001b[1m141s\u001b[0m 414ms/step - accuracy: 0.8315 - loss: 0.4487 - val_accuracy: 0.6234 - val_loss: 1.1137 - learning_rate: 6.2500e-05\n",
            "Epoch 77/100\n",
            "\u001b[1m279/280\u001b[0m \u001b[32m━━━━━━━━━━━━━━━━━━━\u001b[0m\u001b[37m━\u001b[0m \u001b[1m0s\u001b[0m 397ms/step - accuracy: 0.8357 - loss: 0.4335\n",
            "Epoch 77: ReduceLROnPlateau reducing learning rate to 3.125000148429535e-05.\n",
            "\u001b[1m280/280\u001b[0m \u001b[32m━━━━━━━━━━━━━━━━━━━━\u001b[0m\u001b[37m\u001b[0m \u001b[1m147s\u001b[0m 432ms/step - accuracy: 0.8357 - loss: 0.4335 - val_accuracy: 0.6198 - val_loss: 1.1525 - learning_rate: 6.2500e-05\n",
            "Epoch 78/100\n",
            "\u001b[1m279/280\u001b[0m \u001b[32m━━━━━━━━━━━━━━━━━━━\u001b[0m\u001b[37m━\u001b[0m \u001b[1m0s\u001b[0m 404ms/step - accuracy: 0.8407 - loss: 0.4276"
          ]
        },
        {
          "output_type": "stream",
          "name": "stderr",
          "text": [
            "WARNING:absl:You are saving your model as an HDF5 file via `model.save()` or `keras.saving.save_model(model)`. This file format is considered legacy. We recommend using instead the native Keras format, e.g. `model.save('my_model.keras')` or `keras.saving.save_model(model, 'my_model.keras')`. \n"
          ]
        },
        {
          "output_type": "stream",
          "name": "stdout",
          "text": [
            "\b\b\b\b\b\b\b\b\b\b\b\b\b\b\b\b\b\b\b\b\b\b\b\b\b\b\b\b\b\b\b\b\b\b\b\b\b\b\b\b\b\b\b\b\b\b\b\b\b\b\b\b\b\b\b\b\b\b\b\b\b\b\b\b\b\b\b\b\b\b\b\b\b\b\b\b\r\u001b[1m280/280\u001b[0m \u001b[32m━━━━━━━━━━━━━━━━━━━━\u001b[0m\u001b[37m\u001b[0m \u001b[1m118s\u001b[0m 422ms/step - accuracy: 0.8407 - loss: 0.4276 - val_accuracy: 0.6292 - val_loss: 1.1263 - learning_rate: 3.1250e-05\n",
            "Epoch 79/100\n",
            "\u001b[1m279/280\u001b[0m \u001b[32m━━━━━━━━━━━━━━━━━━━\u001b[0m\u001b[37m━\u001b[0m \u001b[1m0s\u001b[0m 398ms/step - accuracy: 0.8378 - loss: 0.4308"
          ]
        },
        {
          "output_type": "stream",
          "name": "stderr",
          "text": [
            "WARNING:absl:You are saving your model as an HDF5 file via `model.save()` or `keras.saving.save_model(model)`. This file format is considered legacy. We recommend using instead the native Keras format, e.g. `model.save('my_model.keras')` or `keras.saving.save_model(model, 'my_model.keras')`. \n"
          ]
        },
        {
          "output_type": "stream",
          "name": "stdout",
          "text": [
            "\b\b\b\b\b\b\b\b\b\b\b\b\b\b\b\b\b\b\b\b\b\b\b\b\b\b\b\b\b\b\b\b\b\b\b\b\b\b\b\b\b\b\b\b\b\b\b\b\b\b\b\b\b\b\b\b\b\b\b\b\b\b\b\b\b\b\b\b\b\b\b\b\b\b\b\b\r\u001b[1m280/280\u001b[0m \u001b[32m━━━━━━━━━━━━━━━━━━━━\u001b[0m\u001b[37m\u001b[0m \u001b[1m140s\u001b[0m 415ms/step - accuracy: 0.8378 - loss: 0.4308 - val_accuracy: 0.6303 - val_loss: 1.1305 - learning_rate: 3.1250e-05\n",
            "Epoch 80/100\n",
            "\u001b[1m280/280\u001b[0m \u001b[32m━━━━━━━━━━━━━━━━━━━━\u001b[0m\u001b[37m\u001b[0m \u001b[1m116s\u001b[0m 415ms/step - accuracy: 0.8390 - loss: 0.4325 - val_accuracy: 0.6261 - val_loss: 1.1441 - learning_rate: 3.1250e-05\n",
            "Epoch 81/100\n",
            "\u001b[1m279/280\u001b[0m \u001b[32m━━━━━━━━━━━━━━━━━━━\u001b[0m\u001b[37m━\u001b[0m \u001b[1m0s\u001b[0m 404ms/step - accuracy: 0.8379 - loss: 0.4252"
          ]
        },
        {
          "output_type": "stream",
          "name": "stderr",
          "text": [
            "WARNING:absl:You are saving your model as an HDF5 file via `model.save()` or `keras.saving.save_model(model)`. This file format is considered legacy. We recommend using instead the native Keras format, e.g. `model.save('my_model.keras')` or `keras.saving.save_model(model, 'my_model.keras')`. \n"
          ]
        },
        {
          "output_type": "stream",
          "name": "stdout",
          "text": [
            "\b\b\b\b\b\b\b\b\b\b\b\b\b\b\b\b\b\b\b\b\b\b\b\b\b\b\b\b\b\b\b\b\b\b\b\b\b\b\b\b\b\b\b\b\b\b\b\b\b\b\b\b\b\b\b\b\b\b\b\b\b\b\b\b\b\b\b\b\b\b\b\b\b\b\b\b\r\u001b[1m280/280\u001b[0m \u001b[32m━━━━━━━━━━━━━━━━━━━━\u001b[0m\u001b[37m\u001b[0m \u001b[1m144s\u001b[0m 422ms/step - accuracy: 0.8380 - loss: 0.4252 - val_accuracy: 0.6314 - val_loss: 1.1312 - learning_rate: 3.1250e-05\n",
            "Epoch 82/100\n",
            "\u001b[1m280/280\u001b[0m \u001b[32m━━━━━━━━━━━━━━━━━━━━\u001b[0m\u001b[37m\u001b[0m \u001b[1m140s\u001b[0m 415ms/step - accuracy: 0.8377 - loss: 0.4255 - val_accuracy: 0.6267 - val_loss: 1.1446 - learning_rate: 3.1250e-05\n",
            "Epoch 83/100\n",
            "\u001b[1m280/280\u001b[0m \u001b[32m━━━━━━━━━━━━━━━━━━━━\u001b[0m\u001b[37m\u001b[0m \u001b[1m146s\u001b[0m 431ms/step - accuracy: 0.8440 - loss: 0.4235 - val_accuracy: 0.6283 - val_loss: 1.1361 - learning_rate: 3.1250e-05\n",
            "Epoch 84/100\n",
            "\u001b[1m280/280\u001b[0m \u001b[32m━━━━━━━━━━━━━━━━━━━━\u001b[0m\u001b[37m\u001b[0m \u001b[1m138s\u001b[0m 418ms/step - accuracy: 0.8437 - loss: 0.4184 - val_accuracy: 0.6288 - val_loss: 1.1442 - learning_rate: 3.1250e-05\n",
            "Epoch 85/100\n",
            "\u001b[1m279/280\u001b[0m \u001b[32m━━━━━━━━━━━━━━━━━━━\u001b[0m\u001b[37m━\u001b[0m \u001b[1m0s\u001b[0m 395ms/step - accuracy: 0.8401 - loss: 0.4268"
          ]
        },
        {
          "output_type": "stream",
          "name": "stderr",
          "text": [
            "WARNING:absl:You are saving your model as an HDF5 file via `model.save()` or `keras.saving.save_model(model)`. This file format is considered legacy. We recommend using instead the native Keras format, e.g. `model.save('my_model.keras')` or `keras.saving.save_model(model, 'my_model.keras')`. \n"
          ]
        },
        {
          "output_type": "stream",
          "name": "stdout",
          "text": [
            "\b\b\b\b\b\b\b\b\b\b\b\b\b\b\b\b\b\b\b\b\b\b\b\b\b\b\b\b\b\b\b\b\b\b\b\b\b\b\b\b\b\b\b\b\b\b\b\b\b\b\b\b\b\b\b\b\b\b\b\b\b\b\b\b\b\b\b\b\b\b\b\b\b\b\b\b\r\u001b[1m280/280\u001b[0m \u001b[32m━━━━━━━━━━━━━━━━━━━━\u001b[0m\u001b[37m\u001b[0m \u001b[1m141s\u001b[0m 413ms/step - accuracy: 0.8401 - loss: 0.4267 - val_accuracy: 0.6321 - val_loss: 1.1482 - learning_rate: 3.1250e-05\n",
            "Epoch 86/100\n",
            "\u001b[1m279/280\u001b[0m \u001b[32m━━━━━━━━━━━━━━━━━━━\u001b[0m\u001b[37m━\u001b[0m \u001b[1m0s\u001b[0m 392ms/step - accuracy: 0.8429 - loss: 0.4149"
          ]
        },
        {
          "output_type": "stream",
          "name": "stderr",
          "text": [
            "WARNING:absl:You are saving your model as an HDF5 file via `model.save()` or `keras.saving.save_model(model)`. This file format is considered legacy. We recommend using instead the native Keras format, e.g. `model.save('my_model.keras')` or `keras.saving.save_model(model, 'my_model.keras')`. \n"
          ]
        },
        {
          "output_type": "stream",
          "name": "stdout",
          "text": [
            "\b\b\b\b\b\b\b\b\b\b\b\b\b\b\b\b\b\b\b\b\b\b\b\b\b\b\b\b\b\b\b\b\b\b\b\b\b\b\b\b\b\b\b\b\b\b\b\b\b\b\b\b\b\b\b\b\b\b\b\b\b\b\b\b\b\b\b\b\b\b\b\b\b\b\b\b\r\u001b[1m280/280\u001b[0m \u001b[32m━━━━━━━━━━━━━━━━━━━━\u001b[0m\u001b[37m\u001b[0m \u001b[1m146s\u001b[0m 428ms/step - accuracy: 0.8429 - loss: 0.4149 - val_accuracy: 0.6341 - val_loss: 1.1311 - learning_rate: 3.1250e-05\n",
            "Epoch 87/100\n",
            "\u001b[1m280/280\u001b[0m \u001b[32m━━━━━━━━━━━━━━━━━━━━\u001b[0m\u001b[37m\u001b[0m \u001b[1m120s\u001b[0m 428ms/step - accuracy: 0.8480 - loss: 0.4071 - val_accuracy: 0.6305 - val_loss: 1.1363 - learning_rate: 3.1250e-05\n",
            "Epoch 88/100\n",
            "\u001b[1m279/280\u001b[0m \u001b[32m━━━━━━━━━━━━━━━━━━━\u001b[0m\u001b[37m━\u001b[0m \u001b[1m0s\u001b[0m 394ms/step - accuracy: 0.8396 - loss: 0.4263"
          ]
        },
        {
          "output_type": "stream",
          "name": "stderr",
          "text": [
            "WARNING:absl:You are saving your model as an HDF5 file via `model.save()` or `keras.saving.save_model(model)`. This file format is considered legacy. We recommend using instead the native Keras format, e.g. `model.save('my_model.keras')` or `keras.saving.save_model(model, 'my_model.keras')`. \n"
          ]
        },
        {
          "output_type": "stream",
          "name": "stdout",
          "text": [
            "\b\b\b\b\b\b\b\b\b\b\b\b\b\b\b\b\b\b\b\b\b\b\b\b\b\b\b\b\b\b\b\b\b\b\b\b\b\b\b\b\b\b\b\b\b\b\b\b\b\b\b\b\b\b\b\b\b\b\b\b\b\b\b\b\b\b\b\b\b\b\b\b\b\b\b\b\r\u001b[1m280/280\u001b[0m \u001b[32m━━━━━━━━━━━━━━━━━━━━\u001b[0m\u001b[37m\u001b[0m \u001b[1m137s\u001b[0m 410ms/step - accuracy: 0.8396 - loss: 0.4262 - val_accuracy: 0.6346 - val_loss: 1.1474 - learning_rate: 3.1250e-05\n",
            "Epoch 89/100\n",
            "\u001b[1m280/280\u001b[0m \u001b[32m━━━━━━━━━━━━━━━━━━━━\u001b[0m\u001b[37m\u001b[0m \u001b[1m145s\u001b[0m 420ms/step - accuracy: 0.8451 - loss: 0.4182 - val_accuracy: 0.6308 - val_loss: 1.1396 - learning_rate: 3.1250e-05\n",
            "Epoch 90/100\n",
            "\u001b[1m280/280\u001b[0m \u001b[32m━━━━━━━━━━━━━━━━━━━━\u001b[0m\u001b[37m\u001b[0m \u001b[1m140s\u001b[0m 414ms/step - accuracy: 0.8455 - loss: 0.4099 - val_accuracy: 0.6283 - val_loss: 1.1489 - learning_rate: 3.1250e-05\n",
            "Epoch 91/100\n",
            "\u001b[1m280/280\u001b[0m \u001b[32m━━━━━━━━━━━━━━━━━━━━\u001b[0m\u001b[37m\u001b[0m \u001b[1m144s\u001b[0m 420ms/step - accuracy: 0.8446 - loss: 0.4169 - val_accuracy: 0.6272 - val_loss: 1.1380 - learning_rate: 3.1250e-05\n",
            "Epoch 92/100\n",
            "\u001b[1m280/280\u001b[0m \u001b[32m━━━━━━━━━━━━━━━━━━━━\u001b[0m\u001b[37m\u001b[0m \u001b[1m145s\u001b[0m 431ms/step - accuracy: 0.8440 - loss: 0.4124 - val_accuracy: 0.6330 - val_loss: 1.1382 - learning_rate: 3.1250e-05\n",
            "Epoch 93/100\n",
            "\u001b[1m279/280\u001b[0m \u001b[32m━━━━━━━━━━━━━━━━━━━\u001b[0m\u001b[37m━\u001b[0m \u001b[1m0s\u001b[0m 389ms/step - accuracy: 0.8475 - loss: 0.4071\n",
            "Epoch 93: ReduceLROnPlateau reducing learning rate to 1.5625000742147677e-05.\n",
            "\u001b[1m280/280\u001b[0m \u001b[32m━━━━━━━━━━━━━━━━━━━━\u001b[0m\u001b[37m\u001b[0m \u001b[1m136s\u001b[0m 410ms/step - accuracy: 0.8475 - loss: 0.4071 - val_accuracy: 0.6270 - val_loss: 1.1638 - learning_rate: 3.1250e-05\n",
            "Epoch 94/100\n",
            "\u001b[1m280/280\u001b[0m \u001b[32m━━━━━━━━━━━━━━━━━━━━\u001b[0m\u001b[37m\u001b[0m \u001b[1m146s\u001b[0m 427ms/step - accuracy: 0.8426 - loss: 0.4125 - val_accuracy: 0.6299 - val_loss: 1.1462 - learning_rate: 1.5625e-05\n",
            "Epoch 95/100\n",
            "\u001b[1m280/280\u001b[0m \u001b[32m━━━━━━━━━━━━━━━━━━━━\u001b[0m\u001b[37m\u001b[0m \u001b[1m116s\u001b[0m 415ms/step - accuracy: 0.8501 - loss: 0.4005 - val_accuracy: 0.6303 - val_loss: 1.1389 - learning_rate: 1.5625e-05\n",
            "Epoch 96/100\n",
            "\u001b[1m280/280\u001b[0m \u001b[32m━━━━━━━━━━━━━━━━━━━━\u001b[0m\u001b[37m\u001b[0m \u001b[1m141s\u001b[0m 412ms/step - accuracy: 0.8501 - loss: 0.4039 - val_accuracy: 0.6328 - val_loss: 1.1419 - learning_rate: 1.5625e-05\n",
            "Epoch 97/100\n",
            "\u001b[1m280/280\u001b[0m \u001b[32m━━━━━━━━━━━━━━━━━━━━\u001b[0m\u001b[37m\u001b[0m \u001b[1m145s\u001b[0m 424ms/step - accuracy: 0.8497 - loss: 0.4068 - val_accuracy: 0.6288 - val_loss: 1.1499 - learning_rate: 1.5625e-05\n",
            "Epoch 98/100\n",
            "\u001b[1m279/280\u001b[0m \u001b[32m━━━━━━━━━━━━━━━━━━━\u001b[0m\u001b[37m━\u001b[0m \u001b[1m0s\u001b[0m 393ms/step - accuracy: 0.8464 - loss: 0.4038\n",
            "Epoch 98: ReduceLROnPlateau reducing learning rate to 1e-05.\n",
            "\u001b[1m280/280\u001b[0m \u001b[32m━━━━━━━━━━━━━━━━━━━━\u001b[0m\u001b[37m\u001b[0m \u001b[1m120s\u001b[0m 429ms/step - accuracy: 0.8464 - loss: 0.4037 - val_accuracy: 0.6323 - val_loss: 1.1468 - learning_rate: 1.5625e-05\n"
          ]
        }
      ]
    },
    {
      "cell_type": "code",
      "source": [
        "# ==============================================================================\n",
        "# STEP 10: EVALUATE THE MODEL\n",
        "# ==============================================================================\n",
        "print(\"\\nStep 10: Evaluating the model performance...\")\n",
        "\n",
        "# Plot training history\n",
        "epochs = range(1, len(history.history['accuracy']) + 1)\n",
        "fig, ax = plt.subplots(1, 2, figsize=(15, 5))\n",
        "\n",
        "ax[0].plot(epochs, history.history['loss'], label='Training Loss')\n",
        "ax[0].plot(epochs, history.history['val_loss'], label='Validation Loss')\n",
        "ax[0].set_title('Training & Validation Loss')\n",
        "ax[0].set_xlabel('Epochs')\n",
        "ax[0].set_ylabel('Loss')\n",
        "ax[0].legend()\n",
        "\n",
        "ax[1].plot(epochs, history.history['accuracy'], label='Training Accuracy')\n",
        "ax[1].plot(epochs, history.history['val_accuracy'], label='Validation Accuracy')\n",
        "ax[1].set_title('Training & Validation Accuracy')\n",
        "ax[1].set_xlabel('Epochs')\n",
        "ax[1].set_ylabel('Accuracy')\n",
        "ax[1].legend()\n",
        "plt.show()\n",
        "\n",
        "# Final evaluation on test data\n",
        "print(\"\\nFinal Model Evaluation on Test Data:\")\n",
        "test_loss, test_accuracy = model.evaluate(x_test, y_test)\n",
        "print(f\"Test Accuracy: {test_accuracy*100:.2f}%\")\n",
        "print(f\"Test Loss: {test_loss:.4f}\")\n",
        "\n",
        "# Predictions and Confusion Matrix\n",
        "y_pred = model.predict(x_test)\n",
        "y_pred_labels = encoder.inverse_transform(y_pred)\n",
        "y_test_labels = encoder.inverse_transform(y_test)\n",
        "\n",
        "print(\"\\nClassification Report:\")\n",
        "print(classification_report(y_test_labels, y_pred_labels))\n",
        "\n",
        "print(\"\\nConfusion Matrix:\")\n",
        "cm = confusion_matrix(y_test_labels, y_pred_labels)\n",
        "plt.figure(figsize=(10, 8))\n",
        "sns.heatmap(cm, annot=True, fmt='d', cmap='Blues', xticklabels=encoder.categories_[0], yticklabels=encoder.categories_[0])\n",
        "plt.title('Confusion Matrix')\n",
        "plt.ylabel('Actual Labels')\n",
        "plt.xlabel('Predicted Labels')\n",
        "plt.show()"
      ],
      "metadata": {
        "colab": {
          "base_uri": "https://localhost:8080/",
          "height": 1000
        },
        "id": "_PNI4mZgSDpb",
        "outputId": "47211f41-3cd6-4514-89ee-a958bd5f5a72"
      },
      "execution_count": 18,
      "outputs": [
        {
          "output_type": "stream",
          "name": "stdout",
          "text": [
            "\n",
            "Step 10: Evaluating the model performance...\n"
          ]
        },
        {
          "output_type": "display_data",
          "data": {
            "text/plain": [
              "<Figure size 1500x500 with 2 Axes>"
            ],
            "image/png": "[encoded data removed]"
          },
          "metadata": {}
        },
        {
          "output_type": "stream",
          "name": "stdout",
          "text": [
            "\n",
            "Final Model Evaluation on Test Data:\n",
            "\u001b[1m140/140\u001b[0m \u001b[32m━━━━━━━━━━━━━━━━━━━━\u001b[0m\u001b[37m\u001b[0m \u001b[1m7s\u001b[0m 48ms/step - accuracy: 0.6373 - loss: 1.1545\n",
            "Test Accuracy: 63.46%\n",
            "Test Loss: 1.1474\n",
            "\u001b[1m140/140\u001b[0m \u001b[32m━━━━━━━━━━━━━━━━━━━━\u001b[0m\u001b[37m\u001b[0m \u001b[1m6s\u001b[0m 43ms/step\n",
            "\n",
            "Classification Report:\n",
            "              precision    recall  f1-score   support\n",
            "\n",
            "       angry       0.83      0.81      0.82       749\n",
            "     disgust       0.57      0.53      0.55       765\n",
            "        fear       0.60      0.59      0.60       793\n",
            "       happy       0.78      0.62      0.69       780\n",
            "     neutral       0.54      0.60      0.57       643\n",
            "         sad       0.53      0.66      0.59       736\n",
            "\n",
            "    accuracy                           0.63      4466\n",
            "   macro avg       0.64      0.63      0.64      4466\n",
            "weighted avg       0.64      0.63      0.64      4466\n",
            "\n",
            "\n",
            "Confusion Matrix:\n"
          ]
        },
        {
          "output_type": "display_data",
          "data": {
            "text/plain": [
              "<Figure size 1000x800 with 2 Axes>"
            ],
            "image/png": "[encoded data removed]"
          },
          "metadata": {}
        }
      ]
    },
    {
      "cell_type": "code",
      "source": [
        "# STEP 11: SAVE MODEL, SCALER, AND ENCODER\n",
        "# ==============================================================================\n",
        "print(\"\\nStep 11: Saving model architecture, weights, and preprocessing objects...\")\n",
        "\n",
        "# Save model architecture to JSON\n",
        "model_json = model.to_json()\n",
        "with open(\"cnn_model.json\", \"w\") as json_file:\n",
        "    json_file.write(model_json)\n",
        "\n",
        "# The best weights were already saved by the ModelCheckpoint callback as 'best_cnn_model.h5'\n",
        "print(\"Model architecture saved to cnn_model.json\")\n",
        "print(\"Best model weights saved to best_cnn_model.h5\")\n",
        "\n",
        "# Save the scaler and encoder using pickle\n",
        "with open('scaler.pickle', 'wb') as f:\n",
        "    pickle.dump(scaler, f)\n",
        "with open('encoder.pickle', 'wb') as f:\n",
        "    pickle.dump(encoder, f)\n",
        "\n",
        "print(\"Scaler saved to scaler.pickle\")\n",
        "print(\"Encoder saved to encoder.pickle\")"
      ],
      "metadata": {
        "colab": {
          "base_uri": "https://localhost:8080/"
        },
        "id": "fg5OJskCSQNF",
        "outputId": "99b326cb-5d8f-4ede-8016-eff2fc8a6251"
      },
      "execution_count": 19,
      "outputs": [
        {
          "output_type": "stream",
          "name": "stdout",
          "text": [
            "\n",
            "Step 11: Saving model architecture, weights, and preprocessing objects...\n",
            "Model architecture saved to cnn_model.json\n",
            "Best model weights saved to best_cnn_model.h5\n",
            "Scaler saved to scaler.pickle\n",
            "Encoder saved to encoder.pickle\n"
          ]
        }
      ]
    },
    {
      "cell_type": "code",
      "source": [
        "\n",
        "# ==============================================================================\n",
        "# STEP 12: CREATE A PREDICTION SCRIPT FOR NEW AUDIO\n",
        "# ==============================================================================\n",
        "print(\"\\nStep 12: Example prediction script for a new audio file.\")\n",
        "print(\"You can use this block to test single audio files in the future.\")\n",
        "\n",
        "# Define the prediction function\n",
        "def predict_emotion(audio_path):\n",
        "    # --- Load all necessary files ---\n",
        "    # Load model architecture\n",
        "    with open('cnn_model.json', 'r') as json_file:\n",
        "        loaded_model_json = json_file.read()\n",
        "    loaded_model = model_from_json(loaded_model_json)\n",
        "\n",
        "    # Load model weights\n",
        "    loaded_model.load_weights(\"best_cnn_model.h5\")\n",
        "\n",
        "    # Load scaler and encoder\n",
        "    with open('scaler.pickle', 'rb') as f:\n",
        "        scaler = pickle.load(f)\n",
        "    with open('encoder.pickle', 'rb') as f:\n",
        "        encoder = pickle.load(f)\n",
        "\n",
        "    # --- Feature Extraction for a single file ---\n",
        "    data, sr = librosa.load(audio_path, duration=2.5, offset=0.6)\n",
        "    features = extract_features(data, sr)\n",
        "    features = np.array(features).reshape(1, -1) # Reshape for scaler\n",
        "\n",
        "    # --- Scaling and Reshaping for model ---\n",
        "    scaled_features = scaler.transform(features)\n",
        "    final_features = np.expand_dims(scaled_features, axis=2)\n",
        "\n",
        "    # --- Prediction ---\n",
        "    prediction = loaded_model.predict(final_features)\n",
        "    predicted_label = encoder.inverse_transform(prediction)\n",
        "\n",
        "    return predicted_label[0][0]\n",
        "\n",
        "# --- USAGE EXAMPLE ---\n",
        "# Find a random file from your dataset to test the prediction script\n",
        "try:\n",
        "    test_file_path = data_path.Path.sample(1).iloc[0]\n",
        "    predicted_emotion = predict_emotion(test_file_path)\n",
        "\n",
        "    print(f\"\\n--- Prediction Test ---\")\n",
        "    print(f\"File Path: {test_file_path}\")\n",
        "    print(f\"Predicted Emotion: {predicted_emotion.upper()}\")\n",
        "\n",
        "except Exception as e:\n",
        "    print(f\"\\nCould not run prediction example. Error: {e}\")\n",
        "    print(\"Make sure your dataset path is correct and files are accessible.\")\n",
        "\n",
        "print(\"\\n\\n===== SCRIPT FINISHED =====\")"
      ],
      "metadata": {
        "colab": {
          "base_uri": "https://localhost:8080/"
        },
        "id": "j4c-sSasScGR",
        "outputId": "a50815f1-b338-44f5-bc3b-c04fbdf1df69"
      },
      "execution_count": 20,
      "outputs": [
        {
          "output_type": "stream",
          "name": "stdout",
          "text": [
            "\n",
            "Step 12: Example prediction script for a new audio file.\n",
            "You can use this block to test single audio files in the future.\n",
            "\u001b[1m1/1\u001b[0m \u001b[32m━━━━━━━━━━━━━━━━━━━━\u001b[0m\u001b[37m\u001b[0m \u001b[1m1s\u001b[0m 768ms/step\n",
            "\n",
            "--- Prediction Test ---\n",
            "File Path: /content/drive/MyDrive/AudioWAV/1013_TIE_FEA_XX.wav\n",
            "Predicted Emotion: FEAR\n",
            "\n",
            "\n",
            "===== SCRIPT FINISHED =====\n"
          ]
        }
      ]
    },
    {
      "cell_type": "code",
      "source": [
        "pip install tensorflow sounddevice librosa scikit-learn"
      ],
      "metadata": {
        "colab": {
          "base_uri": "https://localhost:8080/"
        },
        "id": "9gB5bnyPS5xO",
        "outputId": "a41f3f53-7a1a-460e-de5c-0a5d735fd894"
      },
      "execution_count": 21,
      "outputs": [
        {
          "output_type": "stream",
          "name": "stdout",
          "text": [
            "Requirement already satisfied: tensorflow in /usr/local/lib/python3.11/dist-packages (2.18.0)\n",
            "Collecting sounddevice\n",
            "  Downloading sounddevice-0.5.2-py3-none-any.whl.metadata (1.6 kB)\n",
            "Requirement already satisfied: librosa in /usr/local/lib/python3.11/dist-packages (0.11.0)\n",
            "Requirement already satisfied: scikit-learn in /usr/local/lib/python3.11/dist-packages (1.6.1)\n",
            "Requirement already satisfied: absl-py>=1.0.0 in /usr/local/lib/python3.11/dist-packages (from tensorflow) (1.4.0)\n",
            "Requirement already satisfied: astunparse>=1.6.0 in /usr/local/lib/python3.11/dist-packages (from tensorflow) (1.6.3)\n",
            "Requirement already satisfied: flatbuffers>=24.3.25 in /usr/local/lib/python3.11/dist-packages (from tensorflow) (25.2.10)\n",
            "Requirement already satisfied: gast!=0.5.0,!=0.5.1,!=0.5.2,>=0.2.1 in /usr/local/lib/python3.11/dist-packages (from tensorflow) (0.6.0)\n",
            "Requirement already satisfied: google-pasta>=0.1.1 in /usr/local/lib/python3.11/dist-packages (from tensorflow) (0.2.0)\n",
            "Requirement already satisfied: libclang>=13.0.0 in /usr/local/lib/python3.11/dist-packages (from tensorflow) (18.1.1)\n",
            "Requirement already satisfied: opt-einsum>=2.3.2 in /usr/local/lib/python3.11/dist-packages (from tensorflow) (3.4.0)\n",
            "Requirement already satisfied: packaging in /usr/local/lib/python3.11/dist-packages (from tensorflow) (25.0)\n",
            "Requirement already satisfied: protobuf!=4.21.0,!=4.21.1,!=4.21.2,!=4.21.3,!=4.21.4,!=4.21.5,<6.0.0dev,>=3.20.3 in /usr/local/lib/python3.11/dist-packages (from tensorflow) (5.29.5)\n",
            "Requirement already satisfied: requests<3,>=2.21.0 in /usr/local/lib/python3.11/dist-packages (from tensorflow) (2.32.3)\n",
            "Requirement already satisfied: setuptools in /usr/local/lib/python3.11/dist-packages (from tensorflow) (75.2.0)\n",
            "Requirement already satisfied: six>=1.12.0 in /usr/local/lib/python3.11/dist-packages (from tensorflow) (1.17.0)\n",
            "Requirement already satisfied: termcolor>=1.1.0 in /usr/local/lib/python3.11/dist-packages (from tensorflow) (3.1.0)\n",
            "Requirement already satisfied: typing-extensions>=3.6.6 in /usr/local/lib/python3.11/dist-packages (from tensorflow) (4.14.1)\n",
            "Requirement already satisfied: wrapt>=1.11.0 in /usr/local/lib/python3.11/dist-packages (from tensorflow) (1.17.2)\n",
            "Requirement already satisfied: grpcio<2.0,>=1.24.3 in /usr/local/lib/python3.11/dist-packages (from tensorflow) (1.73.1)\n",
            "Requirement already satisfied: tensorboard<2.19,>=2.18 in /usr/local/lib/python3.11/dist-packages (from tensorflow) (2.18.0)\n",
            "Requirement already satisfied: keras>=3.5.0 in /usr/local/lib/python3.11/dist-packages (from tensorflow) (3.8.0)\n",
            "Requirement already satisfied: numpy<2.1.0,>=1.26.0 in /usr/local/lib/python3.11/dist-packages (from tensorflow) (2.0.2)\n",
            "Requirement already satisfied: h5py>=3.11.0 in /usr/local/lib/python3.11/dist-packages (from tensorflow) (3.14.0)\n",
            "Requirement already satisfied: ml-dtypes<0.5.0,>=0.4.0 in /usr/local/lib/python3.11/dist-packages (from tensorflow) (0.4.1)\n",
            "Requirement already satisfied: tensorflow-io-gcs-filesystem>=0.23.1 in /usr/local/lib/python3.11/dist-packages (from tensorflow) (0.37.1)\n",
            "Requirement already satisfied: CFFI>=1.0 in /usr/local/lib/python3.11/dist-packages (from sounddevice) (1.17.1)\n",
            "Requirement already satisfied: audioread>=2.1.9 in /usr/local/lib/python3.11/dist-packages (from librosa) (3.0.1)\n",
            "Requirement already satisfied: numba>=0.51.0 in /usr/local/lib/python3.11/dist-packages (from librosa) (0.60.0)\n",
            "Requirement already satisfied: scipy>=1.6.0 in /usr/local/lib/python3.11/dist-packages (from librosa) (1.15.3)\n",
            "Requirement already satisfied: joblib>=1.0 in /usr/local/lib/python3.11/dist-packages (from librosa) (1.5.1)\n",
            "Requirement already satisfied: decorator>=4.3.0 in /usr/local/lib/python3.11/dist-packages (from librosa) (4.4.2)\n",
            "Requirement already satisfied: soundfile>=0.12.1 in /usr/local/lib/python3.11/dist-packages (from librosa) (0.13.1)\n",
            "Requirement already satisfied: pooch>=1.1 in /usr/local/lib/python3.11/dist-packages (from librosa) (1.8.2)\n",
            "Requirement already satisfied: soxr>=0.3.2 in /usr/local/lib/python3.11/dist-packages (from librosa) (0.5.0.post1)\n",
            "Requirement already satisfied: lazy_loader>=0.1 in /usr/local/lib/python3.11/dist-packages (from librosa) (0.4)\n",
            "Requirement already satisfied: msgpack>=1.0 in /usr/local/lib/python3.11/dist-packages (from librosa) (1.1.1)\n",
            "Requirement already satisfied: threadpoolctl>=3.1.0 in /usr/local/lib/python3.11/dist-packages (from scikit-learn) (3.6.0)\n",
            "Requirement already satisfied: wheel<1.0,>=0.23.0 in /usr/local/lib/python3.11/dist-packages (from astunparse>=1.6.0->tensorflow) (0.45.1)\n",
            "Requirement already satisfied: pycparser in /usr/local/lib/python3.11/dist-packages (from CFFI>=1.0->sounddevice) (2.22)\n",
            "Requirement already satisfied: rich in /usr/local/lib/python3.11/dist-packages (from keras>=3.5.0->tensorflow) (13.9.4)\n",
            "Requirement already satisfied: namex in /usr/local/lib/python3.11/dist-packages (from keras>=3.5.0->tensorflow) (0.1.0)\n",
            "Requirement already satisfied: optree in /usr/local/lib/python3.11/dist-packages (from keras>=3.5.0->tensorflow) (0.16.0)\n",
            "Requirement already satisfied: llvmlite<0.44,>=0.43.0dev0 in /usr/local/lib/python3.11/dist-packages (from numba>=0.51.0->librosa) (0.43.0)\n",
            "Requirement already satisfied: platformdirs>=2.5.0 in /usr/local/lib/python3.11/dist-packages (from pooch>=1.1->librosa) (4.3.8)\n",
            "Requirement already satisfied: charset-normalizer<4,>=2 in /usr/local/lib/python3.11/dist-packages (from requests<3,>=2.21.0->tensorflow) (3.4.2)\n",
            "Requirement already satisfied: idna<4,>=2.5 in /usr/local/lib/python3.11/dist-packages (from requests<3,>=2.21.0->tensorflow) (3.10)\n",
            "Requirement already satisfied: urllib3<3,>=1.21.1 in /usr/local/lib/python3.11/dist-packages (from requests<3,>=2.21.0->tensorflow) (2.4.0)\n",
            "Requirement already satisfied: certifi>=2017.4.17 in /usr/local/lib/python3.11/dist-packages (from requests<3,>=2.21.0->tensorflow) (2025.7.14)\n",
            "Requirement already satisfied: markdown>=2.6.8 in /usr/local/lib/python3.11/dist-packages (from tensorboard<2.19,>=2.18->tensorflow) (3.8.2)\n",
            "Requirement already satisfied: tensorboard-data-server<0.8.0,>=0.7.0 in /usr/local/lib/python3.11/dist-packages (from tensorboard<2.19,>=2.18->tensorflow) (0.7.2)\n",
            "Requirement already satisfied: werkzeug>=1.0.1 in /usr/local/lib/python3.11/dist-packages (from tensorboard<2.19,>=2.18->tensorflow) (3.1.3)\n",
            "Requirement already satisfied: MarkupSafe>=2.1.1 in /usr/local/lib/python3.11/dist-packages (from werkzeug>=1.0.1->tensorboard<2.19,>=2.18->tensorflow) (3.0.2)\n",
            "Requirement already satisfied: markdown-it-py>=2.2.0 in /usr/local/lib/python3.11/dist-packages (from rich->keras>=3.5.0->tensorflow) (3.0.0)\n",
            "Requirement already satisfied: pygments<3.0.0,>=2.13.0 in /usr/local/lib/python3.11/dist-packages (from rich->keras>=3.5.0->tensorflow) (2.19.2)\n",
            "Requirement already satisfied: mdurl~=0.1 in /usr/local/lib/python3.11/dist-packages (from markdown-it-py>=2.2.0->rich->keras>=3.5.0->tensorflow) (0.1.2)\n",
            "Downloading sounddevice-0.5.2-py3-none-any.whl (32 kB)\n",
            "Installing collected packages: sounddevice\n",
            "Successfully installed sounddevice-0.5.2\n"
          ]
        }
      ]
    },
    {
      "cell_type": "code",
      "source": [
        "# ==============================================================================\n",
        "# AI EMOTION COMPANION - CONTINUOUS PREDICTION AND RESPONSE\n",
        "# ==============================================================================\n",
        "from IPython.display import HTML, Audio, display\n",
        "from google.colab.output import eval_js\n",
        "from base64 import b64decode\n",
        "import numpy as np\n",
        "import pickle\n",
        "import random\n",
        "from tensorflow.keras.models import model_from_json\n",
        "import librosa\n",
        "import io\n",
        "import os\n",
        "\n",
        "# --- CONFIGURATION ---\n",
        "MODEL_JSON_PATH = \"cnn_model.json\"\n",
        "MODEL_WEIGHTS_PATH = \"best_cnn_model.h5\"\n",
        "SCALER_PATH = \"scaler.pickle\"\n",
        "ENCODER_PATH = \"encoder.pickle\"\n",
        "RECORDING_FILENAME = \"audio.wav\"\n",
        "\n",
        "# --- JAVASCRIPT FOR BROWSER-BASED AUDIO RECORDING (ROBUST VERSION) ---\n",
        "AUDIO_HTML = \"\"\"\n",
        "<script>\n",
        "var record = () => new Promise(async resolve => {\n",
        "  const div = document.createElement('div');\n",
        "  const startButton = document.createElement('button');\n",
        "  startButton.textContent = 'Start Recording';\n",
        "  div.appendChild(startButton);\n",
        "\n",
        "  const stopButton = document.createElement('button');\n",
        "  stopButton.textContent = 'Stop Recording';\n",
        "  stopButton.disabled = true;\n",
        "  div.appendChild(stopButton);\n",
        "\n",
        "  const audio = document.createElement('audio');\n",
        "  audio.controls = true;\n",
        "  div.appendChild(audio);\n",
        "\n",
        "  document.body.appendChild(div);\n",
        "\n",
        "  let recorder, stream;\n",
        "\n",
        "  startButton.onclick = async () => {\n",
        "    stream = await navigator.mediaDevices.getUserMedia({audio: true});\n",
        "    recorder = new MediaRecorder(stream);\n",
        "    let chunks = [];\n",
        "    recorder.ondataavailable = e => chunks.push(e.data);\n",
        "\n",
        "    recorder.onstop = e => {\n",
        "      const blob = new Blob(chunks, { 'type' : 'audio/ogg; codecs=opus' });\n",
        "      const audioURL = window.URL.createObjectURL(blob);\n",
        "      audio.src = audioURL;\n",
        "      const reader = new FileReader();\n",
        "      reader.readAsDataURL(blob);\n",
        "      reader.onloadend = () => resolve(reader.result);\n",
        "    };\n",
        "\n",
        "    recorder.start();\n",
        "    startButton.disabled = true;\n",
        "    stopButton.disabled = false;\n",
        "    startButton.textContent = 'Recording...';\n",
        "  };\n",
        "\n",
        "  stopButton.onclick = () => {\n",
        "    recorder.stop();\n",
        "    stream.getTracks().forEach(track => track.stop());\n",
        "    startButton.disabled = false;\n",
        "    stopButton.disabled = true;\n",
        "    startButton.textContent = 'Start New Recording';\n",
        "  };\n",
        "});\n",
        "</script>\n",
        "\"\"\"\n",
        "\n",
        "def get_audio():\n",
        "  \"\"\"Displays the HTML/JS for recording and returns the recorded audio file.\"\"\"\n",
        "  display(HTML(AUDIO_HTML))\n",
        "  data = eval_js(\"record()\")\n",
        "  if ',' not in data:\n",
        "      return None\n",
        "  binary = b64decode(data.split(',')[1])\n",
        "  with open(RECORDING_FILENAME, 'wb') as f:\n",
        "    f.write(binary)\n",
        "  return RECORDING_FILENAME\n",
        "\n",
        "# --- FEATURE EXTRACTION FUNCTION ---\n",
        "def extract_features(data, sr=22050):\n",
        "    result = np.array([])\n",
        "    zcr = np.mean(librosa.feature.zero_crossing_rate(y=data).T, axis=0)\n",
        "    result = np.hstack((result, zcr))\n",
        "    rms = np.mean(librosa.feature.rms(y=data).T, axis=0)\n",
        "    result = np.hstack((result, rms))\n",
        "    mfcc = np.mean(librosa.feature.mfcc(y=data, sr=sr, n_mfcc=13).T, axis=0)\n",
        "    result = np.hstack((result, mfcc))\n",
        "    mel = np.mean(librosa.feature.melspectrogram(y=data, sr=sr).T, axis=0)\n",
        "    result = np.hstack((result, mel))\n",
        "    return result\n",
        "\n",
        "# --- LOAD MODEL AND PREPROCESSORS ---\n",
        "try:\n",
        "    with open(MODEL_JSON_PATH, 'r') as json_file:\n",
        "        loaded_model_json = json_file.read()\n",
        "    model = model_from_json(loaded_model_json)\n",
        "    model.load_weights(MODEL_WEIGHTS_PATH)\n",
        "    with open(SCALER_PATH, 'rb') as f:\n",
        "        scaler = pickle.load(f)\n",
        "    with open(ENCODER_PATH, 'rb') as f:\n",
        "        encoder = pickle.load(f)\n",
        "    print(\"AI Emotion Companion is ready!\")\n",
        "except Exception as e:\n",
        "    print(f\"Error loading model files: {e}\")\n",
        "    model = None\n",
        "\n",
        "# --- DEFINE COMPANION RESPONSES ---\n",
        "sad_quotes = [\n",
        "    \"\\\"The way I see it, if you want the rainbow, you gotta put up with the rain.\\\" - Dolly Parton\",\n",
        "    \"\\\"It's okay not to be okay. Tough times don't last, but tough people do.\\\"\",\n",
        "    \"\\\"Every day may not be good, but there is something good in every day.\\\"\",\n",
        "    \"\\\"Believe you can and you're halfway there.\\\" - Theodore Roosevelt\"\n",
        "]\n",
        "\n",
        "response_map = {\n",
        "    'happy': \"That's wonderful! Your voice sounds full of joy. Keep that positive energy going!\",\n",
        "    'sad': sad_quotes, # This is a special case handled below\n",
        "    'angry': \"Your voice has a strong, intense energy. Remember to take a deep breath; it can make a world of difference.\",\n",
        "    'fear': \"I detected a sense of fear in your voice. Whatever you're facing, remember you are stronger than you think.\",\n",
        "    'disgust': \"That's a strong reaction! Your voice suggests you're not a fan of something.\",\n",
        "    'neutral': \"Your tone is calm and neutral. What's on your mind today?\"\n",
        "}\n",
        "\n",
        "# --- MAIN PREDICTION LOOP ---\n",
        "def run_emotion_companion():\n",
        "    if not model:\n",
        "        return\n",
        "\n",
        "    print(\"\\nThis session will run continuously. To stop, click the square 'Stop' button in the Colab cell menu.\")\n",
        "\n",
        "    try:\n",
        "        while True:\n",
        "            print(\"\\n----------------------------------------------------\")\n",
        "            print(\"Please record your voice using the buttons below:\")\n",
        "\n",
        "            audio_file = get_audio()\n",
        "\n",
        "            if not audio_file:\n",
        "                print(\"Recording failed. Please try again.\")\n",
        "                continue\n",
        "\n",
        "            # Process the audio and make a prediction\n",
        "            data, sr = librosa.load(audio_file, sr=22050)\n",
        "            features = extract_features(data)\n",
        "            features_reshaped = features.reshape(1, -1)\n",
        "            scaled_features = scaler.transform(features_reshaped)\n",
        "            final_features = np.expand_dims(scaled_features, axis=2)\n",
        "\n",
        "            prediction = model.predict(final_features, verbose=0)\n",
        "            predicted_label = encoder.inverse_transform(prediction)[0][0]\n",
        "\n",
        "            print(f\"\\n>>> PREDICTED EMOTION: {predicted_label.upper()} <<<\")\n",
        "\n",
        "            # Get and display the companion's response\n",
        "            if predicted_label.lower() == 'sad':\n",
        "                response = random.choice(response_map['sad'])\n",
        "            else:\n",
        "                response = response_map.get(predicted_label.lower(), \"I'm listening. Tell me more.\")\n",
        "\n",
        "            print(f\"\\nAI Companion: {response}\\n\")\n",
        "\n",
        "    except KeyboardInterrupt:\n",
        "        print(\"\\n\\nEmotion companion session ended. Have a great day!\")\n",
        "\n",
        "# Start the companion\n",
        "run_emotion_companion()"
      ],
      "metadata": {
        "colab": {
          "base_uri": "https://localhost:8080/",
          "height": 1000
        },
        "id": "VKOoiKVMVrUa",
        "outputId": "cc59775f-aa74-49e7-bf8e-0f2b49766d66"
      },
      "execution_count": null,
      "outputs": [
        {
          "output_type": "stream",
          "name": "stdout",
          "text": [
            "AI Emotion Companion is ready!\n",
            "\n",
            "This session will run continuously. To stop, click the square 'Stop' button in the Colab cell menu.\n",
            "\n",
            "----------------------------------------------------\n",
            "Please record your voice using the buttons below:\n"
          ]
        },
        {
          "output_type": "display_data",
          "data": {
            "text/plain": [
              "<IPython.core.display.HTML object>"
            ],
            "text/html": [
              "\n",
              "<script>\n",
              "var record = () => new Promise(async resolve => {\n",
              "  const div = document.createElement('div');\n",
              "  const startButton = document.createElement('button');\n",
              "  startButton.textContent = 'Start Recording';\n",
              "  div.appendChild(startButton);\n",
              "  \n",
              "  const stopButton = document.createElement('button');\n",
              "  stopButton.textContent = 'Stop Recording';\n",
              "  stopButton.disabled = true;\n",
              "  div.appendChild(stopButton);\n",
              "  \n",
              "  const audio = document.createElement('audio');\n",
              "  audio.controls = true;\n",
              "  div.appendChild(audio);\n",
              "  \n",
              "  document.body.appendChild(div);\n",
              "  \n",
              "  let recorder, stream;\n",
              "\n",
              "  startButton.onclick = async () => {\n",
              "    stream = await navigator.mediaDevices.getUserMedia({audio: true});\n",
              "    recorder = new MediaRecorder(stream);\n",
              "    let chunks = [];\n",
              "    recorder.ondataavailable = e => chunks.push(e.data);\n",
              "    \n",
              "    recorder.onstop = e => {\n",
              "      const blob = new Blob(chunks, { 'type' : 'audio/ogg; codecs=opus' });\n",
              "      const audioURL = window.URL.createObjectURL(blob);\n",
              "      audio.src = audioURL;\n",
              "      const reader = new FileReader();\n",
              "      reader.readAsDataURL(blob); \n",
              "      reader.onloadend = () => resolve(reader.result);\n",
              "    };\n",
              "    \n",
              "    recorder.start();\n",
              "    startButton.disabled = true;\n",
              "    stopButton.disabled = false;\n",
              "    startButton.textContent = 'Recording...';\n",
              "  };\n",
              "  \n",
              "  stopButton.onclick = () => {\n",
              "    recorder.stop();\n",
              "    stream.getTracks().forEach(track => track.stop());\n",
              "    startButton.disabled = false;\n",
              "    stopButton.disabled = true;\n",
              "    startButton.textContent = 'Start New Recording';\n",
              "  };\n",
              "});\n",
              "</script>\n"
            ]
          },
          "metadata": {}
        },
        {
          "output_type": "stream",
          "name": "stderr",
          "text": [
            "/tmp/ipython-input-25-2009617763.py:151: UserWarning: PySoundFile failed. Trying audioread instead.\n",
            "  data, sr = librosa.load(audio_file, sr=22050)\n",
            "/usr/local/lib/python3.11/dist-packages/librosa/core/audio.py:184: FutureWarning: librosa.core.audio.__audioread_load\n",
            "\tDeprecated as of librosa version 0.10.0.\n",
            "\tIt will be removed in librosa version 1.0.\n",
            "  y, sr_native = __audioread_load(path, offset, duration, dtype)\n",
            "WARNING:tensorflow:5 out of the last 143 calls to <function TensorFlowTrainer.make_predict_function.<locals>.one_step_on_data_distributed at 0x78b1fbb8ce00> triggered tf.function retracing. Tracing is expensive and the excessive number of tracings could be due to (1) creating @tf.function repeatedly in a loop, (2) passing tensors with different shapes, (3) passing Python objects instead of tensors. For (1), please define your @tf.function outside of the loop. For (2), @tf.function has reduce_retracing=True option that can avoid unnecessary retracing. For (3), please refer to https://www.tensorflow.org/guide/function#controlling_retracing and https://www.tensorflow.org/api_docs/python/tf/function for  more details.\n"
          ]
        },
        {
          "output_type": "stream",
          "name": "stdout",
          "text": [
            "\n",
            ">>> PREDICTED EMOTION: FEAR <<<\n",
            "\n",
            "AI Companion: I detected a sense of fear in your voice. Whatever you're facing, remember you are stronger than you think.\n",
            "\n",
            "\n",
            "----------------------------------------------------\n",
            "Please record your voice using the buttons below:\n"
          ]
        },
        {
          "output_type": "display_data",
          "data": {
            "text/plain": [
              "<IPython.core.display.HTML object>"
            ],
            "text/html": [
              "\n",
              "<script>\n",
              "var record = () => new Promise(async resolve => {\n",
              "  const div = document.createElement('div');\n",
              "  const startButton = document.createElement('button');\n",
              "  startButton.textContent = 'Start Recording';\n",
              "  div.appendChild(startButton);\n",
              "  \n",
              "  const stopButton = document.createElement('button');\n",
              "  stopButton.textContent = 'Stop Recording';\n",
              "  stopButton.disabled = true;\n",
              "  div.appendChild(stopButton);\n",
              "  \n",
              "  const audio = document.createElement('audio');\n",
              "  audio.controls = true;\n",
              "  div.appendChild(audio);\n",
              "  \n",
              "  document.body.appendChild(div);\n",
              "  \n",
              "  let recorder, stream;\n",
              "\n",
              "  startButton.onclick = async () => {\n",
              "    stream = await navigator.mediaDevices.getUserMedia({audio: true});\n",
              "    recorder = new MediaRecorder(stream);\n",
              "    let chunks = [];\n",
              "    recorder.ondataavailable = e => chunks.push(e.data);\n",
              "    \n",
              "    recorder.onstop = e => {\n",
              "      const blob = new Blob(chunks, { 'type' : 'audio/ogg; codecs=opus' });\n",
              "      const audioURL = window.URL.createObjectURL(blob);\n",
              "      audio.src = audioURL;\n",
              "      const reader = new FileReader();\n",
              "      reader.readAsDataURL(blob); \n",
              "      reader.onloadend = () => resolve(reader.result);\n",
              "    };\n",
              "    \n",
              "    recorder.start();\n",
              "    startButton.disabled = true;\n",
              "    stopButton.disabled = false;\n",
              "    startButton.textContent = 'Recording...';\n",
              "  };\n",
              "  \n",
              "  stopButton.onclick = () => {\n",
              "    recorder.stop();\n",
              "    stream.getTracks().forEach(track => track.stop());\n",
              "    startButton.disabled = false;\n",
              "    stopButton.disabled = true;\n",
              "    startButton.textContent = 'Start New Recording';\n",
              "  };\n",
              "});\n",
              "</script>\n"
            ]
          },
          "metadata": {}
        },
        {
          "output_type": "stream",
          "name": "stderr",
          "text": [
            "/tmp/ipython-input-25-2009617763.py:151: UserWarning: PySoundFile failed. Trying audioread instead.\n",
            "  data, sr = librosa.load(audio_file, sr=22050)\n",
            "/usr/local/lib/python3.11/dist-packages/librosa/core/audio.py:184: FutureWarning: librosa.core.audio.__audioread_load\n",
            "\tDeprecated as of librosa version 0.10.0.\n",
            "\tIt will be removed in librosa version 1.0.\n",
            "  y, sr_native = __audioread_load(path, offset, duration, dtype)\n"
          ]
        },
        {
          "output_type": "stream",
          "name": "stdout",
          "text": [
            "\n",
            ">>> PREDICTED EMOTION: HAPPY <<<\n",
            "\n",
            "AI Companion: That's wonderful! Your voice sounds full of joy. Keep that positive energy going!\n",
            "\n",
            "\n",
            "----------------------------------------------------\n",
            "Please record your voice using the buttons below:\n"
          ]
        },
        {
          "output_type": "display_data",
          "data": {
            "text/plain": [
              "<IPython.core.display.HTML object>"
            ],
            "text/html": [
              "\n",
              "<script>\n",
              "var record = () => new Promise(async resolve => {\n",
              "  const div = document.createElement('div');\n",
              "  const startButton = document.createElement('button');\n",
              "  startButton.textContent = 'Start Recording';\n",
              "  div.appendChild(startButton);\n",
              "  \n",
              "  const stopButton = document.createElement('button');\n",
              "  stopButton.textContent = 'Stop Recording';\n",
              "  stopButton.disabled = true;\n",
              "  div.appendChild(stopButton);\n",
              "  \n",
              "  const audio = document.createElement('audio');\n",
              "  audio.controls = true;\n",
              "  div.appendChild(audio);\n",
              "  \n",
              "  document.body.appendChild(div);\n",
              "  \n",
              "  let recorder, stream;\n",
              "\n",
              "  startButton.onclick = async () => {\n",
              "    stream = await navigator.mediaDevices.getUserMedia({audio: true});\n",
              "    recorder = new MediaRecorder(stream);\n",
              "    let chunks = [];\n",
              "    recorder.ondataavailable = e => chunks.push(e.data);\n",
              "    \n",
              "    recorder.onstop = e => {\n",
              "      const blob = new Blob(chunks, { 'type' : 'audio/ogg; codecs=opus' });\n",
              "      const audioURL = window.URL.createObjectURL(blob);\n",
              "      audio.src = audioURL;\n",
              "      const reader = new FileReader();\n",
              "      reader.readAsDataURL(blob); \n",
              "      reader.onloadend = () => resolve(reader.result);\n",
              "    };\n",
              "    \n",
              "    recorder.start();\n",
              "    startButton.disabled = true;\n",
              "    stopButton.disabled = false;\n",
              "    startButton.textContent = 'Recording...';\n",
              "  };\n",
              "  \n",
              "  stopButton.onclick = () => {\n",
              "    recorder.stop();\n",
              "    stream.getTracks().forEach(track => track.stop());\n",
              "    startButton.disabled = false;\n",
              "    stopButton.disabled = true;\n",
              "    startButton.textContent = 'Start New Recording';\n",
              "  };\n",
              "});\n",
              "</script>\n"
            ]
          },
          "metadata": {}
        },
        {
          "output_type": "stream",
          "name": "stderr",
          "text": [
            "/tmp/ipython-input-25-2009617763.py:151: UserWarning: PySoundFile failed. Trying audioread instead.\n",
            "  data, sr = librosa.load(audio_file, sr=22050)\n",
            "/usr/local/lib/python3.11/dist-packages/librosa/core/audio.py:184: FutureWarning: librosa.core.audio.__audioread_load\n",
            "\tDeprecated as of librosa version 0.10.0.\n",
            "\tIt will be removed in librosa version 1.0.\n",
            "  y, sr_native = __audioread_load(path, offset, duration, dtype)\n"
          ]
        },
        {
          "output_type": "stream",
          "name": "stdout",
          "text": [
            "\n",
            ">>> PREDICTED EMOTION: FEAR <<<\n",
            "\n",
            "AI Companion: I detected a sense of fear in your voice. Whatever you're facing, remember you are stronger than you think.\n",
            "\n",
            "\n",
            "----------------------------------------------------\n",
            "Please record your voice using the buttons below:\n"
          ]
        },
        {
          "output_type": "display_data",
          "data": {
            "text/plain": [
              "<IPython.core.display.HTML object>"
            ],
            "text/html": [
              "\n",
              "<script>\n",
              "var record = () => new Promise(async resolve => {\n",
              "  const div = document.createElement('div');\n",
              "  const startButton = document.createElement('button');\n",
              "  startButton.textContent = 'Start Recording';\n",
              "  div.appendChild(startButton);\n",
              "  \n",
              "  const stopButton = document.createElement('button');\n",
              "  stopButton.textContent = 'Stop Recording';\n",
              "  stopButton.disabled = true;\n",
              "  div.appendChild(stopButton);\n",
              "  \n",
              "  const audio = document.createElement('audio');\n",
              "  audio.controls = true;\n",
              "  div.appendChild(audio);\n",
              "  \n",
              "  document.body.appendChild(div);\n",
              "  \n",
              "  let recorder, stream;\n",
              "\n",
              "  startButton.onclick = async () => {\n",
              "    stream = await navigator.mediaDevices.getUserMedia({audio: true});\n",
              "    recorder = new MediaRecorder(stream);\n",
              "    let chunks = [];\n",
              "    recorder.ondataavailable = e => chunks.push(e.data);\n",
              "    \n",
              "    recorder.onstop = e => {\n",
              "      const blob = new Blob(chunks, { 'type' : 'audio/ogg; codecs=opus' });\n",
              "      const audioURL = window.URL.createObjectURL(blob);\n",
              "      audio.src = audioURL;\n",
              "      const reader = new FileReader();\n",
              "      reader.readAsDataURL(blob); \n",
              "      reader.onloadend = () => resolve(reader.result);\n",
              "    };\n",
              "    \n",
              "    recorder.start();\n",
              "    startButton.disabled = true;\n",
              "    stopButton.disabled = false;\n",
              "    startButton.textContent = 'Recording...';\n",
              "  };\n",
              "  \n",
              "  stopButton.onclick = () => {\n",
              "    recorder.stop();\n",
              "    stream.getTracks().forEach(track => track.stop());\n",
              "    startButton.disabled = false;\n",
              "    stopButton.disabled = true;\n",
              "    startButton.textContent = 'Start New Recording';\n",
              "  };\n",
              "});\n",
              "</script>\n"
            ]
          },
          "metadata": {}
        },
        {
          "output_type": "stream",
          "name": "stderr",
          "text": [
            "/tmp/ipython-input-25-2009617763.py:151: UserWarning: PySoundFile failed. Trying audioread instead.\n",
            "  data, sr = librosa.load(audio_file, sr=22050)\n",
            "/usr/local/lib/python3.11/dist-packages/librosa/core/audio.py:184: FutureWarning: librosa.core.audio.__audioread_load\n",
            "\tDeprecated as of librosa version 0.10.0.\n",
            "\tIt will be removed in librosa version 1.0.\n",
            "  y, sr_native = __audioread_load(path, offset, duration, dtype)\n"
          ]
        },
        {
          "output_type": "stream",
          "name": "stdout",
          "text": [
            "\n",
            ">>> PREDICTED EMOTION: FEAR <<<\n",
            "\n",
            "AI Companion: I detected a sense of fear in your voice. Whatever you're facing, remember you are stronger than you think.\n",
            "\n",
            "\n",
            "----------------------------------------------------\n",
            "Please record your voice using the buttons below:\n"
          ]
        },
        {
          "output_type": "display_data",
          "data": {
            "text/plain": [
              "<IPython.core.display.HTML object>"
            ],
            "text/html": [
              "\n",
              "<script>\n",
              "var record = () => new Promise(async resolve => {\n",
              "  const div = document.createElement('div');\n",
              "  const startButton = document.createElement('button');\n",
              "  startButton.textContent = 'Start Recording';\n",
              "  div.appendChild(startButton);\n",
              "  \n",
              "  const stopButton = document.createElement('button');\n",
              "  stopButton.textContent = 'Stop Recording';\n",
              "  stopButton.disabled = true;\n",
              "  div.appendChild(stopButton);\n",
              "  \n",
              "  const audio = document.createElement('audio');\n",
              "  audio.controls = true;\n",
              "  div.appendChild(audio);\n",
              "  \n",
              "  document.body.appendChild(div);\n",
              "  \n",
              "  let recorder, stream;\n",
              "\n",
              "  startButton.onclick = async () => {\n",
              "    stream = await navigator.mediaDevices.getUserMedia({audio: true});\n",
              "    recorder = new MediaRecorder(stream);\n",
              "    let chunks = [];\n",
              "    recorder.ondataavailable = e => chunks.push(e.data);\n",
              "    \n",
              "    recorder.onstop = e => {\n",
              "      const blob = new Blob(chunks, { 'type' : 'audio/ogg; codecs=opus' });\n",
              "      const audioURL = window.URL.createObjectURL(blob);\n",
              "      audio.src = audioURL;\n",
              "      const reader = new FileReader();\n",
              "      reader.readAsDataURL(blob); \n",
              "      reader.onloadend = () => resolve(reader.result);\n",
              "    };\n",
              "    \n",
              "    recorder.start();\n",
              "    startButton.disabled = true;\n",
              "    stopButton.disabled = false;\n",
              "    startButton.textContent = 'Recording...';\n",
              "  };\n",
              "  \n",
              "  stopButton.onclick = () => {\n",
              "    recorder.stop();\n",
              "    stream.getTracks().forEach(track => track.stop());\n",
              "    startButton.disabled = false;\n",
              "    stopButton.disabled = true;\n",
              "    startButton.textContent = 'Start New Recording';\n",
              "  };\n",
              "});\n",
              "</script>\n"
            ]
          },
          "metadata": {}
        },
        {
          "output_type": "stream",
          "name": "stderr",
          "text": [
            "/tmp/ipython-input-25-2009617763.py:151: UserWarning: PySoundFile failed. Trying audioread instead.\n",
            "  data, sr = librosa.load(audio_file, sr=22050)\n",
            "/usr/local/lib/python3.11/dist-packages/librosa/core/audio.py:184: FutureWarning: librosa.core.audio.__audioread_load\n",
            "\tDeprecated as of librosa version 0.10.0.\n",
            "\tIt will be removed in librosa version 1.0.\n",
            "  y, sr_native = __audioread_load(path, offset, duration, dtype)\n"
          ]
        },
        {
          "output_type": "stream",
          "name": "stdout",
          "text": [
            "\n",
            ">>> PREDICTED EMOTION: HAPPY <<<\n",
            "\n",
            "AI Companion: That's wonderful! Your voice sounds full of joy. Keep that positive energy going!\n",
            "\n",
            "\n",
            "----------------------------------------------------\n",
            "Please record your voice using the buttons below:\n"
          ]
        },
        {
          "output_type": "display_data",
          "data": {
            "text/plain": [
              "<IPython.core.display.HTML object>"
            ],
            "text/html": [
              "\n",
              "<script>\n",
              "var record = () => new Promise(async resolve => {\n",
              "  const div = document.createElement('div');\n",
              "  const startButton = document.createElement('button');\n",
              "  startButton.textContent = 'Start Recording';\n",
              "  div.appendChild(startButton);\n",
              "  \n",
              "  const stopButton = document.createElement('button');\n",
              "  stopButton.textContent = 'Stop Recording';\n",
              "  stopButton.disabled = true;\n",
              "  div.appendChild(stopButton);\n",
              "  \n",
              "  const audio = document.createElement('audio');\n",
              "  audio.controls = true;\n",
              "  div.appendChild(audio);\n",
              "  \n",
              "  document.body.appendChild(div);\n",
              "  \n",
              "  let recorder, stream;\n",
              "\n",
              "  startButton.onclick = async () => {\n",
              "    stream = await navigator.mediaDevices.getUserMedia({audio: true});\n",
              "    recorder = new MediaRecorder(stream);\n",
              "    let chunks = [];\n",
              "    recorder.ondataavailable = e => chunks.push(e.data);\n",
              "    \n",
              "    recorder.onstop = e => {\n",
              "      const blob = new Blob(chunks, { 'type' : 'audio/ogg; codecs=opus' });\n",
              "      const audioURL = window.URL.createObjectURL(blob);\n",
              "      audio.src = audioURL;\n",
              "      const reader = new FileReader();\n",
              "      reader.readAsDataURL(blob); \n",
              "      reader.onloadend = () => resolve(reader.result);\n",
              "    };\n",
              "    \n",
              "    recorder.start();\n",
              "    startButton.disabled = true;\n",
              "    stopButton.disabled = false;\n",
              "    startButton.textContent = 'Recording...';\n",
              "  };\n",
              "  \n",
              "  stopButton.onclick = () => {\n",
              "    recorder.stop();\n",
              "    stream.getTracks().forEach(track => track.stop());\n",
              "    startButton.disabled = false;\n",
              "    stopButton.disabled = true;\n",
              "    startButton.textContent = 'Start New Recording';\n",
              "  };\n",
              "});\n",
              "</script>\n"
            ]
          },
          "metadata": {}
        }
      ]
    }
  ]
}