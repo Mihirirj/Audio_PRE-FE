{
  "nbformat": 4,
  "nbformat_minor": 0,
  "metadata": {
    "colab": {
      "provenance": [],
      "authorship_tag": "ABX9TyNc4LwWs1tbeH+ThmuKR6vW",
      "include_colab_link": true
    },
    "kernelspec": {
      "name": "python3",
      "display_name": "Python 3"
    },
    "language_info": {
      "name": "python"
    }
  },
  "cells": [
    {
      "cell_type": "markdown",
      "metadata": {
        "id": "view-in-github",
        "colab_type": "text"
      },
      "source": [
        "<a href=\"https://colab.research.google.com/github/Mihirirj/Audio_PRE-FE/blob/main/Voice_Emo_Detection.ipynb\" target=\"_parent\"><img src=\"https://colab.research.google.com/assets/colab-badge.svg\" alt=\"Open In Colab\"/></a>"
      ]
    },
    {
      "cell_type": "code",
      "source": [
        "import pandas as pd\n",
        "import numpy as np\n",
        "import os\n",
        "import sys\n",
        "import pickle\n",
        "import timeit\n",
        "from tqdm import tqdm\n",
        "\n",
        "# Audio Processing\n",
        "import librosa\n",
        "import librosa.display\n",
        "\n",
        "# Visualization\n",
        "import seaborn as sns\n",
        "import matplotlib.pyplot as plt\n",
        "\n",
        "# Scikit-learn for Preprocessing and Metrics\n",
        "from sklearn.preprocessing import StandardScaler, OneHotEncoder\n",
        "from sklearn.model_selection import train_test_split\n",
        "from sklearn.metrics import confusion_matrix, classification_report\n",
        "\n",
        "# Keras / TensorFlow for Model Building\n",
        "import tensorflow as tf\n",
        "from tensorflow.keras.models import Sequential, model_from_json\n",
        "from tensorflow.keras.layers import (\n",
        "    Conv1D, MaxPooling1D, BatchNormalization, Dropout, Flatten, Dense,\n",
        "    LSTM, Reshape\n",
        ")\n",
        "from tensorflow.keras.preprocessing.sequence import pad_sequences\n",
        "from tensorflow.keras.callbacks import ModelCheckpoint, EarlyStopping, ReduceLROnPlateau\n",
        "\n",
        "\n",
        "import warnings\n",
        "if not sys.warnoptions:\n",
        "    warnings.simplefilter(\"ignore\")\n",
        "warnings.filterwarnings(\"ignore\", category=DeprecationWarning)\n",
        "\n",
        "\n",
        "try:\n",
        "    from google.colab import drive\n",
        "    print(\"Running in Google Colab. Installing dependencies.\")\n",
        "    !apt-get update -qq && apt-get install -y libsndfile1 -qq\n",
        "except ImportError:\n",
        "    print(\"Not running in Google Colab. Assuming dependencies are installed.\")\n",
        "\n",
        "\n",
        "print(\"Libraries imported and system ready.\")"
      ],
      "metadata": {
        "colab": {
          "base_uri": "https://localhost:8080/"
        },
        "id": "NUvYh62dDfdj",
        "outputId": "d5721263-f2a4-40ff-da50-fd5620d4cd32"
      },
      "execution_count": 1,
      "outputs": [
        {
          "output_type": "stream",
          "name": "stdout",
          "text": [
            "Running in Google Colab. Installing dependencies.\n",
            "W: Skipping acquire of configured file 'main/source/Sources' as repository 'https://r2u.stat.illinois.edu/ubuntu jammy InRelease' does not seem to provide it (sources.list entry misspelt?)\n",
            "Libraries imported and system ready.\n"
          ]
        }
      ]
    },
    {
      "cell_type": "code",
      "source": [
        "drive.mount('/content/drive')"
      ],
      "metadata": {
        "colab": {
          "base_uri": "https://localhost:8080/"
        },
        "id": "Tgo0-kKaDxqv",
        "outputId": "f9af8d39-e7f4-4c49-e98c-849cae25b02f"
      },
      "execution_count": 2,
      "outputs": [
        {
          "output_type": "stream",
          "name": "stdout",
          "text": [
            "Mounted at /content/drive\n"
          ]
        }
      ]
    },
    {
      "cell_type": "code",
      "source": [
        "try:\n",
        "    from google.colab import drive\n",
        "    drive.mount('/content/drive')\n",
        "\n",
        "    CREMA_D_PATH = \"/content/drive/MyDrive/AudioWAV/\"\n",
        "except ImportError:\n",
        "    print(\"Not in Colab. Set your local path for CREMA_D_PATH.\")\n",
        "\n",
        "    CREMA_D_PATH = \"./AudioWAV/\"\n",
        "\n",
        "if not os.path.exists(CREMA_D_PATH):\n",
        "    print(f\"ERROR: The path '{CREMA_D_PATH}' does not exist.\")\n",
        "    print(\"Please make sure you have the 'AudioWAV' folder and the path is correct.\")\n",
        "else:\n",
        "    print(\"Dataset path confirmed.\")"
      ],
      "metadata": {
        "colab": {
          "base_uri": "https://localhost:8080/"
        },
        "id": "njTVDtaiEjpv",
        "outputId": "f0b8d3d9-bc17-412d-861d-a06a9743a8b0"
      },
      "execution_count": 7,
      "outputs": [
        {
          "output_type": "stream",
          "name": "stdout",
          "text": [
            "Drive already mounted at /content/drive; to attempt to forcibly remount, call drive.mount(\"/content/drive\", force_remount=True).\n",
            "Dataset path confirmed.\n"
          ]
        }
      ]
    },
    {
      "cell_type": "code",
      "source": [
        "crema_directory_list = os.listdir(CREMA_D_PATH)\n",
        "\n",
        "file_emotion = []\n",
        "file_path = []\n",
        "\n",
        "for file in crema_directory_list:\n",
        "\n",
        "    if file.endswith('.wav'):\n",
        "        file_path.append(os.path.join(CREMA_D_PATH, file))\n",
        "        part = file.split('_')\n",
        "        if part[2] == 'SAD':\n",
        "            file_emotion.append('sad')\n",
        "        elif part[2] == 'ANG':\n",
        "            file_emotion.append('angry')\n",
        "        elif part[2] == 'DIS':\n",
        "            file_emotion.append('disgust')\n",
        "        elif part[2] == 'FEA':\n",
        "            file_emotion.append('fear')\n",
        "        elif part[2] == 'HAP':\n",
        "            file_emotion.append('happy')\n",
        "        elif part[2] == 'NEU':\n",
        "            file_emotion.append('neutral')\n",
        "        else:\n",
        "            file_emotion.append('Unknown')\n",
        "\n",
        "emotion_df = pd.DataFrame(file_emotion, columns=['Emotions'])\n",
        "path_df = pd.DataFrame(file_path, columns=['Path'])\n",
        "data_path = pd.concat([emotion_df, path_df], axis=1)\n",
        "\n",
        "print(\"CREMA-D DataFrame created successfully.\")\n",
        "print(\"Emotion Counts:\")\n",
        "print(data_path['Emotions'].value_counts())"
      ],
      "metadata": {
        "colab": {
          "base_uri": "https://localhost:8080/"
        },
        "id": "hcF6W5m2Etxx",
        "outputId": "53adb30b-b9ca-4a68-bfa1-d4fa56e77de2"
      },
      "execution_count": 8,
      "outputs": [
        {
          "output_type": "stream",
          "name": "stdout",
          "text": [
            "CREMA-D DataFrame created successfully.\n",
            "Emotion Counts:\n",
            "Emotions\n",
            "fear       1271\n",
            "disgust    1271\n",
            "sad        1271\n",
            "happy      1271\n",
            "angry      1271\n",
            "neutral    1087\n",
            "Name: count, dtype: int64\n"
          ]
        }
      ]
    },
    {
      "cell_type": "code",
      "source": [
        "plt.figure(figsize=(10, 5))\n",
        "plt.title('Count of Emotions in CREMA-D Dataset', size=16)\n",
        "sns.countplot(x=data_path.Emotions)\n",
        "plt.ylabel('Count', size=12)\n",
        "plt.xlabel('Emotions', size=12)\n",
        "sns.despine(top=True, right=True, left=False, bottom=False)\n",
        "plt.show()\n"
      ],
      "metadata": {
        "colab": {
          "base_uri": "https://localhost:8080/",
          "height": 493
        },
        "id": "7HOysvM9E5UF",
        "outputId": "b0040100-fcd0-4fb6-c1b9-befe8e7f52ee"
      },
      "execution_count": 9,
      "outputs": [
        {
          "output_type": "display_data",
          "data": {
            "text/plain": [
              "<Figure size 1000x500 with 1 Axes>"
            ],
            "image/png": "[encoded data removed]"
          },
          "metadata": {}
        }
      ]
    },
    {
      "cell_type": "code",
      "source": [
        "\n",
        "def noise(data):\n",
        "\n",
        "    noise_amp = 0.035 * np.random.uniform() * np.amax(data)\n",
        "    data = data + noise_amp * np.random.normal(size=data.shape[0])\n",
        "    return data\n",
        "\n",
        "def pitch(data, sampling_rate, pitch_factor=0.7):\n",
        "\n",
        "    return librosa.effects.pitch_shift(data, sr=sampling_rate, n_steps=pitch_factor)\n",
        "\n",
        "def stretch(data, rate=0.8):\n",
        "    return librosa.effects.time_stretch(data, rate=rate)\n",
        "\n",
        "\n",
        "def extract_features_sequential(data, sr=22050, n_mfcc=40):\n",
        "    mfccs = librosa.feature.mfcc(y=data, sr=sr, n_mfcc=n_mfcc)\n",
        "\n",
        "    return mfccs.T\n",
        "\n",
        "def get_features_with_augmentation_sequential(path):\n",
        "\n",
        "\n",
        "    data, sr = librosa.load(path, duration=2.5, offset=0.6)\n",
        "\n",
        "    #  Original Features\n",
        "    res1 = extract_features_sequential(data, sr)\n",
        "    #  Noise-Augmented Features\n",
        "    noise_data = noise(data)\n",
        "    res2 = extract_features_sequential(noise_data, sr)\n",
        "    # Pitch-Augmented Features\n",
        "    pitch_data = pitch(data, sr)\n",
        "    res3 = extract_features_sequential(pitch_data, sr)\n",
        "    #  Stretch-Augmented Features\n",
        "    stretch_data = stretch(data)\n",
        "    res4 = extract_features_sequential(stretch_data, sr)\n",
        "\n",
        "    return [res1, res2, res3, res4]\n",
        "\n",
        "print(\"Functions for feature extraction and augmentation are defined.\")"
      ],
      "metadata": {
        "colab": {
          "base_uri": "https://localhost:8080/"
        },
        "id": "OTgAGToTE7Vy",
        "outputId": "6c205a16-b067-440e-cf1c-c1af72a55349"
      },
      "execution_count": 10,
      "outputs": [
        {
          "output_type": "stream",
          "name": "stdout",
          "text": [
            "Functions for feature extraction and augmentation are defined.\n"
          ]
        }
      ]
    },
    {
      "cell_type": "code",
      "source": [
        "start_time = timeit.default_timer()\n",
        "X_seq, Y_seq = [], []\n",
        "for path, emotion in tqdm(zip(data_path.Path, data_path.Emotions), total=len(data_path)):\n",
        "    try:\n",
        "\n",
        "        feature_list = get_features_with_augmentation_sequential(path)\n",
        "        for features in feature_list:\n",
        "            X_seq.append(features)\n",
        "\n",
        "            Y_seq.append(emotion)\n",
        "    except Exception as e:\n",
        "        print(f\"Error processing {path}: {e}\")\n",
        "\n",
        "\n",
        "max_len = max([len(x) for x in X_seq])\n",
        "print(f\"\\nMaximum sequence length found: {max_len}\")\n",
        "\n",
        "X_padded = pad_sequences(X_seq, maxlen=max_len, padding='post', dtype='float32')\n",
        "\n",
        "stop_time = timeit.default_timer()\n",
        "print(f'Feature extraction and padding completed in: {stop_time - start_time:.2f}s')\n",
        "\n",
        "\n",
        "np.save('X_padded_features.npy', X_padded)\n",
        "np.save('Y_labels.npy', np.array(Y_seq))\n",
        "with open('max_len.txt', 'w') as f:\n",
        "    f.write(str(max_len))\n",
        "\n",
        "print(\"Sequential features and labels saved to '.npy' files.\")\n",
        "print(\"Max sequence length saved to 'max_len.txt'\")"
      ],
      "metadata": {
        "colab": {
          "base_uri": "https://localhost:8080/"
        },
        "id": "MdmH2mxyFUrv",
        "outputId": "d19f9fcd-8881-42a1-ad70-504657515253"
      },
      "execution_count": 11,
      "outputs": [
        {
          "output_type": "stream",
          "name": "stderr",
          "text": [
            "100%|██████████| 7442/7442 [54:26<00:00,  2.28it/s]\n"
          ]
        },
        {
          "output_type": "stream",
          "name": "stdout",
          "text": [
            "\n",
            "Maximum sequence length found: 135\n",
            "Feature extraction and padding completed in: 3267.34s\n",
            "Sequential features and labels saved to '.npy' files.\n",
            "Max sequence length saved to 'max_len.txt'\n"
          ]
        }
      ]
    },
    {
      "cell_type": "code",
      "source": [
        "\n",
        "\n",
        "X = np.load('X_padded_features.npy')\n",
        "Y = np.load('Y_labels.npy')\n",
        "\n",
        "\n",
        "encoder = OneHotEncoder()\n",
        "Y = encoder.fit_transform(np.array(Y).reshape(-1, 1)).toarray()\n",
        "\n",
        "\n",
        "x_train, x_test, y_train, y_test = train_test_split(X, Y, random_state=42, test_size=0.2, shuffle=True)\n",
        "\n",
        "scaler = StandardScaler()\n",
        "x_train_2d = x_train.reshape(x_train.shape[0], -1)\n",
        "x_train_scaled_2d = scaler.fit_transform(x_train_2d)\n",
        "x_train = x_train_scaled_2d.reshape(x_train.shape)\n",
        "\n",
        "x_test_2d = x_test.reshape(x_test.shape[0], -1)\n",
        "x_test_scaled_2d = scaler.transform(x_test_2d)\n",
        "x_test = x_test_scaled_2d.reshape(x_test.shape)\n",
        "\n",
        "print(f\"Data shapes after splitting and scaling: \\nx_train: {x_train.shape}\\ny_train: {y_train.shape}\\nx_test: {x_test.shape}\\ny_test: {y_test.shape}\")"
      ],
      "metadata": {
        "colab": {
          "base_uri": "https://localhost:8080/"
        },
        "id": "qE_POdRxSfho",
        "outputId": "5ae08be0-5eb6-41e9-ce96-f14fe95ba549"
      },
      "execution_count": 12,
      "outputs": [
        {
          "output_type": "stream",
          "name": "stdout",
          "text": [
            "Data shapes after splitting and scaling: \n",
            "x_train: (23814, 135, 40)\n",
            "y_train: (23814, 6)\n",
            "x_test: (5954, 135, 40)\n",
            "y_test: (5954, 6)\n"
          ]
        }
      ]
    },
    {
      "cell_type": "code",
      "source": [
        "\n",
        "input_shape = (x_train.shape[1], x_train.shape[2])\n",
        "\n",
        "model = Sequential()\n",
        "\n",
        "model.add(Conv1D(256, kernel_size=5, strides=1, padding='same', activation='relu', input_shape=input_shape))\n",
        "model.add(BatchNormalization())\n",
        "model.add(MaxPooling1D(pool_size=5, strides=2, padding='same'))\n",
        "\n",
        "model.add(Conv1D(128, kernel_size=5, strides=1, padding='same', activation='relu'))\n",
        "model.add(BatchNormalization())\n",
        "model.add(MaxPooling1D(pool_size=5, strides=2, padding='same'))\n",
        "model.add(Dropout(0.3))\n",
        "\n",
        "model.add(Conv1D(64, kernel_size=3, strides=1, padding='same', activation='relu'))\n",
        "model.add(BatchNormalization())\n",
        "model.add(MaxPooling1D(pool_size=5, strides=2, padding='same'))\n",
        "\n",
        "\n",
        "model.add(LSTM(64))\n",
        "model.add(Dropout(0.3))\n",
        "\n",
        "\n",
        "model.add(Dense(64, activation='relu'))\n",
        "model.add(BatchNormalization())\n",
        "\n",
        "\n",
        "model.add(Dense(y_train.shape[1], activation='softmax'))\n",
        "\n",
        "# Compile the model\n",
        "model.compile(optimizer='adam', loss='categorical_crossentropy', metrics=['accuracy'])\n",
        "model.summary()"
      ],
      "metadata": {
        "colab": {
          "base_uri": "https://localhost:8080/",
          "height": 729
        },
        "id": "o_qpDFpwSzrI",
        "outputId": "dcbf92f3-22c0-4c11-a0fa-b6665e147894"
      },
      "execution_count": 13,
      "outputs": [
        {
          "output_type": "stream",
          "name": "stderr",
          "text": [
            "/usr/local/lib/python3.11/dist-packages/keras/src/layers/convolutional/base_conv.py:107: UserWarning: Do not pass an `input_shape`/`input_dim` argument to a layer. When using Sequential models, prefer using an `Input(shape)` object as the first layer in the model instead.\n",
            "  super().__init__(activity_regularizer=activity_regularizer, **kwargs)\n"
          ]
        },
        {
          "output_type": "display_data",
          "data": {
            "text/plain": [
              "\u001b[1mModel: \"sequential\"\u001b[0m\n"
            ],
            "text/html": [
              "<pre style=\"white-space:pre;overflow-x:auto;line-height:normal;font-family:Menlo,'DejaVu Sans Mono',consolas,'Courier New',monospace\"><span style=\"font-weight: bold\">Model: \"sequential\"</span>\n",
              "</pre>\n"
            ]
          },
          "metadata": {}
        },
        {
          "output_type": "display_data",
          "data": {
            "text/plain": [
              "┏━━━━━━━━━━━━━━━━━━━━━━━━━━━━━━━━━┳━━━━━━━━━━━━━━━━━━━━━━━━┳━━━━━━━━━━━━━━━┓\n",
              "┃\u001b[1m \u001b[0m\u001b[1mLayer (type)                   \u001b[0m\u001b[1m \u001b[0m┃\u001b[1m \u001b[0m\u001b[1mOutput Shape          \u001b[0m\u001b[1m \u001b[0m┃\u001b[1m \u001b[0m\u001b[1m      Param #\u001b[0m\u001b[1m \u001b[0m┃\n",
              "┡━━━━━━━━━━━━━━━━━━━━━━━━━━━━━━━━━╇━━━━━━━━━━━━━━━━━━━━━━━━╇━━━━━━━━━━━━━━━┩\n",
              "│ conv1d (\u001b[38;5;33mConv1D\u001b[0m)                 │ (\u001b[38;5;45mNone\u001b[0m, \u001b[38;5;34m135\u001b[0m, \u001b[38;5;34m256\u001b[0m)       │        \u001b[38;5;34m51,456\u001b[0m │\n",
              "├─────────────────────────────────┼────────────────────────┼───────────────┤\n",
              "│ batch_normalization             │ (\u001b[38;5;45mNone\u001b[0m, \u001b[38;5;34m135\u001b[0m, \u001b[38;5;34m256\u001b[0m)       │         \u001b[38;5;34m1,024\u001b[0m │\n",
              "│ (\u001b[38;5;33mBatchNormalization\u001b[0m)            │                        │               │\n",
              "├─────────────────────────────────┼────────────────────────┼───────────────┤\n",
              "│ max_pooling1d (\u001b[38;5;33mMaxPooling1D\u001b[0m)    │ (\u001b[38;5;45mNone\u001b[0m, \u001b[38;5;34m68\u001b[0m, \u001b[38;5;34m256\u001b[0m)        │             \u001b[38;5;34m0\u001b[0m │\n",
              "├─────────────────────────────────┼────────────────────────┼───────────────┤\n",
              "│ conv1d_1 (\u001b[38;5;33mConv1D\u001b[0m)               │ (\u001b[38;5;45mNone\u001b[0m, \u001b[38;5;34m68\u001b[0m, \u001b[38;5;34m128\u001b[0m)        │       \u001b[38;5;34m163,968\u001b[0m │\n",
              "├─────────────────────────────────┼────────────────────────┼───────────────┤\n",
              "│ batch_normalization_1           │ (\u001b[38;5;45mNone\u001b[0m, \u001b[38;5;34m68\u001b[0m, \u001b[38;5;34m128\u001b[0m)        │           \u001b[38;5;34m512\u001b[0m │\n",
              "│ (\u001b[38;5;33mBatchNormalization\u001b[0m)            │                        │               │\n",
              "├─────────────────────────────────┼────────────────────────┼───────────────┤\n",
              "│ max_pooling1d_1 (\u001b[38;5;33mMaxPooling1D\u001b[0m)  │ (\u001b[38;5;45mNone\u001b[0m, \u001b[38;5;34m34\u001b[0m, \u001b[38;5;34m128\u001b[0m)        │             \u001b[38;5;34m0\u001b[0m │\n",
              "├─────────────────────────────────┼────────────────────────┼───────────────┤\n",
              "│ dropout (\u001b[38;5;33mDropout\u001b[0m)               │ (\u001b[38;5;45mNone\u001b[0m, \u001b[38;5;34m34\u001b[0m, \u001b[38;5;34m128\u001b[0m)        │             \u001b[38;5;34m0\u001b[0m │\n",
              "├─────────────────────────────────┼────────────────────────┼───────────────┤\n",
              "│ conv1d_2 (\u001b[38;5;33mConv1D\u001b[0m)               │ (\u001b[38;5;45mNone\u001b[0m, \u001b[38;5;34m34\u001b[0m, \u001b[38;5;34m64\u001b[0m)         │        \u001b[38;5;34m24,640\u001b[0m │\n",
              "├─────────────────────────────────┼────────────────────────┼───────────────┤\n",
              "│ batch_normalization_2           │ (\u001b[38;5;45mNone\u001b[0m, \u001b[38;5;34m34\u001b[0m, \u001b[38;5;34m64\u001b[0m)         │           \u001b[38;5;34m256\u001b[0m │\n",
              "│ (\u001b[38;5;33mBatchNormalization\u001b[0m)            │                        │               │\n",
              "├─────────────────────────────────┼────────────────────────┼───────────────┤\n",
              "│ max_pooling1d_2 (\u001b[38;5;33mMaxPooling1D\u001b[0m)  │ (\u001b[38;5;45mNone\u001b[0m, \u001b[38;5;34m17\u001b[0m, \u001b[38;5;34m64\u001b[0m)         │             \u001b[38;5;34m0\u001b[0m │\n",
              "├─────────────────────────────────┼────────────────────────┼───────────────┤\n",
              "│ lstm (\u001b[38;5;33mLSTM\u001b[0m)                     │ (\u001b[38;5;45mNone\u001b[0m, \u001b[38;5;34m64\u001b[0m)             │        \u001b[38;5;34m33,024\u001b[0m │\n",
              "├─────────────────────────────────┼────────────────────────┼───────────────┤\n",
              "│ dropout_1 (\u001b[38;5;33mDropout\u001b[0m)             │ (\u001b[38;5;45mNone\u001b[0m, \u001b[38;5;34m64\u001b[0m)             │             \u001b[38;5;34m0\u001b[0m │\n",
              "├─────────────────────────────────┼────────────────────────┼───────────────┤\n",
              "│ dense (\u001b[38;5;33mDense\u001b[0m)                   │ (\u001b[38;5;45mNone\u001b[0m, \u001b[38;5;34m64\u001b[0m)             │         \u001b[38;5;34m4,160\u001b[0m │\n",
              "├─────────────────────────────────┼────────────────────────┼───────────────┤\n",
              "│ batch_normalization_3           │ (\u001b[38;5;45mNone\u001b[0m, \u001b[38;5;34m64\u001b[0m)             │           \u001b[38;5;34m256\u001b[0m │\n",
              "│ (\u001b[38;5;33mBatchNormalization\u001b[0m)            │                        │               │\n",
              "├─────────────────────────────────┼────────────────────────┼───────────────┤\n",
              "│ dense_1 (\u001b[38;5;33mDense\u001b[0m)                 │ (\u001b[38;5;45mNone\u001b[0m, \u001b[38;5;34m6\u001b[0m)              │           \u001b[38;5;34m390\u001b[0m │\n",
              "└─────────────────────────────────┴────────────────────────┴───────────────┘\n"
            ],
            "text/html": [
              "<pre style=\"white-space:pre;overflow-x:auto;line-height:normal;font-family:Menlo,'DejaVu Sans Mono',consolas,'Courier New',monospace\">┏━━━━━━━━━━━━━━━━━━━━━━━━━━━━━━━━━┳━━━━━━━━━━━━━━━━━━━━━━━━┳━━━━━━━━━━━━━━━┓\n",
              "┃<span style=\"font-weight: bold\"> Layer (type)                    </span>┃<span style=\"font-weight: bold\"> Output Shape           </span>┃<span style=\"font-weight: bold\">       Param # </span>┃\n",
              "┡━━━━━━━━━━━━━━━━━━━━━━━━━━━━━━━━━╇━━━━━━━━━━━━━━━━━━━━━━━━╇━━━━━━━━━━━━━━━┩\n",
              "│ conv1d (<span style=\"color: #0087ff; text-decoration-color: #0087ff\">Conv1D</span>)                 │ (<span style=\"color: #00d7ff; text-decoration-color: #00d7ff\">None</span>, <span style=\"color: #00af00; text-decoration-color: #00af00\">135</span>, <span style=\"color: #00af00; text-decoration-color: #00af00\">256</span>)       │        <span style=\"color: #00af00; text-decoration-color: #00af00\">51,456</span> │\n",
              "├─────────────────────────────────┼────────────────────────┼───────────────┤\n",
              "│ batch_normalization             │ (<span style=\"color: #00d7ff; text-decoration-color: #00d7ff\">None</span>, <span style=\"color: #00af00; text-decoration-color: #00af00\">135</span>, <span style=\"color: #00af00; text-decoration-color: #00af00\">256</span>)       │         <span style=\"color: #00af00; text-decoration-color: #00af00\">1,024</span> │\n",
              "│ (<span style=\"color: #0087ff; text-decoration-color: #0087ff\">BatchNormalization</span>)            │                        │               │\n",
              "├─────────────────────────────────┼────────────────────────┼───────────────┤\n",
              "│ max_pooling1d (<span style=\"color: #0087ff; text-decoration-color: #0087ff\">MaxPooling1D</span>)    │ (<span style=\"color: #00d7ff; text-decoration-color: #00d7ff\">None</span>, <span style=\"color: #00af00; text-decoration-color: #00af00\">68</span>, <span style=\"color: #00af00; text-decoration-color: #00af00\">256</span>)        │             <span style=\"color: #00af00; text-decoration-color: #00af00\">0</span> │\n",
              "├─────────────────────────────────┼────────────────────────┼───────────────┤\n",
              "│ conv1d_1 (<span style=\"color: #0087ff; text-decoration-color: #0087ff\">Conv1D</span>)               │ (<span style=\"color: #00d7ff; text-decoration-color: #00d7ff\">None</span>, <span style=\"color: #00af00; text-decoration-color: #00af00\">68</span>, <span style=\"color: #00af00; text-decoration-color: #00af00\">128</span>)        │       <span style=\"color: #00af00; text-decoration-color: #00af00\">163,968</span> │\n",
              "├─────────────────────────────────┼────────────────────────┼───────────────┤\n",
              "│ batch_normalization_1           │ (<span style=\"color: #00d7ff; text-decoration-color: #00d7ff\">None</span>, <span style=\"color: #00af00; text-decoration-color: #00af00\">68</span>, <span style=\"color: #00af00; text-decoration-color: #00af00\">128</span>)        │           <span style=\"color: #00af00; text-decoration-color: #00af00\">512</span> │\n",
              "│ (<span style=\"color: #0087ff; text-decoration-color: #0087ff\">BatchNormalization</span>)            │                        │               │\n",
              "├─────────────────────────────────┼────────────────────────┼───────────────┤\n",
              "│ max_pooling1d_1 (<span style=\"color: #0087ff; text-decoration-color: #0087ff\">MaxPooling1D</span>)  │ (<span style=\"color: #00d7ff; text-decoration-color: #00d7ff\">None</span>, <span style=\"color: #00af00; text-decoration-color: #00af00\">34</span>, <span style=\"color: #00af00; text-decoration-color: #00af00\">128</span>)        │             <span style=\"color: #00af00; text-decoration-color: #00af00\">0</span> │\n",
              "├─────────────────────────────────┼────────────────────────┼───────────────┤\n",
              "│ dropout (<span style=\"color: #0087ff; text-decoration-color: #0087ff\">Dropout</span>)               │ (<span style=\"color: #00d7ff; text-decoration-color: #00d7ff\">None</span>, <span style=\"color: #00af00; text-decoration-color: #00af00\">34</span>, <span style=\"color: #00af00; text-decoration-color: #00af00\">128</span>)        │             <span style=\"color: #00af00; text-decoration-color: #00af00\">0</span> │\n",
              "├─────────────────────────────────┼────────────────────────┼───────────────┤\n",
              "│ conv1d_2 (<span style=\"color: #0087ff; text-decoration-color: #0087ff\">Conv1D</span>)               │ (<span style=\"color: #00d7ff; text-decoration-color: #00d7ff\">None</span>, <span style=\"color: #00af00; text-decoration-color: #00af00\">34</span>, <span style=\"color: #00af00; text-decoration-color: #00af00\">64</span>)         │        <span style=\"color: #00af00; text-decoration-color: #00af00\">24,640</span> │\n",
              "├─────────────────────────────────┼────────────────────────┼───────────────┤\n",
              "│ batch_normalization_2           │ (<span style=\"color: #00d7ff; text-decoration-color: #00d7ff\">None</span>, <span style=\"color: #00af00; text-decoration-color: #00af00\">34</span>, <span style=\"color: #00af00; text-decoration-color: #00af00\">64</span>)         │           <span style=\"color: #00af00; text-decoration-color: #00af00\">256</span> │\n",
              "│ (<span style=\"color: #0087ff; text-decoration-color: #0087ff\">BatchNormalization</span>)            │                        │               │\n",
              "├─────────────────────────────────┼────────────────────────┼───────────────┤\n",
              "│ max_pooling1d_2 (<span style=\"color: #0087ff; text-decoration-color: #0087ff\">MaxPooling1D</span>)  │ (<span style=\"color: #00d7ff; text-decoration-color: #00d7ff\">None</span>, <span style=\"color: #00af00; text-decoration-color: #00af00\">17</span>, <span style=\"color: #00af00; text-decoration-color: #00af00\">64</span>)         │             <span style=\"color: #00af00; text-decoration-color: #00af00\">0</span> │\n",
              "├─────────────────────────────────┼────────────────────────┼───────────────┤\n",
              "│ lstm (<span style=\"color: #0087ff; text-decoration-color: #0087ff\">LSTM</span>)                     │ (<span style=\"color: #00d7ff; text-decoration-color: #00d7ff\">None</span>, <span style=\"color: #00af00; text-decoration-color: #00af00\">64</span>)             │        <span style=\"color: #00af00; text-decoration-color: #00af00\">33,024</span> │\n",
              "├─────────────────────────────────┼────────────────────────┼───────────────┤\n",
              "│ dropout_1 (<span style=\"color: #0087ff; text-decoration-color: #0087ff\">Dropout</span>)             │ (<span style=\"color: #00d7ff; text-decoration-color: #00d7ff\">None</span>, <span style=\"color: #00af00; text-decoration-color: #00af00\">64</span>)             │             <span style=\"color: #00af00; text-decoration-color: #00af00\">0</span> │\n",
              "├─────────────────────────────────┼────────────────────────┼───────────────┤\n",
              "│ dense (<span style=\"color: #0087ff; text-decoration-color: #0087ff\">Dense</span>)                   │ (<span style=\"color: #00d7ff; text-decoration-color: #00d7ff\">None</span>, <span style=\"color: #00af00; text-decoration-color: #00af00\">64</span>)             │         <span style=\"color: #00af00; text-decoration-color: #00af00\">4,160</span> │\n",
              "├─────────────────────────────────┼────────────────────────┼───────────────┤\n",
              "│ batch_normalization_3           │ (<span style=\"color: #00d7ff; text-decoration-color: #00d7ff\">None</span>, <span style=\"color: #00af00; text-decoration-color: #00af00\">64</span>)             │           <span style=\"color: #00af00; text-decoration-color: #00af00\">256</span> │\n",
              "│ (<span style=\"color: #0087ff; text-decoration-color: #0087ff\">BatchNormalization</span>)            │                        │               │\n",
              "├─────────────────────────────────┼────────────────────────┼───────────────┤\n",
              "│ dense_1 (<span style=\"color: #0087ff; text-decoration-color: #0087ff\">Dense</span>)                 │ (<span style=\"color: #00d7ff; text-decoration-color: #00d7ff\">None</span>, <span style=\"color: #00af00; text-decoration-color: #00af00\">6</span>)              │           <span style=\"color: #00af00; text-decoration-color: #00af00\">390</span> │\n",
              "└─────────────────────────────────┴────────────────────────┴───────────────┘\n",
              "</pre>\n"
            ]
          },
          "metadata": {}
        },
        {
          "output_type": "display_data",
          "data": {
            "text/plain": [
              "\u001b[1m Total params: \u001b[0m\u001b[38;5;34m279,686\u001b[0m (1.07 MB)\n"
            ],
            "text/html": [
              "<pre style=\"white-space:pre;overflow-x:auto;line-height:normal;font-family:Menlo,'DejaVu Sans Mono',consolas,'Courier New',monospace\"><span style=\"font-weight: bold\"> Total params: </span><span style=\"color: #00af00; text-decoration-color: #00af00\">279,686</span> (1.07 MB)\n",
              "</pre>\n"
            ]
          },
          "metadata": {}
        },
        {
          "output_type": "display_data",
          "data": {
            "text/plain": [
              "\u001b[1m Trainable params: \u001b[0m\u001b[38;5;34m278,662\u001b[0m (1.06 MB)\n"
            ],
            "text/html": [
              "<pre style=\"white-space:pre;overflow-x:auto;line-height:normal;font-family:Menlo,'DejaVu Sans Mono',consolas,'Courier New',monospace\"><span style=\"font-weight: bold\"> Trainable params: </span><span style=\"color: #00af00; text-decoration-color: #00af00\">278,662</span> (1.06 MB)\n",
              "</pre>\n"
            ]
          },
          "metadata": {}
        },
        {
          "output_type": "display_data",
          "data": {
            "text/plain": [
              "\u001b[1m Non-trainable params: \u001b[0m\u001b[38;5;34m1,024\u001b[0m (4.00 KB)\n"
            ],
            "text/html": [
              "<pre style=\"white-space:pre;overflow-x:auto;line-height:normal;font-family:Menlo,'DejaVu Sans Mono',consolas,'Courier New',monospace\"><span style=\"font-weight: bold\"> Non-trainable params: </span><span style=\"color: #00af00; text-decoration-color: #00af00\">1,024</span> (4.00 KB)\n",
              "</pre>\n"
            ]
          },
          "metadata": {}
        }
      ]
    },
    {
      "cell_type": "code",
      "source": [
        "early_stop = EarlyStopping(monitor='val_accuracy', mode='auto', patience=15, restore_best_weights=True)\n",
        "lr_reduction = ReduceLROnPlateau(monitor='val_accuracy', patience=5, verbose=1, factor=0.5, min_lr=0.00001)\n",
        "\n",
        "model_checkpoint = ModelCheckpoint('best_cnn_lstm_model.keras', monitor='val_accuracy', save_best_only=True)\n",
        "\n",
        "\n",
        "history = model.fit(\n",
        "    x_train, y_train,\n",
        "    epochs=100, # EarlyStopping will likely stop it before 100 epochs\n",
        "    batch_size=64,\n",
        "    validation_data=(x_test, y_test),\n",
        "    callbacks=[early_stop, lr_reduction, model_checkpoint]\n",
        ")\n",
        "\n",
        "print(\"Model training complete.\")"
      ],
      "metadata": {
        "colab": {
          "base_uri": "https://localhost:8080/"
        },
        "id": "OTk_yCe9TAAZ",
        "outputId": "7969c940-3aff-4af3-fb47-765953cdc4c7"
      },
      "execution_count": 14,
      "outputs": [
        {
          "output_type": "stream",
          "name": "stdout",
          "text": [
            "Epoch 1/100\n",
            "\u001b[1m373/373\u001b[0m \u001b[32m━━━━━━━━━━━━━━━━━━━━\u001b[0m\u001b[37m\u001b[0m \u001b[1m127s\u001b[0m 319ms/step - accuracy: 0.2684 - loss: 1.8031 - val_accuracy: 0.4375 - val_loss: 1.4275 - learning_rate: 0.0010\n",
            "Epoch 2/100\n",
            "\u001b[1m373/373\u001b[0m \u001b[32m━━━━━━━━━━━━━━━━━━━━\u001b[0m\u001b[37m\u001b[0m \u001b[1m115s\u001b[0m 309ms/step - accuracy: 0.4228 - loss: 1.4213 - val_accuracy: 0.4923 - val_loss: 1.2772 - learning_rate: 0.0010\n",
            "Epoch 3/100\n",
            "\u001b[1m373/373\u001b[0m \u001b[32m━━━━━━━━━━━━━━━━━━━━\u001b[0m\u001b[37m\u001b[0m \u001b[1m144s\u001b[0m 314ms/step - accuracy: 0.5090 - loss: 1.2600 - val_accuracy: 0.5114 - val_loss: 1.2704 - learning_rate: 0.0010\n",
            "Epoch 4/100\n",
            "\u001b[1m373/373\u001b[0m \u001b[32m━━━━━━━━━━━━━━━━━━━━\u001b[0m\u001b[37m\u001b[0m \u001b[1m116s\u001b[0m 311ms/step - accuracy: 0.5630 - loss: 1.1484 - val_accuracy: 0.5897 - val_loss: 1.0623 - learning_rate: 0.0010\n",
            "Epoch 5/100\n",
            "\u001b[1m373/373\u001b[0m \u001b[32m━━━━━━━━━━━━━━━━━━━━\u001b[0m\u001b[37m\u001b[0m \u001b[1m111s\u001b[0m 296ms/step - accuracy: 0.6040 - loss: 1.0636 - val_accuracy: 0.6224 - val_loss: 0.9936 - learning_rate: 0.0010\n",
            "Epoch 6/100\n",
            "\u001b[1m373/373\u001b[0m \u001b[32m━━━━━━━━━━━━━━━━━━━━\u001b[0m\u001b[37m\u001b[0m \u001b[1m142s\u001b[0m 296ms/step - accuracy: 0.6389 - loss: 0.9705 - val_accuracy: 0.6550 - val_loss: 0.9226 - learning_rate: 0.0010\n",
            "Epoch 7/100\n",
            "\u001b[1m373/373\u001b[0m \u001b[32m━━━━━━━━━━━━━━━━━━━━\u001b[0m\u001b[37m\u001b[0m \u001b[1m109s\u001b[0m 293ms/step - accuracy: 0.6682 - loss: 0.8812 - val_accuracy: 0.6434 - val_loss: 0.9409 - learning_rate: 0.0010\n",
            "Epoch 8/100\n",
            "\u001b[1m373/373\u001b[0m \u001b[32m━━━━━━━━━━━━━━━━━━━━\u001b[0m\u001b[37m\u001b[0m \u001b[1m109s\u001b[0m 293ms/step - accuracy: 0.7069 - loss: 0.7939 - val_accuracy: 0.6911 - val_loss: 0.8391 - learning_rate: 0.0010\n",
            "Epoch 9/100\n",
            "\u001b[1m373/373\u001b[0m \u001b[32m━━━━━━━━━━━━━━━━━━━━\u001b[0m\u001b[37m\u001b[0m \u001b[1m143s\u001b[0m 296ms/step - accuracy: 0.7333 - loss: 0.7358 - val_accuracy: 0.6725 - val_loss: 0.8988 - learning_rate: 0.0010\n",
            "Epoch 10/100\n",
            "\u001b[1m373/373\u001b[0m \u001b[32m━━━━━━━━━━━━━━━━━━━━\u001b[0m\u001b[37m\u001b[0m \u001b[1m141s\u001b[0m 294ms/step - accuracy: 0.7522 - loss: 0.6807 - val_accuracy: 0.7210 - val_loss: 0.7583 - learning_rate: 0.0010\n",
            "Epoch 11/100\n",
            "\u001b[1m373/373\u001b[0m \u001b[32m━━━━━━━━━━━━━━━━━━━━\u001b[0m\u001b[37m\u001b[0m \u001b[1m140s\u001b[0m 289ms/step - accuracy: 0.7864 - loss: 0.6011 - val_accuracy: 0.7355 - val_loss: 0.7279 - learning_rate: 0.0010\n",
            "Epoch 12/100\n",
            "\u001b[1m373/373\u001b[0m \u001b[32m━━━━━━━━━━━━━━━━━━━━\u001b[0m\u001b[37m\u001b[0m \u001b[1m141s\u001b[0m 288ms/step - accuracy: 0.7987 - loss: 0.5612 - val_accuracy: 0.7440 - val_loss: 0.7141 - learning_rate: 0.0010\n",
            "Epoch 13/100\n",
            "\u001b[1m373/373\u001b[0m \u001b[32m━━━━━━━━━━━━━━━━━━━━\u001b[0m\u001b[37m\u001b[0m \u001b[1m149s\u001b[0m 306ms/step - accuracy: 0.8240 - loss: 0.4952 - val_accuracy: 0.7672 - val_loss: 0.6437 - learning_rate: 0.0010\n",
            "Epoch 14/100\n",
            "\u001b[1m373/373\u001b[0m \u001b[32m━━━━━━━━━━━━━━━━━━━━\u001b[0m\u001b[37m\u001b[0m \u001b[1m107s\u001b[0m 286ms/step - accuracy: 0.8349 - loss: 0.4697 - val_accuracy: 0.7489 - val_loss: 0.7383 - learning_rate: 0.0010\n",
            "Epoch 15/100\n",
            "\u001b[1m373/373\u001b[0m \u001b[32m━━━━━━━━━━━━━━━━━━━━\u001b[0m\u001b[37m\u001b[0m \u001b[1m113s\u001b[0m 304ms/step - accuracy: 0.8539 - loss: 0.4181 - val_accuracy: 0.7670 - val_loss: 0.6644 - learning_rate: 0.0010\n",
            "Epoch 16/100\n",
            "\u001b[1m373/373\u001b[0m \u001b[32m━━━━━━━━━━━━━━━━━━━━\u001b[0m\u001b[37m\u001b[0m \u001b[1m141s\u001b[0m 302ms/step - accuracy: 0.8616 - loss: 0.3932 - val_accuracy: 0.7822 - val_loss: 0.6366 - learning_rate: 0.0010\n",
            "Epoch 17/100\n",
            "\u001b[1m373/373\u001b[0m \u001b[32m━━━━━━━━━━━━━━━━━━━━\u001b[0m\u001b[37m\u001b[0m \u001b[1m115s\u001b[0m 308ms/step - accuracy: 0.8698 - loss: 0.3763 - val_accuracy: 0.7966 - val_loss: 0.5785 - learning_rate: 0.0010\n",
            "Epoch 18/100\n",
            "\u001b[1m373/373\u001b[0m \u001b[32m━━━━━━━━━━━━━━━━━━━━\u001b[0m\u001b[37m\u001b[0m \u001b[1m112s\u001b[0m 299ms/step - accuracy: 0.8799 - loss: 0.3513 - val_accuracy: 0.7857 - val_loss: 0.6208 - learning_rate: 0.0010\n",
            "Epoch 19/100\n",
            "\u001b[1m373/373\u001b[0m \u001b[32m━━━━━━━━━━━━━━━━━━━━\u001b[0m\u001b[37m\u001b[0m \u001b[1m139s\u001b[0m 292ms/step - accuracy: 0.8843 - loss: 0.3284 - val_accuracy: 0.7885 - val_loss: 0.6201 - learning_rate: 0.0010\n",
            "Epoch 20/100\n",
            "\u001b[1m373/373\u001b[0m \u001b[32m━━━━━━━━━━━━━━━━━━━━\u001b[0m\u001b[37m\u001b[0m \u001b[1m111s\u001b[0m 297ms/step - accuracy: 0.8685 - loss: 0.3787 - val_accuracy: 0.8000 - val_loss: 0.5778 - learning_rate: 0.0010\n",
            "Epoch 21/100\n",
            "\u001b[1m373/373\u001b[0m \u001b[32m━━━━━━━━━━━━━━━━━━━━\u001b[0m\u001b[37m\u001b[0m \u001b[1m141s\u001b[0m 294ms/step - accuracy: 0.8746 - loss: 0.3654 - val_accuracy: 0.8161 - val_loss: 0.5606 - learning_rate: 0.0010\n",
            "Epoch 22/100\n",
            "\u001b[1m373/373\u001b[0m \u001b[32m━━━━━━━━━━━━━━━━━━━━\u001b[0m\u001b[37m\u001b[0m \u001b[1m108s\u001b[0m 288ms/step - accuracy: 0.9059 - loss: 0.2739 - val_accuracy: 0.8238 - val_loss: 0.5436 - learning_rate: 0.0010\n",
            "Epoch 23/100\n",
            "\u001b[1m373/373\u001b[0m \u001b[32m━━━━━━━━━━━━━━━━━━━━\u001b[0m\u001b[37m\u001b[0m \u001b[1m146s\u001b[0m 300ms/step - accuracy: 0.9050 - loss: 0.2854 - val_accuracy: 0.8203 - val_loss: 0.5470 - learning_rate: 0.0010\n",
            "Epoch 24/100\n",
            "\u001b[1m373/373\u001b[0m \u001b[32m━━━━━━━━━━━━━━━━━━━━\u001b[0m\u001b[37m\u001b[0m \u001b[1m111s\u001b[0m 298ms/step - accuracy: 0.9202 - loss: 0.2344 - val_accuracy: 0.8169 - val_loss: 0.5516 - learning_rate: 0.0010\n",
            "Epoch 25/100\n",
            "\u001b[1m373/373\u001b[0m \u001b[32m━━━━━━━━━━━━━━━━━━━━\u001b[0m\u001b[37m\u001b[0m \u001b[1m142s\u001b[0m 299ms/step - accuracy: 0.9215 - loss: 0.2345 - val_accuracy: 0.8201 - val_loss: 0.5642 - learning_rate: 0.0010\n",
            "Epoch 26/100\n",
            "\u001b[1m373/373\u001b[0m \u001b[32m━━━━━━━━━━━━━━━━━━━━\u001b[0m\u001b[37m\u001b[0m \u001b[1m145s\u001b[0m 306ms/step - accuracy: 0.9263 - loss: 0.2195 - val_accuracy: 0.8186 - val_loss: 0.5453 - learning_rate: 0.0010\n",
            "Epoch 27/100\n",
            "\u001b[1m373/373\u001b[0m \u001b[32m━━━━━━━━━━━━━━━━━━━━\u001b[0m\u001b[37m\u001b[0m \u001b[1m140s\u001b[0m 302ms/step - accuracy: 0.9263 - loss: 0.2153 - val_accuracy: 0.8371 - val_loss: 0.5409 - learning_rate: 0.0010\n",
            "Epoch 28/100\n",
            "\u001b[1m373/373\u001b[0m \u001b[32m━━━━━━━━━━━━━━━━━━━━\u001b[0m\u001b[37m\u001b[0m \u001b[1m141s\u001b[0m 301ms/step - accuracy: 0.9112 - loss: 0.2668 - val_accuracy: 0.8300 - val_loss: 0.5417 - learning_rate: 0.0010\n",
            "Epoch 29/100\n",
            "\u001b[1m373/373\u001b[0m \u001b[32m━━━━━━━━━━━━━━━━━━━━\u001b[0m\u001b[37m\u001b[0m \u001b[1m111s\u001b[0m 298ms/step - accuracy: 0.9247 - loss: 0.2191 - val_accuracy: 0.8294 - val_loss: 0.5195 - learning_rate: 0.0010\n",
            "Epoch 30/100\n",
            "\u001b[1m373/373\u001b[0m \u001b[32m━━━━━━━━━━━━━━━━━━━━\u001b[0m\u001b[37m\u001b[0m \u001b[1m111s\u001b[0m 297ms/step - accuracy: 0.9254 - loss: 0.2155 - val_accuracy: 0.8349 - val_loss: 0.5039 - learning_rate: 0.0010\n",
            "Epoch 31/100\n",
            "\u001b[1m373/373\u001b[0m \u001b[32m━━━━━━━━━━━━━━━━━━━━\u001b[0m\u001b[37m\u001b[0m \u001b[1m112s\u001b[0m 300ms/step - accuracy: 0.9406 - loss: 0.1787 - val_accuracy: 0.8411 - val_loss: 0.5072 - learning_rate: 0.0010\n",
            "Epoch 32/100\n",
            "\u001b[1m373/373\u001b[0m \u001b[32m━━━━━━━━━━━━━━━━━━━━\u001b[0m\u001b[37m\u001b[0m \u001b[1m142s\u001b[0m 301ms/step - accuracy: 0.9403 - loss: 0.1741 - val_accuracy: 0.8569 - val_loss: 0.4688 - learning_rate: 0.0010\n",
            "Epoch 33/100\n",
            "\u001b[1m373/373\u001b[0m \u001b[32m━━━━━━━━━━━━━━━━━━━━\u001b[0m\u001b[37m\u001b[0m \u001b[1m143s\u001b[0m 305ms/step - accuracy: 0.9370 - loss: 0.1847 - val_accuracy: 0.8514 - val_loss: 0.4791 - learning_rate: 0.0010\n",
            "Epoch 34/100\n",
            "\u001b[1m373/373\u001b[0m \u001b[32m━━━━━━━━━━━━━━━━━━━━\u001b[0m\u001b[37m\u001b[0m \u001b[1m140s\u001b[0m 300ms/step - accuracy: 0.9428 - loss: 0.1728 - val_accuracy: 0.8532 - val_loss: 0.4789 - learning_rate: 0.0010\n",
            "Epoch 35/100\n",
            "\u001b[1m373/373\u001b[0m \u001b[32m━━━━━━━━━━━━━━━━━━━━\u001b[0m\u001b[37m\u001b[0m \u001b[1m141s\u001b[0m 298ms/step - accuracy: 0.9446 - loss: 0.1578 - val_accuracy: 0.8463 - val_loss: 0.5114 - learning_rate: 0.0010\n",
            "Epoch 36/100\n",
            "\u001b[1m373/373\u001b[0m \u001b[32m━━━━━━━━━━━━━━━━━━━━\u001b[0m\u001b[37m\u001b[0m \u001b[1m112s\u001b[0m 299ms/step - accuracy: 0.9325 - loss: 0.2057 - val_accuracy: 0.8504 - val_loss: 0.4799 - learning_rate: 0.0010\n",
            "Epoch 37/100\n",
            "\u001b[1m372/373\u001b[0m \u001b[32m━━━━━━━━━━━━━━━━━━━\u001b[0m\u001b[37m━\u001b[0m \u001b[1m0s\u001b[0m 283ms/step - accuracy: 0.9459 - loss: 0.1623\n",
            "Epoch 37: ReduceLROnPlateau reducing learning rate to 0.0005000000237487257.\n",
            "\u001b[1m373/373\u001b[0m \u001b[32m━━━━━━━━━━━━━━━━━━━━\u001b[0m\u001b[37m\u001b[0m \u001b[1m142s\u001b[0m 300ms/step - accuracy: 0.9459 - loss: 0.1622 - val_accuracy: 0.8421 - val_loss: 0.5049 - learning_rate: 0.0010\n",
            "Epoch 38/100\n",
            "\u001b[1m373/373\u001b[0m \u001b[32m━━━━━━━━━━━━━━━━━━━━\u001b[0m\u001b[37m\u001b[0m \u001b[1m139s\u001b[0m 291ms/step - accuracy: 0.9660 - loss: 0.1072 - val_accuracy: 0.8740 - val_loss: 0.4447 - learning_rate: 5.0000e-04\n",
            "Epoch 39/100\n",
            "\u001b[1m373/373\u001b[0m \u001b[32m━━━━━━━━━━━━━━━━━━━━\u001b[0m\u001b[37m\u001b[0m \u001b[1m140s\u001b[0m 288ms/step - accuracy: 0.9733 - loss: 0.0801 - val_accuracy: 0.8598 - val_loss: 0.5282 - learning_rate: 5.0000e-04\n",
            "Epoch 40/100\n",
            "\u001b[1m373/373\u001b[0m \u001b[32m━━━━━━━━━━━━━━━━━━━━\u001b[0m\u001b[37m\u001b[0m \u001b[1m147s\u001b[0m 300ms/step - accuracy: 0.9789 - loss: 0.0673 - val_accuracy: 0.8782 - val_loss: 0.4627 - learning_rate: 5.0000e-04\n",
            "Epoch 41/100\n",
            "\u001b[1m373/373\u001b[0m \u001b[32m━━━━━━━━━━━━━━━━━━━━\u001b[0m\u001b[37m\u001b[0m \u001b[1m141s\u001b[0m 297ms/step - accuracy: 0.9722 - loss: 0.0897 - val_accuracy: 0.8682 - val_loss: 0.4791 - learning_rate: 5.0000e-04\n",
            "Epoch 42/100\n",
            "\u001b[1m373/373\u001b[0m \u001b[32m━━━━━━━━━━━━━━━━━━━━\u001b[0m\u001b[37m\u001b[0m \u001b[1m107s\u001b[0m 286ms/step - accuracy: 0.9767 - loss: 0.0698 - val_accuracy: 0.8675 - val_loss: 0.5032 - learning_rate: 5.0000e-04\n",
            "Epoch 43/100\n",
            "\u001b[1m373/373\u001b[0m \u001b[32m━━━━━━━━━━━━━━━━━━━━\u001b[0m\u001b[37m\u001b[0m \u001b[1m113s\u001b[0m 304ms/step - accuracy: 0.9666 - loss: 0.1055 - val_accuracy: 0.8732 - val_loss: 0.4764 - learning_rate: 5.0000e-04\n",
            "Epoch 44/100\n",
            "\u001b[1m373/373\u001b[0m \u001b[32m━━━━━━━━━━━━━━━━━━━━\u001b[0m\u001b[37m\u001b[0m \u001b[1m107s\u001b[0m 287ms/step - accuracy: 0.9766 - loss: 0.0763 - val_accuracy: 0.8677 - val_loss: 0.5291 - learning_rate: 5.0000e-04\n",
            "Epoch 45/100\n",
            "\u001b[1m372/373\u001b[0m \u001b[32m━━━━━━━━━━━━━━━━━━━\u001b[0m\u001b[37m━\u001b[0m \u001b[1m0s\u001b[0m 278ms/step - accuracy: 0.9742 - loss: 0.0794\n",
            "Epoch 45: ReduceLROnPlateau reducing learning rate to 0.0002500000118743628.\n",
            "\u001b[1m373/373\u001b[0m \u001b[32m━━━━━━━━━━━━━━━━━━━━\u001b[0m\u001b[37m\u001b[0m \u001b[1m143s\u001b[0m 291ms/step - accuracy: 0.9742 - loss: 0.0793 - val_accuracy: 0.8732 - val_loss: 0.4603 - learning_rate: 5.0000e-04\n",
            "Epoch 46/100\n",
            "\u001b[1m373/373\u001b[0m \u001b[32m━━━━━━━━━━━━━━━━━━━━\u001b[0m\u001b[37m\u001b[0m \u001b[1m146s\u001b[0m 301ms/step - accuracy: 0.9835 - loss: 0.0524 - val_accuracy: 0.8823 - val_loss: 0.4476 - learning_rate: 2.5000e-04\n",
            "Epoch 47/100\n",
            "\u001b[1m373/373\u001b[0m \u001b[32m━━━━━━━━━━━━━━━━━━━━\u001b[0m\u001b[37m\u001b[0m \u001b[1m141s\u001b[0m 299ms/step - accuracy: 0.9882 - loss: 0.0387 - val_accuracy: 0.8912 - val_loss: 0.4531 - learning_rate: 2.5000e-04\n",
            "Epoch 48/100\n",
            "\u001b[1m373/373\u001b[0m \u001b[32m━━━━━━━━━━━━━━━━━━━━\u001b[0m\u001b[37m\u001b[0m \u001b[1m144s\u001b[0m 304ms/step - accuracy: 0.9874 - loss: 0.0383 - val_accuracy: 0.8895 - val_loss: 0.4399 - learning_rate: 2.5000e-04\n",
            "Epoch 49/100\n",
            "\u001b[1m373/373\u001b[0m \u001b[32m━━━━━━━━━━━━━━━━━━━━\u001b[0m\u001b[37m\u001b[0m \u001b[1m140s\u001b[0m 298ms/step - accuracy: 0.9905 - loss: 0.0315 - val_accuracy: 0.8897 - val_loss: 0.4410 - learning_rate: 2.5000e-04\n",
            "Epoch 50/100\n",
            "\u001b[1m373/373\u001b[0m \u001b[32m━━━━━━━━━━━━━━━━━━━━\u001b[0m\u001b[37m\u001b[0m \u001b[1m140s\u001b[0m 293ms/step - accuracy: 0.9893 - loss: 0.0346 - val_accuracy: 0.8917 - val_loss: 0.4568 - learning_rate: 2.5000e-04\n",
            "Epoch 51/100\n",
            "\u001b[1m373/373\u001b[0m \u001b[32m━━━━━━━━━━━━━━━━━━━━\u001b[0m\u001b[37m\u001b[0m \u001b[1m146s\u001b[0m 305ms/step - accuracy: 0.9867 - loss: 0.0408 - val_accuracy: 0.8796 - val_loss: 0.5058 - learning_rate: 2.5000e-04\n",
            "Epoch 52/100\n",
            "\u001b[1m373/373\u001b[0m \u001b[32m━━━━━━━━━━━━━━━━━━━━\u001b[0m\u001b[37m\u001b[0m \u001b[1m140s\u001b[0m 301ms/step - accuracy: 0.9888 - loss: 0.0402 - val_accuracy: 0.8912 - val_loss: 0.4528 - learning_rate: 2.5000e-04\n",
            "Epoch 53/100\n",
            "\u001b[1m373/373\u001b[0m \u001b[32m━━━━━━━━━━━━━━━━━━━━\u001b[0m\u001b[37m\u001b[0m \u001b[1m142s\u001b[0m 301ms/step - accuracy: 0.9878 - loss: 0.0411 - val_accuracy: 0.8897 - val_loss: 0.4346 - learning_rate: 2.5000e-04\n",
            "Epoch 54/100\n",
            "\u001b[1m373/373\u001b[0m \u001b[32m━━━━━━━━━━━━━━━━━━━━\u001b[0m\u001b[37m\u001b[0m \u001b[1m108s\u001b[0m 290ms/step - accuracy: 0.9871 - loss: 0.0382 - val_accuracy: 0.8865 - val_loss: 0.4575 - learning_rate: 2.5000e-04\n",
            "Epoch 55/100\n",
            "\u001b[1m372/373\u001b[0m \u001b[32m━━━━━━━━━━━━━━━━━━━\u001b[0m\u001b[37m━\u001b[0m \u001b[1m0s\u001b[0m 274ms/step - accuracy: 0.9916 - loss: 0.0278\n",
            "Epoch 55: ReduceLROnPlateau reducing learning rate to 0.0001250000059371814.\n",
            "\u001b[1m373/373\u001b[0m \u001b[32m━━━━━━━━━━━━━━━━━━━━\u001b[0m\u001b[37m\u001b[0m \u001b[1m141s\u001b[0m 287ms/step - accuracy: 0.9916 - loss: 0.0278 - val_accuracy: 0.8865 - val_loss: 0.4518 - learning_rate: 2.5000e-04\n",
            "Epoch 56/100\n",
            "\u001b[1m373/373\u001b[0m \u001b[32m━━━━━━━━━━━━━━━━━━━━\u001b[0m\u001b[37m\u001b[0m \u001b[1m141s\u001b[0m 285ms/step - accuracy: 0.9913 - loss: 0.0303 - val_accuracy: 0.8907 - val_loss: 0.4617 - learning_rate: 1.2500e-04\n",
            "Epoch 57/100\n",
            "\u001b[1m373/373\u001b[0m \u001b[32m━━━━━━━━━━━━━━━━━━━━\u001b[0m\u001b[37m\u001b[0m \u001b[1m149s\u001b[0m 305ms/step - accuracy: 0.9918 - loss: 0.0294 - val_accuracy: 0.8927 - val_loss: 0.4386 - learning_rate: 1.2500e-04\n",
            "Epoch 58/100\n",
            "\u001b[1m373/373\u001b[0m \u001b[32m━━━━━━━━━━━━━━━━━━━━\u001b[0m\u001b[37m\u001b[0m \u001b[1m140s\u001b[0m 299ms/step - accuracy: 0.9923 - loss: 0.0233 - val_accuracy: 0.8908 - val_loss: 0.4528 - learning_rate: 1.2500e-04\n",
            "Epoch 59/100\n",
            "\u001b[1m373/373\u001b[0m \u001b[32m━━━━━━━━━━━━━━━━━━━━\u001b[0m\u001b[37m\u001b[0m \u001b[1m143s\u001b[0m 301ms/step - accuracy: 0.9925 - loss: 0.0230 - val_accuracy: 0.8964 - val_loss: 0.4335 - learning_rate: 1.2500e-04\n",
            "Epoch 60/100\n",
            "\u001b[1m373/373\u001b[0m \u001b[32m━━━━━━━━━━━━━━━━━━━━\u001b[0m\u001b[37m\u001b[0m \u001b[1m143s\u001b[0m 303ms/step - accuracy: 0.9924 - loss: 0.0271 - val_accuracy: 0.8944 - val_loss: 0.4527 - learning_rate: 1.2500e-04\n",
            "Epoch 61/100\n",
            "\u001b[1m373/373\u001b[0m \u001b[32m━━━━━━━━━━━━━━━━━━━━\u001b[0m\u001b[37m\u001b[0m \u001b[1m141s\u001b[0m 300ms/step - accuracy: 0.9934 - loss: 0.0199 - val_accuracy: 0.8959 - val_loss: 0.4544 - learning_rate: 1.2500e-04\n",
            "Epoch 62/100\n",
            "\u001b[1m373/373\u001b[0m \u001b[32m━━━━━━━━━━━━━━━━━━━━\u001b[0m\u001b[37m\u001b[0m \u001b[1m106s\u001b[0m 285ms/step - accuracy: 0.9941 - loss: 0.0203 - val_accuracy: 0.8935 - val_loss: 0.4625 - learning_rate: 1.2500e-04\n",
            "Epoch 63/100\n",
            "\u001b[1m373/373\u001b[0m \u001b[32m━━━━━━━━━━━━━━━━━━━━\u001b[0m\u001b[37m\u001b[0m \u001b[1m114s\u001b[0m 305ms/step - accuracy: 0.9946 - loss: 0.0170 - val_accuracy: 0.8987 - val_loss: 0.4432 - learning_rate: 1.2500e-04\n",
            "Epoch 64/100\n",
            "\u001b[1m373/373\u001b[0m \u001b[32m━━━━━━━━━━━━━━━━━━━━\u001b[0m\u001b[37m\u001b[0m \u001b[1m141s\u001b[0m 302ms/step - accuracy: 0.9940 - loss: 0.0199 - val_accuracy: 0.8855 - val_loss: 0.5154 - learning_rate: 1.2500e-04\n",
            "Epoch 65/100\n",
            "\u001b[1m373/373\u001b[0m \u001b[32m━━━━━━━━━━━━━━━━━━━━\u001b[0m\u001b[37m\u001b[0m \u001b[1m109s\u001b[0m 292ms/step - accuracy: 0.9931 - loss: 0.0215 - val_accuracy: 0.8932 - val_loss: 0.4692 - learning_rate: 1.2500e-04\n",
            "Epoch 66/100\n",
            "\u001b[1m373/373\u001b[0m \u001b[32m━━━━━━━━━━━━━━━━━━━━\u001b[0m\u001b[37m\u001b[0m \u001b[1m112s\u001b[0m 300ms/step - accuracy: 0.9946 - loss: 0.0196 - val_accuracy: 0.8970 - val_loss: 0.4562 - learning_rate: 1.2500e-04\n",
            "Epoch 67/100\n",
            "\u001b[1m373/373\u001b[0m \u001b[32m━━━━━━━━━━━━━━━━━━━━\u001b[0m\u001b[37m\u001b[0m \u001b[1m141s\u001b[0m 299ms/step - accuracy: 0.9947 - loss: 0.0175 - val_accuracy: 0.8913 - val_loss: 0.4821 - learning_rate: 1.2500e-04\n",
            "Epoch 68/100\n",
            "\u001b[1m372/373\u001b[0m \u001b[32m━━━━━━━━━━━━━━━━━━━\u001b[0m\u001b[37m━\u001b[0m \u001b[1m0s\u001b[0m 278ms/step - accuracy: 0.9923 - loss: 0.0241\n",
            "Epoch 68: ReduceLROnPlateau reducing learning rate to 6.25000029685907e-05.\n",
            "\u001b[1m373/373\u001b[0m \u001b[32m━━━━━━━━━━━━━━━━━━━━\u001b[0m\u001b[37m\u001b[0m \u001b[1m114s\u001b[0m 305ms/step - accuracy: 0.9923 - loss: 0.0241 - val_accuracy: 0.8939 - val_loss: 0.4786 - learning_rate: 1.2500e-04\n",
            "Epoch 69/100\n",
            "\u001b[1m373/373\u001b[0m \u001b[32m━━━━━━━━━━━━━━━━━━━━\u001b[0m\u001b[37m\u001b[0m \u001b[1m134s\u001b[0m 285ms/step - accuracy: 0.9936 - loss: 0.0185 - val_accuracy: 0.8964 - val_loss: 0.4671 - learning_rate: 6.2500e-05\n",
            "Epoch 70/100\n",
            "\u001b[1m373/373\u001b[0m \u001b[32m━━━━━━━━━━━━━━━━━━━━\u001b[0m\u001b[37m\u001b[0m \u001b[1m110s\u001b[0m 294ms/step - accuracy: 0.9960 - loss: 0.0140 - val_accuracy: 0.8950 - val_loss: 0.4799 - learning_rate: 6.2500e-05\n",
            "Epoch 71/100\n",
            "\u001b[1m373/373\u001b[0m \u001b[32m━━━━━━━━━━━━━━━━━━━━\u001b[0m\u001b[37m\u001b[0m \u001b[1m114s\u001b[0m 306ms/step - accuracy: 0.9946 - loss: 0.0165 - val_accuracy: 0.8989 - val_loss: 0.4549 - learning_rate: 6.2500e-05\n",
            "Epoch 72/100\n",
            "\u001b[1m373/373\u001b[0m \u001b[32m━━━━━━━━━━━━━━━━━━━━\u001b[0m\u001b[37m\u001b[0m \u001b[1m135s\u001b[0m 286ms/step - accuracy: 0.9958 - loss: 0.0147 - val_accuracy: 0.8945 - val_loss: 0.4742 - learning_rate: 6.2500e-05\n",
            "Epoch 73/100\n",
            "\u001b[1m373/373\u001b[0m \u001b[32m━━━━━━━━━━━━━━━━━━━━\u001b[0m\u001b[37m\u001b[0m \u001b[1m114s\u001b[0m 305ms/step - accuracy: 0.9948 - loss: 0.0160 - val_accuracy: 0.8977 - val_loss: 0.4681 - learning_rate: 6.2500e-05\n",
            "Epoch 74/100\n",
            "\u001b[1m373/373\u001b[0m \u001b[32m━━━━━━━━━━━━━━━━━━━━\u001b[0m\u001b[37m\u001b[0m \u001b[1m141s\u001b[0m 302ms/step - accuracy: 0.9961 - loss: 0.0128 - val_accuracy: 0.8986 - val_loss: 0.4662 - learning_rate: 6.2500e-05\n",
            "Epoch 75/100\n",
            "\u001b[1m373/373\u001b[0m \u001b[32m━━━━━━━━━━━━━━━━━━━━\u001b[0m\u001b[37m\u001b[0m \u001b[1m141s\u001b[0m 299ms/step - accuracy: 0.9972 - loss: 0.0113 - val_accuracy: 0.8960 - val_loss: 0.4625 - learning_rate: 6.2500e-05\n",
            "Epoch 76/100\n",
            "\u001b[1m373/373\u001b[0m \u001b[32m━━━━━━━━━━━━━━━━━━━━\u001b[0m\u001b[37m\u001b[0m \u001b[1m0s\u001b[0m 278ms/step - accuracy: 0.9957 - loss: 0.0144\n",
            "Epoch 76: ReduceLROnPlateau reducing learning rate to 3.125000148429535e-05.\n",
            "\u001b[1m373/373\u001b[0m \u001b[32m━━━━━━━━━━━━━━━━━━━━\u001b[0m\u001b[37m\u001b[0m \u001b[1m141s\u001b[0m 297ms/step - accuracy: 0.9957 - loss: 0.0144 - val_accuracy: 0.8984 - val_loss: 0.4611 - learning_rate: 6.2500e-05\n",
            "Epoch 77/100\n",
            "\u001b[1m373/373\u001b[0m \u001b[32m━━━━━━━━━━━━━━━━━━━━\u001b[0m\u001b[37m\u001b[0m \u001b[1m145s\u001b[0m 305ms/step - accuracy: 0.9968 - loss: 0.0094 - val_accuracy: 0.8945 - val_loss: 0.4841 - learning_rate: 3.1250e-05\n",
            "Epoch 78/100\n",
            "\u001b[1m373/373\u001b[0m \u001b[32m━━━━━━━━━━━━━━━━━━━━\u001b[0m\u001b[37m\u001b[0m \u001b[1m140s\u001b[0m 300ms/step - accuracy: 0.9960 - loss: 0.0121 - val_accuracy: 0.8974 - val_loss: 0.4737 - learning_rate: 3.1250e-05\n",
            "Epoch 79/100\n",
            "\u001b[1m373/373\u001b[0m \u001b[32m━━━━━━━━━━━━━━━━━━━━\u001b[0m\u001b[37m\u001b[0m \u001b[1m141s\u001b[0m 298ms/step - accuracy: 0.9960 - loss: 0.0142 - val_accuracy: 0.8989 - val_loss: 0.4782 - learning_rate: 3.1250e-05\n",
            "Epoch 80/100\n",
            "\u001b[1m373/373\u001b[0m \u001b[32m━━━━━━━━━━━━━━━━━━━━\u001b[0m\u001b[37m\u001b[0m \u001b[1m144s\u001b[0m 304ms/step - accuracy: 0.9964 - loss: 0.0128 - val_accuracy: 0.8977 - val_loss: 0.4794 - learning_rate: 3.1250e-05\n",
            "Epoch 81/100\n",
            "\u001b[1m373/373\u001b[0m \u001b[32m━━━━━━━━━━━━━━━━━━━━\u001b[0m\u001b[37m\u001b[0m \u001b[1m142s\u001b[0m 305ms/step - accuracy: 0.9962 - loss: 0.0124 - val_accuracy: 0.9019 - val_loss: 0.4677 - learning_rate: 3.1250e-05\n",
            "Epoch 82/100\n",
            "\u001b[1m373/373\u001b[0m \u001b[32m━━━━━━━━━━━━━━━━━━━━\u001b[0m\u001b[37m\u001b[0m \u001b[1m140s\u001b[0m 300ms/step - accuracy: 0.9958 - loss: 0.0133 - val_accuracy: 0.9012 - val_loss: 0.4672 - learning_rate: 3.1250e-05\n",
            "Epoch 83/100\n",
            "\u001b[1m373/373\u001b[0m \u001b[32m━━━━━━━━━━━━━━━━━━━━\u001b[0m\u001b[37m\u001b[0m \u001b[1m108s\u001b[0m 291ms/step - accuracy: 0.9962 - loss: 0.0109 - val_accuracy: 0.9001 - val_loss: 0.4665 - learning_rate: 3.1250e-05\n",
            "Epoch 84/100\n",
            "\u001b[1m373/373\u001b[0m \u001b[32m━━━━━━━━━━━━━━━━━━━━\u001b[0m\u001b[37m\u001b[0m \u001b[1m142s\u001b[0m 291ms/step - accuracy: 0.9964 - loss: 0.0119 - val_accuracy: 0.8992 - val_loss: 0.4687 - learning_rate: 3.1250e-05\n",
            "Epoch 85/100\n",
            "\u001b[1m373/373\u001b[0m \u001b[32m━━━━━━━━━━━━━━━━━━━━\u001b[0m\u001b[37m\u001b[0m \u001b[1m147s\u001b[0m 303ms/step - accuracy: 0.9966 - loss: 0.0124 - val_accuracy: 0.8987 - val_loss: 0.4801 - learning_rate: 3.1250e-05\n",
            "Epoch 86/100\n",
            "\u001b[1m372/373\u001b[0m \u001b[32m━━━━━━━━━━━━━━━━━━━\u001b[0m\u001b[37m━\u001b[0m \u001b[1m0s\u001b[0m 272ms/step - accuracy: 0.9966 - loss: 0.0097\n",
            "Epoch 86: ReduceLROnPlateau reducing learning rate to 1.5625000742147677e-05.\n",
            "\u001b[1m373/373\u001b[0m \u001b[32m━━━━━━━━━━━━━━━━━━━━\u001b[0m\u001b[37m\u001b[0m \u001b[1m140s\u001b[0m 300ms/step - accuracy: 0.9966 - loss: 0.0097 - val_accuracy: 0.9009 - val_loss: 0.4589 - learning_rate: 3.1250e-05\n",
            "Epoch 87/100\n",
            "\u001b[1m373/373\u001b[0m \u001b[32m━━━━━━━━━━━━━━━━━━━━\u001b[0m\u001b[37m\u001b[0m \u001b[1m109s\u001b[0m 293ms/step - accuracy: 0.9965 - loss: 0.0121 - val_accuracy: 0.9024 - val_loss: 0.4621 - learning_rate: 1.5625e-05\n",
            "Epoch 88/100\n",
            "\u001b[1m373/373\u001b[0m \u001b[32m━━━━━━━━━━━━━━━━━━━━\u001b[0m\u001b[37m\u001b[0m \u001b[1m142s\u001b[0m 293ms/step - accuracy: 0.9967 - loss: 0.0111 - val_accuracy: 0.9014 - val_loss: 0.4614 - learning_rate: 1.5625e-05\n",
            "Epoch 89/100\n",
            "\u001b[1m373/373\u001b[0m \u001b[32m━━━━━━━━━━━━━━━━━━━━\u001b[0m\u001b[37m\u001b[0m \u001b[1m113s\u001b[0m 302ms/step - accuracy: 0.9961 - loss: 0.0116 - val_accuracy: 0.9001 - val_loss: 0.4693 - learning_rate: 1.5625e-05\n",
            "Epoch 90/100\n",
            "\u001b[1m373/373\u001b[0m \u001b[32m━━━━━━━━━━━━━━━━━━━━\u001b[0m\u001b[37m\u001b[0m \u001b[1m111s\u001b[0m 299ms/step - accuracy: 0.9974 - loss: 0.0089 - val_accuracy: 0.9012 - val_loss: 0.4633 - learning_rate: 1.5625e-05\n",
            "Epoch 91/100\n",
            "\u001b[1m373/373\u001b[0m \u001b[32m━━━━━━━━━━━━━━━━━━━━\u001b[0m\u001b[37m\u001b[0m \u001b[1m108s\u001b[0m 288ms/step - accuracy: 0.9971 - loss: 0.0104 - val_accuracy: 0.9017 - val_loss: 0.4646 - learning_rate: 1.5625e-05\n",
            "Epoch 92/100\n",
            "\u001b[1m372/373\u001b[0m \u001b[32m━━━━━━━━━━━━━━━━━━━\u001b[0m\u001b[37m━\u001b[0m \u001b[1m0s\u001b[0m 284ms/step - accuracy: 0.9971 - loss: 0.0088\n",
            "Epoch 92: ReduceLROnPlateau reducing learning rate to 1e-05.\n",
            "\u001b[1m373/373\u001b[0m \u001b[32m━━━━━━━━━━━━━━━━━━━━\u001b[0m\u001b[37m\u001b[0m \u001b[1m116s\u001b[0m 311ms/step - accuracy: 0.9971 - loss: 0.0088 - val_accuracy: 0.9012 - val_loss: 0.4609 - learning_rate: 1.5625e-05\n",
            "Epoch 93/100\n",
            "\u001b[1m373/373\u001b[0m \u001b[32m━━━━━━━━━━━━━━━━━━━━\u001b[0m\u001b[37m\u001b[0m \u001b[1m115s\u001b[0m 308ms/step - accuracy: 0.9974 - loss: 0.0093 - val_accuracy: 0.8996 - val_loss: 0.4680 - learning_rate: 1.0000e-05\n",
            "Epoch 94/100\n",
            "\u001b[1m373/373\u001b[0m \u001b[32m━━━━━━━━━━━━━━━━━━━━\u001b[0m\u001b[37m\u001b[0m \u001b[1m140s\u001b[0m 303ms/step - accuracy: 0.9965 - loss: 0.0124 - val_accuracy: 0.8996 - val_loss: 0.4688 - learning_rate: 1.0000e-05\n",
            "Epoch 95/100\n",
            "\u001b[1m373/373\u001b[0m \u001b[32m━━━━━━━━━━━━━━━━━━━━\u001b[0m\u001b[37m\u001b[0m \u001b[1m142s\u001b[0m 304ms/step - accuracy: 0.9974 - loss: 0.0096 - val_accuracy: 0.8969 - val_loss: 0.4763 - learning_rate: 1.0000e-05\n",
            "Epoch 96/100\n",
            "\u001b[1m373/373\u001b[0m \u001b[32m━━━━━━━━━━━━━━━━━━━━\u001b[0m\u001b[37m\u001b[0m \u001b[1m115s\u001b[0m 308ms/step - accuracy: 0.9970 - loss: 0.0097 - val_accuracy: 0.8991 - val_loss: 0.4685 - learning_rate: 1.0000e-05\n",
            "Epoch 97/100\n",
            "\u001b[1m373/373\u001b[0m \u001b[32m━━━━━━━━━━━━━━━━━━━━\u001b[0m\u001b[37m\u001b[0m \u001b[1m141s\u001b[0m 305ms/step - accuracy: 0.9974 - loss: 0.0091 - val_accuracy: 0.9004 - val_loss: 0.4667 - learning_rate: 1.0000e-05\n",
            "Epoch 98/100\n",
            "\u001b[1m373/373\u001b[0m \u001b[32m━━━━━━━━━━━━━━━━━━━━\u001b[0m\u001b[37m\u001b[0m \u001b[1m137s\u001b[0m 292ms/step - accuracy: 0.9976 - loss: 0.0087 - val_accuracy: 0.9016 - val_loss: 0.4639 - learning_rate: 1.0000e-05\n",
            "Epoch 99/100\n",
            "\u001b[1m373/373\u001b[0m \u001b[32m━━━━━━━━━━━━━━━━━━━━\u001b[0m\u001b[37m\u001b[0m \u001b[1m146s\u001b[0m 302ms/step - accuracy: 0.9977 - loss: 0.0083 - val_accuracy: 0.9026 - val_loss: 0.4567 - learning_rate: 1.0000e-05\n",
            "Epoch 100/100\n",
            "\u001b[1m373/373\u001b[0m \u001b[32m━━━━━━━━━━━━━━━━━━━━\u001b[0m\u001b[37m\u001b[0m \u001b[1m144s\u001b[0m 308ms/step - accuracy: 0.9981 - loss: 0.0077 - val_accuracy: 0.8987 - val_loss: 0.4708 - learning_rate: 1.0000e-05\n",
            "Model training complete.\n"
          ]
        }
      ]
    },
    {
      "cell_type": "code",
      "source": [
        "# Plot training history to check for overfitting\n",
        "epochs = range(1, len(history.history['accuracy']) + 1)\n",
        "fig, ax = plt.subplots(1, 2, figsize=(15, 5))\n",
        "ax[0].plot(epochs, history.history['loss'], label='Training Loss')\n",
        "ax[0].plot(epochs, history.history['val_loss'], label='Validation Loss')\n",
        "ax[0].set_title('Training & Validation Loss')\n",
        "ax[0].set_xlabel('Epochs')\n",
        "ax[0].set_ylabel('Loss')\n",
        "ax[0].legend()\n",
        "ax[1].plot(epochs, history.history['accuracy'], label='Training Accuracy')\n",
        "ax[1].plot(epochs, history.history['val_accuracy'], label='Validation Accuracy')\n",
        "ax[1].set_title('Training & Validation Accuracy')\n",
        "ax[1].set_xlabel('Epochs')\n",
        "ax[1].set_ylabel('Accuracy')\n",
        "ax[1].legend()\n",
        "plt.show()\n",
        "\n",
        "# Final evaluation on the test data\n",
        "print(\"\\nFinal Model Evaluation on Test Data:\")\n",
        "\n",
        "test_loss, test_accuracy = model.evaluate(x_test, y_test, verbose=0)\n",
        "print(f\"Test Accuracy: {test_accuracy*100:.2f}%\")\n",
        "print(f\"Test Loss: {test_loss:.4f}\")\n",
        "\n",
        "\n",
        "y_pred = model.predict(x_test)\n",
        "y_pred_labels = encoder.inverse_transform(y_pred)\n",
        "y_test_labels = encoder.inverse_transform(y_test)\n",
        "print(\"\\nClassification Report:\")\n",
        "print(classification_report(y_test_labels, y_pred_labels, target_names=encoder.categories_[0]))\n",
        "\n",
        "cm = confusion_matrix(y_test_labels, y_pred_labels)\n",
        "plt.figure(figsize=(10, 8))\n",
        "sns.heatmap(cm, annot=True, fmt='d', cmap='Blues', xticklabels=encoder.categories_[0], yticklabels=encoder.categories_[0])\n",
        "plt.title('Confusion Matrix')\n",
        "plt.ylabel('Actual Labels')\n",
        "plt.xlabel('Predicted Labels')\n",
        "plt.show()\n",
        "\n",
        "def get_valence(emotion):\n",
        "    emotion = emotion.lower()\n",
        "    if emotion == 'happy':\n",
        "        return 'Positive'\n",
        "    elif emotion in ['sad', 'angry', 'fear', 'disgust']:\n",
        "        return 'Negative'\n",
        "    else:\n",
        "        return 'Neutral'\n",
        "\n",
        "\n",
        "print(\"\\n Example Predictions with Emotional Valence \")\n",
        "for i in range(10):\n",
        "    actual_emotion = y_test_labels[i][0]\n",
        "    predicted_emotion = y_pred_labels[i][0]\n",
        "    valence = get_valence(predicted_emotion)\n",
        "    print(f\"Actual: {actual_emotion:<10} | Predicted: {predicted_emotion:<10} | Valence: {valence}\")"
      ],
      "metadata": {
        "colab": {
          "base_uri": "https://localhost:8080/",
          "height": 1000
        },
        "id": "TX1ikXJhFNc0",
        "outputId": "4baafcea-65ab-4add-a723-003bce8f7956"
      },
      "execution_count": 15,
      "outputs": [
        {
          "output_type": "display_data",
          "data": {
            "text/plain": [
              "<Figure size 1500x500 with 2 Axes>"
            ],
            "image/png": "[encoded data removed]"
          },
          "metadata": {}
        },
        {
          "output_type": "stream",
          "name": "stdout",
          "text": [
            "\n",
            "Final Model Evaluation on Test Data:\n",
            "Test Accuracy: 90.26%\n",
            "Test Loss: 0.4567\n",
            "\u001b[1m187/187\u001b[0m \u001b[32m━━━━━━━━━━━━━━━━━━━━\u001b[0m\u001b[37m\u001b[0m \u001b[1m7s\u001b[0m 35ms/step\n",
            "\n",
            "Classification Report:\n",
            "              precision    recall  f1-score   support\n",
            "\n",
            "       angry       0.96      0.92      0.94      1011\n",
            "     disgust       0.90      0.89      0.89      1035\n",
            "        fear       0.89      0.87      0.88      1016\n",
            "       happy       0.93      0.89      0.91      1015\n",
            "     neutral       0.88      0.92      0.90       837\n",
            "         sad       0.86      0.93      0.89      1040\n",
            "\n",
            "    accuracy                           0.90      5954\n",
            "   macro avg       0.90      0.90      0.90      5954\n",
            "weighted avg       0.90      0.90      0.90      5954\n",
            "\n"
          ]
        },
        {
          "output_type": "display_data",
          "data": {
            "text/plain": [
              "<Figure size 1000x800 with 2 Axes>"
            ],
            "image/png": "[encoded data removed]"
          },
          "metadata": {}
        },
        {
          "output_type": "stream",
          "name": "stdout",
          "text": [
            "\n",
            " Example Predictions with Emotional Valence \n",
            "Actual: angry      | Predicted: angry      | Valence: Negative\n",
            "Actual: angry      | Predicted: angry      | Valence: Negative\n",
            "Actual: sad        | Predicted: sad        | Valence: Negative\n",
            "Actual: disgust    | Predicted: disgust    | Valence: Negative\n",
            "Actual: fear       | Predicted: fear       | Valence: Negative\n",
            "Actual: neutral    | Predicted: neutral    | Valence: Neutral\n",
            "Actual: happy      | Predicted: happy      | Valence: Positive\n",
            "Actual: happy      | Predicted: happy      | Valence: Positive\n",
            "Actual: disgust    | Predicted: fear       | Valence: Negative\n",
            "Actual: sad        | Predicted: sad        | Valence: Negative\n"
          ]
        }
      ]
    },
    {
      "cell_type": "code",
      "source": [
        "model_json = model.to_json()\n",
        "with open(\"cnn_lstm_model.json\", \"w\") as json_file:\n",
        "    json_file.write(model_json)\n",
        "\n",
        "print(\"Model architecture saved to cnn_lstm_model.json\")\n",
        "print(\"Best model weights saved to best_cnn_lstm_model.keras\")\n",
        "\n",
        "\n",
        "with open('scaler_seq.pickle', 'wb') as f:\n",
        "    pickle.dump(scaler, f)\n",
        "with open('encoder_seq.pickle', 'wb') as f:\n",
        "    pickle.dump(encoder, f)\n",
        "print(\"Scaler saved to scaler_seq.pickle\")\n",
        "print(\"Encoder saved to encoder_seq.pickle\")"
      ],
      "metadata": {
        "colab": {
          "base_uri": "https://localhost:8080/"
        },
        "id": "yaHW-c9wFkc3",
        "outputId": "b4c3f696-57ac-4f7c-c809-b26e22f31f8a"
      },
      "execution_count": 16,
      "outputs": [
        {
          "output_type": "stream",
          "name": "stdout",
          "text": [
            "Model architecture saved to cnn_lstm_model.json\n",
            "Best model weights saved to best_cnn_lstm_model.keras\n",
            "Scaler saved to scaler_seq.pickle\n",
            "Encoder saved to encoder_seq.pickle\n"
          ]
        }
      ]
    },
    {
      "cell_type": "code",
      "source": [
        "\n",
        "def predict_emotion_and_valence(audio_path):\n",
        "\n",
        "    with open('cnn_lstm_model.json', 'r') as json_file:\n",
        "        loaded_model_json = json_file.read()\n",
        "    loaded_model = model_from_json(loaded_model_json)\n",
        "    loaded_model.load_weights(\"best_cnn_lstm_model.keras\")\n",
        "\n",
        "    with open('scaler_seq.pickle', 'rb') as f:\n",
        "        scaler = pickle.load(f)\n",
        "    with open('encoder_seq.pickle', 'rb') as f:\n",
        "        encoder = pickle.load(f)\n",
        "    with open('max_len.txt', 'r') as f:\n",
        "        max_len = int(f.read())\n",
        "\n",
        "\n",
        "    data, sr = librosa.load(audio_path, duration=2.5, offset=0.6)\n",
        "    features = extract_features_sequential(data, sr, n_mfcc=40)\n",
        "    padded_features = pad_sequences([features], maxlen=max_len, padding='post', dtype='float32')\n",
        "    padded_features_2d = padded_features.reshape(1, -1)\n",
        "    scaled_features_2d = scaler.transform(padded_features_2d)\n",
        "    final_features = scaled_features_2d.reshape(padded_features.shape)\n",
        "\n",
        "\n",
        "    prediction = loaded_model.predict(final_features, verbose=0)\n",
        "    predicted_label = encoder.inverse_transform(prediction)[0][0]\n",
        "    predicted_valence = get_valence(predicted_label)\n",
        "\n",
        "    return predicted_label, predicted_valence\n",
        "\n",
        "\n",
        "try:\n",
        "    # Select a random file from the dataset to test the prediction function\n",
        "    test_file_path = data_path.Path.sample(1).iloc[0]\n",
        "    predicted_emotion, predicted_valence = predict_emotion_and_valence(test_file_path)\n",
        "\n",
        "    print(f\"\\n--- Prediction Test ---\")\n",
        "    print(f\"File Path: {test_file_path}\")\n",
        "    print(f\"Predicted Emotion: {predicted_emotion.upper()}\")\n",
        "    print(f\"Predicted Valence: {predicted_valence.upper()}\")\n",
        "except Exception as e:\n",
        "    print(f\"\\nCould not run prediction example. Error: {e}\")"
      ],
      "metadata": {
        "colab": {
          "base_uri": "https://localhost:8080/"
        },
        "id": "vZqO2r8rFvrZ",
        "outputId": "ea5d7b7a-d716-4168-8616-13233740ff9b"
      },
      "execution_count": 17,
      "outputs": [
        {
          "output_type": "stream",
          "name": "stdout",
          "text": [
            "\n",
            "--- Prediction Test ---\n",
            "File Path: /content/drive/MyDrive/AudioWAV/1052_WSI_ANG_XX.wav\n",
            "Predicted Emotion: ANGRY\n",
            "Predicted Valence: NEGATIVE\n"
          ]
        }
      ]
    },
    {
      "cell_type": "code",
      "source": [
        "model.save('my_model.h5')"
      ],
      "metadata": {
        "colab": {
          "base_uri": "https://localhost:8080/"
        },
        "id": "nbvcoF2-G1Re",
        "outputId": "c6c47207-1b24-4262-ed83-c338e7403721"
      },
      "execution_count": 19,
      "outputs": [
        {
          "output_type": "stream",
          "name": "stderr",
          "text": [
            "WARNING:absl:You are saving your model as an HDF5 file via `model.save()` or `keras.saving.save_model(model)`. This file format is considered legacy. We recommend using instead the native Keras format, e.g. `model.save('my_model.keras')` or `keras.saving.save_model(model, 'my_model.keras')`. \n"
          ]
        }
      ]
    },
    {
      "cell_type": "code",
      "source": [
        "from google.colab import files\n",
        "\n",
        "print(\"Preparing to download 4 essential files...\")\n",
        "\n",
        "\n",
        "files_to_download = [\n",
        "    'best_cnn_lstm_model.keras',\n",
        "    'scaler_seq.pickle',\n",
        "    'encoder_seq.pickle',\n",
        "    'max_len.txt'\n",
        "]"
      ],
      "metadata": {
        "colab": {
          "base_uri": "https://localhost:8080/"
        },
        "id": "xATlfBFlHqrA",
        "outputId": "652325ba-3619-4fcd-9c66-2e0b2c353a4e"
      },
      "execution_count": 23,
      "outputs": [
        {
          "output_type": "stream",
          "name": "stdout",
          "text": [
            "Preparing to download 4 essential files...\n"
          ]
        }
      ]
    },
    {
      "cell_type": "code",
      "source": [
        "for filename in files_to_download:\n",
        "    try:\n",
        "        print(f\"Downloading {filename}...\")\n",
        "        files.download(filename)\n",
        "        print(f\" {filename} download initiated.\")\n",
        "    except Exception as e:\n",
        "        print(f\"Could not find or download {filename}. Error: {e}\")\n",
        "        print(\"   Please make sure you have run all the previous cells in the notebook.\")\n",
        "\n",
        "print(\"\\nAll downloads have been initiated. Please check your browser's downloads folder.\")"
      ],
      "metadata": {
        "colab": {
          "base_uri": "https://localhost:8080/",
          "height": 199
        },
        "id": "JQoxAr5hHyRX",
        "outputId": "14e7a92e-2a08-4ea5-987e-af4754331ed2"
      },
      "execution_count": 24,
      "outputs": [
        {
          "output_type": "stream",
          "name": "stdout",
          "text": [
            "Downloading best_cnn_lstm_model.keras...\n"
          ]
        },
        {
          "output_type": "display_data",
          "data": {
            "text/plain": [
              "<IPython.core.display.Javascript object>"
            ],
            "application/javascript": [
              "\n",
              "    async function download(id, filename, size) {\n",
              "      if (!google.colab.kernel.accessAllowed) {\n",
              "        return;\n",
              "      }\n",
              "      const div = document.createElement('div');\n",
              "      const label = document.createElement('label');\n",
              "      label.textContent = `Downloading \"${filename}\": `;\n",
              "      div.appendChild(label);\n",
              "      const progress = document.createElement('progress');\n",
              "      progress.max = size;\n",
              "      div.appendChild(progress);\n",
              "      document.body.appendChild(div);\n",
              "\n",
              "      const buffers = [];\n",
              "      let downloaded = 0;\n",
              "\n",
              "      const channel = await google.colab.kernel.comms.open(id);\n",
              "      // Send a message to notify the kernel that we're ready.\n",
              "      channel.send({})\n",
              "\n",
              "      for await (const message of channel.messages) {\n",
              "        // Send a message to notify the kernel that we're ready.\n",
              "        channel.send({})\n",
              "        if (message.buffers) {\n",
              "          for (const buffer of message.buffers) {\n",
              "            buffers.push(buffer);\n",
              "            downloaded += buffer.byteLength;\n",
              "            progress.value = downloaded;\n",
              "          }\n",
              "        }\n",
              "      }\n",
              "      const blob = new Blob(buffers, {type: 'application/binary'});\n",
              "      const a = document.createElement('a');\n",
              "      a.href = window.URL.createObjectURL(blob);\n",
              "      a.download = filename;\n",
              "      div.appendChild(a);\n",
              "      a.click();\n",
              "      div.remove();\n",
              "    }\n",
              "  "
            ]
          },
          "metadata": {}
        },
        {
          "output_type": "display_data",
          "data": {
            "text/plain": [
              "<IPython.core.display.Javascript object>"
            ],
            "application/javascript": [
              "download(\"download_4bb38add-7b7e-4643-98e1-f89de35388ee\", \"best_cnn_lstm_model.keras\", 3427270)"
            ]
          },
          "metadata": {}
        },
        {
          "output_type": "stream",
          "name": "stdout",
          "text": [
            " best_cnn_lstm_model.keras download initiated.\n",
            "Downloading scaler_seq.pickle...\n"
          ]
        },
        {
          "output_type": "display_data",
          "data": {
            "text/plain": [
              "<IPython.core.display.Javascript object>"
            ],
            "application/javascript": [
              "\n",
              "    async function download(id, filename, size) {\n",
              "      if (!google.colab.kernel.accessAllowed) {\n",
              "        return;\n",
              "      }\n",
              "      const div = document.createElement('div');\n",
              "      const label = document.createElement('label');\n",
              "      label.textContent = `Downloading \"${filename}\": `;\n",
              "      div.appendChild(label);\n",
              "      const progress = document.createElement('progress');\n",
              "      progress.max = size;\n",
              "      div.appendChild(progress);\n",
              "      document.body.appendChild(div);\n",
              "\n",
              "      const buffers = [];\n",
              "      let downloaded = 0;\n",
              "\n",
              "      const channel = await google.colab.kernel.comms.open(id);\n",
              "      // Send a message to notify the kernel that we're ready.\n",
              "      channel.send({})\n",
              "\n",
              "      for await (const message of channel.messages) {\n",
              "        // Send a message to notify the kernel that we're ready.\n",
              "        channel.send({})\n",
              "        if (message.buffers) {\n",
              "          for (const buffer of message.buffers) {\n",
              "            buffers.push(buffer);\n",
              "            downloaded += buffer.byteLength;\n",
              "            progress.value = downloaded;\n",
              "          }\n",
              "        }\n",
              "      }\n",
              "      const blob = new Blob(buffers, {type: 'application/binary'});\n",
              "      const a = document.createElement('a');\n",
              "      a.href = window.URL.createObjectURL(blob);\n",
              "      a.download = filename;\n",
              "      div.appendChild(a);\n",
              "      a.click();\n",
              "      div.remove();\n",
              "    }\n",
              "  "
            ]
          },
          "metadata": {}
        },
        {
          "output_type": "display_data",
          "data": {
            "text/plain": [
              "<IPython.core.display.Javascript object>"
            ],
            "application/javascript": [
              "download(\"download_73c6b34e-a696-4025-a19a-740e9770dbab\", \"scaler_seq.pickle\", 130072)"
            ]
          },
          "metadata": {}
        },
        {
          "output_type": "stream",
          "name": "stdout",
          "text": [
            " scaler_seq.pickle download initiated.\n",
            "Downloading encoder_seq.pickle...\n"
          ]
        },
        {
          "output_type": "display_data",
          "data": {
            "text/plain": [
              "<IPython.core.display.Javascript object>"
            ],
            "application/javascript": [
              "\n",
              "    async function download(id, filename, size) {\n",
              "      if (!google.colab.kernel.accessAllowed) {\n",
              "        return;\n",
              "      }\n",
              "      const div = document.createElement('div');\n",
              "      const label = document.createElement('label');\n",
              "      label.textContent = `Downloading \"${filename}\": `;\n",
              "      div.appendChild(label);\n",
              "      const progress = document.createElement('progress');\n",
              "      progress.max = size;\n",
              "      div.appendChild(progress);\n",
              "      document.body.appendChild(div);\n",
              "\n",
              "      const buffers = [];\n",
              "      let downloaded = 0;\n",
              "\n",
              "      const channel = await google.colab.kernel.comms.open(id);\n",
              "      // Send a message to notify the kernel that we're ready.\n",
              "      channel.send({})\n",
              "\n",
              "      for await (const message of channel.messages) {\n",
              "        // Send a message to notify the kernel that we're ready.\n",
              "        channel.send({})\n",
              "        if (message.buffers) {\n",
              "          for (const buffer of message.buffers) {\n",
              "            buffers.push(buffer);\n",
              "            downloaded += buffer.byteLength;\n",
              "            progress.value = downloaded;\n",
              "          }\n",
              "        }\n",
              "      }\n",
              "      const blob = new Blob(buffers, {type: 'application/binary'});\n",
              "      const a = document.createElement('a');\n",
              "      a.href = window.URL.createObjectURL(blob);\n",
              "      a.download = filename;\n",
              "      div.appendChild(a);\n",
              "      a.click();\n",
              "      div.remove();\n",
              "    }\n",
              "  "
            ]
          },
          "metadata": {}
        },
        {
          "output_type": "display_data",
          "data": {
            "text/plain": [
              "<IPython.core.display.Javascript object>"
            ],
            "application/javascript": [
              "download(\"download_0ee8e948-b20e-4b8a-915d-540353a8f553\", \"encoder_seq.pickle\", 681)"
            ]
          },
          "metadata": {}
        },
        {
          "output_type": "stream",
          "name": "stdout",
          "text": [
            " encoder_seq.pickle download initiated.\n",
            "Downloading max_len.txt...\n"
          ]
        },
        {
          "output_type": "display_data",
          "data": {
            "text/plain": [
              "<IPython.core.display.Javascript object>"
            ],
            "application/javascript": [
              "\n",
              "    async function download(id, filename, size) {\n",
              "      if (!google.colab.kernel.accessAllowed) {\n",
              "        return;\n",
              "      }\n",
              "      const div = document.createElement('div');\n",
              "      const label = document.createElement('label');\n",
              "      label.textContent = `Downloading \"${filename}\": `;\n",
              "      div.appendChild(label);\n",
              "      const progress = document.createElement('progress');\n",
              "      progress.max = size;\n",
              "      div.appendChild(progress);\n",
              "      document.body.appendChild(div);\n",
              "\n",
              "      const buffers = [];\n",
              "      let downloaded = 0;\n",
              "\n",
              "      const channel = await google.colab.kernel.comms.open(id);\n",
              "      // Send a message to notify the kernel that we're ready.\n",
              "      channel.send({})\n",
              "\n",
              "      for await (const message of channel.messages) {\n",
              "        // Send a message to notify the kernel that we're ready.\n",
              "        channel.send({})\n",
              "        if (message.buffers) {\n",
              "          for (const buffer of message.buffers) {\n",
              "            buffers.push(buffer);\n",
              "            downloaded += buffer.byteLength;\n",
              "            progress.value = downloaded;\n",
              "          }\n",
              "        }\n",
              "      }\n",
              "      const blob = new Blob(buffers, {type: 'application/binary'});\n",
              "      const a = document.createElement('a');\n",
              "      a.href = window.URL.createObjectURL(blob);\n",
              "      a.download = filename;\n",
              "      div.appendChild(a);\n",
              "      a.click();\n",
              "      div.remove();\n",
              "    }\n",
              "  "
            ]
          },
          "metadata": {}
        },
        {
          "output_type": "display_data",
          "data": {
            "text/plain": [
              "<IPython.core.display.Javascript object>"
            ],
            "application/javascript": [
              "download(\"download_e2df5338-fa78-413b-96dd-cf24fc75db59\", \"max_len.txt\", 3)"
            ]
          },
          "metadata": {}
        },
        {
          "output_type": "stream",
          "name": "stdout",
          "text": [
            " max_len.txt download initiated.\n",
            "\n",
            "All downloads have been initiated. Please check your browser's downloads folder.\n"
          ]
        }
      ]
    }
  ]
}