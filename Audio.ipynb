{
  "nbformat": 4,
  "nbformat_minor": 0,
  "metadata": {
    "colab": {
      "provenance": [],
      "authorship_tag": "ABX9TyOVB+Y/QqGCTnO+q5OMfTzh",
      "include_colab_link": true
    },
    "kernelspec": {
      "name": "python3",
      "display_name": "Python 3"
    },
    "language_info": {
      "name": "python"
    },
    "widgets": {
      "application/vnd.jupyter.widget-state+json": {
        "1832a71bcac647debacd54de045d82a1": {
          "model_module": "@jupyter-widgets/controls",
          "model_name": "HBoxModel",
          "model_module_version": "1.5.0",
          "state": {
            "_dom_classes": [],
            "_model_module": "@jupyter-widgets/controls",
            "_model_module_version": "1.5.0",
            "_model_name": "HBoxModel",
            "_view_count": null,
            "_view_module": "@jupyter-widgets/controls",
            "_view_module_version": "1.5.0",
            "_view_name": "HBoxView",
            "box_style": "",
            "children": [
              "IPY_MODEL_922d4df4033f4d928137a229f458788a",
              "IPY_MODEL_a761c0eaee5c45c983987940dace12ab",
              "IPY_MODEL_07e48aa33d2d4504ae92d3b149aa0d6f"
            ],
            "layout": "IPY_MODEL_e860dfb1a3f746d5a56b142558e02b43"
          }
        },
        "922d4df4033f4d928137a229f458788a": {
          "model_module": "@jupyter-widgets/controls",
          "model_name": "HTMLModel",
          "model_module_version": "1.5.0",
          "state": {
            "_dom_classes": [],
            "_model_module": "@jupyter-widgets/controls",
            "_model_module_version": "1.5.0",
            "_model_name": "HTMLModel",
            "_view_count": null,
            "_view_module": "@jupyter-widgets/controls",
            "_view_module_version": "1.5.0",
            "_view_name": "HTMLView",
            "description": "",
            "description_tooltip": null,
            "layout": "IPY_MODEL_599eca8c9b8f42d9bef1d8c8a85fe237",
            "placeholder": "​",
            "style": "IPY_MODEL_a8dc659e79cf4894b18235a08f776250",
            "value": "Processing Files: 100%"
          }
        },
        "a761c0eaee5c45c983987940dace12ab": {
          "model_module": "@jupyter-widgets/controls",
          "model_name": "FloatProgressModel",
          "model_module_version": "1.5.0",
          "state": {
            "_dom_classes": [],
            "_model_module": "@jupyter-widgets/controls",
            "_model_module_version": "1.5.0",
            "_model_name": "FloatProgressModel",
            "_view_count": null,
            "_view_module": "@jupyter-widgets/controls",
            "_view_module_version": "1.5.0",
            "_view_name": "ProgressView",
            "bar_style": "success",
            "description": "",
            "description_tooltip": null,
            "layout": "IPY_MODEL_1a6c6fb517ef4a0db11be473525ef26c",
            "max": 7442,
            "min": 0,
            "orientation": "horizontal",
            "style": "IPY_MODEL_723a5ddf7c264768a8fffdb9aec4071f",
            "value": 7442
          }
        },
        "07e48aa33d2d4504ae92d3b149aa0d6f": {
          "model_module": "@jupyter-widgets/controls",
          "model_name": "HTMLModel",
          "model_module_version": "1.5.0",
          "state": {
            "_dom_classes": [],
            "_model_module": "@jupyter-widgets/controls",
            "_model_module_version": "1.5.0",
            "_model_name": "HTMLModel",
            "_view_count": null,
            "_view_module": "@jupyter-widgets/controls",
            "_view_module_version": "1.5.0",
            "_view_name": "HTMLView",
            "description": "",
            "description_tooltip": null,
            "layout": "IPY_MODEL_277e22bf2fb34333874214dcd6fa6b66",
            "placeholder": "​",
            "style": "IPY_MODEL_7d07b4ea37fa45d0bcf46b754c64a9a9",
            "value": " 7442/7442 [3:13:40&lt;00:00,  2.17s/it]"
          }
        },
        "e860dfb1a3f746d5a56b142558e02b43": {
          "model_module": "@jupyter-widgets/base",
          "model_name": "LayoutModel",
          "model_module_version": "1.2.0",
          "state": {
            "_model_module": "@jupyter-widgets/base",
            "_model_module_version": "1.2.0",
            "_model_name": "LayoutModel",
            "_view_count": null,
            "_view_module": "@jupyter-widgets/base",
            "_view_module_version": "1.2.0",
            "_view_name": "LayoutView",
            "align_content": null,
            "align_items": null,
            "align_self": null,
            "border": null,
            "bottom": null,
            "display": null,
            "flex": null,
            "flex_flow": null,
            "grid_area": null,
            "grid_auto_columns": null,
            "grid_auto_flow": null,
            "grid_auto_rows": null,
            "grid_column": null,
            "grid_gap": null,
            "grid_row": null,
            "grid_template_areas": null,
            "grid_template_columns": null,
            "grid_template_rows": null,
            "height": null,
            "justify_content": null,
            "justify_items": null,
            "left": null,
            "margin": null,
            "max_height": null,
            "max_width": null,
            "min_height": null,
            "min_width": null,
            "object_fit": null,
            "object_position": null,
            "order": null,
            "overflow": null,
            "overflow_x": null,
            "overflow_y": null,
            "padding": null,
            "right": null,
            "top": null,
            "visibility": null,
            "width": null
          }
        },
        "599eca8c9b8f42d9bef1d8c8a85fe237": {
          "model_module": "@jupyter-widgets/base",
          "model_name": "LayoutModel",
          "model_module_version": "1.2.0",
          "state": {
            "_model_module": "@jupyter-widgets/base",
            "_model_module_version": "1.2.0",
            "_model_name": "LayoutModel",
            "_view_count": null,
            "_view_module": "@jupyter-widgets/base",
            "_view_module_version": "1.2.0",
            "_view_name": "LayoutView",
            "align_content": null,
            "align_items": null,
            "align_self": null,
            "border": null,
            "bottom": null,
            "display": null,
            "flex": null,
            "flex_flow": null,
            "grid_area": null,
            "grid_auto_columns": null,
            "grid_auto_flow": null,
            "grid_auto_rows": null,
            "grid_column": null,
            "grid_gap": null,
            "grid_row": null,
            "grid_template_areas": null,
            "grid_template_columns": null,
            "grid_template_rows": null,
            "height": null,
            "justify_content": null,
            "justify_items": null,
            "left": null,
            "margin": null,
            "max_height": null,
            "max_width": null,
            "min_height": null,
            "min_width": null,
            "object_fit": null,
            "object_position": null,
            "order": null,
            "overflow": null,
            "overflow_x": null,
            "overflow_y": null,
            "padding": null,
            "right": null,
            "top": null,
            "visibility": null,
            "width": null
          }
        },
        "a8dc659e79cf4894b18235a08f776250": {
          "model_module": "@jupyter-widgets/controls",
          "model_name": "DescriptionStyleModel",
          "model_module_version": "1.5.0",
          "state": {
            "_model_module": "@jupyter-widgets/controls",
            "_model_module_version": "1.5.0",
            "_model_name": "DescriptionStyleModel",
            "_view_count": null,
            "_view_module": "@jupyter-widgets/base",
            "_view_module_version": "1.2.0",
            "_view_name": "StyleView",
            "description_width": ""
          }
        },
        "1a6c6fb517ef4a0db11be473525ef26c": {
          "model_module": "@jupyter-widgets/base",
          "model_name": "LayoutModel",
          "model_module_version": "1.2.0",
          "state": {
            "_model_module": "@jupyter-widgets/base",
            "_model_module_version": "1.2.0",
            "_model_name": "LayoutModel",
            "_view_count": null,
            "_view_module": "@jupyter-widgets/base",
            "_view_module_version": "1.2.0",
            "_view_name": "LayoutView",
            "align_content": null,
            "align_items": null,
            "align_self": null,
            "border": null,
            "bottom": null,
            "display": null,
            "flex": null,
            "flex_flow": null,
            "grid_area": null,
            "grid_auto_columns": null,
            "grid_auto_flow": null,
            "grid_auto_rows": null,
            "grid_column": null,
            "grid_gap": null,
            "grid_row": null,
            "grid_template_areas": null,
            "grid_template_columns": null,
            "grid_template_rows": null,
            "height": null,
            "justify_content": null,
            "justify_items": null,
            "left": null,
            "margin": null,
            "max_height": null,
            "max_width": null,
            "min_height": null,
            "min_width": null,
            "object_fit": null,
            "object_position": null,
            "order": null,
            "overflow": null,
            "overflow_x": null,
            "overflow_y": null,
            "padding": null,
            "right": null,
            "top": null,
            "visibility": null,
            "width": null
          }
        },
        "723a5ddf7c264768a8fffdb9aec4071f": {
          "model_module": "@jupyter-widgets/controls",
          "model_name": "ProgressStyleModel",
          "model_module_version": "1.5.0",
          "state": {
            "_model_module": "@jupyter-widgets/controls",
            "_model_module_version": "1.5.0",
            "_model_name": "ProgressStyleModel",
            "_view_count": null,
            "_view_module": "@jupyter-widgets/base",
            "_view_module_version": "1.2.0",
            "_view_name": "StyleView",
            "bar_color": null,
            "description_width": ""
          }
        },
        "277e22bf2fb34333874214dcd6fa6b66": {
          "model_module": "@jupyter-widgets/base",
          "model_name": "LayoutModel",
          "model_module_version": "1.2.0",
          "state": {
            "_model_module": "@jupyter-widgets/base",
            "_model_module_version": "1.2.0",
            "_model_name": "LayoutModel",
            "_view_count": null,
            "_view_module": "@jupyter-widgets/base",
            "_view_module_version": "1.2.0",
            "_view_name": "LayoutView",
            "align_content": null,
            "align_items": null,
            "align_self": null,
            "border": null,
            "bottom": null,
            "display": null,
            "flex": null,
            "flex_flow": null,
            "grid_area": null,
            "grid_auto_columns": null,
            "grid_auto_flow": null,
            "grid_auto_rows": null,
            "grid_column": null,
            "grid_gap": null,
            "grid_row": null,
            "grid_template_areas": null,
            "grid_template_columns": null,
            "grid_template_rows": null,
            "height": null,
            "justify_content": null,
            "justify_items": null,
            "left": null,
            "margin": null,
            "max_height": null,
            "max_width": null,
            "min_height": null,
            "min_width": null,
            "object_fit": null,
            "object_position": null,
            "order": null,
            "overflow": null,
            "overflow_x": null,
            "overflow_y": null,
            "padding": null,
            "right": null,
            "top": null,
            "visibility": null,
            "width": null
          }
        },
        "7d07b4ea37fa45d0bcf46b754c64a9a9": {
          "model_module": "@jupyter-widgets/controls",
          "model_name": "DescriptionStyleModel",
          "model_module_version": "1.5.0",
          "state": {
            "_model_module": "@jupyter-widgets/controls",
            "_model_module_version": "1.5.0",
            "_model_name": "DescriptionStyleModel",
            "_view_count": null,
            "_view_module": "@jupyter-widgets/base",
            "_view_module_version": "1.2.0",
            "_view_name": "StyleView",
            "description_width": ""
          }
        }
      }
    }
  },
  "cells": [
    {
      "cell_type": "markdown",
      "metadata": {
        "id": "view-in-github",
        "colab_type": "text"
      },
      "source": [
        "<a href=\"https://colab.research.google.com/github/Mihirirj/Audio_PRE-FE/blob/main/Audio.ipynb\" target=\"_parent\"><img src=\"https://colab.research.google.com/assets/colab-badge.svg\" alt=\"Open In Colab\"/></a>"
      ]
    },
    {
      "cell_type": "code",
      "execution_count": 1,
      "metadata": {
        "colab": {
          "base_uri": "https://localhost:8080/"
        },
        "id": "zpgsZMSiuDDO",
        "outputId": "b8c565c1-046c-4dd5-bc59-b3db524e8aac"
      },
      "outputs": [
        {
          "output_type": "stream",
          "name": "stdout",
          "text": [
            "Mounted at /content/drive\n"
          ]
        }
      ],
      "source": [
        "from google.colab import drive\n",
        "drive.mount('/content/drive')"
      ]
    },
    {
      "cell_type": "code",
      "source": [
        "import os\n",
        "import glob\n",
        "import librosa\n",
        "import librosa.display\n",
        "import numpy as np\n",
        "import pandas as pd\n",
        "from tqdm.notebook import tqdm\n",
        "\n",
        "print(\"Libraries imported.\")"
      ],
      "metadata": {
        "colab": {
          "base_uri": "https://localhost:8080/"
        },
        "id": "7TADbg67ugkb",
        "outputId": "29a2372a-d6a4-4b69-e374-048b04e9d5ce"
      },
      "execution_count": 2,
      "outputs": [
        {
          "output_type": "stream",
          "name": "stdout",
          "text": [
            "Libraries imported.\n"
          ]
        }
      ]
    },
    {
      "cell_type": "code",
      "source": [
        "CREMA_D_FOLDER = '/content/drive/My Drive/AudioWAV'\n",
        "OUTPUT_CSV_PATH = '/content/drive/My Drive/crema_d_features.csv'"
      ],
      "metadata": {
        "id": "UTi7MjQnup6j"
      },
      "execution_count": 3,
      "outputs": []
    },
    {
      "cell_type": "code",
      "source": [
        "# Audio parameters\n",
        "TARGET_SR = 16000\n",
        "SEGMENT_DURATION_S = 3.0\n",
        "SEGMENT_SAMPLES = int(TARGET_SR * SEGMENT_DURATION_S)\n",
        "PREEMPHASIS_COEFF = 0.97\n",
        "\n",
        "# Feature parameters\n",
        "N_MFCC = 13 # Number of MFCC coefficients\n",
        "HOP_LENGTH = 512 # Samples between successive frames for MFCC/pitch\n",
        "WIN_LENGTH = 1024 # Window size for analysis\n",
        "PITCH_FMIN = librosa.note_to_hz('C2') # 65 Hz\n",
        "PITCH_FMAX = librosa.note_to_hz('C7') # 2093 Hz\n",
        "SILENCE_THRESHOLD_DB = 40 # Quieter than this relative to max is silence\n",
        "\n",
        "# Emotion mapping from CREMA-D filenames\n",
        "EMOTION_MAP = {\n",
        "    'HAP': 'happy',\n",
        "    'SAD': 'sad',\n",
        "    'NEU': 'neutral',\n",
        "    'FEA': 'fear',\n",
        "    'ANG': 'angry',\n",
        "    'DIS': 'disgust'\n",
        "}\n",
        "# We only care about the 6 core emotions specified\n",
        "VALID_EMOTIONS = list(EMOTION_MAP.keys())\n",
        "\n",
        "print(f\"Target SR: {TARGET_SR}\")\n",
        "print(f\"Segment Duration: {SEGMENT_DURATION_S}s ({SEGMENT_SAMPLES} samples)\")\n",
        "print(f\"Output CSV: {OUTPUT_CSV_PATH}\")"
      ],
      "metadata": {
        "colab": {
          "base_uri": "https://localhost:8080/"
        },
        "id": "7HqLkBZnu9v6",
        "outputId": "7ca8464b-2897-4835-9edc-1fb1faf57109"
      },
      "execution_count": 4,
      "outputs": [
        {
          "output_type": "stream",
          "name": "stdout",
          "text": [
            "Target SR: 16000\n",
            "Segment Duration: 3.0s (48000 samples)\n",
            "Output CSV: /content/drive/My Drive/crema_d_features.csv\n"
          ]
        }
      ]
    },
    {
      "cell_type": "code",
      "source": [
        "audio_files = glob.glob(os.path.join(CREMA_D_FOLDER, '*.wav'))\n",
        "\n",
        "if not audio_files:\n",
        "    print(f\"!!! ERROR: No .wav files found in {CREMA_D_FOLDER}\")\n",
        "    print(\"!!! Please double-check the CREMA_D_FOLDER path.\")\n",
        "else:\n",
        "    print(f\"Found {len(audio_files)} audio files.\")"
      ],
      "metadata": {
        "colab": {
          "base_uri": "https://localhost:8080/"
        },
        "id": "mdBXIqBLwKyA",
        "outputId": "cddeee46-de65-4f23-baed-15df0ed04a49"
      },
      "execution_count": 5,
      "outputs": [
        {
          "output_type": "stream",
          "name": "stdout",
          "text": [
            "Found 7442 audio files.\n"
          ]
        }
      ]
    },
    {
      "cell_type": "code",
      "source": [
        "# Define Helper Functions\n",
        "\n",
        "def extract_labels(filename):\n",
        "    \"\"\"Extracts speaker ID and emotion from CREMA-D filename.\"\"\"\n",
        "    basename = os.path.basename(filename)\n",
        "    parts = basename.split('_')\n",
        "    if len(parts) >= 3:\n",
        "        speaker_id = parts[0]\n",
        "        emotion_code = parts[2]\n",
        "        if emotion_code in EMOTION_MAP:\n",
        "            emotion_label = EMOTION_MAP[emotion_code]\n",
        "            return {'speaker_id': speaker_id, 'emotion': emotion_label, 'filename': basename}\n",
        "    return None # Return None if filename format is unexpected or emotion is not valid\n",
        "\n",
        "def preprocess_and_segment(file_path, target_sr, segment_samples, preemph_coeff):\n",
        "    \"\"\"Loads, preprocesses, and segments a single audio file.\"\"\"\n",
        "    segments = []\n",
        "    original_sr = 0\n",
        "    try:\n",
        "        # Load audio, force to mono, use target SR if possible during load\n",
        "        # Load with original SR first to check, then resample if needed\n",
        "        y, sr_orig = librosa.load(file_path, sr=None, mono=True)\n",
        "        original_sr = sr_orig # Store original SR for info\n",
        "\n",
        "        # Resample if necessary\n",
        "        if sr_orig != target_sr:\n",
        "            y = librosa.resample(y=y, orig_sr=sr_orig, target_sr=target_sr)\n",
        "\n",
        "        # Apply pre-emphasis\n",
        "        y = librosa.effects.preemphasis(y, coef=preemph_coeff)\n",
        "\n",
        "        # Normalize audio (peak normalization)\n",
        "        y = librosa.util.normalize(y)\n",
        "\n",
        "        # Segment audio into fixed-length chunks\n",
        "        num_segments = int(np.ceil(len(y) / segment_samples))\n",
        "\n",
        "        for i in range(num_segments):\n",
        "            start_sample = i * segment_samples\n",
        "            end_sample = start_sample + segment_samples\n",
        "            segment = y[start_sample:end_sample]\n",
        "\n",
        "            # Pad the last segment if it's shorter than required\n",
        "            if len(segment) < segment_samples:\n",
        "                padding = segment_samples - len(segment)\n",
        "                segment = np.pad(segment, (0, padding), 'constant')\n",
        "\n",
        "            segments.append(segment)\n",
        "\n",
        "    except Exception as e:\n",
        "        print(f\"Error processing {file_path}: {e}\")\n",
        "        return [], original_sr # Return empty list on error\n",
        "\n",
        "    return segments, original_sr\n",
        "\n",
        "def extract_features(y_segment, sr, n_mfcc, hop_length, win_length, pitch_fmin, pitch_fmax, silence_threshold_db):\n",
        "    \"\"\"Extracts features from a single audio segment.\"\"\"\n",
        "    features = {}\n",
        "    try:\n",
        "        # 1. MFCCs (Mean, Delta Mean, Delta^2 Mean)\n",
        "        mfccs = librosa.feature.mfcc(y=y_segment, sr=sr, n_mfcc=n_mfcc,\n",
        "                                     hop_length=hop_length, win_length=win_length)\n",
        "        delta_mfccs = librosa.feature.delta(mfccs)\n",
        "        delta2_mfccs = librosa.feature.delta(mfccs, order=2)\n",
        "\n",
        "        features['mfcc_mean'] = np.mean(mfccs, axis=1)\n",
        "        features['mfcc_delta_mean'] = np.mean(delta_mfccs, axis=1)\n",
        "        features['mfcc_delta2_mean'] = np.mean(delta2_mfccs, axis=1) # Captures variance dynamics\n",
        "\n",
        "        # 2. Pitch Variability (Standard Deviation of F0)\n",
        "        # Using YIN algorithm for fundamental frequency estimation\n",
        "        f0, voiced_flag, voiced_probs = librosa.pyin(y=y_segment,\n",
        "                                                     fmin=pitch_fmin,\n",
        "                                                     fmax=pitch_fmax,\n",
        "                                                     sr=sr,\n",
        "                                                     hop_length=hop_length)\n",
        "        # Get only voiced frames where f0 is not NaN\n",
        "        voiced_f0 = f0[voiced_flag]\n",
        "        if len(voiced_f0) > 1:\n",
        "             features['pitch_std_dev'] = np.std(voiced_f0)\n",
        "        else:\n",
        "             features['pitch_std_dev'] = 0.0 # Assign 0 if no/one voiced frame found\n",
        "\n",
        "        # 3. Pause Frequency (Fraction of silent frames)\n",
        "        # Calculate Root Mean Square energy\n",
        "        rms = librosa.feature.rms(y=y_segment, hop_length=hop_length)[0]\n",
        "        # Find silent frames (energy below threshold dB from max)\n",
        "        if len(rms) > 0 and np.max(rms) > 0: # Avoid log(0)\n",
        "            db_threshold = librosa.amplitude_to_db(np.max(rms)) - silence_threshold_db\n",
        "            silent_frames = rms < librosa.db_to_amplitude(db_threshold)\n",
        "            features['silence_fraction'] = np.sum(silent_frames) / len(rms)\n",
        "        else:\n",
        "            features['silence_fraction'] = 1.0 if len(y_segment) > 0 else 0.0 # Assume silent if max RMS is 0 or length 0\n",
        "\n",
        "\n",
        "        # Optional: Jitter & Shimmer (Requires more specialized libraries like parselmouth, skipping for now)\n",
        "        # features['jitter'] = ...\n",
        "        # features['shimmer'] = ...\n",
        "\n",
        "    except Exception as e:\n",
        "        print(f\"Error extracting features: {e}\")\n",
        "        return None # Return None on error during feature extraction\n",
        "\n",
        "    return features\n"
      ],
      "metadata": {
        "id": "LIOok1I6wkZp"
      },
      "execution_count": 6,
      "outputs": []
    },
    {
      "cell_type": "code",
      "source": [
        "#  Main Processing Loop\n",
        "all_features_list = []\n",
        "processed_files = 0\n",
        "skipped_files = 0\n",
        "\n",
        "print(\"\\nStarting preprocessing and feature extraction...\")\n",
        "\n",
        "for file_path in tqdm(audio_files, desc=\"Processing Files\"):\n",
        "    # Extract labels first\n",
        "    labels = extract_labels(file_path)\n",
        "\n",
        "    if labels is None or labels['emotion'] not in EMOTION_MAP.values():\n",
        "         # print(f\"Skipping file (invalid name or emotion): {os.path.basename(file_path)}\")\n",
        "         skipped_files += 1\n",
        "         continue # Skip files that don't match the required emotions or naming\n",
        "\n",
        "    # Preprocess and segment the audio file\n",
        "    segments, original_sr = preprocess_and_segment(file_path, TARGET_SR, SEGMENT_SAMPLES, PREEMPHASIS_COEFF)\n",
        "\n",
        "    if not segments:\n",
        "        # print(f\"Skipping file due to processing error: {os.path.basename(file_path)}\")\n",
        "        skipped_files += 1\n",
        "        continue\n",
        "\n",
        "    # Process each segment\n",
        "    for i, segment in enumerate(segments):\n",
        "        segment_features = extract_features(segment, TARGET_SR, N_MFCC, HOP_LENGTH, WIN_LENGTH, PITCH_FMIN, PITCH_FMAX, SILENCE_THRESHOLD_DB)\n",
        "\n",
        "        if segment_features:\n",
        "            # Flatten MFCC means into separate columns\n",
        "            record = {\n",
        "                'filename': labels['filename'],\n",
        "                'speaker_id': labels['speaker_id'],\n",
        "                'emotion': labels['emotion'],\n",
        "                'segment_id': i,\n",
        "                'original_sr': original_sr,\n",
        "                'pitch_std_dev': segment_features['pitch_std_dev'],\n",
        "                'silence_fraction': segment_features['silence_fraction'],\n",
        "                # Add other scalar features here...\n",
        "            }\n",
        "            # Add MFCC means\n",
        "            for j, val in enumerate(segment_features['mfcc_mean']):\n",
        "                record[f'mfcc_mean_{j}'] = val\n",
        "            for j, val in enumerate(segment_features['mfcc_delta_mean']):\n",
        "                record[f'mfcc_delta_mean_{j}'] = val\n",
        "            for j, val in enumerate(segment_features['mfcc_delta2_mean']):\n",
        "                record[f'mfcc_delta2_mean_{j}'] = val\n",
        "\n",
        "            all_features_list.append(record)\n",
        "\n",
        "    processed_files += 1\n",
        "\n",
        "print(f\"\\nProcessed {processed_files} files.\")\n",
        "print(f\"Skipped {skipped_files} files (invalid format, non-core emotion, or processing error).\")\n",
        "print(f\"Extracted features for {len(all_features_list)} segments.\")\n"
      ],
      "metadata": {
        "colab": {
          "base_uri": "https://localhost:8080/",
          "height": 158,
          "referenced_widgets": [
            "1832a71bcac647debacd54de045d82a1",
            "922d4df4033f4d928137a229f458788a",
            "a761c0eaee5c45c983987940dace12ab",
            "07e48aa33d2d4504ae92d3b149aa0d6f",
            "e860dfb1a3f746d5a56b142558e02b43",
            "599eca8c9b8f42d9bef1d8c8a85fe237",
            "a8dc659e79cf4894b18235a08f776250",
            "1a6c6fb517ef4a0db11be473525ef26c",
            "723a5ddf7c264768a8fffdb9aec4071f",
            "277e22bf2fb34333874214dcd6fa6b66",
            "7d07b4ea37fa45d0bcf46b754c64a9a9"
          ]
        },
        "id": "l0byeMTLw6ev",
        "outputId": "ba86f9fe-1fa7-48de-d9fb-ec0ff24ff22f"
      },
      "execution_count": 7,
      "outputs": [
        {
          "metadata": {
            "tags": null
          },
          "name": "stdout",
          "output_type": "stream",
          "text": [
            "\n",
            "Starting preprocessing and feature extraction...\n"
          ]
        },
        {
          "data": {
            "application/vnd.jupyter.widget-view+json": {
              "model_id": "1832a71bcac647debacd54de045d82a1",
              "version_major": 2,
              "version_minor": 0
            },
            "text/plain": [
              "Processing Files:   0%|          | 0/7442 [00:00<?, ?it/s]"
            ]
          },
          "metadata": {},
          "output_type": "display_data"
        },
        {
          "output_type": "stream",
          "name": "stdout",
          "text": [
            "\n",
            "Processed 7442 files.\n",
            "Skipped 0 files (invalid format, non-core emotion, or processing error).\n",
            "Extracted features for 8694 segments.\n"
          ]
        }
      ]
    },
    {
      "cell_type": "code",
      "source": [],
      "metadata": {
        "id": "Jm6ktuS5e-jO"
      },
      "execution_count": null,
      "outputs": []
    }
  ]
}