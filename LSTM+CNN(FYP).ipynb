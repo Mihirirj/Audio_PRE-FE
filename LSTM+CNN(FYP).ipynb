{
  "nbformat": 4,
  "nbformat_minor": 0,
  "metadata": {
    "colab": {
      "provenance": [],
      "authorship_tag": "ABX9TyNCumLxfROzU3fxdED5wrFG",
      "include_colab_link": true
    },
    "kernelspec": {
      "name": "python3",
      "display_name": "Python 3"
    },
    "language_info": {
      "name": "python"
    },
    "widgets": {
      "application/vnd.jupyter.widget-state+json": {
        "89be576ce16b4ea99ca83a8dd0a7c212": {
          "model_module": "@jupyter-widgets/controls",
          "model_name": "HBoxModel",
          "model_module_version": "1.5.0",
          "state": {
            "_dom_classes": [],
            "_model_module": "@jupyter-widgets/controls",
            "_model_module_version": "1.5.0",
            "_model_name": "HBoxModel",
            "_view_count": null,
            "_view_module": "@jupyter-widgets/controls",
            "_view_module_version": "1.5.0",
            "_view_name": "HBoxView",
            "box_style": "",
            "children": [
              "IPY_MODEL_0bcbae2629f14e57816ee9b180b69508",
              "IPY_MODEL_84dc724c90cc48f7887eaaf55aa989e5",
              "IPY_MODEL_92a73cd2e1bf4620b388b063548c5e03"
            ],
            "layout": "IPY_MODEL_fdc1af981ccd43269b8b27de32b83781"
          }
        },
        "0bcbae2629f14e57816ee9b180b69508": {
          "model_module": "@jupyter-widgets/controls",
          "model_name": "HTMLModel",
          "model_module_version": "1.5.0",
          "state": {
            "_dom_classes": [],
            "_model_module": "@jupyter-widgets/controls",
            "_model_module_version": "1.5.0",
            "_model_name": "HTMLModel",
            "_view_count": null,
            "_view_module": "@jupyter-widgets/controls",
            "_view_module_version": "1.5.0",
            "_view_name": "HTMLView",
            "description": "",
            "description_tooltip": null,
            "layout": "IPY_MODEL_5eda638fef144e5c84af655c1e73c45d",
            "placeholder": "​",
            "style": "IPY_MODEL_2ef825c3bd134a3994d430f1b41112e8",
            "value": "Processing filenames: 100%"
          }
        },
        "84dc724c90cc48f7887eaaf55aa989e5": {
          "model_module": "@jupyter-widgets/controls",
          "model_name": "FloatProgressModel",
          "model_module_version": "1.5.0",
          "state": {
            "_dom_classes": [],
            "_model_module": "@jupyter-widgets/controls",
            "_model_module_version": "1.5.0",
            "_model_name": "FloatProgressModel",
            "_view_count": null,
            "_view_module": "@jupyter-widgets/controls",
            "_view_module_version": "1.5.0",
            "_view_name": "ProgressView",
            "bar_style": "success",
            "description": "",
            "description_tooltip": null,
            "layout": "IPY_MODEL_281c8036ddcd4f14b83b35ad601fbcb1",
            "max": 7442,
            "min": 0,
            "orientation": "horizontal",
            "style": "IPY_MODEL_13ed8c67425b4cb399cd89fa654f8e64",
            "value": 7442
          }
        },
        "92a73cd2e1bf4620b388b063548c5e03": {
          "model_module": "@jupyter-widgets/controls",
          "model_name": "HTMLModel",
          "model_module_version": "1.5.0",
          "state": {
            "_dom_classes": [],
            "_model_module": "@jupyter-widgets/controls",
            "_model_module_version": "1.5.0",
            "_model_name": "HTMLModel",
            "_view_count": null,
            "_view_module": "@jupyter-widgets/controls",
            "_view_module_version": "1.5.0",
            "_view_name": "HTMLView",
            "description": "",
            "description_tooltip": null,
            "layout": "IPY_MODEL_fc04dc153d55485ab58f8a9a2ac92532",
            "placeholder": "​",
            "style": "IPY_MODEL_eba3826f7b1248b389267238fdd2e467",
            "value": " 7442/7442 [00:00&lt;00:00,  6.45it/s]"
          }
        },
        "fdc1af981ccd43269b8b27de32b83781": {
          "model_module": "@jupyter-widgets/base",
          "model_name": "LayoutModel",
          "model_module_version": "1.2.0",
          "state": {
            "_model_module": "@jupyter-widgets/base",
            "_model_module_version": "1.2.0",
            "_model_name": "LayoutModel",
            "_view_count": null,
            "_view_module": "@jupyter-widgets/base",
            "_view_module_version": "1.2.0",
            "_view_name": "LayoutView",
            "align_content": null,
            "align_items": null,
            "align_self": null,
            "border": null,
            "bottom": null,
            "display": null,
            "flex": null,
            "flex_flow": null,
            "grid_area": null,
            "grid_auto_columns": null,
            "grid_auto_flow": null,
            "grid_auto_rows": null,
            "grid_column": null,
            "grid_gap": null,
            "grid_row": null,
            "grid_template_areas": null,
            "grid_template_columns": null,
            "grid_template_rows": null,
            "height": null,
            "justify_content": null,
            "justify_items": null,
            "left": null,
            "margin": null,
            "max_height": null,
            "max_width": null,
            "min_height": null,
            "min_width": null,
            "object_fit": null,
            "object_position": null,
            "order": null,
            "overflow": null,
            "overflow_x": null,
            "overflow_y": null,
            "padding": null,
            "right": null,
            "top": null,
            "visibility": null,
            "width": null
          }
        },
        "5eda638fef144e5c84af655c1e73c45d": {
          "model_module": "@jupyter-widgets/base",
          "model_name": "LayoutModel",
          "model_module_version": "1.2.0",
          "state": {
            "_model_module": "@jupyter-widgets/base",
            "_model_module_version": "1.2.0",
            "_model_name": "LayoutModel",
            "_view_count": null,
            "_view_module": "@jupyter-widgets/base",
            "_view_module_version": "1.2.0",
            "_view_name": "LayoutView",
            "align_content": null,
            "align_items": null,
            "align_self": null,
            "border": null,
            "bottom": null,
            "display": null,
            "flex": null,
            "flex_flow": null,
            "grid_area": null,
            "grid_auto_columns": null,
            "grid_auto_flow": null,
            "grid_auto_rows": null,
            "grid_column": null,
            "grid_gap": null,
            "grid_row": null,
            "grid_template_areas": null,
            "grid_template_columns": null,
            "grid_template_rows": null,
            "height": null,
            "justify_content": null,
            "justify_items": null,
            "left": null,
            "margin": null,
            "max_height": null,
            "max_width": null,
            "min_height": null,
            "min_width": null,
            "object_fit": null,
            "object_position": null,
            "order": null,
            "overflow": null,
            "overflow_x": null,
            "overflow_y": null,
            "padding": null,
            "right": null,
            "top": null,
            "visibility": null,
            "width": null
          }
        },
        "2ef825c3bd134a3994d430f1b41112e8": {
          "model_module": "@jupyter-widgets/controls",
          "model_name": "DescriptionStyleModel",
          "model_module_version": "1.5.0",
          "state": {
            "_model_module": "@jupyter-widgets/controls",
            "_model_module_version": "1.5.0",
            "_model_name": "DescriptionStyleModel",
            "_view_count": null,
            "_view_module": "@jupyter-widgets/base",
            "_view_module_version": "1.2.0",
            "_view_name": "StyleView",
            "description_width": ""
          }
        },
        "281c8036ddcd4f14b83b35ad601fbcb1": {
          "model_module": "@jupyter-widgets/base",
          "model_name": "LayoutModel",
          "model_module_version": "1.2.0",
          "state": {
            "_model_module": "@jupyter-widgets/base",
            "_model_module_version": "1.2.0",
            "_model_name": "LayoutModel",
            "_view_count": null,
            "_view_module": "@jupyter-widgets/base",
            "_view_module_version": "1.2.0",
            "_view_name": "LayoutView",
            "align_content": null,
            "align_items": null,
            "align_self": null,
            "border": null,
            "bottom": null,
            "display": null,
            "flex": null,
            "flex_flow": null,
            "grid_area": null,
            "grid_auto_columns": null,
            "grid_auto_flow": null,
            "grid_auto_rows": null,
            "grid_column": null,
            "grid_gap": null,
            "grid_row": null,
            "grid_template_areas": null,
            "grid_template_columns": null,
            "grid_template_rows": null,
            "height": null,
            "justify_content": null,
            "justify_items": null,
            "left": null,
            "margin": null,
            "max_height": null,
            "max_width": null,
            "min_height": null,
            "min_width": null,
            "object_fit": null,
            "object_position": null,
            "order": null,
            "overflow": null,
            "overflow_x": null,
            "overflow_y": null,
            "padding": null,
            "right": null,
            "top": null,
            "visibility": null,
            "width": null
          }
        },
        "13ed8c67425b4cb399cd89fa654f8e64": {
          "model_module": "@jupyter-widgets/controls",
          "model_name": "ProgressStyleModel",
          "model_module_version": "1.5.0",
          "state": {
            "_model_module": "@jupyter-widgets/controls",
            "_model_module_version": "1.5.0",
            "_model_name": "ProgressStyleModel",
            "_view_count": null,
            "_view_module": "@jupyter-widgets/base",
            "_view_module_version": "1.2.0",
            "_view_name": "StyleView",
            "bar_color": null,
            "description_width": ""
          }
        },
        "fc04dc153d55485ab58f8a9a2ac92532": {
          "model_module": "@jupyter-widgets/base",
          "model_name": "LayoutModel",
          "model_module_version": "1.2.0",
          "state": {
            "_model_module": "@jupyter-widgets/base",
            "_model_module_version": "1.2.0",
            "_model_name": "LayoutModel",
            "_view_count": null,
            "_view_module": "@jupyter-widgets/base",
            "_view_module_version": "1.2.0",
            "_view_name": "LayoutView",
            "align_content": null,
            "align_items": null,
            "align_self": null,
            "border": null,
            "bottom": null,
            "display": null,
            "flex": null,
            "flex_flow": null,
            "grid_area": null,
            "grid_auto_columns": null,
            "grid_auto_flow": null,
            "grid_auto_rows": null,
            "grid_column": null,
            "grid_gap": null,
            "grid_row": null,
            "grid_template_areas": null,
            "grid_template_columns": null,
            "grid_template_rows": null,
            "height": null,
            "justify_content": null,
            "justify_items": null,
            "left": null,
            "margin": null,
            "max_height": null,
            "max_width": null,
            "min_height": null,
            "min_width": null,
            "object_fit": null,
            "object_position": null,
            "order": null,
            "overflow": null,
            "overflow_x": null,
            "overflow_y": null,
            "padding": null,
            "right": null,
            "top": null,
            "visibility": null,
            "width": null
          }
        },
        "eba3826f7b1248b389267238fdd2e467": {
          "model_module": "@jupyter-widgets/controls",
          "model_name": "DescriptionStyleModel",
          "model_module_version": "1.5.0",
          "state": {
            "_model_module": "@jupyter-widgets/controls",
            "_model_module_version": "1.5.0",
            "_model_name": "DescriptionStyleModel",
            "_view_count": null,
            "_view_module": "@jupyter-widgets/base",
            "_view_module_version": "1.2.0",
            "_view_name": "StyleView",
            "description_width": ""
          }
        },
        "e30642774caf44f3b4d50861af12ba20": {
          "model_module": "@jupyter-widgets/controls",
          "model_name": "HBoxModel",
          "model_module_version": "1.5.0",
          "state": {
            "_dom_classes": [],
            "_model_module": "@jupyter-widgets/controls",
            "_model_module_version": "1.5.0",
            "_model_name": "HBoxModel",
            "_view_count": null,
            "_view_module": "@jupyter-widgets/controls",
            "_view_module_version": "1.5.0",
            "_view_name": "HBoxView",
            "box_style": "",
            "children": [
              "IPY_MODEL_587a4ca96f174bd5a8417545399a364b",
              "IPY_MODEL_9d5fb3ce281e4e6c8ab65997e684261e",
              "IPY_MODEL_b2795bc3d5c64087ab48e4fcf989c0a5"
            ],
            "layout": "IPY_MODEL_9f034cd988064099858ee839510e1fab"
          }
        },
        "587a4ca96f174bd5a8417545399a364b": {
          "model_module": "@jupyter-widgets/controls",
          "model_name": "HTMLModel",
          "model_module_version": "1.5.0",
          "state": {
            "_dom_classes": [],
            "_model_module": "@jupyter-widgets/controls",
            "_model_module_version": "1.5.0",
            "_model_name": "HTMLModel",
            "_view_count": null,
            "_view_module": "@jupyter-widgets/controls",
            "_view_module_version": "1.5.0",
            "_view_name": "HTMLView",
            "description": "",
            "description_tooltip": null,
            "layout": "IPY_MODEL_3bca2ad2b5294e97b815f95a0a44c068",
            "placeholder": "​",
            "style": "IPY_MODEL_0c702c93f55d4cfaa2e40801287b307b",
            "value": "Augmenting (Noise) and Extracting Features: 100%"
          }
        },
        "9d5fb3ce281e4e6c8ab65997e684261e": {
          "model_module": "@jupyter-widgets/controls",
          "model_name": "FloatProgressModel",
          "model_module_version": "1.5.0",
          "state": {
            "_dom_classes": [],
            "_model_module": "@jupyter-widgets/controls",
            "_model_module_version": "1.5.0",
            "_model_name": "FloatProgressModel",
            "_view_count": null,
            "_view_module": "@jupyter-widgets/controls",
            "_view_module_version": "1.5.0",
            "_view_name": "ProgressView",
            "bar_style": "success",
            "description": "",
            "description_tooltip": null,
            "layout": "IPY_MODEL_ebcf7a7af2d244509901adb79f305589",
            "max": 7442,
            "min": 0,
            "orientation": "horizontal",
            "style": "IPY_MODEL_07b254b4483640beb68f21ac73db5ab8",
            "value": 7442
          }
        },
        "b2795bc3d5c64087ab48e4fcf989c0a5": {
          "model_module": "@jupyter-widgets/controls",
          "model_name": "HTMLModel",
          "model_module_version": "1.5.0",
          "state": {
            "_dom_classes": [],
            "_model_module": "@jupyter-widgets/controls",
            "_model_module_version": "1.5.0",
            "_model_name": "HTMLModel",
            "_view_count": null,
            "_view_module": "@jupyter-widgets/controls",
            "_view_module_version": "1.5.0",
            "_view_name": "HTMLView",
            "description": "",
            "description_tooltip": null,
            "layout": "IPY_MODEL_591db97312b64474bb082a5215ad3743",
            "placeholder": "​",
            "style": "IPY_MODEL_ce51e880295e411ab6bdb7d6c64a8984",
            "value": " 7442/7442 [32:14&lt;00:00,  4.00it/s]"
          }
        },
        "9f034cd988064099858ee839510e1fab": {
          "model_module": "@jupyter-widgets/base",
          "model_name": "LayoutModel",
          "model_module_version": "1.2.0",
          "state": {
            "_model_module": "@jupyter-widgets/base",
            "_model_module_version": "1.2.0",
            "_model_name": "LayoutModel",
            "_view_count": null,
            "_view_module": "@jupyter-widgets/base",
            "_view_module_version": "1.2.0",
            "_view_name": "LayoutView",
            "align_content": null,
            "align_items": null,
            "align_self": null,
            "border": null,
            "bottom": null,
            "display": null,
            "flex": null,
            "flex_flow": null,
            "grid_area": null,
            "grid_auto_columns": null,
            "grid_auto_flow": null,
            "grid_auto_rows": null,
            "grid_column": null,
            "grid_gap": null,
            "grid_row": null,
            "grid_template_areas": null,
            "grid_template_columns": null,
            "grid_template_rows": null,
            "height": null,
            "justify_content": null,
            "justify_items": null,
            "left": null,
            "margin": null,
            "max_height": null,
            "max_width": null,
            "min_height": null,
            "min_width": null,
            "object_fit": null,
            "object_position": null,
            "order": null,
            "overflow": null,
            "overflow_x": null,
            "overflow_y": null,
            "padding": null,
            "right": null,
            "top": null,
            "visibility": null,
            "width": null
          }
        },
        "3bca2ad2b5294e97b815f95a0a44c068": {
          "model_module": "@jupyter-widgets/base",
          "model_name": "LayoutModel",
          "model_module_version": "1.2.0",
          "state": {
            "_model_module": "@jupyter-widgets/base",
            "_model_module_version": "1.2.0",
            "_model_name": "LayoutModel",
            "_view_count": null,
            "_view_module": "@jupyter-widgets/base",
            "_view_module_version": "1.2.0",
            "_view_name": "LayoutView",
            "align_content": null,
            "align_items": null,
            "align_self": null,
            "border": null,
            "bottom": null,
            "display": null,
            "flex": null,
            "flex_flow": null,
            "grid_area": null,
            "grid_auto_columns": null,
            "grid_auto_flow": null,
            "grid_auto_rows": null,
            "grid_column": null,
            "grid_gap": null,
            "grid_row": null,
            "grid_template_areas": null,
            "grid_template_columns": null,
            "grid_template_rows": null,
            "height": null,
            "justify_content": null,
            "justify_items": null,
            "left": null,
            "margin": null,
            "max_height": null,
            "max_width": null,
            "min_height": null,
            "min_width": null,
            "object_fit": null,
            "object_position": null,
            "order": null,
            "overflow": null,
            "overflow_x": null,
            "overflow_y": null,
            "padding": null,
            "right": null,
            "top": null,
            "visibility": null,
            "width": null
          }
        },
        "0c702c93f55d4cfaa2e40801287b307b": {
          "model_module": "@jupyter-widgets/controls",
          "model_name": "DescriptionStyleModel",
          "model_module_version": "1.5.0",
          "state": {
            "_model_module": "@jupyter-widgets/controls",
            "_model_module_version": "1.5.0",
            "_model_name": "DescriptionStyleModel",
            "_view_count": null,
            "_view_module": "@jupyter-widgets/base",
            "_view_module_version": "1.2.0",
            "_view_name": "StyleView",
            "description_width": ""
          }
        },
        "ebcf7a7af2d244509901adb79f305589": {
          "model_module": "@jupyter-widgets/base",
          "model_name": "LayoutModel",
          "model_module_version": "1.2.0",
          "state": {
            "_model_module": "@jupyter-widgets/base",
            "_model_module_version": "1.2.0",
            "_model_name": "LayoutModel",
            "_view_count": null,
            "_view_module": "@jupyter-widgets/base",
            "_view_module_version": "1.2.0",
            "_view_name": "LayoutView",
            "align_content": null,
            "align_items": null,
            "align_self": null,
            "border": null,
            "bottom": null,
            "display": null,
            "flex": null,
            "flex_flow": null,
            "grid_area": null,
            "grid_auto_columns": null,
            "grid_auto_flow": null,
            "grid_auto_rows": null,
            "grid_column": null,
            "grid_gap": null,
            "grid_row": null,
            "grid_template_areas": null,
            "grid_template_columns": null,
            "grid_template_rows": null,
            "height": null,
            "justify_content": null,
            "justify_items": null,
            "left": null,
            "margin": null,
            "max_height": null,
            "max_width": null,
            "min_height": null,
            "min_width": null,
            "object_fit": null,
            "object_position": null,
            "order": null,
            "overflow": null,
            "overflow_x": null,
            "overflow_y": null,
            "padding": null,
            "right": null,
            "top": null,
            "visibility": null,
            "width": null
          }
        },
        "07b254b4483640beb68f21ac73db5ab8": {
          "model_module": "@jupyter-widgets/controls",
          "model_name": "ProgressStyleModel",
          "model_module_version": "1.5.0",
          "state": {
            "_model_module": "@jupyter-widgets/controls",
            "_model_module_version": "1.5.0",
            "_model_name": "ProgressStyleModel",
            "_view_count": null,
            "_view_module": "@jupyter-widgets/base",
            "_view_module_version": "1.2.0",
            "_view_name": "StyleView",
            "bar_color": null,
            "description_width": ""
          }
        },
        "591db97312b64474bb082a5215ad3743": {
          "model_module": "@jupyter-widgets/base",
          "model_name": "LayoutModel",
          "model_module_version": "1.2.0",
          "state": {
            "_model_module": "@jupyter-widgets/base",
            "_model_module_version": "1.2.0",
            "_model_name": "LayoutModel",
            "_view_count": null,
            "_view_module": "@jupyter-widgets/base",
            "_view_module_version": "1.2.0",
            "_view_name": "LayoutView",
            "align_content": null,
            "align_items": null,
            "align_self": null,
            "border": null,
            "bottom": null,
            "display": null,
            "flex": null,
            "flex_flow": null,
            "grid_area": null,
            "grid_auto_columns": null,
            "grid_auto_flow": null,
            "grid_auto_rows": null,
            "grid_column": null,
            "grid_gap": null,
            "grid_row": null,
            "grid_template_areas": null,
            "grid_template_columns": null,
            "grid_template_rows": null,
            "height": null,
            "justify_content": null,
            "justify_items": null,
            "left": null,
            "margin": null,
            "max_height": null,
            "max_width": null,
            "min_height": null,
            "min_width": null,
            "object_fit": null,
            "object_position": null,
            "order": null,
            "overflow": null,
            "overflow_x": null,
            "overflow_y": null,
            "padding": null,
            "right": null,
            "top": null,
            "visibility": null,
            "width": null
          }
        },
        "ce51e880295e411ab6bdb7d6c64a8984": {
          "model_module": "@jupyter-widgets/controls",
          "model_name": "DescriptionStyleModel",
          "model_module_version": "1.5.0",
          "state": {
            "_model_module": "@jupyter-widgets/controls",
            "_model_module_version": "1.5.0",
            "_model_name": "DescriptionStyleModel",
            "_view_count": null,
            "_view_module": "@jupyter-widgets/base",
            "_view_module_version": "1.2.0",
            "_view_name": "StyleView",
            "description_width": ""
          }
        }
      }
    }
  },
  "cells": [
    {
      "cell_type": "markdown",
      "metadata": {
        "id": "view-in-github",
        "colab_type": "text"
      },
      "source": [
        "<a href=\"https://colab.research.google.com/github/Mihirirj/Audio_PRE-FE/blob/main/LSTM%2BCNN(FYP).ipynb\" target=\"_parent\"><img src=\"https://colab.research.google.com/assets/colab-badge.svg\" alt=\"Open In Colab\"/></a>"
      ]
    },
    {
      "cell_type": "code",
      "source": [
        "!apt-get update -qq && apt-get install -y libsndfile1 -qq\n",
        "!pip install -q -U google-generativeai librosa tensorflow scikit-learn pandas seaborn matplotlib\n",
        "\n",
        "\n",
        "\n",
        "import pandas as pd\n",
        "import numpy as np\n",
        "import os\n",
        "import sys\n",
        "import pickle\n",
        "from tqdm.notebook import tqdm\n",
        "import random\n",
        "\n",
        "# Audio Processing\n",
        "import librosa\n",
        "import librosa.display\n",
        "\n",
        "# Visualization\n",
        "import seaborn as sns\n",
        "import matplotlib.pyplot as plt\n",
        "\n",
        "# Scikit-learn for Preprocessing and Metrics\n",
        "from sklearn.preprocessing import StandardScaler, OneHotEncoder\n",
        "from sklearn.model_selection import train_test_split\n",
        "from sklearn.metrics import confusion_matrix, classification_report\n",
        "\n",
        "# Keras / TensorFlow for Model Building\n",
        "import tensorflow as tf\n",
        "from tensorflow.keras.models import Sequential, model_from_json\n",
        "from tensorflow.keras.layers import (\n",
        "    Conv1D, MaxPooling1D, BatchNormalization, Dropout, Flatten, Dense,\n",
        "    LSTM\n",
        ")\n",
        "from tensorflow.keras.preprocessing.sequence import pad_sequences\n",
        "from tensorflow.keras.callbacks import ModelCheckpoint, EarlyStopping, ReduceLROnPlateau\n",
        "\n",
        "\n",
        "import google.generativeai as genai\n",
        "from IPython.display import display, HTML, Markdown, clear_output\n",
        "from google.colab import userdata, drive\n",
        "from google.colab.output import eval_js\n",
        "from base64 import b64decode\n",
        "import io\n",
        "\n",
        "\n",
        "import warnings\n",
        "if not sys.warnoptions:\n",
        "    warnings.simplefilter(\"ignore\")\n",
        "warnings.filterwarnings(\"ignore\", category=DeprecationWarning)\n",
        "\n",
        "print(\" Libraries imported and system updated successfully.\")"
      ],
      "metadata": {
        "colab": {
          "base_uri": "https://localhost:8080/"
        },
        "id": "ssr0ZIMnb0ft",
        "outputId": "9fe89ec9-b10a-4d0e-8451-4ac52055d772"
      },
      "execution_count": 3,
      "outputs": [
        {
          "output_type": "stream",
          "name": "stdout",
          "text": [
            "W: Skipping acquire of configured file 'main/source/Sources' as repository 'https://r2u.stat.illinois.edu/ubuntu jammy InRelease' does not seem to provide it (sources.list entry misspelt?)\n",
            " Libraries imported and system updated successfully.\n"
          ]
        }
      ]
    },
    {
      "cell_type": "code",
      "source": [
        "try:\n",
        "    drive.mount('/content/drive')\n",
        "\n",
        "    CREMA_D_PATH = \"/content/drive/MyDrive/AudioWAV/\"\n",
        "\n",
        "    if not os.path.exists(CREMA_D_PATH):\n",
        "        print(f\" ERROR: The path '{CREMA_D_PATH}' does not exist.\")\n",
        "        print(\"Please make sure you have uploaded the 'AudioWAV' folder to your Google Drive and updated the CREMA_D_PATH variable.\")\n",
        "    else:\n",
        "        print(\"  Google Drive mounted and dataset path confirmed.\")\n",
        "except Exception as e:\n",
        "    print(f\" ERROR mounting drive: {e}\")"
      ],
      "metadata": {
        "colab": {
          "base_uri": "https://localhost:8080/"
        },
        "id": "yalAk0iicYo8",
        "outputId": "e2bfa397-663b-4a37-ea3b-4198d6ae0da7"
      },
      "execution_count": 6,
      "outputs": [
        {
          "output_type": "stream",
          "name": "stdout",
          "text": [
            "Drive already mounted at /content/drive; to attempt to forcibly remount, call drive.mount(\"/content/drive\", force_remount=True).\n",
            "  Google Drive mounted and dataset path confirmed.\n"
          ]
        }
      ]
    },
    {
      "cell_type": "code",
      "source": [
        "crema_directory_list = os.listdir(CREMA_D_PATH)\n",
        "\n",
        "file_emotion = []\n",
        "file_path = []\n",
        "\n",
        "\n",
        "emotion_map = {\n",
        "    'SAD': 'sad', 'ANG': 'angry', 'DIS': 'disgust',\n",
        "    'FEA': 'fear', 'HAP': 'happy', 'NEU': 'neutral'\n",
        "}\n",
        "\n",
        "for file in tqdm(crema_directory_list, desc=\"Processing filenames\"):\n",
        "    file_path.append(os.path.join(CREMA_D_PATH, file))\n",
        "    part = file.split('_')\n",
        "    emotion_code = part[2]\n",
        "    file_emotion.append(emotion_map.get(emotion_code, 'Unknown'))\n",
        "\n",
        "\n",
        "emotion_df = pd.DataFrame(file_emotion, columns=['Emotions'])\n",
        "path_df = pd.DataFrame(file_path, columns=['Path'])\n",
        "data_path = pd.concat([emotion_df, path_df], axis=1)\n",
        "\n",
        "\n",
        "data_path = data_path[data_path['Emotions'] != 'Unknown']\n",
        "\n",
        "print(\"\\n CREMA-D DataFrame created successfully.\")\n",
        "print(\"\\nEmotion Counts in the Dataset:\")\n",
        "print(data_path['Emotions'].value_counts())"
      ],
      "metadata": {
        "colab": {
          "base_uri": "https://localhost:8080/",
          "height": 268,
          "referenced_widgets": [
            "89be576ce16b4ea99ca83a8dd0a7c212",
            "0bcbae2629f14e57816ee9b180b69508",
            "84dc724c90cc48f7887eaaf55aa989e5",
            "92a73cd2e1bf4620b388b063548c5e03",
            "fdc1af981ccd43269b8b27de32b83781",
            "5eda638fef144e5c84af655c1e73c45d",
            "2ef825c3bd134a3994d430f1b41112e8",
            "281c8036ddcd4f14b83b35ad601fbcb1",
            "13ed8c67425b4cb399cd89fa654f8e64",
            "fc04dc153d55485ab58f8a9a2ac92532",
            "eba3826f7b1248b389267238fdd2e467"
          ]
        },
        "id": "qx9k3_L1dMfW",
        "outputId": "4d0eb4a8-75e4-427c-849c-77bd483402b9"
      },
      "execution_count": 7,
      "outputs": [
        {
          "output_type": "display_data",
          "data": {
            "text/plain": [
              "Processing filenames:   0%|          | 0/7442 [00:00<?, ?it/s]"
            ],
            "application/vnd.jupyter.widget-view+json": {
              "version_major": 2,
              "version_minor": 0,
              "model_id": "89be576ce16b4ea99ca83a8dd0a7c212"
            }
          },
          "metadata": {}
        },
        {
          "output_type": "stream",
          "name": "stdout",
          "text": [
            "\n",
            " CREMA-D DataFrame created successfully.\n",
            "\n",
            "Emotion Counts in the Dataset:\n",
            "Emotions\n",
            "fear       1271\n",
            "disgust    1271\n",
            "sad        1271\n",
            "happy      1271\n",
            "angry      1271\n",
            "neutral    1087\n",
            "Name: count, dtype: int64\n"
          ]
        }
      ]
    },
    {
      "cell_type": "code",
      "source": [
        "plt.style.use('seaborn-v0_8-whitegrid')\n",
        "plt.figure(figsize=(12, 6))\n",
        "plt.title('Count of Emotions in CREMA-D Dataset (Before Augmentation)', size=16)\n",
        "sns.countplot(x=data_path.Emotions, palette=\"viridis\", order=data_path['Emotions'].value_counts().index)\n",
        "plt.ylabel('Count', size=12)\n",
        "plt.xlabel('Emotions', size=12)\n",
        "sns.despine(top=True, right=True, left=False, bottom=False)\n",
        "plt.show()\n",
        "print(\" Exploratory Data Analysis complete.\")"
      ],
      "metadata": {
        "colab": {
          "base_uri": "https://localhost:8080/",
          "height": 671
        },
        "id": "wcvEbiUldqkj",
        "outputId": "59e3dca0-fe3b-45bd-86ff-5b32ec40f857"
      },
      "execution_count": 9,
      "outputs": [
        {
          "output_type": "stream",
          "name": "stderr",
          "text": [
            "/tmp/ipython-input-3266510839.py:4: FutureWarning: \n",
            "\n",
            "Passing `palette` without assigning `hue` is deprecated and will be removed in v0.14.0. Assign the `x` variable to `hue` and set `legend=False` for the same effect.\n",
            "\n",
            "  sns.countplot(x=data_path.Emotions, palette=\"viridis\", order=data_path['Emotions'].value_counts().index)\n"
          ]
        },
        {
          "output_type": "display_data",
          "data": {
            "text/plain": [
              "<Figure size 1200x600 with 1 Axes>"
            ],
            "image/png": "[encoded data removed]"
          },
          "metadata": {}
        },
        {
          "output_type": "stream",
          "name": "stdout",
          "text": [
            " Exploratory Data Analysis complete.\n"
          ]
        }
      ]
    },
    {
      "cell_type": "code",
      "source": [
        "def noise(data, noise_factor=0.035):\n",
        "\n",
        "    noise_amp = noise_factor * np.random.uniform() * np.amax(data)\n",
        "    data = data + noise_amp * np.random.normal(size=data.shape[0])\n",
        "    return data\n",
        "\n",
        "\n",
        "def extract_features_sequential(data, sr=22050, n_mfcc=40):\n",
        "\n",
        "    mfccs = librosa.feature.mfcc(y=data, sr=sr, n_mfcc=n_mfcc)\n",
        "    return mfccs.T\n",
        "\n",
        "\n",
        "def get_features_with_noise_augmentation(path):\n",
        "\n",
        "    data, sr = librosa.load(path, duration=2.5, offset=0.6)\n",
        "\n",
        "    #  Original Features\n",
        "    original_features = extract_features_sequential(data, sr)\n",
        "\n",
        "    #  Noise-Augmented Features\n",
        "    noise_data = noise(data)\n",
        "    noise_features = extract_features_sequential(noise_data, sr)\n",
        "\n",
        "    return [original_features, noise_features]\n",
        "\n",
        "print(\"Feature extraction and focused noise augmentation functions defined.\")"
      ],
      "metadata": {
        "colab": {
          "base_uri": "https://localhost:8080/"
        },
        "id": "r39l8r1FewpJ",
        "outputId": "264172e3-2577-4490-dc62-27e6f3b9c591"
      },
      "execution_count": 10,
      "outputs": [
        {
          "output_type": "stream",
          "name": "stdout",
          "text": [
            "Feature extraction and focused noise augmentation functions defined.\n"
          ]
        }
      ]
    },
    {
      "cell_type": "code",
      "source": [
        "X_seq, Y_seq = [], []\n",
        "\n",
        "for path, emotion in tqdm(zip(data_path.Path, data_path.Emotions), total=len(data_path), desc=\"Augmenting (Noise) and Extracting Features\"):\n",
        "    try:\n",
        "\n",
        "        feature_list = get_features_with_noise_augmentation(path)\n",
        "        for features in feature_list:\n",
        "            X_seq.append(features)\n",
        "\n",
        "            Y_seq.append(emotion)\n",
        "    except Exception as e:\n",
        "        print(f\"Error processing {path}: {e}\")\n",
        "\n",
        "\n",
        "max_len = max([len(x) for x in X_seq])\n",
        "print(f\"\\nMaximum sequence length found: {max_len}\")\n",
        "\n",
        "X_padded = pad_sequences(X_seq, maxlen=max_len, padding='post', dtype='float32')\n",
        "\n",
        "np.save('/content/drive/MyDrive/X_padded_features_noise_only.npy', X_padded)\n",
        "np.save('/content/drive/MyDrive/Y_labels_noise_only.npy', np.array(Y_seq))\n",
        "with open('/content/drive/MyDrive/max_len_noise_only.txt', 'w') as f:\n",
        "    f.write(str(max_len))\n",
        "\n",
        "print(f\"\\nDataset size after noise augmentation: {len(X_padded)} samples (doubled).\")\n",
        "print(\"\\n Noise-augmented sequential features saved to Google Drive.\")"
      ],
      "metadata": {
        "colab": {
          "base_uri": "https://localhost:8080/",
          "height": 158,
          "referenced_widgets": [
            "e30642774caf44f3b4d50861af12ba20",
            "587a4ca96f174bd5a8417545399a364b",
            "9d5fb3ce281e4e6c8ab65997e684261e",
            "b2795bc3d5c64087ab48e4fcf989c0a5",
            "9f034cd988064099858ee839510e1fab",
            "3bca2ad2b5294e97b815f95a0a44c068",
            "0c702c93f55d4cfaa2e40801287b307b",
            "ebcf7a7af2d244509901adb79f305589",
            "07b254b4483640beb68f21ac73db5ab8",
            "591db97312b64474bb082a5215ad3743",
            "ce51e880295e411ab6bdb7d6c64a8984"
          ]
        },
        "id": "jGBKZfHFfk6I",
        "outputId": "fb675c4b-c10c-4dcd-f9d3-3609745d87ab"
      },
      "execution_count": 11,
      "outputs": [
        {
          "data": {
            "application/vnd.jupyter.widget-view+json": {
              "model_id": "e30642774caf44f3b4d50861af12ba20",
              "version_major": 2,
              "version_minor": 0
            },
            "text/plain": [
              "Augmenting (Noise) and Extracting Features:   0%|          | 0/7442 [00:00<?, ?it/s]"
            ]
          },
          "metadata": {},
          "output_type": "display_data"
        },
        {
          "output_type": "stream",
          "name": "stdout",
          "text": [
            "\n",
            "Maximum sequence length found: 108\n",
            "\n",
            "Dataset size after noise augmentation: 14884 samples (doubled).\n",
            "\n",
            " Noise-augmented sequential features saved to Google Drive.\n"
          ]
        }
      ]
    },
    {
      "cell_type": "code",
      "source": [
        "X = np.load('/content/drive/MyDrive/X_padded_features_noise_only.npy')\n",
        "Y = np.load('/content/drive/MyDrive/Y_labels_noise_only.npy')\n",
        "\n",
        "\n",
        "encoder = OneHotEncoder(sparse_output=False)\n",
        "Y = encoder.fit_transform(np.array(Y).reshape(-1, 1))\n",
        "\n",
        "\n",
        "x_train, x_test, y_train, y_test = train_test_split(X, Y, random_state=42, test_size=0.2, shuffle=True)\n",
        "\n",
        "\n",
        "scaler = StandardScaler()\n",
        "x_train = scaler.fit_transform(x_train.reshape(-1, x_train.shape[-1])).reshape(x_train.shape)\n",
        "x_test = scaler.transform(x_test.reshape(-1, x_test.shape[-1])).reshape(x_test.shape)\n",
        "\n",
        "print(f\"Data shapes: \\nx_train: {x_train.shape}\\ny_train: {y_train.shape}\\nx_test: {x_test.shape}\\ny_test: {y_test.shape}\")\n",
        "print(\"\\n Data loaded, encoded, split, and scaled successfully.\")"
      ],
      "metadata": {
        "colab": {
          "base_uri": "https://localhost:8080/"
        },
        "id": "oLUCf2_6kf7w",
        "outputId": "5d5a8513-ef3d-4a36-f9d1-22a428202555"
      },
      "execution_count": 12,
      "outputs": [
        {
          "output_type": "stream",
          "name": "stdout",
          "text": [
            "Data shapes: \n",
            "x_train: (11907, 108, 40)\n",
            "y_train: (11907, 6)\n",
            "x_test: (2977, 108, 40)\n",
            "y_test: (2977, 6)\n",
            "\n",
            " Data loaded, encoded, split, and scaled successfully.\n"
          ]
        }
      ]
    },
    {
      "cell_type": "code",
      "source": [
        "input_shape = (x_train.shape[1], x_train.shape[2])\n",
        "model = Sequential([\n",
        "    Conv1D(256, kernel_size=5, strides=1, padding='same', activation='relu', input_shape=input_shape),\n",
        "    BatchNormalization(), MaxPooling1D(pool_size=5, strides=2, padding='same'),\n",
        "    Conv1D(128, kernel_size=5, strides=1, padding='same', activation='relu'),\n",
        "    BatchNormalization(), MaxPooling1D(pool_size=5, strides=2, padding='same'), Dropout(0.3),\n",
        "    Conv1D(64, kernel_size=3, strides=1, padding='same', activation='relu'),\n",
        "    BatchNormalization(), MaxPooling1D(pool_size=5, strides=2, padding='same'),\n",
        "    LSTM(64), Dropout(0.3),\n",
        "    Dense(64, activation='relu'), BatchNormalization(),\n",
        "    Dense(y_train.shape[1], activation='softmax')\n",
        "])\n",
        "model.compile(optimizer='adam', loss='categorical_crossentropy', metrics=['accuracy'])\n",
        "model.summary()\n",
        "print(\"\\n Hybrid CNN-LSTM model built successfully.\")"
      ],
      "metadata": {
        "colab": {
          "base_uri": "https://localhost:8080/",
          "height": 766
        },
        "id": "jTm5_8bqnlOp",
        "outputId": "ec536469-f730-4c4e-bb02-932515a1762f"
      },
      "execution_count": 13,
      "outputs": [
        {
          "output_type": "stream",
          "name": "stderr",
          "text": [
            "/usr/local/lib/python3.11/dist-packages/keras/src/layers/convolutional/base_conv.py:107: UserWarning: Do not pass an `input_shape`/`input_dim` argument to a layer. When using Sequential models, prefer using an `Input(shape)` object as the first layer in the model instead.\n",
            "  super().__init__(activity_regularizer=activity_regularizer, **kwargs)\n"
          ]
        },
        {
          "output_type": "display_data",
          "data": {
            "text/plain": [
              "\u001b[1mModel: \"sequential\"\u001b[0m\n"
            ],
            "text/html": [
              "<pre style=\"white-space:pre;overflow-x:auto;line-height:normal;font-family:Menlo,'DejaVu Sans Mono',consolas,'Courier New',monospace\"><span style=\"font-weight: bold\">Model: \"sequential\"</span>\n",
              "</pre>\n"
            ]
          },
          "metadata": {}
        },
        {
          "output_type": "display_data",
          "data": {
            "text/plain": [
              "┏━━━━━━━━━━━━━━━━━━━━━━━━━━━━━━━━━┳━━━━━━━━━━━━━━━━━━━━━━━━┳━━━━━━━━━━━━━━━┓\n",
              "┃\u001b[1m \u001b[0m\u001b[1mLayer (type)                   \u001b[0m\u001b[1m \u001b[0m┃\u001b[1m \u001b[0m\u001b[1mOutput Shape          \u001b[0m\u001b[1m \u001b[0m┃\u001b[1m \u001b[0m\u001b[1m      Param #\u001b[0m\u001b[1m \u001b[0m┃\n",
              "┡━━━━━━━━━━━━━━━━━━━━━━━━━━━━━━━━━╇━━━━━━━━━━━━━━━━━━━━━━━━╇━━━━━━━━━━━━━━━┩\n",
              "│ conv1d (\u001b[38;5;33mConv1D\u001b[0m)                 │ (\u001b[38;5;45mNone\u001b[0m, \u001b[38;5;34m108\u001b[0m, \u001b[38;5;34m256\u001b[0m)       │        \u001b[38;5;34m51,456\u001b[0m │\n",
              "├─────────────────────────────────┼────────────────────────┼───────────────┤\n",
              "│ batch_normalization             │ (\u001b[38;5;45mNone\u001b[0m, \u001b[38;5;34m108\u001b[0m, \u001b[38;5;34m256\u001b[0m)       │         \u001b[38;5;34m1,024\u001b[0m │\n",
              "│ (\u001b[38;5;33mBatchNormalization\u001b[0m)            │                        │               │\n",
              "├─────────────────────────────────┼────────────────────────┼───────────────┤\n",
              "│ max_pooling1d (\u001b[38;5;33mMaxPooling1D\u001b[0m)    │ (\u001b[38;5;45mNone\u001b[0m, \u001b[38;5;34m54\u001b[0m, \u001b[38;5;34m256\u001b[0m)        │             \u001b[38;5;34m0\u001b[0m │\n",
              "├─────────────────────────────────┼────────────────────────┼───────────────┤\n",
              "│ conv1d_1 (\u001b[38;5;33mConv1D\u001b[0m)               │ (\u001b[38;5;45mNone\u001b[0m, \u001b[38;5;34m54\u001b[0m, \u001b[38;5;34m128\u001b[0m)        │       \u001b[38;5;34m163,968\u001b[0m │\n",
              "├─────────────────────────────────┼────────────────────────┼───────────────┤\n",
              "│ batch_normalization_1           │ (\u001b[38;5;45mNone\u001b[0m, \u001b[38;5;34m54\u001b[0m, \u001b[38;5;34m128\u001b[0m)        │           \u001b[38;5;34m512\u001b[0m │\n",
              "│ (\u001b[38;5;33mBatchNormalization\u001b[0m)            │                        │               │\n",
              "├─────────────────────────────────┼────────────────────────┼───────────────┤\n",
              "│ max_pooling1d_1 (\u001b[38;5;33mMaxPooling1D\u001b[0m)  │ (\u001b[38;5;45mNone\u001b[0m, \u001b[38;5;34m27\u001b[0m, \u001b[38;5;34m128\u001b[0m)        │             \u001b[38;5;34m0\u001b[0m │\n",
              "├─────────────────────────────────┼────────────────────────┼───────────────┤\n",
              "│ dropout (\u001b[38;5;33mDropout\u001b[0m)               │ (\u001b[38;5;45mNone\u001b[0m, \u001b[38;5;34m27\u001b[0m, \u001b[38;5;34m128\u001b[0m)        │             \u001b[38;5;34m0\u001b[0m │\n",
              "├─────────────────────────────────┼────────────────────────┼───────────────┤\n",
              "│ conv1d_2 (\u001b[38;5;33mConv1D\u001b[0m)               │ (\u001b[38;5;45mNone\u001b[0m, \u001b[38;5;34m27\u001b[0m, \u001b[38;5;34m64\u001b[0m)         │        \u001b[38;5;34m24,640\u001b[0m │\n",
              "├─────────────────────────────────┼────────────────────────┼───────────────┤\n",
              "│ batch_normalization_2           │ (\u001b[38;5;45mNone\u001b[0m, \u001b[38;5;34m27\u001b[0m, \u001b[38;5;34m64\u001b[0m)         │           \u001b[38;5;34m256\u001b[0m │\n",
              "│ (\u001b[38;5;33mBatchNormalization\u001b[0m)            │                        │               │\n",
              "├─────────────────────────────────┼────────────────────────┼───────────────┤\n",
              "│ max_pooling1d_2 (\u001b[38;5;33mMaxPooling1D\u001b[0m)  │ (\u001b[38;5;45mNone\u001b[0m, \u001b[38;5;34m14\u001b[0m, \u001b[38;5;34m64\u001b[0m)         │             \u001b[38;5;34m0\u001b[0m │\n",
              "├─────────────────────────────────┼────────────────────────┼───────────────┤\n",
              "│ lstm (\u001b[38;5;33mLSTM\u001b[0m)                     │ (\u001b[38;5;45mNone\u001b[0m, \u001b[38;5;34m64\u001b[0m)             │        \u001b[38;5;34m33,024\u001b[0m │\n",
              "├─────────────────────────────────┼────────────────────────┼───────────────┤\n",
              "│ dropout_1 (\u001b[38;5;33mDropout\u001b[0m)             │ (\u001b[38;5;45mNone\u001b[0m, \u001b[38;5;34m64\u001b[0m)             │             \u001b[38;5;34m0\u001b[0m │\n",
              "├─────────────────────────────────┼────────────────────────┼───────────────┤\n",
              "│ dense (\u001b[38;5;33mDense\u001b[0m)                   │ (\u001b[38;5;45mNone\u001b[0m, \u001b[38;5;34m64\u001b[0m)             │         \u001b[38;5;34m4,160\u001b[0m │\n",
              "├─────────────────────────────────┼────────────────────────┼───────────────┤\n",
              "│ batch_normalization_3           │ (\u001b[38;5;45mNone\u001b[0m, \u001b[38;5;34m64\u001b[0m)             │           \u001b[38;5;34m256\u001b[0m │\n",
              "│ (\u001b[38;5;33mBatchNormalization\u001b[0m)            │                        │               │\n",
              "├─────────────────────────────────┼────────────────────────┼───────────────┤\n",
              "│ dense_1 (\u001b[38;5;33mDense\u001b[0m)                 │ (\u001b[38;5;45mNone\u001b[0m, \u001b[38;5;34m6\u001b[0m)              │           \u001b[38;5;34m390\u001b[0m │\n",
              "└─────────────────────────────────┴────────────────────────┴───────────────┘\n"
            ],
            "text/html": [
              "<pre style=\"white-space:pre;overflow-x:auto;line-height:normal;font-family:Menlo,'DejaVu Sans Mono',consolas,'Courier New',monospace\">┏━━━━━━━━━━━━━━━━━━━━━━━━━━━━━━━━━┳━━━━━━━━━━━━━━━━━━━━━━━━┳━━━━━━━━━━━━━━━┓\n",
              "┃<span style=\"font-weight: bold\"> Layer (type)                    </span>┃<span style=\"font-weight: bold\"> Output Shape           </span>┃<span style=\"font-weight: bold\">       Param # </span>┃\n",
              "┡━━━━━━━━━━━━━━━━━━━━━━━━━━━━━━━━━╇━━━━━━━━━━━━━━━━━━━━━━━━╇━━━━━━━━━━━━━━━┩\n",
              "│ conv1d (<span style=\"color: #0087ff; text-decoration-color: #0087ff\">Conv1D</span>)                 │ (<span style=\"color: #00d7ff; text-decoration-color: #00d7ff\">None</span>, <span style=\"color: #00af00; text-decoration-color: #00af00\">108</span>, <span style=\"color: #00af00; text-decoration-color: #00af00\">256</span>)       │        <span style=\"color: #00af00; text-decoration-color: #00af00\">51,456</span> │\n",
              "├─────────────────────────────────┼────────────────────────┼───────────────┤\n",
              "│ batch_normalization             │ (<span style=\"color: #00d7ff; text-decoration-color: #00d7ff\">None</span>, <span style=\"color: #00af00; text-decoration-color: #00af00\">108</span>, <span style=\"color: #00af00; text-decoration-color: #00af00\">256</span>)       │         <span style=\"color: #00af00; text-decoration-color: #00af00\">1,024</span> │\n",
              "│ (<span style=\"color: #0087ff; text-decoration-color: #0087ff\">BatchNormalization</span>)            │                        │               │\n",
              "├─────────────────────────────────┼────────────────────────┼───────────────┤\n",
              "│ max_pooling1d (<span style=\"color: #0087ff; text-decoration-color: #0087ff\">MaxPooling1D</span>)    │ (<span style=\"color: #00d7ff; text-decoration-color: #00d7ff\">None</span>, <span style=\"color: #00af00; text-decoration-color: #00af00\">54</span>, <span style=\"color: #00af00; text-decoration-color: #00af00\">256</span>)        │             <span style=\"color: #00af00; text-decoration-color: #00af00\">0</span> │\n",
              "├─────────────────────────────────┼────────────────────────┼───────────────┤\n",
              "│ conv1d_1 (<span style=\"color: #0087ff; text-decoration-color: #0087ff\">Conv1D</span>)               │ (<span style=\"color: #00d7ff; text-decoration-color: #00d7ff\">None</span>, <span style=\"color: #00af00; text-decoration-color: #00af00\">54</span>, <span style=\"color: #00af00; text-decoration-color: #00af00\">128</span>)        │       <span style=\"color: #00af00; text-decoration-color: #00af00\">163,968</span> │\n",
              "├─────────────────────────────────┼────────────────────────┼───────────────┤\n",
              "│ batch_normalization_1           │ (<span style=\"color: #00d7ff; text-decoration-color: #00d7ff\">None</span>, <span style=\"color: #00af00; text-decoration-color: #00af00\">54</span>, <span style=\"color: #00af00; text-decoration-color: #00af00\">128</span>)        │           <span style=\"color: #00af00; text-decoration-color: #00af00\">512</span> │\n",
              "│ (<span style=\"color: #0087ff; text-decoration-color: #0087ff\">BatchNormalization</span>)            │                        │               │\n",
              "├─────────────────────────────────┼────────────────────────┼───────────────┤\n",
              "│ max_pooling1d_1 (<span style=\"color: #0087ff; text-decoration-color: #0087ff\">MaxPooling1D</span>)  │ (<span style=\"color: #00d7ff; text-decoration-color: #00d7ff\">None</span>, <span style=\"color: #00af00; text-decoration-color: #00af00\">27</span>, <span style=\"color: #00af00; text-decoration-color: #00af00\">128</span>)        │             <span style=\"color: #00af00; text-decoration-color: #00af00\">0</span> │\n",
              "├─────────────────────────────────┼────────────────────────┼───────────────┤\n",
              "│ dropout (<span style=\"color: #0087ff; text-decoration-color: #0087ff\">Dropout</span>)               │ (<span style=\"color: #00d7ff; text-decoration-color: #00d7ff\">None</span>, <span style=\"color: #00af00; text-decoration-color: #00af00\">27</span>, <span style=\"color: #00af00; text-decoration-color: #00af00\">128</span>)        │             <span style=\"color: #00af00; text-decoration-color: #00af00\">0</span> │\n",
              "├─────────────────────────────────┼────────────────────────┼───────────────┤\n",
              "│ conv1d_2 (<span style=\"color: #0087ff; text-decoration-color: #0087ff\">Conv1D</span>)               │ (<span style=\"color: #00d7ff; text-decoration-color: #00d7ff\">None</span>, <span style=\"color: #00af00; text-decoration-color: #00af00\">27</span>, <span style=\"color: #00af00; text-decoration-color: #00af00\">64</span>)         │        <span style=\"color: #00af00; text-decoration-color: #00af00\">24,640</span> │\n",
              "├─────────────────────────────────┼────────────────────────┼───────────────┤\n",
              "│ batch_normalization_2           │ (<span style=\"color: #00d7ff; text-decoration-color: #00d7ff\">None</span>, <span style=\"color: #00af00; text-decoration-color: #00af00\">27</span>, <span style=\"color: #00af00; text-decoration-color: #00af00\">64</span>)         │           <span style=\"color: #00af00; text-decoration-color: #00af00\">256</span> │\n",
              "│ (<span style=\"color: #0087ff; text-decoration-color: #0087ff\">BatchNormalization</span>)            │                        │               │\n",
              "├─────────────────────────────────┼────────────────────────┼───────────────┤\n",
              "│ max_pooling1d_2 (<span style=\"color: #0087ff; text-decoration-color: #0087ff\">MaxPooling1D</span>)  │ (<span style=\"color: #00d7ff; text-decoration-color: #00d7ff\">None</span>, <span style=\"color: #00af00; text-decoration-color: #00af00\">14</span>, <span style=\"color: #00af00; text-decoration-color: #00af00\">64</span>)         │             <span style=\"color: #00af00; text-decoration-color: #00af00\">0</span> │\n",
              "├─────────────────────────────────┼────────────────────────┼───────────────┤\n",
              "│ lstm (<span style=\"color: #0087ff; text-decoration-color: #0087ff\">LSTM</span>)                     │ (<span style=\"color: #00d7ff; text-decoration-color: #00d7ff\">None</span>, <span style=\"color: #00af00; text-decoration-color: #00af00\">64</span>)             │        <span style=\"color: #00af00; text-decoration-color: #00af00\">33,024</span> │\n",
              "├─────────────────────────────────┼────────────────────────┼───────────────┤\n",
              "│ dropout_1 (<span style=\"color: #0087ff; text-decoration-color: #0087ff\">Dropout</span>)             │ (<span style=\"color: #00d7ff; text-decoration-color: #00d7ff\">None</span>, <span style=\"color: #00af00; text-decoration-color: #00af00\">64</span>)             │             <span style=\"color: #00af00; text-decoration-color: #00af00\">0</span> │\n",
              "├─────────────────────────────────┼────────────────────────┼───────────────┤\n",
              "│ dense (<span style=\"color: #0087ff; text-decoration-color: #0087ff\">Dense</span>)                   │ (<span style=\"color: #00d7ff; text-decoration-color: #00d7ff\">None</span>, <span style=\"color: #00af00; text-decoration-color: #00af00\">64</span>)             │         <span style=\"color: #00af00; text-decoration-color: #00af00\">4,160</span> │\n",
              "├─────────────────────────────────┼────────────────────────┼───────────────┤\n",
              "│ batch_normalization_3           │ (<span style=\"color: #00d7ff; text-decoration-color: #00d7ff\">None</span>, <span style=\"color: #00af00; text-decoration-color: #00af00\">64</span>)             │           <span style=\"color: #00af00; text-decoration-color: #00af00\">256</span> │\n",
              "│ (<span style=\"color: #0087ff; text-decoration-color: #0087ff\">BatchNormalization</span>)            │                        │               │\n",
              "├─────────────────────────────────┼────────────────────────┼───────────────┤\n",
              "│ dense_1 (<span style=\"color: #0087ff; text-decoration-color: #0087ff\">Dense</span>)                 │ (<span style=\"color: #00d7ff; text-decoration-color: #00d7ff\">None</span>, <span style=\"color: #00af00; text-decoration-color: #00af00\">6</span>)              │           <span style=\"color: #00af00; text-decoration-color: #00af00\">390</span> │\n",
              "└─────────────────────────────────┴────────────────────────┴───────────────┘\n",
              "</pre>\n"
            ]
          },
          "metadata": {}
        },
        {
          "output_type": "display_data",
          "data": {
            "text/plain": [
              "\u001b[1m Total params: \u001b[0m\u001b[38;5;34m279,686\u001b[0m (1.07 MB)\n"
            ],
            "text/html": [
              "<pre style=\"white-space:pre;overflow-x:auto;line-height:normal;font-family:Menlo,'DejaVu Sans Mono',consolas,'Courier New',monospace\"><span style=\"font-weight: bold\"> Total params: </span><span style=\"color: #00af00; text-decoration-color: #00af00\">279,686</span> (1.07 MB)\n",
              "</pre>\n"
            ]
          },
          "metadata": {}
        },
        {
          "output_type": "display_data",
          "data": {
            "text/plain": [
              "\u001b[1m Trainable params: \u001b[0m\u001b[38;5;34m278,662\u001b[0m (1.06 MB)\n"
            ],
            "text/html": [
              "<pre style=\"white-space:pre;overflow-x:auto;line-height:normal;font-family:Menlo,'DejaVu Sans Mono',consolas,'Courier New',monospace\"><span style=\"font-weight: bold\"> Trainable params: </span><span style=\"color: #00af00; text-decoration-color: #00af00\">278,662</span> (1.06 MB)\n",
              "</pre>\n"
            ]
          },
          "metadata": {}
        },
        {
          "output_type": "display_data",
          "data": {
            "text/plain": [
              "\u001b[1m Non-trainable params: \u001b[0m\u001b[38;5;34m1,024\u001b[0m (4.00 KB)\n"
            ],
            "text/html": [
              "<pre style=\"white-space:pre;overflow-x:auto;line-height:normal;font-family:Menlo,'DejaVu Sans Mono',consolas,'Courier New',monospace\"><span style=\"font-weight: bold\"> Non-trainable params: </span><span style=\"color: #00af00; text-decoration-color: #00af00\">1,024</span> (4.00 KB)\n",
              "</pre>\n"
            ]
          },
          "metadata": {}
        },
        {
          "output_type": "stream",
          "name": "stdout",
          "text": [
            "\n",
            " Hybrid CNN-LSTM model built successfully.\n"
          ]
        }
      ]
    },
    {
      "cell_type": "code",
      "source": [
        "early_stop = EarlyStopping(monitor='val_accuracy', mode='max', patience=15, restore_best_weights=True)\n",
        "lr_reduction = ReduceLROnPlateau(monitor='val_accuracy', patience=5, verbose=1, factor=0.5, min_lr=0.00001)\n",
        "\n",
        "model_checkpoint = ModelCheckpoint('best_model_noise_aug.keras', monitor='val_accuracy', save_best_only=True)\n",
        "\n",
        "print(\"\\nStarting model training on noise-augmented data...\")\n",
        "history = model.fit(\n",
        "    x_train, y_train,\n",
        "    epochs=100, batch_size=64, validation_data=(x_test, y_test),\n",
        "    callbacks=[early_stop, lr_reduction, model_checkpoint]\n",
        ")\n",
        "print(\"\\n Model training complete.\")"
      ],
      "metadata": {
        "colab": {
          "base_uri": "https://localhost:8080/"
        },
        "id": "sRA5ioT_n4li",
        "outputId": "e3998053-14af-4e2a-c6aa-b4df1db4e85d"
      },
      "execution_count": 14,
      "outputs": [
        {
          "output_type": "stream",
          "name": "stdout",
          "text": [
            "\n",
            "Starting model training on noise-augmented data...\n",
            "Epoch 1/100\n",
            "\u001b[1m187/187\u001b[0m \u001b[32m━━━━━━━━━━━━━━━━━━━━\u001b[0m\u001b[37m\u001b[0m \u001b[1m50s\u001b[0m 228ms/step - accuracy: 0.2651 - loss: 1.8641 - val_accuracy: 0.4175 - val_loss: 1.4763 - learning_rate: 0.0010\n",
            "Epoch 2/100\n",
            "\u001b[1m187/187\u001b[0m \u001b[32m━━━━━━━━━━━━━━━━━━━━\u001b[0m\u001b[37m\u001b[0m \u001b[1m82s\u001b[0m 229ms/step - accuracy: 0.4266 - loss: 1.4325 - val_accuracy: 0.4380 - val_loss: 1.3699 - learning_rate: 0.0010\n",
            "Epoch 3/100\n",
            "\u001b[1m187/187\u001b[0m \u001b[32m━━━━━━━━━━━━━━━━━━━━\u001b[0m\u001b[37m\u001b[0m \u001b[1m41s\u001b[0m 219ms/step - accuracy: 0.4828 - loss: 1.3112 - val_accuracy: 0.4988 - val_loss: 1.2816 - learning_rate: 0.0010\n",
            "Epoch 4/100\n",
            "\u001b[1m187/187\u001b[0m \u001b[32m━━━━━━━━━━━━━━━━━━━━\u001b[0m\u001b[37m\u001b[0m \u001b[1m40s\u001b[0m 215ms/step - accuracy: 0.5289 - loss: 1.2177 - val_accuracy: 0.5250 - val_loss: 1.2361 - learning_rate: 0.0010\n",
            "Epoch 5/100\n",
            "\u001b[1m187/187\u001b[0m \u001b[32m━━━━━━━━━━━━━━━━━━━━\u001b[0m\u001b[37m\u001b[0m \u001b[1m45s\u001b[0m 237ms/step - accuracy: 0.5626 - loss: 1.1550 - val_accuracy: 0.5546 - val_loss: 1.1516 - learning_rate: 0.0010\n",
            "Epoch 6/100\n",
            "\u001b[1m187/187\u001b[0m \u001b[32m━━━━━━━━━━━━━━━━━━━━\u001b[0m\u001b[37m\u001b[0m \u001b[1m42s\u001b[0m 227ms/step - accuracy: 0.6000 - loss: 1.0770 - val_accuracy: 0.5932 - val_loss: 1.0848 - learning_rate: 0.0010\n",
            "Epoch 7/100\n",
            "\u001b[1m187/187\u001b[0m \u001b[32m━━━━━━━━━━━━━━━━━━━━\u001b[0m\u001b[37m\u001b[0m \u001b[1m80s\u001b[0m 219ms/step - accuracy: 0.6004 - loss: 1.0664 - val_accuracy: 0.6013 - val_loss: 1.0322 - learning_rate: 0.0010\n",
            "Epoch 8/100\n",
            "\u001b[1m187/187\u001b[0m \u001b[32m━━━━━━━━━━━━━━━━━━━━\u001b[0m\u001b[37m\u001b[0m \u001b[1m42s\u001b[0m 227ms/step - accuracy: 0.6515 - loss: 0.9254 - val_accuracy: 0.6043 - val_loss: 1.0361 - learning_rate: 0.0010\n",
            "Epoch 9/100\n",
            "\u001b[1m187/187\u001b[0m \u001b[32m━━━━━━━━━━━━━━━━━━━━\u001b[0m\u001b[37m\u001b[0m \u001b[1m82s\u001b[0m 230ms/step - accuracy: 0.6623 - loss: 0.9310 - val_accuracy: 0.6339 - val_loss: 0.9797 - learning_rate: 0.0010\n",
            "Epoch 10/100\n",
            "\u001b[1m187/187\u001b[0m \u001b[32m━━━━━━━━━━━━━━━━━━━━\u001b[0m\u001b[37m\u001b[0m \u001b[1m46s\u001b[0m 246ms/step - accuracy: 0.7166 - loss: 0.7785 - val_accuracy: 0.6033 - val_loss: 1.0634 - learning_rate: 0.0010\n",
            "Epoch 11/100\n",
            "\u001b[1m187/187\u001b[0m \u001b[32m━━━━━━━━━━━━━━━━━━━━\u001b[0m\u001b[37m\u001b[0m \u001b[1m41s\u001b[0m 219ms/step - accuracy: 0.7090 - loss: 0.7918 - val_accuracy: 0.6591 - val_loss: 0.9571 - learning_rate: 0.0010\n",
            "Epoch 12/100\n",
            "\u001b[1m187/187\u001b[0m \u001b[32m━━━━━━━━━━━━━━━━━━━━\u001b[0m\u001b[37m\u001b[0m \u001b[1m82s\u001b[0m 217ms/step - accuracy: 0.7243 - loss: 0.7714 - val_accuracy: 0.6439 - val_loss: 0.9884 - learning_rate: 0.0010\n",
            "Epoch 13/100\n",
            "\u001b[1m187/187\u001b[0m \u001b[32m━━━━━━━━━━━━━━━━━━━━\u001b[0m\u001b[37m\u001b[0m \u001b[1m42s\u001b[0m 222ms/step - accuracy: 0.7480 - loss: 0.6990 - val_accuracy: 0.6718 - val_loss: 0.9121 - learning_rate: 0.0010\n",
            "Epoch 14/100\n",
            "\u001b[1m187/187\u001b[0m \u001b[32m━━━━━━━━━━━━━━━━━━━━\u001b[0m\u001b[37m\u001b[0m \u001b[1m81s\u001b[0m 218ms/step - accuracy: 0.8012 - loss: 0.5707 - val_accuracy: 0.6802 - val_loss: 0.8779 - learning_rate: 0.0010\n",
            "Epoch 15/100\n",
            "\u001b[1m187/187\u001b[0m \u001b[32m━━━━━━━━━━━━━━━━━━━━\u001b[0m\u001b[37m\u001b[0m \u001b[1m41s\u001b[0m 218ms/step - accuracy: 0.8146 - loss: 0.5273 - val_accuracy: 0.6943 - val_loss: 0.9272 - learning_rate: 0.0010\n",
            "Epoch 16/100\n",
            "\u001b[1m187/187\u001b[0m \u001b[32m━━━━━━━━━━━━━━━━━━━━\u001b[0m\u001b[37m\u001b[0m \u001b[1m41s\u001b[0m 219ms/step - accuracy: 0.8038 - loss: 0.5687 - val_accuracy: 0.7068 - val_loss: 0.8632 - learning_rate: 0.0010\n",
            "Epoch 17/100\n",
            "\u001b[1m187/187\u001b[0m \u001b[32m━━━━━━━━━━━━━━━━━━━━\u001b[0m\u001b[37m\u001b[0m \u001b[1m41s\u001b[0m 221ms/step - accuracy: 0.8141 - loss: 0.5229 - val_accuracy: 0.7178 - val_loss: 0.8342 - learning_rate: 0.0010\n",
            "Epoch 18/100\n",
            "\u001b[1m187/187\u001b[0m \u001b[32m━━━━━━━━━━━━━━━━━━━━\u001b[0m\u001b[37m\u001b[0m \u001b[1m84s\u001b[0m 230ms/step - accuracy: 0.8477 - loss: 0.4350 - val_accuracy: 0.7094 - val_loss: 0.8739 - learning_rate: 0.0010\n",
            "Epoch 19/100\n",
            "\u001b[1m187/187\u001b[0m \u001b[32m━━━━━━━━━━━━━━━━━━━━\u001b[0m\u001b[37m\u001b[0m \u001b[1m41s\u001b[0m 219ms/step - accuracy: 0.8192 - loss: 0.5274 - val_accuracy: 0.7017 - val_loss: 0.9487 - learning_rate: 0.0010\n",
            "Epoch 20/100\n",
            "\u001b[1m187/187\u001b[0m \u001b[32m━━━━━━━━━━━━━━━━━━━━\u001b[0m\u001b[37m\u001b[0m \u001b[1m97s\u001b[0m 298ms/step - accuracy: 0.8670 - loss: 0.3862 - val_accuracy: 0.7121 - val_loss: 0.9029 - learning_rate: 0.0010\n",
            "Epoch 21/100\n",
            "\u001b[1m187/187\u001b[0m \u001b[32m━━━━━━━━━━━━━━━━━━━━\u001b[0m\u001b[37m\u001b[0m \u001b[1m67s\u001b[0m 219ms/step - accuracy: 0.8719 - loss: 0.3815 - val_accuracy: 0.7316 - val_loss: 0.8531 - learning_rate: 0.0010\n",
            "Epoch 22/100\n",
            "\u001b[1m187/187\u001b[0m \u001b[32m━━━━━━━━━━━━━━━━━━━━\u001b[0m\u001b[37m\u001b[0m \u001b[1m83s\u001b[0m 226ms/step - accuracy: 0.8244 - loss: 0.5173 - val_accuracy: 0.7377 - val_loss: 0.8121 - learning_rate: 0.0010\n",
            "Epoch 23/100\n",
            "\u001b[1m187/187\u001b[0m \u001b[32m━━━━━━━━━━━━━━━━━━━━\u001b[0m\u001b[37m\u001b[0m \u001b[1m43s\u001b[0m 229ms/step - accuracy: 0.8815 - loss: 0.3555 - val_accuracy: 0.7209 - val_loss: 0.8984 - learning_rate: 0.0010\n",
            "Epoch 24/100\n",
            "\u001b[1m187/187\u001b[0m \u001b[32m━━━━━━━━━━━━━━━━━━━━\u001b[0m\u001b[37m\u001b[0m \u001b[1m80s\u001b[0m 218ms/step - accuracy: 0.9098 - loss: 0.2651 - val_accuracy: 0.7393 - val_loss: 0.8632 - learning_rate: 0.0010\n",
            "Epoch 25/100\n",
            "\u001b[1m187/187\u001b[0m \u001b[32m━━━━━━━━━━━━━━━━━━━━\u001b[0m\u001b[37m\u001b[0m \u001b[1m41s\u001b[0m 217ms/step - accuracy: 0.8336 - loss: 0.4990 - val_accuracy: 0.6970 - val_loss: 0.9904 - learning_rate: 0.0010\n",
            "Epoch 26/100\n",
            "\u001b[1m187/187\u001b[0m \u001b[32m━━━━━━━━━━━━━━━━━━━━\u001b[0m\u001b[37m\u001b[0m \u001b[1m42s\u001b[0m 224ms/step - accuracy: 0.8480 - loss: 0.4458 - val_accuracy: 0.7430 - val_loss: 0.8348 - learning_rate: 0.0010\n",
            "Epoch 27/100\n",
            "\u001b[1m187/187\u001b[0m \u001b[32m━━━━━━━━━━━━━━━━━━━━\u001b[0m\u001b[37m\u001b[0m \u001b[1m82s\u001b[0m 227ms/step - accuracy: 0.8143 - loss: 0.5441 - val_accuracy: 0.7393 - val_loss: 0.8230 - learning_rate: 0.0010\n",
            "Epoch 28/100\n",
            "\u001b[1m187/187\u001b[0m \u001b[32m━━━━━━━━━━━━━━━━━━━━\u001b[0m\u001b[37m\u001b[0m \u001b[1m80s\u001b[0m 217ms/step - accuracy: 0.9038 - loss: 0.2900 - val_accuracy: 0.7430 - val_loss: 0.8946 - learning_rate: 0.0010\n",
            "Epoch 29/100\n",
            "\u001b[1m187/187\u001b[0m \u001b[32m━━━━━━━━━━━━━━━━━━━━\u001b[0m\u001b[37m\u001b[0m \u001b[1m42s\u001b[0m 227ms/step - accuracy: 0.9017 - loss: 0.3018 - val_accuracy: 0.7561 - val_loss: 0.8366 - learning_rate: 0.0010\n",
            "Epoch 30/100\n",
            "\u001b[1m187/187\u001b[0m \u001b[32m━━━━━━━━━━━━━━━━━━━━\u001b[0m\u001b[37m\u001b[0m \u001b[1m43s\u001b[0m 230ms/step - accuracy: 0.9224 - loss: 0.2390 - val_accuracy: 0.7447 - val_loss: 0.9132 - learning_rate: 0.0010\n",
            "Epoch 31/100\n",
            "\u001b[1m187/187\u001b[0m \u001b[32m━━━━━━━━━━━━━━━━━━━━\u001b[0m\u001b[37m\u001b[0m \u001b[1m80s\u001b[0m 218ms/step - accuracy: 0.9199 - loss: 0.2450 - val_accuracy: 0.7672 - val_loss: 0.7849 - learning_rate: 0.0010\n",
            "Epoch 32/100\n",
            "\u001b[1m187/187\u001b[0m \u001b[32m━━━━━━━━━━━━━━━━━━━━\u001b[0m\u001b[37m\u001b[0m \u001b[1m42s\u001b[0m 226ms/step - accuracy: 0.9233 - loss: 0.2245 - val_accuracy: 0.7632 - val_loss: 0.8831 - learning_rate: 0.0010\n",
            "Epoch 33/100\n",
            "\u001b[1m187/187\u001b[0m \u001b[32m━━━━━━━━━━━━━━━━━━━━\u001b[0m\u001b[37m\u001b[0m \u001b[1m42s\u001b[0m 225ms/step - accuracy: 0.8946 - loss: 0.3121 - val_accuracy: 0.7531 - val_loss: 0.8492 - learning_rate: 0.0010\n",
            "Epoch 34/100\n",
            "\u001b[1m187/187\u001b[0m \u001b[32m━━━━━━━━━━━━━━━━━━━━\u001b[0m\u001b[37m\u001b[0m \u001b[1m82s\u001b[0m 226ms/step - accuracy: 0.9067 - loss: 0.2814 - val_accuracy: 0.7595 - val_loss: 0.8413 - learning_rate: 0.0010\n",
            "Epoch 35/100\n",
            "\u001b[1m187/187\u001b[0m \u001b[32m━━━━━━━━━━━━━━━━━━━━\u001b[0m\u001b[37m\u001b[0m \u001b[1m40s\u001b[0m 216ms/step - accuracy: 0.9431 - loss: 0.1721 - val_accuracy: 0.7400 - val_loss: 1.0169 - learning_rate: 0.0010\n",
            "Epoch 36/100\n",
            "\u001b[1m186/187\u001b[0m \u001b[32m━━━━━━━━━━━━━━━━━━━\u001b[0m\u001b[37m━\u001b[0m \u001b[1m0s\u001b[0m 198ms/step - accuracy: 0.9344 - loss: 0.2017\n",
            "Epoch 36: ReduceLROnPlateau reducing learning rate to 0.0005000000237487257.\n",
            "\u001b[1m187/187\u001b[0m \u001b[32m━━━━━━━━━━━━━━━━━━━━\u001b[0m\u001b[37m\u001b[0m \u001b[1m43s\u001b[0m 225ms/step - accuracy: 0.9344 - loss: 0.2016 - val_accuracy: 0.7558 - val_loss: 0.9475 - learning_rate: 0.0010\n",
            "Epoch 37/100\n",
            "\u001b[1m187/187\u001b[0m \u001b[32m━━━━━━━━━━━━━━━━━━━━\u001b[0m\u001b[37m\u001b[0m \u001b[1m81s\u001b[0m 219ms/step - accuracy: 0.9420 - loss: 0.1717 - val_accuracy: 0.7847 - val_loss: 0.8466 - learning_rate: 5.0000e-04\n",
            "Epoch 38/100\n",
            "\u001b[1m187/187\u001b[0m \u001b[32m━━━━━━━━━━━━━━━━━━━━\u001b[0m\u001b[37m\u001b[0m \u001b[1m83s\u001b[0m 227ms/step - accuracy: 0.9644 - loss: 0.1241 - val_accuracy: 0.7847 - val_loss: 0.8615 - learning_rate: 5.0000e-04\n",
            "Epoch 39/100\n",
            "\u001b[1m187/187\u001b[0m \u001b[32m━━━━━━━━━━━━━━━━━━━━\u001b[0m\u001b[37m\u001b[0m \u001b[1m41s\u001b[0m 218ms/step - accuracy: 0.9705 - loss: 0.0884 - val_accuracy: 0.7988 - val_loss: 0.7995 - learning_rate: 5.0000e-04\n",
            "Epoch 40/100\n",
            "\u001b[1m187/187\u001b[0m \u001b[32m━━━━━━━━━━━━━━━━━━━━\u001b[0m\u001b[37m\u001b[0m \u001b[1m41s\u001b[0m 222ms/step - accuracy: 0.9721 - loss: 0.0988 - val_accuracy: 0.7921 - val_loss: 0.8673 - learning_rate: 5.0000e-04\n",
            "Epoch 41/100\n",
            "\u001b[1m187/187\u001b[0m \u001b[32m━━━━━━━━━━━━━━━━━━━━\u001b[0m\u001b[37m\u001b[0m \u001b[1m43s\u001b[0m 228ms/step - accuracy: 0.9751 - loss: 0.0821 - val_accuracy: 0.7931 - val_loss: 0.8484 - learning_rate: 5.0000e-04\n",
            "Epoch 42/100\n",
            "\u001b[1m187/187\u001b[0m \u001b[32m━━━━━━━━━━━━━━━━━━━━\u001b[0m\u001b[37m\u001b[0m \u001b[1m83s\u001b[0m 232ms/step - accuracy: 0.9421 - loss: 0.1793 - val_accuracy: 0.8052 - val_loss: 0.8007 - learning_rate: 5.0000e-04\n",
            "Epoch 43/100\n",
            "\u001b[1m187/187\u001b[0m \u001b[32m━━━━━━━━━━━━━━━━━━━━\u001b[0m\u001b[37m\u001b[0m \u001b[1m79s\u001b[0m 218ms/step - accuracy: 0.9731 - loss: 0.0866 - val_accuracy: 0.8075 - val_loss: 0.7924 - learning_rate: 5.0000e-04\n",
            "Epoch 44/100\n",
            "\u001b[1m187/187\u001b[0m \u001b[32m━━━━━━━━━━━━━━━━━━━━\u001b[0m\u001b[37m\u001b[0m \u001b[1m41s\u001b[0m 219ms/step - accuracy: 0.9836 - loss: 0.0568 - val_accuracy: 0.8132 - val_loss: 0.8018 - learning_rate: 5.0000e-04\n",
            "Epoch 45/100\n",
            "\u001b[1m187/187\u001b[0m \u001b[32m━━━━━━━━━━━━━━━━━━━━\u001b[0m\u001b[37m\u001b[0m \u001b[1m40s\u001b[0m 215ms/step - accuracy: 0.9788 - loss: 0.0679 - val_accuracy: 0.8173 - val_loss: 0.8110 - learning_rate: 5.0000e-04\n",
            "Epoch 46/100\n",
            "\u001b[1m187/187\u001b[0m \u001b[32m━━━━━━━━━━━━━━━━━━━━\u001b[0m\u001b[37m\u001b[0m \u001b[1m43s\u001b[0m 228ms/step - accuracy: 0.9771 - loss: 0.0753 - val_accuracy: 0.7934 - val_loss: 0.9380 - learning_rate: 5.0000e-04\n",
            "Epoch 47/100\n",
            "\u001b[1m187/187\u001b[0m \u001b[32m━━━━━━━━━━━━━━━━━━━━\u001b[0m\u001b[37m\u001b[0m \u001b[1m80s\u001b[0m 220ms/step - accuracy: 0.9691 - loss: 0.0925 - val_accuracy: 0.7934 - val_loss: 0.9288 - learning_rate: 5.0000e-04\n",
            "Epoch 48/100\n",
            "\u001b[1m187/187\u001b[0m \u001b[32m━━━━━━━━━━━━━━━━━━━━\u001b[0m\u001b[37m\u001b[0m \u001b[1m41s\u001b[0m 218ms/step - accuracy: 0.9628 - loss: 0.1146 - val_accuracy: 0.8142 - val_loss: 0.8070 - learning_rate: 5.0000e-04\n",
            "Epoch 49/100\n",
            "\u001b[1m187/187\u001b[0m \u001b[32m━━━━━━━━━━━━━━━━━━━━\u001b[0m\u001b[37m\u001b[0m \u001b[1m40s\u001b[0m 212ms/step - accuracy: 0.9377 - loss: 0.2022 - val_accuracy: 0.8048 - val_loss: 0.8289 - learning_rate: 5.0000e-04\n",
            "Epoch 50/100\n",
            "\u001b[1m187/187\u001b[0m \u001b[32m━━━━━━━━━━━━━━━━━━━━\u001b[0m\u001b[37m\u001b[0m \u001b[1m41s\u001b[0m 215ms/step - accuracy: 0.9765 - loss: 0.0751 - val_accuracy: 0.8179 - val_loss: 0.7947 - learning_rate: 5.0000e-04\n",
            "Epoch 51/100\n",
            "\u001b[1m187/187\u001b[0m \u001b[32m━━━━━━━━━━━━━━━━━━━━\u001b[0m\u001b[37m\u001b[0m \u001b[1m41s\u001b[0m 215ms/step - accuracy: 0.9637 - loss: 0.1156 - val_accuracy: 0.7985 - val_loss: 0.8255 - learning_rate: 5.0000e-04\n",
            "Epoch 52/100\n",
            "\u001b[1m187/187\u001b[0m \u001b[32m━━━━━━━━━━━━━━━━━━━━\u001b[0m\u001b[37m\u001b[0m \u001b[1m44s\u001b[0m 235ms/step - accuracy: 0.9843 - loss: 0.0527 - val_accuracy: 0.8139 - val_loss: 0.8063 - learning_rate: 5.0000e-04\n",
            "Epoch 53/100\n",
            "\u001b[1m187/187\u001b[0m \u001b[32m━━━━━━━━━━━━━━━━━━━━\u001b[0m\u001b[37m\u001b[0m \u001b[1m41s\u001b[0m 221ms/step - accuracy: 0.9825 - loss: 0.0579 - val_accuracy: 0.8065 - val_loss: 0.8640 - learning_rate: 5.0000e-04\n",
            "Epoch 54/100\n",
            "\u001b[1m187/187\u001b[0m \u001b[32m━━━━━━━━━━━━━━━━━━━━\u001b[0m\u001b[37m\u001b[0m \u001b[1m41s\u001b[0m 222ms/step - accuracy: 0.9818 - loss: 0.0626 - val_accuracy: 0.8095 - val_loss: 0.8472 - learning_rate: 5.0000e-04\n",
            "Epoch 55/100\n",
            "\u001b[1m186/187\u001b[0m \u001b[32m━━━━━━━━━━━━━━━━━━━\u001b[0m\u001b[37m━\u001b[0m \u001b[1m0s\u001b[0m 212ms/step - accuracy: 0.9847 - loss: 0.0509\n",
            "Epoch 55: ReduceLROnPlateau reducing learning rate to 0.0002500000118743628.\n",
            "\u001b[1m187/187\u001b[0m \u001b[32m━━━━━━━━━━━━━━━━━━━━\u001b[0m\u001b[37m\u001b[0m \u001b[1m41s\u001b[0m 221ms/step - accuracy: 0.9847 - loss: 0.0509 - val_accuracy: 0.8042 - val_loss: 0.9019 - learning_rate: 5.0000e-04\n",
            "Epoch 56/100\n",
            "\u001b[1m187/187\u001b[0m \u001b[32m━━━━━━━━━━━━━━━━━━━━\u001b[0m\u001b[37m\u001b[0m \u001b[1m42s\u001b[0m 225ms/step - accuracy: 0.9877 - loss: 0.0444 - val_accuracy: 0.8257 - val_loss: 0.8336 - learning_rate: 2.5000e-04\n",
            "Epoch 57/100\n",
            "\u001b[1m187/187\u001b[0m \u001b[32m━━━━━━━━━━━━━━━━━━━━\u001b[0m\u001b[37m\u001b[0m \u001b[1m42s\u001b[0m 225ms/step - accuracy: 0.9764 - loss: 0.0692 - val_accuracy: 0.8176 - val_loss: 0.8661 - learning_rate: 2.5000e-04\n",
            "Epoch 58/100\n",
            "\u001b[1m187/187\u001b[0m \u001b[32m━━━━━━━━━━━━━━━━━━━━\u001b[0m\u001b[37m\u001b[0m \u001b[1m82s\u001b[0m 223ms/step - accuracy: 0.9890 - loss: 0.0366 - val_accuracy: 0.8240 - val_loss: 0.8365 - learning_rate: 2.5000e-04\n",
            "Epoch 59/100\n",
            "\u001b[1m187/187\u001b[0m \u001b[32m━━━━━━━━━━━━━━━━━━━━\u001b[0m\u001b[37m\u001b[0m \u001b[1m82s\u001b[0m 223ms/step - accuracy: 0.9838 - loss: 0.0541 - val_accuracy: 0.8267 - val_loss: 0.8450 - learning_rate: 2.5000e-04\n",
            "Epoch 60/100\n",
            "\u001b[1m187/187\u001b[0m \u001b[32m━━━━━━━━━━━━━━━━━━━━\u001b[0m\u001b[37m\u001b[0m \u001b[1m82s\u001b[0m 222ms/step - accuracy: 0.9911 - loss: 0.0315 - val_accuracy: 0.8300 - val_loss: 0.8256 - learning_rate: 2.5000e-04\n",
            "Epoch 61/100\n",
            "\u001b[1m187/187\u001b[0m \u001b[32m━━━━━━━━━━━━━━━━━━━━\u001b[0m\u001b[37m\u001b[0m \u001b[1m43s\u001b[0m 227ms/step - accuracy: 0.9907 - loss: 0.0305 - val_accuracy: 0.8263 - val_loss: 0.8353 - learning_rate: 2.5000e-04\n",
            "Epoch 62/100\n",
            "\u001b[1m187/187\u001b[0m \u001b[32m━━━━━━━━━━━━━━━━━━━━\u001b[0m\u001b[37m\u001b[0m \u001b[1m80s\u001b[0m 218ms/step - accuracy: 0.9893 - loss: 0.0337 - val_accuracy: 0.8250 - val_loss: 0.8656 - learning_rate: 2.5000e-04\n",
            "Epoch 63/100\n",
            "\u001b[1m187/187\u001b[0m \u001b[32m━━━━━━━━━━━━━━━━━━━━\u001b[0m\u001b[37m\u001b[0m \u001b[1m42s\u001b[0m 222ms/step - accuracy: 0.9912 - loss: 0.0311 - val_accuracy: 0.8236 - val_loss: 0.9045 - learning_rate: 2.5000e-04\n",
            "Epoch 64/100\n",
            "\u001b[1m187/187\u001b[0m \u001b[32m━━━━━━━━━━━━━━━━━━━━\u001b[0m\u001b[37m\u001b[0m \u001b[1m82s\u001b[0m 222ms/step - accuracy: 0.9797 - loss: 0.0618 - val_accuracy: 0.8294 - val_loss: 0.8383 - learning_rate: 2.5000e-04\n",
            "Epoch 65/100\n",
            "\u001b[1m186/187\u001b[0m \u001b[32m━━━━━━━━━━━━━━━━━━━\u001b[0m\u001b[37m━\u001b[0m \u001b[1m0s\u001b[0m 207ms/step - accuracy: 0.9916 - loss: 0.0302\n",
            "Epoch 65: ReduceLROnPlateau reducing learning rate to 0.0001250000059371814.\n",
            "\u001b[1m187/187\u001b[0m \u001b[32m━━━━━━━━━━━━━━━━━━━━\u001b[0m\u001b[37m\u001b[0m \u001b[1m81s\u001b[0m 217ms/step - accuracy: 0.9916 - loss: 0.0303 - val_accuracy: 0.8273 - val_loss: 0.8502 - learning_rate: 2.5000e-04\n",
            "Epoch 66/100\n",
            "\u001b[1m187/187\u001b[0m \u001b[32m━━━━━━━━━━━━━━━━━━━━\u001b[0m\u001b[37m\u001b[0m \u001b[1m41s\u001b[0m 217ms/step - accuracy: 0.9866 - loss: 0.0430 - val_accuracy: 0.8290 - val_loss: 0.8180 - learning_rate: 1.2500e-04\n",
            "Epoch 67/100\n",
            "\u001b[1m187/187\u001b[0m \u001b[32m━━━━━━━━━━━━━━━━━━━━\u001b[0m\u001b[37m\u001b[0m \u001b[1m41s\u001b[0m 217ms/step - accuracy: 0.9905 - loss: 0.0306 - val_accuracy: 0.8347 - val_loss: 0.8376 - learning_rate: 1.2500e-04\n",
            "Epoch 68/100\n",
            "\u001b[1m187/187\u001b[0m \u001b[32m━━━━━━━━━━━━━━━━━━━━\u001b[0m\u001b[37m\u001b[0m \u001b[1m41s\u001b[0m 218ms/step - accuracy: 0.9940 - loss: 0.0230 - val_accuracy: 0.8310 - val_loss: 0.8601 - learning_rate: 1.2500e-04\n",
            "Epoch 69/100\n",
            "\u001b[1m187/187\u001b[0m \u001b[32m━━━━━━━━━━━━━━━━━━━━\u001b[0m\u001b[37m\u001b[0m \u001b[1m40s\u001b[0m 216ms/step - accuracy: 0.9910 - loss: 0.0272 - val_accuracy: 0.8310 - val_loss: 0.8384 - learning_rate: 1.2500e-04\n",
            "Epoch 70/100\n",
            "\u001b[1m187/187\u001b[0m \u001b[32m━━━━━━━━━━━━━━━━━━━━\u001b[0m\u001b[37m\u001b[0m \u001b[1m44s\u001b[0m 233ms/step - accuracy: 0.9933 - loss: 0.0275 - val_accuracy: 0.8344 - val_loss: 0.8468 - learning_rate: 1.2500e-04\n",
            "Epoch 71/100\n",
            "\u001b[1m187/187\u001b[0m \u001b[32m━━━━━━━━━━━━━━━━━━━━\u001b[0m\u001b[37m\u001b[0m \u001b[1m79s\u001b[0m 219ms/step - accuracy: 0.9946 - loss: 0.0196 - val_accuracy: 0.8317 - val_loss: 0.8613 - learning_rate: 1.2500e-04\n",
            "Epoch 72/100\n",
            "\u001b[1m186/187\u001b[0m \u001b[32m━━━━━━━━━━━━━━━━━━━\u001b[0m\u001b[37m━\u001b[0m \u001b[1m0s\u001b[0m 207ms/step - accuracy: 0.9947 - loss: 0.0202\n",
            "Epoch 72: ReduceLROnPlateau reducing learning rate to 6.25000029685907e-05.\n",
            "\u001b[1m187/187\u001b[0m \u001b[32m━━━━━━━━━━━━━━━━━━━━\u001b[0m\u001b[37m\u001b[0m \u001b[1m82s\u001b[0m 220ms/step - accuracy: 0.9947 - loss: 0.0202 - val_accuracy: 0.8310 - val_loss: 0.8462 - learning_rate: 1.2500e-04\n",
            "Epoch 73/100\n",
            "\u001b[1m187/187\u001b[0m \u001b[32m━━━━━━━━━━━━━━━━━━━━\u001b[0m\u001b[37m\u001b[0m \u001b[1m41s\u001b[0m 217ms/step - accuracy: 0.9937 - loss: 0.0217 - val_accuracy: 0.8304 - val_loss: 0.8742 - learning_rate: 6.2500e-05\n",
            "Epoch 74/100\n",
            "\u001b[1m187/187\u001b[0m \u001b[32m━━━━━━━━━━━━━━━━━━━━\u001b[0m\u001b[37m\u001b[0m \u001b[1m42s\u001b[0m 225ms/step - accuracy: 0.9922 - loss: 0.0230 - val_accuracy: 0.8324 - val_loss: 0.8689 - learning_rate: 6.2500e-05\n",
            "Epoch 75/100\n",
            "\u001b[1m187/187\u001b[0m \u001b[32m━━━━━━━━━━━━━━━━━━━━\u001b[0m\u001b[37m\u001b[0m \u001b[1m81s\u001b[0m 221ms/step - accuracy: 0.9955 - loss: 0.0183 - val_accuracy: 0.8327 - val_loss: 0.8511 - learning_rate: 6.2500e-05\n",
            "Epoch 76/100\n",
            "\u001b[1m187/187\u001b[0m \u001b[32m━━━━━━━━━━━━━━━━━━━━\u001b[0m\u001b[37m\u001b[0m \u001b[1m42s\u001b[0m 227ms/step - accuracy: 0.9943 - loss: 0.0181 - val_accuracy: 0.8327 - val_loss: 0.8650 - learning_rate: 6.2500e-05\n",
            "Epoch 77/100\n",
            "\u001b[1m186/187\u001b[0m \u001b[32m━━━━━━━━━━━━━━━━━━━\u001b[0m\u001b[37m━\u001b[0m \u001b[1m0s\u001b[0m 207ms/step - accuracy: 0.9941 - loss: 0.0194\n",
            "Epoch 77: ReduceLROnPlateau reducing learning rate to 3.125000148429535e-05.\n",
            "\u001b[1m187/187\u001b[0m \u001b[32m━━━━━━━━━━━━━━━━━━━━\u001b[0m\u001b[37m\u001b[0m \u001b[1m81s\u001b[0m 220ms/step - accuracy: 0.9941 - loss: 0.0193 - val_accuracy: 0.8341 - val_loss: 0.8663 - learning_rate: 6.2500e-05\n",
            "Epoch 78/100\n",
            "\u001b[1m187/187\u001b[0m \u001b[32m━━━━━━━━━━━━━━━━━━━━\u001b[0m\u001b[37m\u001b[0m \u001b[1m42s\u001b[0m 226ms/step - accuracy: 0.9948 - loss: 0.0179 - val_accuracy: 0.8337 - val_loss: 0.8643 - learning_rate: 3.1250e-05\n",
            "Epoch 79/100\n",
            "\u001b[1m187/187\u001b[0m \u001b[32m━━━━━━━━━━━━━━━━━━━━\u001b[0m\u001b[37m\u001b[0m \u001b[1m83s\u001b[0m 232ms/step - accuracy: 0.9956 - loss: 0.0150 - val_accuracy: 0.8364 - val_loss: 0.8630 - learning_rate: 3.1250e-05\n",
            "Epoch 80/100\n",
            "\u001b[1m187/187\u001b[0m \u001b[32m━━━━━━━━━━━━━━━━━━━━\u001b[0m\u001b[37m\u001b[0m \u001b[1m41s\u001b[0m 219ms/step - accuracy: 0.9952 - loss: 0.0179 - val_accuracy: 0.8361 - val_loss: 0.8679 - learning_rate: 3.1250e-05\n",
            "Epoch 81/100\n",
            "\u001b[1m187/187\u001b[0m \u001b[32m━━━━━━━━━━━━━━━━━━━━\u001b[0m\u001b[37m\u001b[0m \u001b[1m41s\u001b[0m 219ms/step - accuracy: 0.9948 - loss: 0.0171 - val_accuracy: 0.8388 - val_loss: 0.8508 - learning_rate: 3.1250e-05\n",
            "Epoch 82/100\n",
            "\u001b[1m187/187\u001b[0m \u001b[32m━━━━━━━━━━━━━━━━━━━━\u001b[0m\u001b[37m\u001b[0m \u001b[1m40s\u001b[0m 215ms/step - accuracy: 0.9955 - loss: 0.0156 - val_accuracy: 0.8391 - val_loss: 0.8645 - learning_rate: 3.1250e-05\n",
            "Epoch 83/100\n",
            "\u001b[1m187/187\u001b[0m \u001b[32m━━━━━━━━━━━━━━━━━━━━\u001b[0m\u001b[37m\u001b[0m \u001b[1m40s\u001b[0m 210ms/step - accuracy: 0.9964 - loss: 0.0145 - val_accuracy: 0.8354 - val_loss: 0.8644 - learning_rate: 3.1250e-05\n",
            "Epoch 84/100\n",
            "\u001b[1m187/187\u001b[0m \u001b[32m━━━━━━━━━━━━━━━━━━━━\u001b[0m\u001b[37m\u001b[0m \u001b[1m44s\u001b[0m 225ms/step - accuracy: 0.9968 - loss: 0.0133 - val_accuracy: 0.8371 - val_loss: 0.8584 - learning_rate: 3.1250e-05\n",
            "Epoch 85/100\n",
            "\u001b[1m187/187\u001b[0m \u001b[32m━━━━━━━━━━━━━━━━━━━━\u001b[0m\u001b[37m\u001b[0m \u001b[1m79s\u001b[0m 210ms/step - accuracy: 0.9959 - loss: 0.0148 - val_accuracy: 0.8374 - val_loss: 0.8560 - learning_rate: 3.1250e-05\n",
            "Epoch 86/100\n",
            "\u001b[1m187/187\u001b[0m \u001b[32m━━━━━━━━━━━━━━━━━━━━\u001b[0m\u001b[37m\u001b[0m \u001b[1m42s\u001b[0m 215ms/step - accuracy: 0.9957 - loss: 0.0166 - val_accuracy: 0.8384 - val_loss: 0.8504 - learning_rate: 3.1250e-05\n",
            "Epoch 87/100\n",
            "\u001b[1m186/187\u001b[0m \u001b[32m━━━━━━━━━━━━━━━━━━━\u001b[0m\u001b[37m━\u001b[0m \u001b[1m0s\u001b[0m 205ms/step - accuracy: 0.9957 - loss: 0.0149\n",
            "Epoch 87: ReduceLROnPlateau reducing learning rate to 1.5625000742147677e-05.\n",
            "\u001b[1m187/187\u001b[0m \u001b[32m━━━━━━━━━━━━━━━━━━━━\u001b[0m\u001b[37m\u001b[0m \u001b[1m41s\u001b[0m 214ms/step - accuracy: 0.9957 - loss: 0.0149 - val_accuracy: 0.8354 - val_loss: 0.8667 - learning_rate: 3.1250e-05\n",
            "Epoch 88/100\n",
            "\u001b[1m187/187\u001b[0m \u001b[32m━━━━━━━━━━━━━━━━━━━━\u001b[0m\u001b[37m\u001b[0m \u001b[1m44s\u001b[0m 233ms/step - accuracy: 0.9961 - loss: 0.0132 - val_accuracy: 0.8374 - val_loss: 0.8620 - learning_rate: 1.5625e-05\n",
            "Epoch 89/100\n",
            "\u001b[1m187/187\u001b[0m \u001b[32m━━━━━━━━━━━━━━━━━━━━\u001b[0m\u001b[37m\u001b[0m \u001b[1m79s\u001b[0m 215ms/step - accuracy: 0.9963 - loss: 0.0126 - val_accuracy: 0.8374 - val_loss: 0.8553 - learning_rate: 1.5625e-05\n",
            "Epoch 90/100\n",
            "\u001b[1m187/187\u001b[0m \u001b[32m━━━━━━━━━━━━━━━━━━━━\u001b[0m\u001b[37m\u001b[0m \u001b[1m41s\u001b[0m 218ms/step - accuracy: 0.9968 - loss: 0.0139 - val_accuracy: 0.8371 - val_loss: 0.8598 - learning_rate: 1.5625e-05\n",
            "Epoch 91/100\n",
            "\u001b[1m187/187\u001b[0m \u001b[32m━━━━━━━━━━━━━━━━━━━━\u001b[0m\u001b[37m\u001b[0m \u001b[1m42s\u001b[0m 222ms/step - accuracy: 0.9958 - loss: 0.0135 - val_accuracy: 0.8378 - val_loss: 0.8577 - learning_rate: 1.5625e-05\n",
            "Epoch 92/100\n",
            "\u001b[1m186/187\u001b[0m \u001b[32m━━━━━━━━━━━━━━━━━━━\u001b[0m\u001b[37m━\u001b[0m \u001b[1m0s\u001b[0m 203ms/step - accuracy: 0.9968 - loss: 0.0113\n",
            "Epoch 92: ReduceLROnPlateau reducing learning rate to 1e-05.\n",
            "\u001b[1m187/187\u001b[0m \u001b[32m━━━━━━━━━━━━━━━━━━━━\u001b[0m\u001b[37m\u001b[0m \u001b[1m80s\u001b[0m 213ms/step - accuracy: 0.9968 - loss: 0.0113 - val_accuracy: 0.8361 - val_loss: 0.8637 - learning_rate: 1.5625e-05\n",
            "Epoch 93/100\n",
            "\u001b[1m187/187\u001b[0m \u001b[32m━━━━━━━━━━━━━━━━━━━━\u001b[0m\u001b[37m\u001b[0m \u001b[1m43s\u001b[0m 226ms/step - accuracy: 0.9965 - loss: 0.0144 - val_accuracy: 0.8391 - val_loss: 0.8578 - learning_rate: 1.0000e-05\n",
            "Epoch 94/100\n",
            "\u001b[1m187/187\u001b[0m \u001b[32m━━━━━━━━━━━━━━━━━━━━\u001b[0m\u001b[37m\u001b[0m \u001b[1m41s\u001b[0m 219ms/step - accuracy: 0.9966 - loss: 0.0148 - val_accuracy: 0.8384 - val_loss: 0.8630 - learning_rate: 1.0000e-05\n",
            "Epoch 95/100\n",
            "\u001b[1m187/187\u001b[0m \u001b[32m━━━━━━━━━━━━━━━━━━━━\u001b[0m\u001b[37m\u001b[0m \u001b[1m42s\u001b[0m 223ms/step - accuracy: 0.9961 - loss: 0.0157 - val_accuracy: 0.8391 - val_loss: 0.8636 - learning_rate: 1.0000e-05\n",
            "Epoch 96/100\n",
            "\u001b[1m187/187\u001b[0m \u001b[32m━━━━━━━━━━━━━━━━━━━━\u001b[0m\u001b[37m\u001b[0m \u001b[1m42s\u001b[0m 224ms/step - accuracy: 0.9973 - loss: 0.0123 - val_accuracy: 0.8391 - val_loss: 0.8661 - learning_rate: 1.0000e-05\n",
            "Epoch 97/100\n",
            "\u001b[1m187/187\u001b[0m \u001b[32m━━━━━━━━━━━━━━━━━━━━\u001b[0m\u001b[37m\u001b[0m \u001b[1m81s\u001b[0m 221ms/step - accuracy: 0.9968 - loss: 0.0124 - val_accuracy: 0.8391 - val_loss: 0.8631 - learning_rate: 1.0000e-05\n",
            "\n",
            " Model training complete.\n"
          ]
        }
      ]
    },
    {
      "cell_type": "code",
      "source": [
        "fig, ax = plt.subplots(1, 2, figsize=(18, 6))\n",
        "ax[0].plot(history.history['loss'], 'r-', label='Training Loss'); ax[0].plot(history.history['val_loss'], 'b-', label='Validation Loss')\n",
        "ax[0].set_title('Training & Validation Loss', fontsize=14); ax[0].legend()\n",
        "ax[1].plot(history.history['accuracy'], 'r-', label='Training Accuracy'); ax[1].plot(history.history['val_accuracy'], 'b-', label='Validation Accuracy')\n",
        "ax[1].set_title('Training & Validation Accuracy', fontsize=14); ax[1].legend()\n",
        "plt.show()\n",
        "\n",
        "\n",
        "print(\"\\nFinal Model Evaluation on Test Data \")\n",
        "test_loss, test_accuracy = model.evaluate(x_test, y_test, verbose=0)\n",
        "print(f\"Test Accuracy: {test_accuracy*100:.2f}%\")\n",
        "\n",
        "\n",
        "y_pred_probs = model.predict(x_test)\n",
        "y_pred_labels = encoder.inverse_transform(y_pred_probs)\n",
        "y_test_labels = encoder.inverse_transform(y_test)\n",
        "emotion_labels = encoder.categories_[0]\n",
        "\n",
        "print(\"\\n Classification Report \")\n",
        "print(classification_report(y_test_labels, y_pred_labels, target_names=emotion_labels))\n",
        "\n",
        "print(\"\\n Confusion Matrix \")\n",
        "cm = confusion_matrix(y_test_labels, y_pred_labels, labels=emotion_labels)\n",
        "plt.figure(figsize=(10, 8)); sns.heatmap(cm, annot=True, fmt='d', cmap='Blues', xticklabels=emotion_labels, yticklabels=emotion_labels)\n",
        "plt.title('Confusion Matrix', fontsize=16); plt.ylabel('Actual Labels'); plt.xlabel('Predicted Labels'); plt.show()\n",
        "\n",
        "def get_valence(emotion):\n",
        "    return 'Positive' if emotion.lower() == 'happy' else 'Negative' if emotion.lower() in ['sad', 'angry', 'fear', 'disgust'] else 'Neutral'\n",
        "\n",
        "print(\"\\n Model evaluation complete.\")"
      ],
      "metadata": {
        "colab": {
          "base_uri": "https://localhost:8080/",
          "height": 1000
        },
        "id": "881SzNiGsLdd",
        "outputId": "a204618a-33dc-4380-f288-f4a626046e84"
      },
      "execution_count": 15,
      "outputs": [
        {
          "output_type": "display_data",
          "data": {
            "text/plain": [
              "<Figure size 1800x600 with 2 Axes>"
            ],
            "image/png": "[encoded data removed]"
          },
          "metadata": {}
        },
        {
          "output_type": "stream",
          "name": "stdout",
          "text": [
            "\n",
            "Final Model Evaluation on Test Data \n",
            "Test Accuracy: 83.91%\n",
            "\u001b[1m94/94\u001b[0m \u001b[32m━━━━━━━━━━━━━━━━━━━━\u001b[0m\u001b[37m\u001b[0m \u001b[1m3s\u001b[0m 27ms/step\n",
            "\n",
            " Classification Report \n",
            "              precision    recall  f1-score   support\n",
            "\n",
            "       angry       0.93      0.87      0.90       529\n",
            "     disgust       0.85      0.84      0.85       493\n",
            "        fear       0.85      0.76      0.80       546\n",
            "       happy       0.85      0.84      0.84       500\n",
            "     neutral       0.83      0.87      0.85       415\n",
            "         sad       0.73      0.86      0.79       494\n",
            "\n",
            "    accuracy                           0.84      2977\n",
            "   macro avg       0.84      0.84      0.84      2977\n",
            "weighted avg       0.84      0.84      0.84      2977\n",
            "\n",
            "\n",
            " Confusion Matrix \n"
          ]
        },
        {
          "output_type": "display_data",
          "data": {
            "text/plain": [
              "<Figure size 1000x800 with 2 Axes>"
            ],
            "image/png": "[encoded data removed]"
          },
          "metadata": {}
        },
        {
          "output_type": "stream",
          "name": "stdout",
          "text": [
            "\n",
            " Model evaluation complete.\n"
          ]
        }
      ]
    },
    {
      "cell_type": "code",
      "source": [
        "model_json = model.to_json()\n",
        "with open(\"model_noise_aug.json\", \"w\") as json_file:\n",
        "    json_file.write(model_json)\n",
        "with open('scaler_noise_aug.pkl', 'wb') as f:\n",
        "    pickle.dump(scaler, f)\n",
        "with open('encoder_noise_aug.pkl', 'wb') as f:\n",
        "    pickle.dump(encoder, f)\n",
        "\n",
        "print(\"Model architecture saved to: model_noise_aug.json\")\n",
        "print(\"Best model weights saved to: best_model_noise_aug.keras\")\n",
        "print(\"Scaler saved to: scaler_noise_aug.pkl\")\n",
        "print(\"Encoder saved to: encoder_noise_aug.pkl\")\n",
        "print(\"\\n All necessary artifacts for the noise-augmented model saved successfully.\")"
      ],
      "metadata": {
        "colab": {
          "base_uri": "https://localhost:8080/"
        },
        "id": "hqfJWo6y-O1N",
        "outputId": "1e99844d-4259-4a7f-ec09-35368370b7e5"
      },
      "execution_count": 16,
      "outputs": [
        {
          "output_type": "stream",
          "name": "stdout",
          "text": [
            "Model architecture saved to: model_noise_aug.json\n",
            "Best model weights saved to: best_model_noise_aug.keras\n",
            "Scaler saved to: scaler_noise_aug.pkl\n",
            "Encoder saved to: encoder_noise_aug.pkl\n",
            "\n",
            " All necessary artifacts for the noise-augmented model saved successfully.\n"
          ]
        }
      ]
    },
    {
      "cell_type": "code",
      "source": [
        "def predict_emotion_from_file(audio_path, model_json_path, weights_path, scaler_path, encoder_path, max_len_path):\n",
        "    try:\n",
        "        with open(model_json_path, 'r') as json_file:\n",
        "            loaded_model = model_from_json(json_file.read())\n",
        "        loaded_model.load_weights(weights_path)\n",
        "        with open(scaler_path, 'rb') as f: scaler = pickle.load(f)\n",
        "        with open(encoder_path, 'rb') as f: encoder = pickle.load(f)\n",
        "        with open(max_len_path, 'r') as f: max_len = int(f.read())\n",
        "\n",
        "        data, sr = librosa.load(audio_path, duration=2.5, offset=0.6)\n",
        "        features = extract_features_sequential(data, sr, n_mfcc=40)\n",
        "        padded = pad_sequences([features], maxlen=max_len, padding='post', dtype='float32')\n",
        "        scaled = scaler.transform(padded.reshape(-1, padded.shape[-1])).reshape(padded.shape)\n",
        "        prediction = loaded_model.predict(scaled, verbose=0)\n",
        "        label = encoder.inverse_transform(prediction)[0][0]\n",
        "        valence = get_valence(label)\n",
        "        return label, valence\n",
        "    except Exception as e: return f\"Error: {e}\", None\n",
        "\n",
        "try:\n",
        "    test_file = data_path.Path.sample(1).iloc[0]\n",
        "    p_label, p_valence = predict_emotion_from_file(\n",
        "        test_file, 'model_noise_aug.json', 'best_model_noise_aug.keras',\n",
        "        'scaler_noise_aug.pkl', 'encoder_noise_aug.pkl', '/content/drive/MyDrive/max_len_noise_only.txt'\n",
        "    )\n",
        "    print(\"\\n--- Single File Prediction Test ---\")\n",
        "    print(f\"File: ...{test_file[-20:]}\\nPredicted Emotion: {p_label.upper()}\\nPredicted Valence: {p_valence.upper()}\")\n",
        "    print(\"\\ Single file prediction demo complete.\")\n",
        "except Exception as e: print(f\"Could not run prediction example: {e}\")"
      ],
      "metadata": {
        "colab": {
          "base_uri": "https://localhost:8080/"
        },
        "id": "egO4ZG_P-VZw",
        "outputId": "9f63d2b3-be27-4f65-afd7-6e12cf03e55b"
      },
      "execution_count": 17,
      "outputs": [
        {
          "output_type": "stream",
          "name": "stdout",
          "text": [
            "\n",
            "--- Single File Prediction Test ---\n",
            "File: .../1088_IEO_HAP_MD.wav\n",
            "Predicted Emotion: HAPPY\n",
            "Predicted Valence: POSITIVE\n",
            "\\ Single file prediction demo complete.\n"
          ]
        }
      ]
    },
    {
      "cell_type": "code",
      "source": [
        "\n",
        "from IPython.display import display, HTML, clear_output\n",
        "from google.colab.output import eval_js\n",
        "from base64 import b64decode\n",
        "\n",
        "def get_audio_test():\n",
        "    \"\"\"A simplified, standalone function to test the microphone in Colab.\"\"\"\n",
        "    JS_CODE = \"\"\"\n",
        "    return new Promise(async (resolve) => {\n",
        "        const div = document.createElement('div');\n",
        "        const button = document.createElement('button');\n",
        "        button.textContent = 'Start Recording Test';\n",
        "        div.appendChild(button);\n",
        "        document.body.appendChild(div);\n",
        "\n",
        "        button.onclick = async () => {\n",
        "            try {\n",
        "                // Request microphone access\n",
        "                const stream = await navigator.mediaDevices.getUserMedia({ audio: true });\n",
        "                const recorder = new MediaRecorder(stream);\n",
        "                let recordedChunks = [];\n",
        "\n",
        "                recorder.ondataavailable = e => {\n",
        "                    if (e.data.size > 0) recordedChunks.push(e.data);\n",
        "                };\n",
        "\n",
        "                recorder.onstop = () => {\n",
        "                    const blob = new Blob(recordedChunks, { type: 'audio/webm' });\n",
        "                    const reader = new FileReader();\n",
        "                    reader.onloadend = () => {\n",
        "                        div.remove();\n",
        "                        resolve(reader.result);\n",
        "                    };\n",
        "                    reader.readAsDataURL(blob);\n",
        "                };\n",
        "\n",
        "                // Start recording and set timeout\n",
        "                recorder.start();\n",
        "                button.textContent = 'Recording...';\n",
        "                button.disabled = true;\n",
        "\n",
        "                setTimeout(() => {\n",
        "                    if (recorder.state === 'recording') {\n",
        "                        recorder.stop();\n",
        "                        stream.getTracks().forEach(track => track.stop());\n",
        "                    }\n",
        "                }, 5000);\n",
        "\n",
        "            } catch (err) {\n",
        "                console.error(err);\n",
        "                // Display the error in the Colab output\n",
        "                div.innerHTML = `<strong>Error:</strong> ${err.message}<br/>Please check browser permissions (the lock icon in the address bar) and try again.`;\n",
        "                resolve(null); // Resolve with null to signal failure\n",
        "            }\n",
        "        };\n",
        "    });\n",
        "    \"\"\"\n",
        "    try:\n",
        "        print(\"Displaying recording button...\")\n",
        "        data = eval_js(JS_CODE)\n",
        "        clear_output(wait=True)\n",
        "\n",
        "        if data:\n",
        "            print(\"Recording successful! Saving to 'test_audio.wav'.\")\n",
        "            binary = b64decode(data.split(',')[1])\n",
        "            with open(\"test_audio.wav\", 'wb') as f:\n",
        "                f.write(binary)\n",
        "            return \"test_audio.wav\"\n",
        "        else:\n",
        "            print(\"Recording failed or was cancelled. Please check the error message above.\")\n",
        "            return None\n",
        "    except Exception as e:\n",
        "        clear_output(wait=True)\n",
        "        print(f\"A Python-level error occurred: {e}\")\n",
        "        return None\n",
        "\n",
        "\n",
        "get_audio_test()"
      ],
      "metadata": {
        "colab": {
          "base_uri": "https://localhost:8080/",
          "height": 35
        },
        "id": "wJQThNJkBCYF",
        "outputId": "a89c9af3-4f2e-47de-94ab-874254255702"
      },
      "execution_count": 21,
      "outputs": [
        {
          "output_type": "stream",
          "name": "stdout",
          "text": [
            "A Python-level error occurred: SyntaxError: Illegal return statement\n"
          ]
        }
      ]
    },
    {
      "cell_type": "code",
      "source": [
        "model.save('my_model.h5')\n"
      ],
      "metadata": {
        "colab": {
          "base_uri": "https://localhost:8080/"
        },
        "id": "V-P_xi_qBVCw",
        "outputId": "8a404ebe-d380-40a0-c017-5fdb479907fb"
      },
      "execution_count": 22,
      "outputs": [
        {
          "output_type": "stream",
          "name": "stderr",
          "text": [
            "WARNING:absl:You are saving your model as an HDF5 file via `model.save()` or `keras.saving.save_model(model)`. This file format is considered legacy. We recommend using instead the native Keras format, e.g. `model.save('my_model.keras')` or `keras.saving.save_model(model, 'my_model.keras')`. \n"
          ]
        }
      ]
    },
    {
      "cell_type": "code",
      "source": [
        "from google.colab import files\n",
        "files.download('my_model.h5')\n"
      ],
      "metadata": {
        "colab": {
          "base_uri": "https://localhost:8080/",
          "height": 17
        },
        "id": "KyLmnVv1BYvs",
        "outputId": "422709bc-d279-43ad-f311-b95c6cadfe58"
      },
      "execution_count": 23,
      "outputs": [
        {
          "output_type": "display_data",
          "data": {
            "text/plain": [
              "<IPython.core.display.Javascript object>"
            ],
            "application/javascript": [
              "\n",
              "    async function download(id, filename, size) {\n",
              "      if (!google.colab.kernel.accessAllowed) {\n",
              "        return;\n",
              "      }\n",
              "      const div = document.createElement('div');\n",
              "      const label = document.createElement('label');\n",
              "      label.textContent = `Downloading \"${filename}\": `;\n",
              "      div.appendChild(label);\n",
              "      const progress = document.createElement('progress');\n",
              "      progress.max = size;\n",
              "      div.appendChild(progress);\n",
              "      document.body.appendChild(div);\n",
              "\n",
              "      const buffers = [];\n",
              "      let downloaded = 0;\n",
              "\n",
              "      const channel = await google.colab.kernel.comms.open(id);\n",
              "      // Send a message to notify the kernel that we're ready.\n",
              "      channel.send({})\n",
              "\n",
              "      for await (const message of channel.messages) {\n",
              "        // Send a message to notify the kernel that we're ready.\n",
              "        channel.send({})\n",
              "        if (message.buffers) {\n",
              "          for (const buffer of message.buffers) {\n",
              "            buffers.push(buffer);\n",
              "            downloaded += buffer.byteLength;\n",
              "            progress.value = downloaded;\n",
              "          }\n",
              "        }\n",
              "      }\n",
              "      const blob = new Blob(buffers, {type: 'application/binary'});\n",
              "      const a = document.createElement('a');\n",
              "      a.href = window.URL.createObjectURL(blob);\n",
              "      a.download = filename;\n",
              "      div.appendChild(a);\n",
              "      a.click();\n",
              "      div.remove();\n",
              "    }\n",
              "  "
            ]
          },
          "metadata": {}
        },
        {
          "output_type": "display_data",
          "data": {
            "text/plain": [
              "<IPython.core.display.Javascript object>"
            ],
            "application/javascript": [
              "download(\"download_173c0ce1-3647-4dbb-be78-bf070824eb6c\", \"my_model.h5\", 3440312)"
            ]
          },
          "metadata": {}
        }
      ]
    },
    {
      "cell_type": "code",
      "source": [
        "import pickle\n",
        "\n",
        "\n",
        "with open('history.pkl', 'wb') as f:\n",
        "    pickle.dump(history.history, f)\n",
        "\n",
        "\n",
        "from google.colab import files\n",
        "files.download('history.pkl')\n"
      ],
      "metadata": {
        "colab": {
          "base_uri": "https://localhost:8080/",
          "height": 17
        },
        "id": "2UttAAFvBleN",
        "outputId": "a289ca6e-0ef7-4175-a2ae-c72618e35400"
      },
      "execution_count": 24,
      "outputs": [
        {
          "output_type": "display_data",
          "data": {
            "text/plain": [
              "<IPython.core.display.Javascript object>"
            ],
            "application/javascript": [
              "\n",
              "    async function download(id, filename, size) {\n",
              "      if (!google.colab.kernel.accessAllowed) {\n",
              "        return;\n",
              "      }\n",
              "      const div = document.createElement('div');\n",
              "      const label = document.createElement('label');\n",
              "      label.textContent = `Downloading \"${filename}\": `;\n",
              "      div.appendChild(label);\n",
              "      const progress = document.createElement('progress');\n",
              "      progress.max = size;\n",
              "      div.appendChild(progress);\n",
              "      document.body.appendChild(div);\n",
              "\n",
              "      const buffers = [];\n",
              "      let downloaded = 0;\n",
              "\n",
              "      const channel = await google.colab.kernel.comms.open(id);\n",
              "      // Send a message to notify the kernel that we're ready.\n",
              "      channel.send({})\n",
              "\n",
              "      for await (const message of channel.messages) {\n",
              "        // Send a message to notify the kernel that we're ready.\n",
              "        channel.send({})\n",
              "        if (message.buffers) {\n",
              "          for (const buffer of message.buffers) {\n",
              "            buffers.push(buffer);\n",
              "            downloaded += buffer.byteLength;\n",
              "            progress.value = downloaded;\n",
              "          }\n",
              "        }\n",
              "      }\n",
              "      const blob = new Blob(buffers, {type: 'application/binary'});\n",
              "      const a = document.createElement('a');\n",
              "      a.href = window.URL.createObjectURL(blob);\n",
              "      a.download = filename;\n",
              "      div.appendChild(a);\n",
              "      a.click();\n",
              "      div.remove();\n",
              "    }\n",
              "  "
            ]
          },
          "metadata": {}
        },
        {
          "output_type": "display_data",
          "data": {
            "text/plain": [
              "<IPython.core.display.Javascript object>"
            ],
            "application/javascript": [
              "download(\"download_72c59b6a-5691-4d89-b195-df3cde4f8115\", \"history.pkl\", 4461)"
            ]
          },
          "metadata": {}
        }
      ]
    }
  ]
}