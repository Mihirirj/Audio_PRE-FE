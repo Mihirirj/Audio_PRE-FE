{
  "nbformat": 4,
  "nbformat_minor": 0,
  "metadata": {
    "colab": {
      "provenance": [],
      "authorship_tag": "ABX9TyPm5XCAUYk06SOy2ROvllVk",
      "include_colab_link": true
    },
    "kernelspec": {
      "name": "python3",
      "display_name": "Python 3"
    },
    "language_info": {
      "name": "python"
    }
  },
  "cells": [
    {
      "cell_type": "markdown",
      "metadata": {
        "id": "view-in-github",
        "colab_type": "text"
      },
      "source": [
        "<a href=\"https://colab.research.google.com/github/Mihirirj/Audio_PRE-FE/blob/main/cnn_model_ipynb.ipynb\" target=\"_parent\"><img src=\"https://colab.research.google.com/assets/colab-badge.svg\" alt=\"Open In Colab\"/></a>"
      ]
    },
    {
      "cell_type": "code",
      "source": [
        "import pandas as pd\n",
        "import numpy as np\n",
        "import os\n",
        "import sys\n",
        "import pickle\n",
        "import timeit\n",
        "from tqdm import tqdm\n",
        "\n",
        "# Audio Processing\n",
        "import librosa\n",
        "import librosa.display\n",
        "\n",
        "# Visualization\n",
        "import seaborn as sns\n",
        "import matplotlib.pyplot as plt\n",
        "\n",
        "# Scikit\n",
        "from sklearn.preprocessing import StandardScaler, OneHotEncoder\n",
        "from sklearn.model_selection import train_test_split\n",
        "from sklearn.metrics import confusion_matrix, classification_report\n",
        "\n",
        "# Keras / TensorFlow\n",
        "import tensorflow as tf\n",
        "from tensorflow.keras.models import Sequential, model_from_json\n",
        "from tensorflow.keras.layers import (\n",
        "    Conv1D, MaxPooling1D, BatchNormalization, Dropout, Flatten, Dense\n",
        ")\n",
        "from tensorflow.keras.preprocessing.sequence import pad_sequences\n",
        "from tensorflow.keras.callbacks import ModelCheckpoint, EarlyStopping, ReduceLROnPlateau\n",
        "\n",
        "import warnings\n",
        "if not sys.warnoptions:\n",
        "    warnings.simplefilter(\"ignore\")\n",
        "warnings.filterwarnings(\"ignore\", category=DeprecationWarning)"
      ],
      "metadata": {
        "id": "6osbdl0ouTNP"
      },
      "execution_count": 9,
      "outputs": []
    },
    {
      "cell_type": "code",
      "source": [
        "try:\n",
        "    from google.colab import drive\n",
        "    print(\"Running in Google Colab. Mounting Drive and installing dependencies.\")\n",
        "\n",
        "    !apt-get update -qq && apt-get install -y libsndfile1 -qq\n",
        "\n",
        "    drive.mount('/content/drive')\n",
        "\n",
        "    CREMA_D_PATH = \"/content/drive/MyDrive/AudioWAV/\"\n",
        "except ImportError:\n",
        "    print(\"Not running in Google Colab. Assuming local environment.\")\n",
        "\n",
        "    CREMA_D_PATH = \"./AudioWAV/\"\n"
      ],
      "metadata": {
        "colab": {
          "base_uri": "https://localhost:8080/"
        },
        "id": "deEOnBLxubp0",
        "outputId": "4526a9c8-2bb3-479f-968a-d18e3d2573ce"
      },
      "execution_count": 10,
      "outputs": [
        {
          "output_type": "stream",
          "name": "stdout",
          "text": [
            "Running in Google Colab. Mounting Drive and installing dependencies.\n",
            "W: Skipping acquire of configured file 'main/source/Sources' as repository 'https://r2u.stat.illinois.edu/ubuntu jammy InRelease' does not seem to provide it (sources.list entry misspelt?)\n",
            "Drive already mounted at /content/drive; to attempt to forcibly remount, call drive.mount(\"/content/drive\", force_remount=True).\n"
          ]
        }
      ]
    },
    {
      "cell_type": "code",
      "source": [
        "print(\"\\n--- Starting Data Loading ---\")\n",
        "crema_directory_list = os.listdir(CREMA_D_PATH)\n",
        "\n",
        "file_emotion = []\n",
        "file_path = []\n",
        "\n",
        "for file in tqdm(crema_directory_list, desc=\"Parsing filenames\"):\n",
        "\n",
        "    if file.endswith('.wav'):\n",
        "        file_path.append(os.path.join(CREMA_D_PATH, file))\n",
        "\n",
        "        part = file.split('_')\n",
        "        emotion_code = part[2]\n",
        "\n",
        "        if emotion_code == 'SAD':\n",
        "            file_emotion.append('sad')\n",
        "        elif emotion_code == 'ANG':\n",
        "            file_emotion.append('angry')\n",
        "        elif emotion_code == 'DIS':\n",
        "            file_emotion.append('disgust')\n",
        "        elif emotion_code == 'FEA':\n",
        "            file_emotion.append('fear')\n",
        "        elif emotion_code == 'HAP':\n",
        "            file_emotion.append('happy')\n",
        "        elif emotion_code == 'NEU':\n",
        "            file_emotion.append('neutral')\n",
        "        else:\n",
        "            file_emotion.append('Unknown')\n",
        "\n",
        "\n",
        "emotion_df = pd.DataFrame(file_emotion, columns=['Emotions'])\n",
        "path_df = pd.DataFrame(file_path, columns=['Path'])\n",
        "data_path = pd.concat([emotion_df, path_df], axis=1)\n",
        "\n",
        "print(\"\\nCREMA-D DataFrame created successfully.\")\n",
        "print(\"Emotion Counts:\")\n",
        "print(data_path['Emotions'].value_counts())\n",
        "\n",
        "\n",
        "plt.figure(figsize=(10, 5))\n",
        "plt.title('Count of Emotions in CREMA-D Dataset', size=16)\n",
        "sns.countplot(x=data_path.Emotions)\n",
        "plt.ylabel('Count', size=12)\n",
        "plt.xlabel('Emotions', size=12)\n",
        "sns.despine(top=True, right=True, left=False, bottom=False)\n",
        "plt.show()"
      ],
      "metadata": {
        "colab": {
          "base_uri": "https://localhost:8080/",
          "height": 748
        },
        "id": "2ILGij9Luz6N",
        "outputId": "3ffb01b3-4ea6-4b2f-f733-3b7e8d35c69a"
      },
      "execution_count": 12,
      "outputs": [
        {
          "output_type": "stream",
          "name": "stdout",
          "text": [
            "\n",
            "--- Starting Data Loading ---\n"
          ]
        },
        {
          "output_type": "stream",
          "name": "stderr",
          "text": [
            "Parsing filenames: 100%|██████████| 7442/7442 [00:00<00:00, 490447.02it/s]"
          ]
        },
        {
          "output_type": "stream",
          "name": "stdout",
          "text": [
            "\n",
            "CREMA-D DataFrame created successfully.\n",
            "Emotion Counts:\n",
            "Emotions\n",
            "fear       1271\n",
            "disgust    1271\n",
            "sad        1271\n",
            "happy      1271\n",
            "angry      1271\n",
            "neutral    1087\n",
            "Name: count, dtype: int64\n"
          ]
        },
        {
          "output_type": "stream",
          "name": "stderr",
          "text": [
            "\n"
          ]
        },
        {
          "output_type": "display_data",
          "data": {
            "text/plain": [
              "<Figure size 1000x500 with 1 Axes>"
            ],
            "image/png": "[encoded data removed]"
          },
          "metadata": {}
        }
      ]
    },
    {
      "cell_type": "code",
      "source": [
        "def noise(data):\n",
        "\n",
        "    noise_amp = 0.035 * np.random.uniform() * np.amax(data)\n",
        "    data = data + noise_amp * np.random.normal(size=data.shape[0])\n",
        "    return data\n",
        "\n",
        "def pitch(data, sampling_rate, pitch_factor=0.7):\n",
        "\n",
        "    return librosa.effects.pitch_shift(y=data, sr=sampling_rate, n_steps=pitch_factor)\n",
        "\n",
        "def stretch(data, rate=0.8):\n",
        "\n",
        "    return librosa.effects.time_stretch(y=data, rate=rate)\n",
        "\n",
        "def extract_features(data, sr=22050, n_mfcc=40):\n",
        "    mfccs = librosa.feature.mfcc(y=data, sr=sr, n_mfcc=n_mfcc)\n",
        "    return mfccs.T  # Transpose to have time steps as the first dimension\n",
        "\n",
        "def get_features_with_augmentation(path):\n",
        "\n",
        "    data, sr = librosa.load(path, duration=2.5, offset=0.6)\n",
        "\n",
        "    # 1. Original Features\n",
        "    res1 = extract_features(data, sr)\n",
        "    # 2. Noise-Augmented Features\n",
        "    noise_data = noise(data)\n",
        "    res2 = extract_features(noise_data, sr)\n",
        "    # 3. Pitch-Augmented Features\n",
        "    pitch_data = pitch(data, sr)\n",
        "    res3 = extract_features(pitch_data, sr)\n",
        "    # 4. Stretch-Augmented Features\n",
        "    stretch_data = stretch(data)\n",
        "    res4 = extract_features(stretch_data, sr)\n",
        "\n",
        "    # Return a list of all feature sets\n",
        "    return [res1, res2, res3, res4]\n",
        "\n",
        "print(\"Functions for feature extraction and augmentation are defined.\")\n",
        "\n",
        "\n",
        "X_features, Y_labels = [], []\n",
        "start_time = timeit.default_timer()\n",
        "\n",
        "for path, emotion in tqdm(zip(data_path.Path, data_path.Emotions), total=len(data_path), desc=\"Extracting Features\"):\n",
        "    try:\n",
        "\n",
        "        feature_list = get_features_with_augmentation(path)\n",
        "        for features in feature_list:\n",
        "            X_features.append(features)\n",
        "            Y_labels.append(emotion)\n",
        "    except Exception as e:\n",
        "        print(f\"Error processing {path}: {e}\")\n",
        "\n",
        "stop_time = timeit.default_timer()\n",
        "print(f'\\nFeature extraction completed in: {stop_time - start_time:.2f}s')\n",
        "\n",
        "\n",
        "max_len = max([len(x) for x in X_features])\n",
        "print(f\"Maximum sequence length found: {max_len}\")\n",
        "\n",
        "X_padded = pad_sequences(X_features, maxlen=max_len, padding='post', dtype='float32')\n",
        "\n",
        "\n",
        "np.save('X_cnn_features.npy', X_padded)\n",
        "np.save('Y_cnn_labels.npy', np.array(Y_labels))\n",
        "with open('cnn_max_len.txt', 'w') as f:\n",
        "    f.write(str(max_len))\n",
        "\n",
        "print(\"\\nPadded features and labels saved to '.npy' files.\")\n",
        "print(\"Max sequence length saved to 'cnn_max_len.txt'\")"
      ],
      "metadata": {
        "colab": {
          "base_uri": "https://localhost:8080/"
        },
        "id": "RbBWoMJLvK3P",
        "outputId": "3ab22640-3b80-46f6-8779-a2818b632075"
      },
      "execution_count": 13,
      "outputs": [
        {
          "output_type": "stream",
          "name": "stdout",
          "text": [
            "Functions for feature extraction and augmentation are defined.\n"
          ]
        },
        {
          "output_type": "stream",
          "name": "stderr",
          "text": [
            "Extracting Features: 100%|██████████| 7442/7442 [33:47<00:00,  3.67it/s]\n"
          ]
        },
        {
          "output_type": "stream",
          "name": "stdout",
          "text": [
            "\n",
            "Feature extraction completed in: 2027.67s\n",
            "Maximum sequence length found: 135\n",
            "\n",
            "Padded features and labels saved to '.npy' files.\n",
            "Max sequence length saved to 'cnn_max_len.txt'\n"
          ]
        }
      ]
    },
    {
      "cell_type": "code",
      "source": [
        "print(\"\\n--- Splitting and Scaling Data ---\")\n",
        "\n",
        "\n",
        "X = np.load('X_cnn_features.npy')\n",
        "Y = np.load('Y_cnn_labels.npy')\n",
        "\n",
        "encoder = OneHotEncoder()\n",
        "Y_encoded = encoder.fit_transform(np.array(Y).reshape(-1, 1)).toarray()\n",
        "\n",
        "\n",
        "x_train, x_test, y_train, y_test = train_test_split(X, Y_encoded, random_state=42, test_size=0.2, shuffle=True)\n",
        "\n",
        "\n",
        "scaler = StandardScaler()\n",
        "\n",
        "x_train_2d = x_train.reshape(x_train.shape[0], -1)\n",
        "x_train_scaled_2d = scaler.fit_transform(x_train_2d)\n",
        "x_train = x_train_scaled_2d.reshape(x_train.shape)\n",
        "\n",
        "\n",
        "x_test_2d = x_test.reshape(x_test.shape[0], -1)\n",
        "x_test_scaled_2d = scaler.transform(x_test_2d)\n",
        "x_test = x_test_scaled_2d.reshape(x_test.shape)\n",
        "\n",
        "print(f\"Data shapes after splitting and scaling: \\n\"\n",
        "      f\"x_train: {x_train.shape}\\n\"\n",
        "      f\"y_train: {y_train.shape}\\n\"\n",
        "      f\"x_test: {x_test.shape}\\n\"\n",
        "      f\"y_test: {y_test.shape}\")"
      ],
      "metadata": {
        "colab": {
          "base_uri": "https://localhost:8080/"
        },
        "id": "i9Jv3D6z3fYW",
        "outputId": "cf26fdd8-d0ea-4593-a953-3f0761ed5ece"
      },
      "execution_count": 14,
      "outputs": [
        {
          "output_type": "stream",
          "name": "stdout",
          "text": [
            "\n",
            "--- Splitting and Scaling Data ---\n",
            "Data shapes after splitting and scaling: \n",
            "x_train: (23814, 135, 40)\n",
            "y_train: (23814, 6)\n",
            "x_test: (5954, 135, 40)\n",
            "y_test: (5954, 6)\n"
          ]
        }
      ]
    },
    {
      "cell_type": "code",
      "source": [
        "print(\"\\n--- Building the CNN Model ---\")\n",
        "\n",
        "input_shape = (x_train.shape[1], x_train.shape[2])\n",
        "num_classes = y_train.shape[1]\n",
        "\n",
        "model = Sequential()\n",
        "\n",
        "\n",
        "model.add(Conv1D(256, kernel_size=5, strides=1, padding='same', activation='relu', input_shape=input_shape))\n",
        "model.add(BatchNormalization())\n",
        "model.add(MaxPooling1D(pool_size=5, strides=2, padding='same'))\n",
        "\n",
        "\n",
        "model.add(Conv1D(128, kernel_size=5, strides=1, padding='same', activation='relu'))\n",
        "model.add(BatchNormalization())\n",
        "model.add(MaxPooling1D(pool_size=5, strides=2, padding='same'))\n",
        "model.add(Dropout(0.3))\n",
        "\n",
        "\n",
        "model.add(Conv1D(64, kernel_size=3, strides=1, padding='same', activation='relu'))\n",
        "model.add(BatchNormalization())\n",
        "model.add(MaxPooling1D(pool_size=5, strides=2, padding='same'))\n",
        "\n",
        "\n",
        "model.add(Flatten())\n",
        "model.add(Dropout(0.3))\n",
        "\n",
        "\n",
        "model.add(Dense(128, activation='relu'))\n",
        "model.add(BatchNormalization())\n",
        "\n",
        "\n",
        "model.add(Dense(num_classes, activation='softmax'))\n",
        "\n",
        "\n",
        "model.compile(optimizer='adam', loss='categorical_crossentropy', metrics=['accuracy'])\n",
        "\n",
        "model.summary()"
      ],
      "metadata": {
        "colab": {
          "base_uri": "https://localhost:8080/",
          "height": 766
        },
        "id": "WT3LslZC3t6d",
        "outputId": "96c275cb-abcc-46a1-c27f-89c9be495bd3"
      },
      "execution_count": 15,
      "outputs": [
        {
          "output_type": "stream",
          "name": "stdout",
          "text": [
            "\n",
            "--- Building the CNN Model ---\n"
          ]
        },
        {
          "output_type": "stream",
          "name": "stderr",
          "text": [
            "/usr/local/lib/python3.11/dist-packages/keras/src/layers/convolutional/base_conv.py:107: UserWarning: Do not pass an `input_shape`/`input_dim` argument to a layer. When using Sequential models, prefer using an `Input(shape)` object as the first layer in the model instead.\n",
            "  super().__init__(activity_regularizer=activity_regularizer, **kwargs)\n"
          ]
        },
        {
          "output_type": "display_data",
          "data": {
            "text/plain": [
              "\u001b[1mModel: \"sequential\"\u001b[0m\n"
            ],
            "text/html": [
              "<pre style=\"white-space:pre;overflow-x:auto;line-height:normal;font-family:Menlo,'DejaVu Sans Mono',consolas,'Courier New',monospace\"><span style=\"font-weight: bold\">Model: \"sequential\"</span>\n",
              "</pre>\n"
            ]
          },
          "metadata": {}
        },
        {
          "output_type": "display_data",
          "data": {
            "text/plain": [
              "┏━━━━━━━━━━━━━━━━━━━━━━━━━━━━━━━━━┳━━━━━━━━━━━━━━━━━━━━━━━━┳━━━━━━━━━━━━━━━┓\n",
              "┃\u001b[1m \u001b[0m\u001b[1mLayer (type)                   \u001b[0m\u001b[1m \u001b[0m┃\u001b[1m \u001b[0m\u001b[1mOutput Shape          \u001b[0m\u001b[1m \u001b[0m┃\u001b[1m \u001b[0m\u001b[1m      Param #\u001b[0m\u001b[1m \u001b[0m┃\n",
              "┡━━━━━━━━━━━━━━━━━━━━━━━━━━━━━━━━━╇━━━━━━━━━━━━━━━━━━━━━━━━╇━━━━━━━━━━━━━━━┩\n",
              "│ conv1d (\u001b[38;5;33mConv1D\u001b[0m)                 │ (\u001b[38;5;45mNone\u001b[0m, \u001b[38;5;34m135\u001b[0m, \u001b[38;5;34m256\u001b[0m)       │        \u001b[38;5;34m51,456\u001b[0m │\n",
              "├─────────────────────────────────┼────────────────────────┼───────────────┤\n",
              "│ batch_normalization             │ (\u001b[38;5;45mNone\u001b[0m, \u001b[38;5;34m135\u001b[0m, \u001b[38;5;34m256\u001b[0m)       │         \u001b[38;5;34m1,024\u001b[0m │\n",
              "│ (\u001b[38;5;33mBatchNormalization\u001b[0m)            │                        │               │\n",
              "├─────────────────────────────────┼────────────────────────┼───────────────┤\n",
              "│ max_pooling1d (\u001b[38;5;33mMaxPooling1D\u001b[0m)    │ (\u001b[38;5;45mNone\u001b[0m, \u001b[38;5;34m68\u001b[0m, \u001b[38;5;34m256\u001b[0m)        │             \u001b[38;5;34m0\u001b[0m │\n",
              "├─────────────────────────────────┼────────────────────────┼───────────────┤\n",
              "│ conv1d_1 (\u001b[38;5;33mConv1D\u001b[0m)               │ (\u001b[38;5;45mNone\u001b[0m, \u001b[38;5;34m68\u001b[0m, \u001b[38;5;34m128\u001b[0m)        │       \u001b[38;5;34m163,968\u001b[0m │\n",
              "├─────────────────────────────────┼────────────────────────┼───────────────┤\n",
              "│ batch_normalization_1           │ (\u001b[38;5;45mNone\u001b[0m, \u001b[38;5;34m68\u001b[0m, \u001b[38;5;34m128\u001b[0m)        │           \u001b[38;5;34m512\u001b[0m │\n",
              "│ (\u001b[38;5;33mBatchNormalization\u001b[0m)            │                        │               │\n",
              "├─────────────────────────────────┼────────────────────────┼───────────────┤\n",
              "│ max_pooling1d_1 (\u001b[38;5;33mMaxPooling1D\u001b[0m)  │ (\u001b[38;5;45mNone\u001b[0m, \u001b[38;5;34m34\u001b[0m, \u001b[38;5;34m128\u001b[0m)        │             \u001b[38;5;34m0\u001b[0m │\n",
              "├─────────────────────────────────┼────────────────────────┼───────────────┤\n",
              "│ dropout (\u001b[38;5;33mDropout\u001b[0m)               │ (\u001b[38;5;45mNone\u001b[0m, \u001b[38;5;34m34\u001b[0m, \u001b[38;5;34m128\u001b[0m)        │             \u001b[38;5;34m0\u001b[0m │\n",
              "├─────────────────────────────────┼────────────────────────┼───────────────┤\n",
              "│ conv1d_2 (\u001b[38;5;33mConv1D\u001b[0m)               │ (\u001b[38;5;45mNone\u001b[0m, \u001b[38;5;34m34\u001b[0m, \u001b[38;5;34m64\u001b[0m)         │        \u001b[38;5;34m24,640\u001b[0m │\n",
              "├─────────────────────────────────┼────────────────────────┼───────────────┤\n",
              "│ batch_normalization_2           │ (\u001b[38;5;45mNone\u001b[0m, \u001b[38;5;34m34\u001b[0m, \u001b[38;5;34m64\u001b[0m)         │           \u001b[38;5;34m256\u001b[0m │\n",
              "│ (\u001b[38;5;33mBatchNormalization\u001b[0m)            │                        │               │\n",
              "├─────────────────────────────────┼────────────────────────┼───────────────┤\n",
              "│ max_pooling1d_2 (\u001b[38;5;33mMaxPooling1D\u001b[0m)  │ (\u001b[38;5;45mNone\u001b[0m, \u001b[38;5;34m17\u001b[0m, \u001b[38;5;34m64\u001b[0m)         │             \u001b[38;5;34m0\u001b[0m │\n",
              "├─────────────────────────────────┼────────────────────────┼───────────────┤\n",
              "│ flatten (\u001b[38;5;33mFlatten\u001b[0m)               │ (\u001b[38;5;45mNone\u001b[0m, \u001b[38;5;34m1088\u001b[0m)           │             \u001b[38;5;34m0\u001b[0m │\n",
              "├─────────────────────────────────┼────────────────────────┼───────────────┤\n",
              "│ dropout_1 (\u001b[38;5;33mDropout\u001b[0m)             │ (\u001b[38;5;45mNone\u001b[0m, \u001b[38;5;34m1088\u001b[0m)           │             \u001b[38;5;34m0\u001b[0m │\n",
              "├─────────────────────────────────┼────────────────────────┼───────────────┤\n",
              "│ dense (\u001b[38;5;33mDense\u001b[0m)                   │ (\u001b[38;5;45mNone\u001b[0m, \u001b[38;5;34m128\u001b[0m)            │       \u001b[38;5;34m139,392\u001b[0m │\n",
              "├─────────────────────────────────┼────────────────────────┼───────────────┤\n",
              "│ batch_normalization_3           │ (\u001b[38;5;45mNone\u001b[0m, \u001b[38;5;34m128\u001b[0m)            │           \u001b[38;5;34m512\u001b[0m │\n",
              "│ (\u001b[38;5;33mBatchNormalization\u001b[0m)            │                        │               │\n",
              "├─────────────────────────────────┼────────────────────────┼───────────────┤\n",
              "│ dense_1 (\u001b[38;5;33mDense\u001b[0m)                 │ (\u001b[38;5;45mNone\u001b[0m, \u001b[38;5;34m6\u001b[0m)              │           \u001b[38;5;34m774\u001b[0m │\n",
              "└─────────────────────────────────┴────────────────────────┴───────────────┘\n"
            ],
            "text/html": [
              "<pre style=\"white-space:pre;overflow-x:auto;line-height:normal;font-family:Menlo,'DejaVu Sans Mono',consolas,'Courier New',monospace\">┏━━━━━━━━━━━━━━━━━━━━━━━━━━━━━━━━━┳━━━━━━━━━━━━━━━━━━━━━━━━┳━━━━━━━━━━━━━━━┓\n",
              "┃<span style=\"font-weight: bold\"> Layer (type)                    </span>┃<span style=\"font-weight: bold\"> Output Shape           </span>┃<span style=\"font-weight: bold\">       Param # </span>┃\n",
              "┡━━━━━━━━━━━━━━━━━━━━━━━━━━━━━━━━━╇━━━━━━━━━━━━━━━━━━━━━━━━╇━━━━━━━━━━━━━━━┩\n",
              "│ conv1d (<span style=\"color: #0087ff; text-decoration-color: #0087ff\">Conv1D</span>)                 │ (<span style=\"color: #00d7ff; text-decoration-color: #00d7ff\">None</span>, <span style=\"color: #00af00; text-decoration-color: #00af00\">135</span>, <span style=\"color: #00af00; text-decoration-color: #00af00\">256</span>)       │        <span style=\"color: #00af00; text-decoration-color: #00af00\">51,456</span> │\n",
              "├─────────────────────────────────┼────────────────────────┼───────────────┤\n",
              "│ batch_normalization             │ (<span style=\"color: #00d7ff; text-decoration-color: #00d7ff\">None</span>, <span style=\"color: #00af00; text-decoration-color: #00af00\">135</span>, <span style=\"color: #00af00; text-decoration-color: #00af00\">256</span>)       │         <span style=\"color: #00af00; text-decoration-color: #00af00\">1,024</span> │\n",
              "│ (<span style=\"color: #0087ff; text-decoration-color: #0087ff\">BatchNormalization</span>)            │                        │               │\n",
              "├─────────────────────────────────┼────────────────────────┼───────────────┤\n",
              "│ max_pooling1d (<span style=\"color: #0087ff; text-decoration-color: #0087ff\">MaxPooling1D</span>)    │ (<span style=\"color: #00d7ff; text-decoration-color: #00d7ff\">None</span>, <span style=\"color: #00af00; text-decoration-color: #00af00\">68</span>, <span style=\"color: #00af00; text-decoration-color: #00af00\">256</span>)        │             <span style=\"color: #00af00; text-decoration-color: #00af00\">0</span> │\n",
              "├─────────────────────────────────┼────────────────────────┼───────────────┤\n",
              "│ conv1d_1 (<span style=\"color: #0087ff; text-decoration-color: #0087ff\">Conv1D</span>)               │ (<span style=\"color: #00d7ff; text-decoration-color: #00d7ff\">None</span>, <span style=\"color: #00af00; text-decoration-color: #00af00\">68</span>, <span style=\"color: #00af00; text-decoration-color: #00af00\">128</span>)        │       <span style=\"color: #00af00; text-decoration-color: #00af00\">163,968</span> │\n",
              "├─────────────────────────────────┼────────────────────────┼───────────────┤\n",
              "│ batch_normalization_1           │ (<span style=\"color: #00d7ff; text-decoration-color: #00d7ff\">None</span>, <span style=\"color: #00af00; text-decoration-color: #00af00\">68</span>, <span style=\"color: #00af00; text-decoration-color: #00af00\">128</span>)        │           <span style=\"color: #00af00; text-decoration-color: #00af00\">512</span> │\n",
              "│ (<span style=\"color: #0087ff; text-decoration-color: #0087ff\">BatchNormalization</span>)            │                        │               │\n",
              "├─────────────────────────────────┼────────────────────────┼───────────────┤\n",
              "│ max_pooling1d_1 (<span style=\"color: #0087ff; text-decoration-color: #0087ff\">MaxPooling1D</span>)  │ (<span style=\"color: #00d7ff; text-decoration-color: #00d7ff\">None</span>, <span style=\"color: #00af00; text-decoration-color: #00af00\">34</span>, <span style=\"color: #00af00; text-decoration-color: #00af00\">128</span>)        │             <span style=\"color: #00af00; text-decoration-color: #00af00\">0</span> │\n",
              "├─────────────────────────────────┼────────────────────────┼───────────────┤\n",
              "│ dropout (<span style=\"color: #0087ff; text-decoration-color: #0087ff\">Dropout</span>)               │ (<span style=\"color: #00d7ff; text-decoration-color: #00d7ff\">None</span>, <span style=\"color: #00af00; text-decoration-color: #00af00\">34</span>, <span style=\"color: #00af00; text-decoration-color: #00af00\">128</span>)        │             <span style=\"color: #00af00; text-decoration-color: #00af00\">0</span> │\n",
              "├─────────────────────────────────┼────────────────────────┼───────────────┤\n",
              "│ conv1d_2 (<span style=\"color: #0087ff; text-decoration-color: #0087ff\">Conv1D</span>)               │ (<span style=\"color: #00d7ff; text-decoration-color: #00d7ff\">None</span>, <span style=\"color: #00af00; text-decoration-color: #00af00\">34</span>, <span style=\"color: #00af00; text-decoration-color: #00af00\">64</span>)         │        <span style=\"color: #00af00; text-decoration-color: #00af00\">24,640</span> │\n",
              "├─────────────────────────────────┼────────────────────────┼───────────────┤\n",
              "│ batch_normalization_2           │ (<span style=\"color: #00d7ff; text-decoration-color: #00d7ff\">None</span>, <span style=\"color: #00af00; text-decoration-color: #00af00\">34</span>, <span style=\"color: #00af00; text-decoration-color: #00af00\">64</span>)         │           <span style=\"color: #00af00; text-decoration-color: #00af00\">256</span> │\n",
              "│ (<span style=\"color: #0087ff; text-decoration-color: #0087ff\">BatchNormalization</span>)            │                        │               │\n",
              "├─────────────────────────────────┼────────────────────────┼───────────────┤\n",
              "│ max_pooling1d_2 (<span style=\"color: #0087ff; text-decoration-color: #0087ff\">MaxPooling1D</span>)  │ (<span style=\"color: #00d7ff; text-decoration-color: #00d7ff\">None</span>, <span style=\"color: #00af00; text-decoration-color: #00af00\">17</span>, <span style=\"color: #00af00; text-decoration-color: #00af00\">64</span>)         │             <span style=\"color: #00af00; text-decoration-color: #00af00\">0</span> │\n",
              "├─────────────────────────────────┼────────────────────────┼───────────────┤\n",
              "│ flatten (<span style=\"color: #0087ff; text-decoration-color: #0087ff\">Flatten</span>)               │ (<span style=\"color: #00d7ff; text-decoration-color: #00d7ff\">None</span>, <span style=\"color: #00af00; text-decoration-color: #00af00\">1088</span>)           │             <span style=\"color: #00af00; text-decoration-color: #00af00\">0</span> │\n",
              "├─────────────────────────────────┼────────────────────────┼───────────────┤\n",
              "│ dropout_1 (<span style=\"color: #0087ff; text-decoration-color: #0087ff\">Dropout</span>)             │ (<span style=\"color: #00d7ff; text-decoration-color: #00d7ff\">None</span>, <span style=\"color: #00af00; text-decoration-color: #00af00\">1088</span>)           │             <span style=\"color: #00af00; text-decoration-color: #00af00\">0</span> │\n",
              "├─────────────────────────────────┼────────────────────────┼───────────────┤\n",
              "│ dense (<span style=\"color: #0087ff; text-decoration-color: #0087ff\">Dense</span>)                   │ (<span style=\"color: #00d7ff; text-decoration-color: #00d7ff\">None</span>, <span style=\"color: #00af00; text-decoration-color: #00af00\">128</span>)            │       <span style=\"color: #00af00; text-decoration-color: #00af00\">139,392</span> │\n",
              "├─────────────────────────────────┼────────────────────────┼───────────────┤\n",
              "│ batch_normalization_3           │ (<span style=\"color: #00d7ff; text-decoration-color: #00d7ff\">None</span>, <span style=\"color: #00af00; text-decoration-color: #00af00\">128</span>)            │           <span style=\"color: #00af00; text-decoration-color: #00af00\">512</span> │\n",
              "│ (<span style=\"color: #0087ff; text-decoration-color: #0087ff\">BatchNormalization</span>)            │                        │               │\n",
              "├─────────────────────────────────┼────────────────────────┼───────────────┤\n",
              "│ dense_1 (<span style=\"color: #0087ff; text-decoration-color: #0087ff\">Dense</span>)                 │ (<span style=\"color: #00d7ff; text-decoration-color: #00d7ff\">None</span>, <span style=\"color: #00af00; text-decoration-color: #00af00\">6</span>)              │           <span style=\"color: #00af00; text-decoration-color: #00af00\">774</span> │\n",
              "└─────────────────────────────────┴────────────────────────┴───────────────┘\n",
              "</pre>\n"
            ]
          },
          "metadata": {}
        },
        {
          "output_type": "display_data",
          "data": {
            "text/plain": [
              "\u001b[1m Total params: \u001b[0m\u001b[38;5;34m382,534\u001b[0m (1.46 MB)\n"
            ],
            "text/html": [
              "<pre style=\"white-space:pre;overflow-x:auto;line-height:normal;font-family:Menlo,'DejaVu Sans Mono',consolas,'Courier New',monospace\"><span style=\"font-weight: bold\"> Total params: </span><span style=\"color: #00af00; text-decoration-color: #00af00\">382,534</span> (1.46 MB)\n",
              "</pre>\n"
            ]
          },
          "metadata": {}
        },
        {
          "output_type": "display_data",
          "data": {
            "text/plain": [
              "\u001b[1m Trainable params: \u001b[0m\u001b[38;5;34m381,382\u001b[0m (1.45 MB)\n"
            ],
            "text/html": [
              "<pre style=\"white-space:pre;overflow-x:auto;line-height:normal;font-family:Menlo,'DejaVu Sans Mono',consolas,'Courier New',monospace\"><span style=\"font-weight: bold\"> Trainable params: </span><span style=\"color: #00af00; text-decoration-color: #00af00\">381,382</span> (1.45 MB)\n",
              "</pre>\n"
            ]
          },
          "metadata": {}
        },
        {
          "output_type": "display_data",
          "data": {
            "text/plain": [
              "\u001b[1m Non-trainable params: \u001b[0m\u001b[38;5;34m1,152\u001b[0m (4.50 KB)\n"
            ],
            "text/html": [
              "<pre style=\"white-space:pre;overflow-x:auto;line-height:normal;font-family:Menlo,'DejaVu Sans Mono',consolas,'Courier New',monospace\"><span style=\"font-weight: bold\"> Non-trainable params: </span><span style=\"color: #00af00; text-decoration-color: #00af00\">1,152</span> (4.50 KB)\n",
              "</pre>\n"
            ]
          },
          "metadata": {}
        }
      ]
    },
    {
      "cell_type": "code",
      "source": [
        "print(\"\\n--- Starting Model Training ---\")\n",
        "\n",
        "# Define callbacks\n",
        "early_stop = EarlyStopping(monitor='val_accuracy', mode='auto', patience=15, restore_best_weights=True)\n",
        "lr_reduction = ReduceLROnPlateau(monitor='val_accuracy', patience=5, verbose=1, factor=0.5, min_lr=0.00001)\n",
        "model_checkpoint = ModelCheckpoint('best_cnn_model.keras', monitor='val_accuracy', save_best_only=True)\n",
        "\n",
        "# Train the model\n",
        "history = model.fit(\n",
        "    x_train, y_train,\n",
        "    epochs=100,\n",
        "    batch_size=64,\n",
        "    validation_data=(x_test, y_test),\n",
        "    callbacks=[early_stop, lr_reduction, model_checkpoint]\n",
        ")\n",
        "\n",
        "print(\"\\nModel training complete.\")"
      ],
      "metadata": {
        "colab": {
          "base_uri": "https://localhost:8080/"
        },
        "id": "2qHs0slG36Xq",
        "outputId": "d0c68f39-dc47-4089-f2a3-f241a283051c"
      },
      "execution_count": 17,
      "outputs": [
        {
          "output_type": "stream",
          "name": "stdout",
          "text": [
            "\n",
            "--- Starting Model Training ---\n",
            "Epoch 1/100\n",
            "\u001b[1m373/373\u001b[0m \u001b[32m━━━━━━━━━━━━━━━━━━━━\u001b[0m\u001b[37m\u001b[0m \u001b[1m104s\u001b[0m 278ms/step - accuracy: 0.9956 - loss: 0.0145 - val_accuracy: 0.8831 - val_loss: 0.5197 - learning_rate: 1.0000e-05\n",
            "Epoch 2/100\n",
            "\u001b[1m373/373\u001b[0m \u001b[32m━━━━━━━━━━━━━━━━━━━━\u001b[0m\u001b[37m\u001b[0m \u001b[1m131s\u001b[0m 248ms/step - accuracy: 0.9950 - loss: 0.0161 - val_accuracy: 0.8844 - val_loss: 0.5101 - learning_rate: 1.0000e-05\n",
            "Epoch 3/100\n",
            "\u001b[1m373/373\u001b[0m \u001b[32m━━━━━━━━━━━━━━━━━━━━\u001b[0m\u001b[37m\u001b[0m \u001b[1m92s\u001b[0m 246ms/step - accuracy: 0.9961 - loss: 0.0137 - val_accuracy: 0.8819 - val_loss: 0.5184 - learning_rate: 1.0000e-05\n",
            "Epoch 4/100\n",
            "\u001b[1m373/373\u001b[0m \u001b[32m━━━━━━━━━━━━━━━━━━━━\u001b[0m\u001b[37m\u001b[0m \u001b[1m142s\u001b[0m 246ms/step - accuracy: 0.9947 - loss: 0.0161 - val_accuracy: 0.8828 - val_loss: 0.5189 - learning_rate: 1.0000e-05\n",
            "Epoch 5/100\n",
            "\u001b[1m373/373\u001b[0m \u001b[32m━━━━━━━━━━━━━━━━━━━━\u001b[0m\u001b[37m\u001b[0m \u001b[1m148s\u001b[0m 261ms/step - accuracy: 0.9946 - loss: 0.0151 - val_accuracy: 0.8821 - val_loss: 0.5209 - learning_rate: 1.0000e-05\n",
            "Epoch 6/100\n",
            "\u001b[1m373/373\u001b[0m \u001b[32m━━━━━━━━━━━━━━━━━━━━\u001b[0m\u001b[37m\u001b[0m \u001b[1m136s\u001b[0m 245ms/step - accuracy: 0.9947 - loss: 0.0164 - val_accuracy: 0.8846 - val_loss: 0.5064 - learning_rate: 1.0000e-05\n",
            "Epoch 7/100\n",
            "\u001b[1m373/373\u001b[0m \u001b[32m━━━━━━━━━━━━━━━━━━━━\u001b[0m\u001b[37m\u001b[0m \u001b[1m142s\u001b[0m 245ms/step - accuracy: 0.9959 - loss: 0.0135 - val_accuracy: 0.8841 - val_loss: 0.5098 - learning_rate: 1.0000e-05\n",
            "Epoch 8/100\n",
            "\u001b[1m373/373\u001b[0m \u001b[32m━━━━━━━━━━━━━━━━━━━━\u001b[0m\u001b[37m\u001b[0m \u001b[1m147s\u001b[0m 259ms/step - accuracy: 0.9947 - loss: 0.0158 - val_accuracy: 0.8838 - val_loss: 0.5110 - learning_rate: 1.0000e-05\n",
            "Epoch 9/100\n",
            "\u001b[1m373/373\u001b[0m \u001b[32m━━━━━━━━━━━━━━━━━━━━\u001b[0m\u001b[37m\u001b[0m \u001b[1m92s\u001b[0m 247ms/step - accuracy: 0.9963 - loss: 0.0131 - val_accuracy: 0.8826 - val_loss: 0.5280 - learning_rate: 1.0000e-05\n",
            "Epoch 10/100\n",
            "\u001b[1m373/373\u001b[0m \u001b[32m━━━━━━━━━━━━━━━━━━━━\u001b[0m\u001b[37m\u001b[0m \u001b[1m148s\u001b[0m 262ms/step - accuracy: 0.9957 - loss: 0.0144 - val_accuracy: 0.8838 - val_loss: 0.5082 - learning_rate: 1.0000e-05\n",
            "Epoch 11/100\n",
            "\u001b[1m373/373\u001b[0m \u001b[32m━━━━━━━━━━━━━━━━━━━━\u001b[0m\u001b[37m\u001b[0m \u001b[1m92s\u001b[0m 247ms/step - accuracy: 0.9958 - loss: 0.0139 - val_accuracy: 0.8856 - val_loss: 0.5051 - learning_rate: 1.0000e-05\n",
            "Epoch 12/100\n",
            "\u001b[1m373/373\u001b[0m \u001b[32m━━━━━━━━━━━━━━━━━━━━\u001b[0m\u001b[37m\u001b[0m \u001b[1m146s\u001b[0m 259ms/step - accuracy: 0.9960 - loss: 0.0130 - val_accuracy: 0.8836 - val_loss: 0.5096 - learning_rate: 1.0000e-05\n",
            "Epoch 13/100\n",
            "\u001b[1m373/373\u001b[0m \u001b[32m━━━━━━━━━━━━━━━━━━━━\u001b[0m\u001b[37m\u001b[0m \u001b[1m136s\u001b[0m 242ms/step - accuracy: 0.9969 - loss: 0.0118 - val_accuracy: 0.8824 - val_loss: 0.5236 - learning_rate: 1.0000e-05\n",
            "Epoch 14/100\n",
            "\u001b[1m373/373\u001b[0m \u001b[32m━━━━━━━━━━━━━━━━━━━━\u001b[0m\u001b[37m\u001b[0m \u001b[1m143s\u001b[0m 246ms/step - accuracy: 0.9953 - loss: 0.0148 - val_accuracy: 0.8826 - val_loss: 0.5261 - learning_rate: 1.0000e-05\n",
            "Epoch 15/100\n",
            "\u001b[1m373/373\u001b[0m \u001b[32m━━━━━━━━━━━━━━━━━━━━\u001b[0m\u001b[37m\u001b[0m \u001b[1m143s\u001b[0m 249ms/step - accuracy: 0.9960 - loss: 0.0138 - val_accuracy: 0.8836 - val_loss: 0.5115 - learning_rate: 1.0000e-05\n",
            "Epoch 16/100\n",
            "\u001b[1m373/373\u001b[0m \u001b[32m━━━━━━━━━━━━━━━━━━━━\u001b[0m\u001b[37m\u001b[0m \u001b[1m91s\u001b[0m 244ms/step - accuracy: 0.9962 - loss: 0.0126 - val_accuracy: 0.8823 - val_loss: 0.5211 - learning_rate: 1.0000e-05\n",
            "Epoch 17/100\n",
            "\u001b[1m373/373\u001b[0m \u001b[32m━━━━━━━━━━━━━━━━━━━━\u001b[0m\u001b[37m\u001b[0m \u001b[1m144s\u001b[0m 250ms/step - accuracy: 0.9951 - loss: 0.0154 - val_accuracy: 0.8801 - val_loss: 0.5292 - learning_rate: 1.0000e-05\n",
            "Epoch 18/100\n",
            "\u001b[1m373/373\u001b[0m \u001b[32m━━━━━━━━━━━━━━━━━━━━\u001b[0m\u001b[37m\u001b[0m \u001b[1m143s\u001b[0m 254ms/step - accuracy: 0.9950 - loss: 0.0145 - val_accuracy: 0.8826 - val_loss: 0.5175 - learning_rate: 1.0000e-05\n",
            "Epoch 19/100\n",
            "\u001b[1m373/373\u001b[0m \u001b[32m━━━━━━━━━━━━━━━━━━━━\u001b[0m\u001b[37m\u001b[0m \u001b[1m93s\u001b[0m 251ms/step - accuracy: 0.9960 - loss: 0.0138 - val_accuracy: 0.8836 - val_loss: 0.5172 - learning_rate: 1.0000e-05\n",
            "Epoch 20/100\n",
            "\u001b[1m373/373\u001b[0m \u001b[32m━━━━━━━━━━━━━━━━━━━━\u001b[0m\u001b[37m\u001b[0m \u001b[1m141s\u001b[0m 249ms/step - accuracy: 0.9958 - loss: 0.0140 - val_accuracy: 0.8850 - val_loss: 0.5090 - learning_rate: 1.0000e-05\n",
            "Epoch 21/100\n",
            "\u001b[1m373/373\u001b[0m \u001b[32m━━━━━━━━━━━━━━━━━━━━\u001b[0m\u001b[37m\u001b[0m \u001b[1m146s\u001b[0m 260ms/step - accuracy: 0.9950 - loss: 0.0166 - val_accuracy: 0.8836 - val_loss: 0.5146 - learning_rate: 1.0000e-05\n",
            "Epoch 22/100\n",
            "\u001b[1m373/373\u001b[0m \u001b[32m━━━━━━━━━━━━━━━━━━━━\u001b[0m\u001b[37m\u001b[0m \u001b[1m137s\u001b[0m 246ms/step - accuracy: 0.9952 - loss: 0.0164 - val_accuracy: 0.8841 - val_loss: 0.5124 - learning_rate: 1.0000e-05\n",
            "Epoch 23/100\n",
            "\u001b[1m373/373\u001b[0m \u001b[32m━━━━━━━━━━━━━━━━━━━━\u001b[0m\u001b[37m\u001b[0m \u001b[1m142s\u001b[0m 246ms/step - accuracy: 0.9959 - loss: 0.0132 - val_accuracy: 0.8848 - val_loss: 0.5064 - learning_rate: 1.0000e-05\n",
            "Epoch 24/100\n",
            "\u001b[1m373/373\u001b[0m \u001b[32m━━━━━━━━━━━━━━━━━━━━\u001b[0m\u001b[37m\u001b[0m \u001b[1m144s\u001b[0m 252ms/step - accuracy: 0.9963 - loss: 0.0145 - val_accuracy: 0.8846 - val_loss: 0.5157 - learning_rate: 1.0000e-05\n",
            "Epoch 25/100\n",
            "\u001b[1m373/373\u001b[0m \u001b[32m━━━━━━━━━━━━━━━━━━━━\u001b[0m\u001b[37m\u001b[0m \u001b[1m93s\u001b[0m 249ms/step - accuracy: 0.9952 - loss: 0.0151 - val_accuracy: 0.8850 - val_loss: 0.5100 - learning_rate: 1.0000e-05\n",
            "Epoch 26/100\n",
            "\u001b[1m373/373\u001b[0m \u001b[32m━━━━━━━━━━━━━━━━━━━━\u001b[0m\u001b[37m\u001b[0m \u001b[1m92s\u001b[0m 248ms/step - accuracy: 0.9962 - loss: 0.0132 - val_accuracy: 0.8844 - val_loss: 0.5147 - learning_rate: 1.0000e-05\n",
            "\n",
            "Model training complete.\n"
          ]
        }
      ]
    },
    {
      "cell_type": "code",
      "source": [
        "\n",
        "print(\"\\n--- Evaluating Model Performance ---\")\n",
        "\n",
        "epochs = range(1, len(history.history['accuracy']) + 1)\n",
        "fig, ax = plt.subplots(1, 2, figsize=(15, 5))\n",
        "ax[0].plot(epochs, history.history['loss'], label='Training Loss')\n",
        "ax[0].plot(epochs, history.history['val_loss'], label='Validation Loss')\n",
        "ax[0].set_title('Training & Validation Loss')\n",
        "ax[0].set_xlabel('Epochs')\n",
        "ax[0].set_ylabel('Loss')\n",
        "ax[0].legend()\n",
        "\n",
        "ax[1].plot(epochs, history.history['accuracy'], label='Training Accuracy')\n",
        "ax[1].plot(epochs, history.history['val_accuracy'], label='Validation Accuracy')\n",
        "ax[1].set_title('Training & Validation Accuracy')\n",
        "ax[1].set_xlabel('Epochs')\n",
        "ax[1].set_ylabel('Accuracy')\n",
        "ax[1].legend()\n",
        "plt.show()\n",
        "\n",
        "\n",
        "print(\"\\nFinal Model Evaluation on Test Data:\")\n",
        "test_loss, test_accuracy = model.evaluate(x_test, y_test, verbose=0)\n",
        "print(f\"Test Accuracy: {test_accuracy*100:.2f}%\")\n",
        "print(f\"Test Loss: {test_loss:.4f}\")\n",
        "\n",
        "\n",
        "print(\"\\nGenerating and saving predictions for the CNN model...\")\n",
        "\n",
        "cnn_preds = model.predict(x_test)\n",
        "\n",
        "np.save(\"cnn_preds.npy\", cnn_preds)\n",
        "print(\"Successfully saved CNN model predictions to 'cnn_preds.npy'\")\n",
        "print(\"Shape of the saved predictions:\", cnn_preds.shape)\n",
        "\n",
        "\n",
        "y_pred_labels = encoder.inverse_transform(cnn_preds)\n",
        "y_test_labels = encoder.inverse_transform(y_test)\n",
        "\n",
        "print(\"\\nClassification Report:\")\n",
        "class_names = encoder.categories_[0]\n",
        "print(classification_report(y_test_labels, y_pred_labels, target_names=class_names))\n",
        "\n",
        "cm = confusion_matrix(y_test_labels, y_pred_labels, labels=class_names)\n",
        "plt.figure(figsize=(10, 8))\n",
        "sns.heatmap(cm, annot=True, fmt='d', cmap='Blues', xticklabels=class_names, yticklabels=class_names)\n",
        "plt.title('Confusion Matrix')\n",
        "plt.ylabel('Actual Labels')\n",
        "plt.xlabel('Predicted Labels')\n",
        "plt.show()\n",
        "\n",
        "def get_valence(emotion):\n",
        "    emotion = emotion.lower()\n",
        "    if emotion == 'happy':\n",
        "        return 'Positive'\n",
        "    elif emotion in ['sad', 'angry', 'fear', 'disgust']:\n",
        "        return 'Negative'\n",
        "    else:\n",
        "        return 'Neutral'\n",
        "\n",
        "print(\"\\n--- Example Predictions with Emotional Valence ---\")\n",
        "for i in range(10):\n",
        "    actual_emotion = y_test_labels[i][0]\n",
        "    predicted_emotion = y_pred_labels[i][0]\n",
        "    valence = get_valence(predicted_emotion)\n",
        "    print(f\"Actual: {actual_emotion:<10} | Predicted: {predicted_emotion:<10} | Valence: {valence}\")"
      ],
      "metadata": {
        "colab": {
          "base_uri": "https://localhost:8080/",
          "height": 1000
        },
        "id": "KoM43bWEDRI1",
        "outputId": "9853969a-c9c9-43d7-b07b-b895a58cbade"
      },
      "execution_count": 22,
      "outputs": [
        {
          "output_type": "stream",
          "name": "stdout",
          "text": [
            "\n",
            "--- Evaluating Model Performance ---\n"
          ]
        },
        {
          "output_type": "display_data",
          "data": {
            "text/plain": [
              "<Figure size 1500x500 with 2 Axes>"
            ],
            "image/png": "[encoded data removed]"
          },
          "metadata": {}
        },
        {
          "output_type": "stream",
          "name": "stdout",
          "text": [
            "\n",
            "Final Model Evaluation on Test Data:\n",
            "Test Accuracy: 88.56%\n",
            "Test Loss: 0.5051\n",
            "\n",
            "Generating and saving predictions for the CNN model...\n",
            "\u001b[1m187/187\u001b[0m \u001b[32m━━━━━━━━━━━━━━━━━━━━\u001b[0m\u001b[37m\u001b[0m \u001b[1m5s\u001b[0m 24ms/step\n",
            "Successfully saved CNN model predictions to 'cnn_preds.npy'\n",
            "Shape of the saved predictions: (5954, 6)\n",
            "\n",
            "Classification Report:\n",
            "              precision    recall  f1-score   support\n",
            "\n",
            "       angry       0.98      0.91      0.94      1011\n",
            "     disgust       0.88      0.87      0.87      1035\n",
            "        fear       0.92      0.82      0.87      1016\n",
            "       happy       0.94      0.87      0.90      1015\n",
            "     neutral       0.84      0.93      0.88       837\n",
            "         sad       0.79      0.94      0.86      1040\n",
            "\n",
            "    accuracy                           0.89      5954\n",
            "   macro avg       0.89      0.89      0.89      5954\n",
            "weighted avg       0.89      0.89      0.89      5954\n",
            "\n"
          ]
        },
        {
          "output_type": "display_data",
          "data": {
            "text/plain": [
              "<Figure size 1000x800 with 2 Axes>"
            ],
            "image/png": "[encoded data removed]"
          },
          "metadata": {}
        },
        {
          "output_type": "stream",
          "name": "stdout",
          "text": [
            "\n",
            "--- Example Predictions with Emotional Valence ---\n",
            "Actual: angry      | Predicted: angry      | Valence: Negative\n",
            "Actual: angry      | Predicted: angry      | Valence: Negative\n",
            "Actual: sad        | Predicted: sad        | Valence: Negative\n",
            "Actual: disgust    | Predicted: disgust    | Valence: Negative\n",
            "Actual: fear       | Predicted: fear       | Valence: Negative\n",
            "Actual: neutral    | Predicted: neutral    | Valence: Neutral\n",
            "Actual: happy      | Predicted: happy      | Valence: Positive\n",
            "Actual: happy      | Predicted: happy      | Valence: Positive\n",
            "Actual: disgust    | Predicted: disgust    | Valence: Negative\n",
            "Actual: sad        | Predicted: sad        | Valence: Negative\n"
          ]
        }
      ]
    },
    {
      "cell_type": "code",
      "source": [
        "print(\"\\n--- Saving Final Model and Artifacts ---\")\n",
        "\n",
        "\n",
        "model_json = model.to_json()\n",
        "with open(\"cnn_model.json\", \"w\") as json_file:\n",
        "    json_file.write(model_json)\n",
        "print(\"Model architecture saved to cnn_model.json\")\n",
        "print(\"Best model weights were already saved to best_cnn_model.keras during training.\")\n",
        "\n",
        "\n",
        "with open('scaler_cnn.pickle', 'wb') as f:\n",
        "    pickle.dump(scaler, f)\n",
        "with open('encoder_cnn.pickle', 'wb') as f:\n",
        "    pickle.dump(encoder, f)\n",
        "print(\"Scaler saved to scaler_cnn.pickle\")\n",
        "print(\"Encoder saved to encoder_cnn.pickle\")"
      ],
      "metadata": {
        "colab": {
          "base_uri": "https://localhost:8080/"
        },
        "id": "94B_qoQtEDNl",
        "outputId": "f8f5f2c0-1ccb-4578-ded3-b0b0ef3e9cb3"
      },
      "execution_count": 23,
      "outputs": [
        {
          "output_type": "stream",
          "name": "stdout",
          "text": [
            "\n",
            "--- Saving Final Model and Artifacts ---\n",
            "Model architecture saved to cnn_model.json\n",
            "Best model weights were already saved to best_cnn_model.keras during training.\n",
            "Scaler saved to scaler_cnn.pickle\n",
            "Encoder saved to encoder_cnn.pickle\n"
          ]
        }
      ]
    },
    {
      "cell_type": "code",
      "source": [
        "def predict_emotion_from_file(audio_path):\n",
        "    \"\"\"\n",
        "    Loads a single audio file, processes it, and predicts the emotion and valence\n",
        "    using the trained CNN model.\n",
        "    \"\"\"\n",
        "    try:\n",
        "\n",
        "        with open('cnn_model.json', 'r') as json_file:\n",
        "            loaded_model_json = json_file.read()\n",
        "        loaded_model = model_from_json(loaded_model_json)\n",
        "\n",
        "\n",
        "        loaded_model.load_weights(\"best_cnn_model.keras\")\n",
        "\n",
        "\n",
        "        with open('scaler_cnn.pickle', 'rb') as f:\n",
        "            scaler = pickle.load(f)\n",
        "        with open('encoder_cnn.pickle', 'rb') as f:\n",
        "            encoder = pickle.load(f)\n",
        "        with open('cnn_max_len.txt', 'r') as f:\n",
        "            max_len = int(f.read())\n",
        "\n",
        "\n",
        "        data, sr = librosa.load(audio_path, duration=2.5, offset=0.6)\n",
        "        features = extract_features(data, sr, n_mfcc=40)\n",
        "\n",
        "\n",
        "        padded_features = pad_sequences([features], maxlen=max_len, padding='post', dtype='float32')\n",
        "        padded_features_2d = padded_features.reshape(1, -1)\n",
        "        scaled_features_2d = scaler.transform(padded_features_2d)\n",
        "        final_features = scaled_features_2d.reshape(padded_features.shape)\n",
        "\n",
        "        prediction = loaded_model.predict(final_features, verbose=0)\n",
        "        predicted_index = np.argmax(prediction)\n",
        "        predicted_label = encoder.categories_[0][predicted_index]\n",
        "        predicted_valence = get_valence(predicted_label)\n",
        "\n",
        "        return predicted_label, predicted_valence\n",
        "\n",
        "    except Exception as e:\n",
        "        return f\"Error during prediction: {e}\", None\n",
        "\n",
        "\n",
        "try:\n",
        "    test_file_path = data_path.Path.sample(1).iloc[0]\n",
        "    predicted_emotion, predicted_valence = predict_emotion_from_file(test_file_path)\n",
        "\n",
        "    print(f\"\\n--- Prediction Test ---\")\n",
        "    print(f\"File Path: {test_file_path}\")\n",
        "    print(f\"Predicted Emotion: {predicted_emotion.upper()}\")\n",
        "    print(f\"Predicted Valence: {predicted_valence.upper()}\")\n",
        "\n",
        "except Exception as e:\n",
        "    print(f\"\\nCould not run prediction example. Error: {e}\")"
      ],
      "metadata": {
        "colab": {
          "base_uri": "https://localhost:8080/"
        },
        "id": "89o2SUfiERI8",
        "outputId": "e58d2777-6cf8-4936-dce3-441ec5c127cb"
      },
      "execution_count": 24,
      "outputs": [
        {
          "output_type": "stream",
          "name": "stdout",
          "text": [
            "\n",
            "--- Prediction Test ---\n",
            "File Path: /content/drive/MyDrive/AudioWAV/1081_IEO_SAD_LO.wav\n",
            "Predicted Emotion: SAD\n",
            "Predicted Valence: NEGATIVE\n"
          ]
        }
      ]
    },
    {
      "cell_type": "code",
      "source": [
        "\n",
        "drive_save_path = \"/content/drive/MyDrive/My_CNN_Speech_Model\"\n",
        "\n",
        "!mkdir -p \"{drive_save_path}\"\n",
        "\n",
        "print(f\"Ready to save files to: {drive_save_path}\")"
      ],
      "metadata": {
        "colab": {
          "base_uri": "https://localhost:8080/"
        },
        "id": "nRLkdNEWEcCf",
        "outputId": "ea33fc72-984a-45c2-c90d-0c28be6fa8b9"
      },
      "execution_count": 25,
      "outputs": [
        {
          "output_type": "stream",
          "name": "stdout",
          "text": [
            "Ready to save files to: /content/drive/MyDrive/My_CNN_Speech_Model\n"
          ]
        }
      ]
    },
    {
      "cell_type": "code",
      "source": [
        "\n",
        "source_file = \"cnn_preds.npy\"\n",
        "\n",
        "\n",
        "destination_path = \"/content/drive/MyDrive/My_CNN_Speech_Model/\"\n",
        "\n",
        "\n",
        "!cp \"{source_file}\" \"{destination_path}\"\n",
        "\n",
        "print(f\"Successfully copied '{source_file}' to your Google Drive!\")"
      ],
      "metadata": {
        "colab": {
          "base_uri": "https://localhost:8080/"
        },
        "id": "6ttW6-VRElww",
        "outputId": "8257a268-a339-4df3-e412-396c54b02f5a"
      },
      "execution_count": 26,
      "outputs": [
        {
          "output_type": "stream",
          "name": "stdout",
          "text": [
            "Successfully copied 'cnn_preds.npy' to your Google Drive!\n"
          ]
        }
      ]
    },
    {
      "cell_type": "code",
      "source": [
        "!ls -lh \"/content/drive/MyDrive/My_CNN_Speech_Model\""
      ],
      "metadata": {
        "colab": {
          "base_uri": "https://localhost:8080/"
        },
        "id": "4AX6m2CPEts8",
        "outputId": "d8ee66c8-f6a0-489c-b907-47fd48c2e0eb"
      },
      "execution_count": 27,
      "outputs": [
        {
          "output_type": "stream",
          "name": "stdout",
          "text": [
            "total 140K\n",
            "-rw------- 1 root root 140K Aug  3 03:56 cnn_preds.npy\n"
          ]
        }
      ]
    }
  ]
}