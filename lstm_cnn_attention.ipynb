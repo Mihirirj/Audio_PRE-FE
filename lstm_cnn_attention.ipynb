{
  "nbformat": 4,
  "nbformat_minor": 0,
  "metadata": {
    "colab": {
      "provenance": [],
      "authorship_tag": "ABX9TyN8zzTIsoRurMX/C9Tu9LmN",
      "include_colab_link": true
    },
    "kernelspec": {
      "name": "python3",
      "display_name": "Python 3"
    },
    "language_info": {
      "name": "python"
    }
  },
  "cells": [
    {
      "cell_type": "markdown",
      "metadata": {
        "id": "view-in-github",
        "colab_type": "text"
      },
      "source": [
        "<a href=\"https://colab.research.google.com/github/Mihirirj/Audio_PRE-FE/blob/main/lstm_cnn_attention.ipynb\" target=\"_parent\"><img src=\"https://colab.research.google.com/assets/colab-badge.svg\" alt=\"Open In Colab\"/></a>"
      ]
    },
    {
      "cell_type": "code",
      "source": [
        "import pandas as pd\n",
        "import numpy as np\n",
        "import os\n",
        "import sys\n",
        "import pickle\n",
        "import timeit\n",
        "from tqdm import tqdm\n",
        "\n",
        "# Audio Processing\n",
        "import librosa\n",
        "import librosa.display\n",
        "\n",
        "# Visualization\n",
        "import seaborn as sns\n",
        "import matplotlib.pyplot as plt\n",
        "\n",
        "# Scikit\n",
        "from sklearn.preprocessing import StandardScaler, OneHotEncoder\n",
        "from sklearn.model_selection import train_test_split\n",
        "from sklearn.metrics import confusion_matrix, classification_report\n",
        "\n",
        "# Keras / TensorFlow\n",
        "import tensorflow as tf\n",
        "from tensorflow.keras.models import Sequential, model_from_json\n",
        "from tensorflow.keras.layers import (\n",
        "    Conv1D, MaxPooling1D, BatchNormalization, Dropout, Dense,\n",
        "    LSTM, Layer\n",
        ")\n",
        "from tensorflow.keras import backend as K\n",
        "from tensorflow.keras.preprocessing.sequence import pad_sequences\n",
        "from tensorflow.keras.callbacks import ModelCheckpoint, EarlyStopping, ReduceLROnPlateau\n",
        "\n",
        "import warnings\n",
        "if not sys.warnoptions:\n",
        "    warnings.simplefilter(\"ignore\")\n",
        "warnings.filterwarnings(\"ignore\", category=DeprecationWarning)\n",
        "\n",
        "\n",
        "try:\n",
        "    from google.colab import drive\n",
        "    print(\"Running in Google Colab. Installing dependencies.\")\n",
        "    !apt-get update -qq && apt-get install -y libsndfile1 -qq\n",
        "except ImportError:\n",
        "    print(\"Not running in Google Colab.  dependencies are installed.\")\n",
        "\n",
        "print(\"\\nLibraries imported.\")"
      ],
      "metadata": {
        "colab": {
          "base_uri": "https://localhost:8080/"
        },
        "id": "kmp8ALBETP73",
        "outputId": "2aac1ad2-4a39-4595-b254-5b5168d3f566"
      },
      "execution_count": 1,
      "outputs": [
        {
          "output_type": "stream",
          "name": "stdout",
          "text": [
            "Running in Google Colab. Installing dependencies.\n",
            "W: Skipping acquire of configured file 'main/source/Sources' as repository 'https://r2u.stat.illinois.edu/ubuntu jammy InRelease' does not seem to provide it (sources.list entry misspelt?)\n",
            "\n",
            "Libraries imported.\n"
          ]
        }
      ]
    },
    {
      "cell_type": "code",
      "source": [
        "try:\n",
        "    from google.colab import drive\n",
        "    drive.mount('/content/drive')\n",
        "\n",
        "    CREMA_D_PATH = \"/content/drive/MyDrive/AudioWAV/\"\n",
        "except ImportError:\n",
        "\n",
        "    CREMA_D_PATH = \"./AudioWAV/\""
      ],
      "metadata": {
        "colab": {
          "base_uri": "https://localhost:8080/"
        },
        "id": "AjQm-O3WTf67",
        "outputId": "15306753-ae8f-4592-d457-59e6bf953b34"
      },
      "execution_count": 2,
      "outputs": [
        {
          "output_type": "stream",
          "name": "stdout",
          "text": [
            "Mounted at /content/drive\n"
          ]
        }
      ]
    },
    {
      "cell_type": "code",
      "source": [
        "\n",
        "crema_directory_list = os.listdir(CREMA_D_PATH)\n",
        "\n",
        "file_emotion = []\n",
        "file_path = []\n",
        "\n",
        "for file in tqdm(crema_directory_list, desc=\"Processing filenames\"):\n",
        "    if file.endswith('.wav'):\n",
        "        file_path.append(os.path.join(CREMA_D_PATH, file))\n",
        "        part = file.split('_')\n",
        "\n",
        "        if len(part) > 2:\n",
        "            if part[2] == 'SAD':\n",
        "                file_emotion.append('sad')\n",
        "            elif part[2] == 'ANG':\n",
        "                file_emotion.append('angry')\n",
        "            elif part[2] == 'DIS':\n",
        "                file_emotion.append('disgust')\n",
        "            elif part[2] == 'FEA':\n",
        "                file_emotion.append('fear')\n",
        "            elif part[2] == 'HAP':\n",
        "                file_emotion.append('happy')\n",
        "            elif part[2] == 'NEU':\n",
        "                file_emotion.append('neutral')\n",
        "            else:\n",
        "                file_emotion.append('Unknown')\n",
        "        else:\n",
        "            file_emotion.append('Unknown')\n",
        "\n",
        "\n",
        "emotion_df = pd.DataFrame(file_emotion, columns=['Emotions'])\n",
        "path_df = pd.DataFrame(file_path, columns=['Path'])\n",
        "data_path = pd.concat([emotion_df, path_df], axis=1)\n",
        "\n",
        "data_path = data_path[data_path.Emotions != 'Unknown']\n",
        "\n",
        "print(\"\\nCREMA-D DataFrame created successfully.\")\n",
        "print(\"Emotion Counts:\")\n",
        "print(data_path['Emotions'].value_counts())"
      ],
      "metadata": {
        "colab": {
          "base_uri": "https://localhost:8080/"
        },
        "id": "Vgrvqn7RToWN",
        "outputId": "fc6c475b-c613-4fc2-8641-2e8cf3137346"
      },
      "execution_count": 5,
      "outputs": [
        {
          "output_type": "stream",
          "name": "stderr",
          "text": [
            "Processing filenames: 100%|██████████| 7442/7442 [00:00<00:00, 291719.72it/s]"
          ]
        },
        {
          "output_type": "stream",
          "name": "stdout",
          "text": [
            "\n",
            "CREMA-D DataFrame created successfully.\n",
            "Emotion Counts:\n",
            "Emotions\n",
            "fear       1271\n",
            "disgust    1271\n",
            "sad        1271\n",
            "happy      1271\n",
            "angry      1271\n",
            "neutral    1087\n",
            "Name: count, dtype: int64\n"
          ]
        },
        {
          "output_type": "stream",
          "name": "stderr",
          "text": [
            "\n"
          ]
        }
      ]
    },
    {
      "cell_type": "code",
      "source": [
        "plt.figure(figsize=(10, 5))\n",
        "plt.title('Count of Emotions in CREMA-D Dataset', size=16)\n",
        "sns.countplot(x=data_path.Emotions)\n",
        "plt.ylabel('Count', size=12)\n",
        "plt.xlabel('Emotions', size=12)\n",
        "sns.despine(top=True, right=True, left=False, bottom=False)\n",
        "plt.show()"
      ],
      "metadata": {
        "colab": {
          "base_uri": "https://localhost:8080/",
          "height": 493
        },
        "id": "dFCuQfhNT05h",
        "outputId": "2d865039-700b-4530-e591-4ce24ee28e33"
      },
      "execution_count": 6,
      "outputs": [
        {
          "output_type": "display_data",
          "data": {
            "text/plain": [
              "<Figure size 1000x500 with 1 Axes>"
            ],
            "image/png": "[encoded data removed]"
          },
          "metadata": {}
        }
      ]
    },
    {
      "cell_type": "code",
      "source": [
        "\n",
        "\n",
        "def noise(data):\n",
        "    noise_amp = 0.035 * np.random.uniform() * np.amax(data)\n",
        "    data = data + noise_amp * np.random.normal(size=data.shape[0])\n",
        "    return data\n",
        "\n",
        "def pitch(data, sampling_rate, pitch_factor=0.7):\n",
        "\n",
        "    return librosa.effects.pitch_shift(y=data, sr=sampling_rate, n_steps=pitch_factor)\n",
        "\n",
        "def stretch(data, rate=0.8):\n",
        "\n",
        "    return librosa.effects.time_stretch(y=data, rate=rate)\n",
        "\n",
        "def extract_features_sequential(data, sr=22050, n_mfcc=40):\n",
        "\n",
        "    mfccs = librosa.feature.mfcc(y=data, sr=sr, n_mfcc=n_mfcc)\n",
        "    return mfccs.T\n",
        "\n",
        "def get_features_with_augmentation_sequential(path):\n",
        "\n",
        "    data, sr = librosa.load(path, duration=2.5, offset=0.6)\n",
        "\n",
        "    # Original Features\n",
        "    res1 = extract_features_sequential(data, sr)\n",
        "    # Noise-Augmented Features\n",
        "    noise_data = noise(data)\n",
        "    res2 = extract_features_sequential(noise_data, sr)\n",
        "    # Pitch-Augmented Features\n",
        "    pitch_data = pitch(data, sr)\n",
        "    res3 = extract_features_sequential(pitch_data, sr)\n",
        "    # Stretch-Augmented Features\n",
        "    stretch_data = stretch(data)\n",
        "    res4 = extract_features_sequential(stretch_data, sr)\n",
        "\n",
        "    return [res1, res2, res3, res4]\n"
      ],
      "metadata": {
        "id": "qDscT-9uT_Oe"
      },
      "execution_count": 7,
      "outputs": []
    },
    {
      "cell_type": "code",
      "source": [
        "\n",
        "start_time = timeit.default_timer()\n",
        "\n",
        "X_seq, Y_seq = [], []\n",
        "for path, emotion in tqdm(zip(data_path.Path, data_path.Emotions), total=len(data_path)):\n",
        "    try:\n",
        "        feature_list = get_features_with_augmentation_sequential(path)\n",
        "        for features in feature_list:\n",
        "            X_seq.append(features)\n",
        "            Y_seq.append(emotion)\n",
        "    except Exception as e:\n",
        "        print(f\"Error processing {path}: {e}\")\n",
        "\n",
        "# Find the maximum length of any sequence\n",
        "max_len = max([len(x) for x in X_seq])\n",
        "print(f\"\\nMaximum sequence length found: {max_len}\")\n",
        "\n",
        "\n",
        "X_padded = pad_sequences(X_seq, maxlen=max_len, padding='post', dtype='float32')\n",
        "\n",
        "stop_time = timeit.default_timer()\n",
        "print(f'Feature extraction and padding completed in: {stop_time - start_time:.2f}s')\n",
        "\n",
        "\n",
        "np.save('X_padded_features.npy', X_padded)\n",
        "np.save('Y_labels.npy', np.array(Y_seq))\n",
        "with open('max_len.txt', 'w') as f:\n",
        "    f.write(str(max_len))\n",
        "\n",
        "print(\"\\nSequential features and labels saved to '.npy' files.\")\n",
        "print(\"Max sequence length saved to 'max_len.txt'\")"
      ],
      "metadata": {
        "colab": {
          "base_uri": "https://localhost:8080/"
        },
        "id": "HLmqwouhUSTI",
        "outputId": "f584aef8-2b84-415d-86a0-283e3b3bda86"
      },
      "execution_count": 8,
      "outputs": [
        {
          "output_type": "stream",
          "name": "stderr",
          "text": [
            "100%|██████████| 7442/7442 [19:33<00:00,  6.34it/s]\n"
          ]
        },
        {
          "output_type": "stream",
          "name": "stdout",
          "text": [
            "\n",
            "Maximum sequence length found: 135\n",
            "Feature extraction and padding completed in: 1173.82s\n",
            "\n",
            "Sequential features and labels saved to '.npy' files.\n",
            "Max sequence length saved to 'max_len.txt'\n"
          ]
        }
      ]
    },
    {
      "cell_type": "code",
      "source": [
        "# Load the pre-processed data\n",
        "X = np.load('X_padded_features.npy')\n",
        "Y = np.load('Y_labels.npy')\n",
        "\n",
        "\n",
        "encoder = OneHotEncoder()\n",
        "Y = encoder.fit_transform(np.array(Y).reshape(-1, 1)).toarray()\n",
        "\n",
        "# Split the data into training and testing sets\n",
        "x_train, x_test, y_train, y_test = train_test_split(X, Y, random_state=42, test_size=0.2, shuffle=True)\n",
        "\n",
        "scaler = StandardScaler()\n",
        "x_train_2d = x_train.reshape(x_train.shape[0], -1)\n",
        "x_train_scaled_2d = scaler.fit_transform(x_train_2d)\n",
        "x_train = x_train_scaled_2d.reshape(x_train.shape)\n",
        "\n",
        "x_test_2d = x_test.reshape(x_test.shape[0], -1)\n",
        "x_test_scaled_2d = scaler.transform(x_test_2d)\n",
        "x_test = x_test_scaled_2d.reshape(x_test.shape)\n",
        "\n",
        "print(f\"\\nData shapes after splitting and scaling:\")\n",
        "print(f\"x_train: {x_train.shape}\")\n",
        "print(f\"y_train: {y_train.shape}\")\n",
        "print(f\"x_test: {x_test.shape}\")\n",
        "print(f\"y_test: {y_test.shape}\")"
      ],
      "metadata": {
        "colab": {
          "base_uri": "https://localhost:8080/"
        },
        "id": "GB4ToHAwYjiR",
        "outputId": "99ff448d-5e38-48ca-e161-80da364cf383"
      },
      "execution_count": 9,
      "outputs": [
        {
          "output_type": "stream",
          "name": "stdout",
          "text": [
            "\n",
            "Data shapes after splitting and scaling:\n",
            "x_train: (23814, 135, 40)\n",
            "y_train: (23814, 6)\n",
            "x_test: (5954, 135, 40)\n",
            "y_test: (5954, 6)\n"
          ]
        }
      ]
    },
    {
      "cell_type": "code",
      "source": [
        "# Define a custom Attention layer\n",
        "class Attention(Layer):\n",
        "    def __init__(self, **kwargs):\n",
        "        super(Attention, self).__init__(**kwargs)\n",
        "\n",
        "    def build(self, input_shape):\n",
        "        self.W = self.add_weight(name=\"att_weight\", shape=(input_shape[-1], 1), initializer=\"normal\")\n",
        "        self.b = self.add_weight(name=\"att_bias\", shape=(input_shape[1], 1), initializer=\"zeros\")\n",
        "        super(Attention, self).build(input_shape)\n",
        "\n",
        "    def call(self, x):\n",
        "        et = K.squeeze(K.tanh(K.dot(x, self.W) + self.b), axis=-1)\n",
        "        at = K.softmax(et)\n",
        "        at = K.expand_dims(at, axis=-1)\n",
        "        output = x * at\n",
        "        return K.sum(output, axis=1)\n",
        "\n",
        "    def compute_output_shape(self, input_shape):\n",
        "        return (input_shape[0], input_shape[-1])\n",
        "\n",
        "    def get_config(self):\n",
        "        return super(Attention, self).get_config()\n",
        "\n",
        "\n",
        "input_shape = (x_train.shape[1], x_train.shape[2])\n",
        "\n",
        "model = Sequential()\n",
        "\n",
        "# CNN Layers\n",
        "model.add(Conv1D(256, kernel_size=5, strides=1, padding='same', activation='relu', input_shape=input_shape))\n",
        "model.add(BatchNormalization())\n",
        "model.add(MaxPooling1D(pool_size=5, strides=2, padding='same'))\n",
        "\n",
        "model.add(Conv1D(128, kernel_size=5, strides=1, padding='same', activation='relu'))\n",
        "model.add(BatchNormalization())\n",
        "model.add(MaxPooling1D(pool_size=5, strides=2, padding='same'))\n",
        "model.add(Dropout(0.3))\n",
        "\n",
        "model.add(Conv1D(64, kernel_size=3, strides=1, padding='same', activation='relu'))\n",
        "model.add(BatchNormalization())\n",
        "model.add(MaxPooling1D(pool_size=5, strides=2, padding='same'))\n",
        "\n",
        "# LSTM Layer - return_sequences=True is required for the Attention layer\n",
        "model.add(LSTM(128, return_sequences=True))\n",
        "model.add(Dropout(0.3))\n",
        "\n",
        "# Attention Layer\n",
        "model.add(Attention())\n",
        "\n",
        "# Dense Layers\n",
        "model.add(Dense(64, activation='relu'))\n",
        "model.add(BatchNormalization())\n",
        "\n",
        "# Output Layer\n",
        "model.add(Dense(y_train.shape[1], activation='softmax'))\n",
        "\n",
        "# Compile the model\n",
        "model.compile(optimizer='adam', loss='categorical_crossentropy', metrics=['accuracy'])\n",
        "model.summary()"
      ],
      "metadata": {
        "colab": {
          "base_uri": "https://localhost:8080/",
          "height": 760
        },
        "id": "8xQESOfRY1YG",
        "outputId": "66562212-becd-408c-fb41-4397e0096664"
      },
      "execution_count": 10,
      "outputs": [
        {
          "output_type": "stream",
          "name": "stderr",
          "text": [
            "/usr/local/lib/python3.11/dist-packages/keras/src/layers/convolutional/base_conv.py:107: UserWarning: Do not pass an `input_shape`/`input_dim` argument to a layer. When using Sequential models, prefer using an `Input(shape)` object as the first layer in the model instead.\n",
            "  super().__init__(activity_regularizer=activity_regularizer, **kwargs)\n"
          ]
        },
        {
          "output_type": "display_data",
          "data": {
            "text/plain": [
              "\u001b[1mModel: \"sequential\"\u001b[0m\n"
            ],
            "text/html": [
              "<pre style=\"white-space:pre;overflow-x:auto;line-height:normal;font-family:Menlo,'DejaVu Sans Mono',consolas,'Courier New',monospace\"><span style=\"font-weight: bold\">Model: \"sequential\"</span>\n",
              "</pre>\n"
            ]
          },
          "metadata": {}
        },
        {
          "output_type": "display_data",
          "data": {
            "text/plain": [
              "┏━━━━━━━━━━━━━━━━━━━━━━━━━━━━━━━━━┳━━━━━━━━━━━━━━━━━━━━━━━━┳━━━━━━━━━━━━━━━┓\n",
              "┃\u001b[1m \u001b[0m\u001b[1mLayer (type)                   \u001b[0m\u001b[1m \u001b[0m┃\u001b[1m \u001b[0m\u001b[1mOutput Shape          \u001b[0m\u001b[1m \u001b[0m┃\u001b[1m \u001b[0m\u001b[1m      Param #\u001b[0m\u001b[1m \u001b[0m┃\n",
              "┡━━━━━━━━━━━━━━━━━━━━━━━━━━━━━━━━━╇━━━━━━━━━━━━━━━━━━━━━━━━╇━━━━━━━━━━━━━━━┩\n",
              "│ conv1d (\u001b[38;5;33mConv1D\u001b[0m)                 │ (\u001b[38;5;45mNone\u001b[0m, \u001b[38;5;34m135\u001b[0m, \u001b[38;5;34m256\u001b[0m)       │        \u001b[38;5;34m51,456\u001b[0m │\n",
              "├─────────────────────────────────┼────────────────────────┼───────────────┤\n",
              "│ batch_normalization             │ (\u001b[38;5;45mNone\u001b[0m, \u001b[38;5;34m135\u001b[0m, \u001b[38;5;34m256\u001b[0m)       │         \u001b[38;5;34m1,024\u001b[0m │\n",
              "│ (\u001b[38;5;33mBatchNormalization\u001b[0m)            │                        │               │\n",
              "├─────────────────────────────────┼────────────────────────┼───────────────┤\n",
              "│ max_pooling1d (\u001b[38;5;33mMaxPooling1D\u001b[0m)    │ (\u001b[38;5;45mNone\u001b[0m, \u001b[38;5;34m68\u001b[0m, \u001b[38;5;34m256\u001b[0m)        │             \u001b[38;5;34m0\u001b[0m │\n",
              "├─────────────────────────────────┼────────────────────────┼───────────────┤\n",
              "│ conv1d_1 (\u001b[38;5;33mConv1D\u001b[0m)               │ (\u001b[38;5;45mNone\u001b[0m, \u001b[38;5;34m68\u001b[0m, \u001b[38;5;34m128\u001b[0m)        │       \u001b[38;5;34m163,968\u001b[0m │\n",
              "├─────────────────────────────────┼────────────────────────┼───────────────┤\n",
              "│ batch_normalization_1           │ (\u001b[38;5;45mNone\u001b[0m, \u001b[38;5;34m68\u001b[0m, \u001b[38;5;34m128\u001b[0m)        │           \u001b[38;5;34m512\u001b[0m │\n",
              "│ (\u001b[38;5;33mBatchNormalization\u001b[0m)            │                        │               │\n",
              "├─────────────────────────────────┼────────────────────────┼───────────────┤\n",
              "│ max_pooling1d_1 (\u001b[38;5;33mMaxPooling1D\u001b[0m)  │ (\u001b[38;5;45mNone\u001b[0m, \u001b[38;5;34m34\u001b[0m, \u001b[38;5;34m128\u001b[0m)        │             \u001b[38;5;34m0\u001b[0m │\n",
              "├─────────────────────────────────┼────────────────────────┼───────────────┤\n",
              "│ dropout (\u001b[38;5;33mDropout\u001b[0m)               │ (\u001b[38;5;45mNone\u001b[0m, \u001b[38;5;34m34\u001b[0m, \u001b[38;5;34m128\u001b[0m)        │             \u001b[38;5;34m0\u001b[0m │\n",
              "├─────────────────────────────────┼────────────────────────┼───────────────┤\n",
              "│ conv1d_2 (\u001b[38;5;33mConv1D\u001b[0m)               │ (\u001b[38;5;45mNone\u001b[0m, \u001b[38;5;34m34\u001b[0m, \u001b[38;5;34m64\u001b[0m)         │        \u001b[38;5;34m24,640\u001b[0m │\n",
              "├─────────────────────────────────┼────────────────────────┼───────────────┤\n",
              "│ batch_normalization_2           │ (\u001b[38;5;45mNone\u001b[0m, \u001b[38;5;34m34\u001b[0m, \u001b[38;5;34m64\u001b[0m)         │           \u001b[38;5;34m256\u001b[0m │\n",
              "│ (\u001b[38;5;33mBatchNormalization\u001b[0m)            │                        │               │\n",
              "├─────────────────────────────────┼────────────────────────┼───────────────┤\n",
              "│ max_pooling1d_2 (\u001b[38;5;33mMaxPooling1D\u001b[0m)  │ (\u001b[38;5;45mNone\u001b[0m, \u001b[38;5;34m17\u001b[0m, \u001b[38;5;34m64\u001b[0m)         │             \u001b[38;5;34m0\u001b[0m │\n",
              "├─────────────────────────────────┼────────────────────────┼───────────────┤\n",
              "│ lstm (\u001b[38;5;33mLSTM\u001b[0m)                     │ (\u001b[38;5;45mNone\u001b[0m, \u001b[38;5;34m17\u001b[0m, \u001b[38;5;34m128\u001b[0m)        │        \u001b[38;5;34m98,816\u001b[0m │\n",
              "├─────────────────────────────────┼────────────────────────┼───────────────┤\n",
              "│ dropout_1 (\u001b[38;5;33mDropout\u001b[0m)             │ (\u001b[38;5;45mNone\u001b[0m, \u001b[38;5;34m17\u001b[0m, \u001b[38;5;34m128\u001b[0m)        │             \u001b[38;5;34m0\u001b[0m │\n",
              "├─────────────────────────────────┼────────────────────────┼───────────────┤\n",
              "│ attention (\u001b[38;5;33mAttention\u001b[0m)           │ (\u001b[38;5;45mNone\u001b[0m, \u001b[38;5;34m128\u001b[0m)            │           \u001b[38;5;34m145\u001b[0m │\n",
              "├─────────────────────────────────┼────────────────────────┼───────────────┤\n",
              "│ dense (\u001b[38;5;33mDense\u001b[0m)                   │ (\u001b[38;5;45mNone\u001b[0m, \u001b[38;5;34m64\u001b[0m)             │         \u001b[38;5;34m8,256\u001b[0m │\n",
              "├─────────────────────────────────┼────────────────────────┼───────────────┤\n",
              "│ batch_normalization_3           │ (\u001b[38;5;45mNone\u001b[0m, \u001b[38;5;34m64\u001b[0m)             │           \u001b[38;5;34m256\u001b[0m │\n",
              "│ (\u001b[38;5;33mBatchNormalization\u001b[0m)            │                        │               │\n",
              "├─────────────────────────────────┼────────────────────────┼───────────────┤\n",
              "│ dense_1 (\u001b[38;5;33mDense\u001b[0m)                 │ (\u001b[38;5;45mNone\u001b[0m, \u001b[38;5;34m6\u001b[0m)              │           \u001b[38;5;34m390\u001b[0m │\n",
              "└─────────────────────────────────┴────────────────────────┴───────────────┘\n"
            ],
            "text/html": [
              "<pre style=\"white-space:pre;overflow-x:auto;line-height:normal;font-family:Menlo,'DejaVu Sans Mono',consolas,'Courier New',monospace\">┏━━━━━━━━━━━━━━━━━━━━━━━━━━━━━━━━━┳━━━━━━━━━━━━━━━━━━━━━━━━┳━━━━━━━━━━━━━━━┓\n",
              "┃<span style=\"font-weight: bold\"> Layer (type)                    </span>┃<span style=\"font-weight: bold\"> Output Shape           </span>┃<span style=\"font-weight: bold\">       Param # </span>┃\n",
              "┡━━━━━━━━━━━━━━━━━━━━━━━━━━━━━━━━━╇━━━━━━━━━━━━━━━━━━━━━━━━╇━━━━━━━━━━━━━━━┩\n",
              "│ conv1d (<span style=\"color: #0087ff; text-decoration-color: #0087ff\">Conv1D</span>)                 │ (<span style=\"color: #00d7ff; text-decoration-color: #00d7ff\">None</span>, <span style=\"color: #00af00; text-decoration-color: #00af00\">135</span>, <span style=\"color: #00af00; text-decoration-color: #00af00\">256</span>)       │        <span style=\"color: #00af00; text-decoration-color: #00af00\">51,456</span> │\n",
              "├─────────────────────────────────┼────────────────────────┼───────────────┤\n",
              "│ batch_normalization             │ (<span style=\"color: #00d7ff; text-decoration-color: #00d7ff\">None</span>, <span style=\"color: #00af00; text-decoration-color: #00af00\">135</span>, <span style=\"color: #00af00; text-decoration-color: #00af00\">256</span>)       │         <span style=\"color: #00af00; text-decoration-color: #00af00\">1,024</span> │\n",
              "│ (<span style=\"color: #0087ff; text-decoration-color: #0087ff\">BatchNormalization</span>)            │                        │               │\n",
              "├─────────────────────────────────┼────────────────────────┼───────────────┤\n",
              "│ max_pooling1d (<span style=\"color: #0087ff; text-decoration-color: #0087ff\">MaxPooling1D</span>)    │ (<span style=\"color: #00d7ff; text-decoration-color: #00d7ff\">None</span>, <span style=\"color: #00af00; text-decoration-color: #00af00\">68</span>, <span style=\"color: #00af00; text-decoration-color: #00af00\">256</span>)        │             <span style=\"color: #00af00; text-decoration-color: #00af00\">0</span> │\n",
              "├─────────────────────────────────┼────────────────────────┼───────────────┤\n",
              "│ conv1d_1 (<span style=\"color: #0087ff; text-decoration-color: #0087ff\">Conv1D</span>)               │ (<span style=\"color: #00d7ff; text-decoration-color: #00d7ff\">None</span>, <span style=\"color: #00af00; text-decoration-color: #00af00\">68</span>, <span style=\"color: #00af00; text-decoration-color: #00af00\">128</span>)        │       <span style=\"color: #00af00; text-decoration-color: #00af00\">163,968</span> │\n",
              "├─────────────────────────────────┼────────────────────────┼───────────────┤\n",
              "│ batch_normalization_1           │ (<span style=\"color: #00d7ff; text-decoration-color: #00d7ff\">None</span>, <span style=\"color: #00af00; text-decoration-color: #00af00\">68</span>, <span style=\"color: #00af00; text-decoration-color: #00af00\">128</span>)        │           <span style=\"color: #00af00; text-decoration-color: #00af00\">512</span> │\n",
              "│ (<span style=\"color: #0087ff; text-decoration-color: #0087ff\">BatchNormalization</span>)            │                        │               │\n",
              "├─────────────────────────────────┼────────────────────────┼───────────────┤\n",
              "│ max_pooling1d_1 (<span style=\"color: #0087ff; text-decoration-color: #0087ff\">MaxPooling1D</span>)  │ (<span style=\"color: #00d7ff; text-decoration-color: #00d7ff\">None</span>, <span style=\"color: #00af00; text-decoration-color: #00af00\">34</span>, <span style=\"color: #00af00; text-decoration-color: #00af00\">128</span>)        │             <span style=\"color: #00af00; text-decoration-color: #00af00\">0</span> │\n",
              "├─────────────────────────────────┼────────────────────────┼───────────────┤\n",
              "│ dropout (<span style=\"color: #0087ff; text-decoration-color: #0087ff\">Dropout</span>)               │ (<span style=\"color: #00d7ff; text-decoration-color: #00d7ff\">None</span>, <span style=\"color: #00af00; text-decoration-color: #00af00\">34</span>, <span style=\"color: #00af00; text-decoration-color: #00af00\">128</span>)        │             <span style=\"color: #00af00; text-decoration-color: #00af00\">0</span> │\n",
              "├─────────────────────────────────┼────────────────────────┼───────────────┤\n",
              "│ conv1d_2 (<span style=\"color: #0087ff; text-decoration-color: #0087ff\">Conv1D</span>)               │ (<span style=\"color: #00d7ff; text-decoration-color: #00d7ff\">None</span>, <span style=\"color: #00af00; text-decoration-color: #00af00\">34</span>, <span style=\"color: #00af00; text-decoration-color: #00af00\">64</span>)         │        <span style=\"color: #00af00; text-decoration-color: #00af00\">24,640</span> │\n",
              "├─────────────────────────────────┼────────────────────────┼───────────────┤\n",
              "│ batch_normalization_2           │ (<span style=\"color: #00d7ff; text-decoration-color: #00d7ff\">None</span>, <span style=\"color: #00af00; text-decoration-color: #00af00\">34</span>, <span style=\"color: #00af00; text-decoration-color: #00af00\">64</span>)         │           <span style=\"color: #00af00; text-decoration-color: #00af00\">256</span> │\n",
              "│ (<span style=\"color: #0087ff; text-decoration-color: #0087ff\">BatchNormalization</span>)            │                        │               │\n",
              "├─────────────────────────────────┼────────────────────────┼───────────────┤\n",
              "│ max_pooling1d_2 (<span style=\"color: #0087ff; text-decoration-color: #0087ff\">MaxPooling1D</span>)  │ (<span style=\"color: #00d7ff; text-decoration-color: #00d7ff\">None</span>, <span style=\"color: #00af00; text-decoration-color: #00af00\">17</span>, <span style=\"color: #00af00; text-decoration-color: #00af00\">64</span>)         │             <span style=\"color: #00af00; text-decoration-color: #00af00\">0</span> │\n",
              "├─────────────────────────────────┼────────────────────────┼───────────────┤\n",
              "│ lstm (<span style=\"color: #0087ff; text-decoration-color: #0087ff\">LSTM</span>)                     │ (<span style=\"color: #00d7ff; text-decoration-color: #00d7ff\">None</span>, <span style=\"color: #00af00; text-decoration-color: #00af00\">17</span>, <span style=\"color: #00af00; text-decoration-color: #00af00\">128</span>)        │        <span style=\"color: #00af00; text-decoration-color: #00af00\">98,816</span> │\n",
              "├─────────────────────────────────┼────────────────────────┼───────────────┤\n",
              "│ dropout_1 (<span style=\"color: #0087ff; text-decoration-color: #0087ff\">Dropout</span>)             │ (<span style=\"color: #00d7ff; text-decoration-color: #00d7ff\">None</span>, <span style=\"color: #00af00; text-decoration-color: #00af00\">17</span>, <span style=\"color: #00af00; text-decoration-color: #00af00\">128</span>)        │             <span style=\"color: #00af00; text-decoration-color: #00af00\">0</span> │\n",
              "├─────────────────────────────────┼────────────────────────┼───────────────┤\n",
              "│ attention (<span style=\"color: #0087ff; text-decoration-color: #0087ff\">Attention</span>)           │ (<span style=\"color: #00d7ff; text-decoration-color: #00d7ff\">None</span>, <span style=\"color: #00af00; text-decoration-color: #00af00\">128</span>)            │           <span style=\"color: #00af00; text-decoration-color: #00af00\">145</span> │\n",
              "├─────────────────────────────────┼────────────────────────┼───────────────┤\n",
              "│ dense (<span style=\"color: #0087ff; text-decoration-color: #0087ff\">Dense</span>)                   │ (<span style=\"color: #00d7ff; text-decoration-color: #00d7ff\">None</span>, <span style=\"color: #00af00; text-decoration-color: #00af00\">64</span>)             │         <span style=\"color: #00af00; text-decoration-color: #00af00\">8,256</span> │\n",
              "├─────────────────────────────────┼────────────────────────┼───────────────┤\n",
              "│ batch_normalization_3           │ (<span style=\"color: #00d7ff; text-decoration-color: #00d7ff\">None</span>, <span style=\"color: #00af00; text-decoration-color: #00af00\">64</span>)             │           <span style=\"color: #00af00; text-decoration-color: #00af00\">256</span> │\n",
              "│ (<span style=\"color: #0087ff; text-decoration-color: #0087ff\">BatchNormalization</span>)            │                        │               │\n",
              "├─────────────────────────────────┼────────────────────────┼───────────────┤\n",
              "│ dense_1 (<span style=\"color: #0087ff; text-decoration-color: #0087ff\">Dense</span>)                 │ (<span style=\"color: #00d7ff; text-decoration-color: #00d7ff\">None</span>, <span style=\"color: #00af00; text-decoration-color: #00af00\">6</span>)              │           <span style=\"color: #00af00; text-decoration-color: #00af00\">390</span> │\n",
              "└─────────────────────────────────┴────────────────────────┴───────────────┘\n",
              "</pre>\n"
            ]
          },
          "metadata": {}
        },
        {
          "output_type": "display_data",
          "data": {
            "text/plain": [
              "\u001b[1m Total params: \u001b[0m\u001b[38;5;34m349,719\u001b[0m (1.33 MB)\n"
            ],
            "text/html": [
              "<pre style=\"white-space:pre;overflow-x:auto;line-height:normal;font-family:Menlo,'DejaVu Sans Mono',consolas,'Courier New',monospace\"><span style=\"font-weight: bold\"> Total params: </span><span style=\"color: #00af00; text-decoration-color: #00af00\">349,719</span> (1.33 MB)\n",
              "</pre>\n"
            ]
          },
          "metadata": {}
        },
        {
          "output_type": "display_data",
          "data": {
            "text/plain": [
              "\u001b[1m Trainable params: \u001b[0m\u001b[38;5;34m348,695\u001b[0m (1.33 MB)\n"
            ],
            "text/html": [
              "<pre style=\"white-space:pre;overflow-x:auto;line-height:normal;font-family:Menlo,'DejaVu Sans Mono',consolas,'Courier New',monospace\"><span style=\"font-weight: bold\"> Trainable params: </span><span style=\"color: #00af00; text-decoration-color: #00af00\">348,695</span> (1.33 MB)\n",
              "</pre>\n"
            ]
          },
          "metadata": {}
        },
        {
          "output_type": "display_data",
          "data": {
            "text/plain": [
              "\u001b[1m Non-trainable params: \u001b[0m\u001b[38;5;34m1,024\u001b[0m (4.00 KB)\n"
            ],
            "text/html": [
              "<pre style=\"white-space:pre;overflow-x:auto;line-height:normal;font-family:Menlo,'DejaVu Sans Mono',consolas,'Courier New',monospace\"><span style=\"font-weight: bold\"> Non-trainable params: </span><span style=\"color: #00af00; text-decoration-color: #00af00\">1,024</span> (4.00 KB)\n",
              "</pre>\n"
            ]
          },
          "metadata": {}
        }
      ]
    },
    {
      "cell_type": "code",
      "source": [
        "\n",
        "early_stop = EarlyStopping(monitor='val_accuracy', mode='auto', patience=15, restore_best_weights=True)\n",
        "lr_reduction = ReduceLROnPlateau(monitor='val_accuracy', patience=5, verbose=1, factor=0.5, min_lr=0.00001)\n",
        "model_checkpoint = ModelCheckpoint('best_cnn_lstm_attention_model.keras', monitor='val_accuracy', save_best_only=True)\n",
        "\n",
        "# Train the model\n",
        "history = model.fit(\n",
        "    x_train, y_train,\n",
        "    epochs=100,\n",
        "    batch_size=64,\n",
        "    validation_data=(x_test, y_test),\n",
        "    callbacks=[early_stop, lr_reduction, model_checkpoint]\n",
        ")\n",
        "\n",
        "print(\"\\nModel training complete.\")"
      ],
      "metadata": {
        "colab": {
          "base_uri": "https://localhost:8080/"
        },
        "id": "ByE9AfjOZJc9",
        "outputId": "0a5da429-75f8-4d30-9b5a-8dcaa2a86a78"
      },
      "execution_count": 11,
      "outputs": [
        {
          "output_type": "stream",
          "name": "stdout",
          "text": [
            "Epoch 1/100\n",
            "\u001b[1m373/373\u001b[0m \u001b[32m━━━━━━━━━━━━━━━━━━━━\u001b[0m\u001b[37m\u001b[0m \u001b[1m121s\u001b[0m 307ms/step - accuracy: 0.4120 - loss: 1.4954 - val_accuracy: 0.5386 - val_loss: 1.2002 - learning_rate: 0.0010\n",
            "Epoch 2/100\n",
            "\u001b[1m373/373\u001b[0m \u001b[32m━━━━━━━━━━━━━━━━━━━━\u001b[0m\u001b[37m\u001b[0m \u001b[1m140s\u001b[0m 302ms/step - accuracy: 0.5501 - loss: 1.1592 - val_accuracy: 0.5781 - val_loss: 1.0967 - learning_rate: 0.0010\n",
            "Epoch 3/100\n",
            "\u001b[1m373/373\u001b[0m \u001b[32m━━━━━━━━━━━━━━━━━━━━\u001b[0m\u001b[37m\u001b[0m \u001b[1m140s\u001b[0m 299ms/step - accuracy: 0.6127 - loss: 1.0208 - val_accuracy: 0.6082 - val_loss: 0.9939 - learning_rate: 0.0010\n",
            "Epoch 4/100\n",
            "\u001b[1m373/373\u001b[0m \u001b[32m━━━━━━━━━━━━━━━━━━━━\u001b[0m\u001b[37m\u001b[0m \u001b[1m143s\u001b[0m 301ms/step - accuracy: 0.6598 - loss: 0.8977 - val_accuracy: 0.6465 - val_loss: 0.9308 - learning_rate: 0.0010\n",
            "Epoch 5/100\n",
            "\u001b[1m373/373\u001b[0m \u001b[32m━━━━━━━━━━━━━━━━━━━━\u001b[0m\u001b[37m\u001b[0m \u001b[1m142s\u001b[0m 300ms/step - accuracy: 0.6978 - loss: 0.8044 - val_accuracy: 0.6606 - val_loss: 0.9083 - learning_rate: 0.0010\n",
            "Epoch 6/100\n",
            "\u001b[1m373/373\u001b[0m \u001b[32m━━━━━━━━━━━━━━━━━━━━\u001b[0m\u001b[37m\u001b[0m \u001b[1m142s\u001b[0m 300ms/step - accuracy: 0.7413 - loss: 0.7034 - val_accuracy: 0.7088 - val_loss: 0.7731 - learning_rate: 0.0010\n",
            "Epoch 7/100\n",
            "\u001b[1m373/373\u001b[0m \u001b[32m━━━━━━━━━━━━━━━━━━━━\u001b[0m\u001b[37m\u001b[0m \u001b[1m144s\u001b[0m 305ms/step - accuracy: 0.7691 - loss: 0.6277 - val_accuracy: 0.7252 - val_loss: 0.7595 - learning_rate: 0.0010\n",
            "Epoch 8/100\n",
            "\u001b[1m373/373\u001b[0m \u001b[32m━━━━━━━━━━━━━━━━━━━━\u001b[0m\u001b[37m\u001b[0m \u001b[1m141s\u001b[0m 303ms/step - accuracy: 0.8071 - loss: 0.5337 - val_accuracy: 0.7417 - val_loss: 0.6942 - learning_rate: 0.0010\n",
            "Epoch 9/100\n",
            "\u001b[1m373/373\u001b[0m \u001b[32m━━━━━━━━━━━━━━━━━━━━\u001b[0m\u001b[37m\u001b[0m \u001b[1m138s\u001b[0m 293ms/step - accuracy: 0.8177 - loss: 0.4964 - val_accuracy: 0.7481 - val_loss: 0.6945 - learning_rate: 0.0010\n",
            "Epoch 10/100\n",
            "\u001b[1m373/373\u001b[0m \u001b[32m━━━━━━━━━━━━━━━━━━━━\u001b[0m\u001b[37m\u001b[0m \u001b[1m141s\u001b[0m 291ms/step - accuracy: 0.8323 - loss: 0.4606 - val_accuracy: 0.7882 - val_loss: 0.5892 - learning_rate: 0.0010\n",
            "Epoch 11/100\n",
            "\u001b[1m373/373\u001b[0m \u001b[32m━━━━━━━━━━━━━━━━━━━━\u001b[0m\u001b[37m\u001b[0m \u001b[1m141s\u001b[0m 289ms/step - accuracy: 0.8627 - loss: 0.3721 - val_accuracy: 0.7849 - val_loss: 0.6213 - learning_rate: 0.0010\n",
            "Epoch 12/100\n",
            "\u001b[1m373/373\u001b[0m \u001b[32m━━━━━━━━━━━━━━━━━━━━\u001b[0m\u001b[37m\u001b[0m \u001b[1m146s\u001b[0m 301ms/step - accuracy: 0.8821 - loss: 0.3321 - val_accuracy: 0.7929 - val_loss: 0.5942 - learning_rate: 0.0010\n",
            "Epoch 13/100\n",
            "\u001b[1m373/373\u001b[0m \u001b[32m━━━━━━━━━━━━━━━━━━━━\u001b[0m\u001b[37m\u001b[0m \u001b[1m142s\u001b[0m 300ms/step - accuracy: 0.8575 - loss: 0.3819 - val_accuracy: 0.8206 - val_loss: 0.4949 - learning_rate: 0.0010\n",
            "Epoch 14/100\n",
            "\u001b[1m373/373\u001b[0m \u001b[32m━━━━━━━━━━━━━━━━━━━━\u001b[0m\u001b[37m\u001b[0m \u001b[1m142s\u001b[0m 299ms/step - accuracy: 0.8874 - loss: 0.3134 - val_accuracy: 0.8361 - val_loss: 0.4745 - learning_rate: 0.0010\n",
            "Epoch 15/100\n",
            "\u001b[1m373/373\u001b[0m \u001b[32m━━━━━━━━━━━━━━━━━━━━\u001b[0m\u001b[37m\u001b[0m \u001b[1m142s\u001b[0m 299ms/step - accuracy: 0.9117 - loss: 0.2475 - val_accuracy: 0.8144 - val_loss: 0.5453 - learning_rate: 0.0010\n",
            "Epoch 16/100\n",
            "\u001b[1m373/373\u001b[0m \u001b[32m━━━━━━━━━━━━━━━━━━━━\u001b[0m\u001b[37m\u001b[0m \u001b[1m142s\u001b[0m 300ms/step - accuracy: 0.9135 - loss: 0.2517 - val_accuracy: 0.8403 - val_loss: 0.4552 - learning_rate: 0.0010\n",
            "Epoch 17/100\n",
            "\u001b[1m373/373\u001b[0m \u001b[32m━━━━━━━━━━━━━━━━━━━━\u001b[0m\u001b[37m\u001b[0m \u001b[1m138s\u001b[0m 290ms/step - accuracy: 0.9085 - loss: 0.2639 - val_accuracy: 0.8280 - val_loss: 0.5213 - learning_rate: 0.0010\n",
            "Epoch 18/100\n",
            "\u001b[1m373/373\u001b[0m \u001b[32m━━━━━━━━━━━━━━━━━━━━\u001b[0m\u001b[37m\u001b[0m \u001b[1m145s\u001b[0m 297ms/step - accuracy: 0.9302 - loss: 0.1990 - val_accuracy: 0.8504 - val_loss: 0.4593 - learning_rate: 0.0010\n",
            "Epoch 19/100\n",
            "\u001b[1m373/373\u001b[0m \u001b[32m━━━━━━━━━━━━━━━━━━━━\u001b[0m\u001b[37m\u001b[0m \u001b[1m142s\u001b[0m 299ms/step - accuracy: 0.9286 - loss: 0.1984 - val_accuracy: 0.8421 - val_loss: 0.4856 - learning_rate: 0.0010\n",
            "Epoch 20/100\n",
            "\u001b[1m373/373\u001b[0m \u001b[32m━━━━━━━━━━━━━━━━━━━━\u001b[0m\u001b[37m\u001b[0m \u001b[1m143s\u001b[0m 302ms/step - accuracy: 0.9227 - loss: 0.2196 - val_accuracy: 0.8493 - val_loss: 0.4628 - learning_rate: 0.0010\n",
            "Epoch 21/100\n",
            "\u001b[1m373/373\u001b[0m \u001b[32m━━━━━━━━━━━━━━━━━━━━\u001b[0m\u001b[37m\u001b[0m \u001b[1m141s\u001b[0m 300ms/step - accuracy: 0.9445 - loss: 0.1604 - val_accuracy: 0.8569 - val_loss: 0.4517 - learning_rate: 0.0010\n",
            "Epoch 22/100\n",
            "\u001b[1m373/373\u001b[0m \u001b[32m━━━━━━━━━━━━━━━━━━━━\u001b[0m\u001b[37m\u001b[0m \u001b[1m112s\u001b[0m 301ms/step - accuracy: 0.9366 - loss: 0.1785 - val_accuracy: 0.8619 - val_loss: 0.4382 - learning_rate: 0.0010\n",
            "Epoch 23/100\n",
            "\u001b[1m373/373\u001b[0m \u001b[32m━━━━━━━━━━━━━━━━━━━━\u001b[0m\u001b[37m\u001b[0m \u001b[1m112s\u001b[0m 301ms/step - accuracy: 0.9456 - loss: 0.1518 - val_accuracy: 0.8416 - val_loss: 0.4944 - learning_rate: 0.0010\n",
            "Epoch 24/100\n",
            "\u001b[1m373/373\u001b[0m \u001b[32m━━━━━━━━━━━━━━━━━━━━\u001b[0m\u001b[37m\u001b[0m \u001b[1m112s\u001b[0m 299ms/step - accuracy: 0.9452 - loss: 0.1621 - val_accuracy: 0.8520 - val_loss: 0.4798 - learning_rate: 0.0010\n",
            "Epoch 25/100\n",
            "\u001b[1m373/373\u001b[0m \u001b[32m━━━━━━━━━━━━━━━━━━━━\u001b[0m\u001b[37m\u001b[0m \u001b[1m142s\u001b[0m 300ms/step - accuracy: 0.9550 - loss: 0.1307 - val_accuracy: 0.8462 - val_loss: 0.5032 - learning_rate: 0.0010\n",
            "Epoch 26/100\n",
            "\u001b[1m373/373\u001b[0m \u001b[32m━━━━━━━━━━━━━━━━━━━━\u001b[0m\u001b[37m\u001b[0m \u001b[1m111s\u001b[0m 298ms/step - accuracy: 0.9515 - loss: 0.1374 - val_accuracy: 0.8426 - val_loss: 0.5504 - learning_rate: 0.0010\n",
            "Epoch 27/100\n",
            "\u001b[1m373/373\u001b[0m \u001b[32m━━━━━━━━━━━━━━━━━━━━\u001b[0m\u001b[37m\u001b[0m \u001b[1m139s\u001b[0m 290ms/step - accuracy: 0.9301 - loss: 0.2047 - val_accuracy: 0.8769 - val_loss: 0.4137 - learning_rate: 0.0010\n",
            "Epoch 28/100\n",
            "\u001b[1m373/373\u001b[0m \u001b[32m━━━━━━━━━━━━━━━━━━━━\u001b[0m\u001b[37m\u001b[0m \u001b[1m145s\u001b[0m 299ms/step - accuracy: 0.9542 - loss: 0.1348 - val_accuracy: 0.8564 - val_loss: 0.4655 - learning_rate: 0.0010\n",
            "Epoch 29/100\n",
            "\u001b[1m373/373\u001b[0m \u001b[32m━━━━━━━━━━━━━━━━━━━━\u001b[0m\u001b[37m\u001b[0m \u001b[1m144s\u001b[0m 304ms/step - accuracy: 0.9430 - loss: 0.1580 - val_accuracy: 0.8640 - val_loss: 0.4858 - learning_rate: 0.0010\n",
            "Epoch 30/100\n",
            "\u001b[1m373/373\u001b[0m \u001b[32m━━━━━━━━━━━━━━━━━━━━\u001b[0m\u001b[37m\u001b[0m \u001b[1m135s\u001b[0m 284ms/step - accuracy: 0.9569 - loss: 0.1230 - val_accuracy: 0.8710 - val_loss: 0.4268 - learning_rate: 0.0010\n",
            "Epoch 31/100\n",
            "\u001b[1m373/373\u001b[0m \u001b[32m━━━━━━━━━━━━━━━━━━━━\u001b[0m\u001b[37m\u001b[0m \u001b[1m146s\u001b[0m 297ms/step - accuracy: 0.9559 - loss: 0.1335 - val_accuracy: 0.8562 - val_loss: 0.4734 - learning_rate: 0.0010\n",
            "Epoch 32/100\n",
            "\u001b[1m372/373\u001b[0m \u001b[32m━━━━━━━━━━━━━━━━━━━\u001b[0m\u001b[37m━\u001b[0m \u001b[1m0s\u001b[0m 269ms/step - accuracy: 0.9518 - loss: 0.1371\n",
            "Epoch 32: ReduceLROnPlateau reducing learning rate to 0.0005000000237487257.\n",
            "\u001b[1m373/373\u001b[0m \u001b[32m━━━━━━━━━━━━━━━━━━━━\u001b[0m\u001b[37m\u001b[0m \u001b[1m142s\u001b[0m 296ms/step - accuracy: 0.9518 - loss: 0.1371 - val_accuracy: 0.8601 - val_loss: 0.4801 - learning_rate: 0.0010\n",
            "Epoch 33/100\n",
            "\u001b[1m373/373\u001b[0m \u001b[32m━━━━━━━━━━━━━━━━━━━━\u001b[0m\u001b[37m\u001b[0m \u001b[1m142s\u001b[0m 295ms/step - accuracy: 0.9721 - loss: 0.0838 - val_accuracy: 0.8979 - val_loss: 0.3604 - learning_rate: 5.0000e-04\n",
            "Epoch 34/100\n",
            "\u001b[1m373/373\u001b[0m \u001b[32m━━━━━━━━━━━━━━━━━━━━\u001b[0m\u001b[37m\u001b[0m \u001b[1m143s\u001b[0m 298ms/step - accuracy: 0.9842 - loss: 0.0502 - val_accuracy: 0.9083 - val_loss: 0.3128 - learning_rate: 5.0000e-04\n",
            "Epoch 35/100\n",
            "\u001b[1m373/373\u001b[0m \u001b[32m━━━━━━━━━━━━━━━━━━━━\u001b[0m\u001b[37m\u001b[0m \u001b[1m141s\u001b[0m 296ms/step - accuracy: 0.9830 - loss: 0.0465 - val_accuracy: 0.9039 - val_loss: 0.3354 - learning_rate: 5.0000e-04\n",
            "Epoch 36/100\n",
            "\u001b[1m373/373\u001b[0m \u001b[32m━━━━━━━━━━━━━━━━━━━━\u001b[0m\u001b[37m\u001b[0m \u001b[1m142s\u001b[0m 295ms/step - accuracy: 0.9821 - loss: 0.0510 - val_accuracy: 0.8932 - val_loss: 0.3978 - learning_rate: 5.0000e-04\n",
            "Epoch 37/100\n",
            "\u001b[1m373/373\u001b[0m \u001b[32m━━━━━━━━━━━━━━━━━━━━\u001b[0m\u001b[37m\u001b[0m \u001b[1m142s\u001b[0m 295ms/step - accuracy: 0.9776 - loss: 0.0676 - val_accuracy: 0.9029 - val_loss: 0.3446 - learning_rate: 5.0000e-04\n",
            "Epoch 38/100\n",
            "\u001b[1m373/373\u001b[0m \u001b[32m━━━━━━━━━━━━━━━━━━━━\u001b[0m\u001b[37m\u001b[0m \u001b[1m141s\u001b[0m 293ms/step - accuracy: 0.9823 - loss: 0.0535 - val_accuracy: 0.8957 - val_loss: 0.3859 - learning_rate: 5.0000e-04\n",
            "Epoch 39/100\n",
            "\u001b[1m373/373\u001b[0m \u001b[32m━━━━━━━━━━━━━━━━━━━━\u001b[0m\u001b[37m\u001b[0m \u001b[1m0s\u001b[0m 265ms/step - accuracy: 0.9849 - loss: 0.0487\n",
            "Epoch 39: ReduceLROnPlateau reducing learning rate to 0.0002500000118743628.\n",
            "\u001b[1m373/373\u001b[0m \u001b[32m━━━━━━━━━━━━━━━━━━━━\u001b[0m\u001b[37m\u001b[0m \u001b[1m142s\u001b[0m 293ms/step - accuracy: 0.9849 - loss: 0.0487 - val_accuracy: 0.8982 - val_loss: 0.3713 - learning_rate: 5.0000e-04\n",
            "Epoch 40/100\n",
            "\u001b[1m373/373\u001b[0m \u001b[32m━━━━━━━━━━━━━━━━━━━━\u001b[0m\u001b[37m\u001b[0m \u001b[1m143s\u001b[0m 296ms/step - accuracy: 0.9859 - loss: 0.0441 - val_accuracy: 0.9118 - val_loss: 0.3321 - learning_rate: 2.5000e-04\n",
            "Epoch 41/100\n",
            "\u001b[1m373/373\u001b[0m \u001b[32m━━━━━━━━━━━━━━━━━━━━\u001b[0m\u001b[37m\u001b[0m \u001b[1m142s\u001b[0m 296ms/step - accuracy: 0.9916 - loss: 0.0235 - val_accuracy: 0.9115 - val_loss: 0.3187 - learning_rate: 2.5000e-04\n",
            "Epoch 42/100\n",
            "\u001b[1m373/373\u001b[0m \u001b[32m━━━━━━━━━━━━━━━━━━━━\u001b[0m\u001b[37m\u001b[0m \u001b[1m110s\u001b[0m 296ms/step - accuracy: 0.9930 - loss: 0.0224 - val_accuracy: 0.9098 - val_loss: 0.3457 - learning_rate: 2.5000e-04\n",
            "Epoch 43/100\n",
            "\u001b[1m373/373\u001b[0m \u001b[32m━━━━━━━━━━━━━━━━━━━━\u001b[0m\u001b[37m\u001b[0m \u001b[1m142s\u001b[0m 296ms/step - accuracy: 0.9918 - loss: 0.0243 - val_accuracy: 0.9113 - val_loss: 0.3338 - learning_rate: 2.5000e-04\n",
            "Epoch 44/100\n",
            "\u001b[1m373/373\u001b[0m \u001b[32m━━━━━━━━━━━━━━━━━━━━\u001b[0m\u001b[37m\u001b[0m \u001b[1m139s\u001b[0m 288ms/step - accuracy: 0.9917 - loss: 0.0260 - val_accuracy: 0.9101 - val_loss: 0.3447 - learning_rate: 2.5000e-04\n",
            "Epoch 45/100\n",
            "\u001b[1m373/373\u001b[0m \u001b[32m━━━━━━━━━━━━━━━━━━━━\u001b[0m\u001b[37m\u001b[0m \u001b[1m144s\u001b[0m 294ms/step - accuracy: 0.9874 - loss: 0.0358 - val_accuracy: 0.9152 - val_loss: 0.3343 - learning_rate: 2.5000e-04\n",
            "Epoch 46/100\n",
            "\u001b[1m373/373\u001b[0m \u001b[32m━━━━━━━━━━━━━━━━━━━━\u001b[0m\u001b[37m\u001b[0m \u001b[1m142s\u001b[0m 293ms/step - accuracy: 0.9945 - loss: 0.0191 - val_accuracy: 0.9138 - val_loss: 0.3544 - learning_rate: 2.5000e-04\n",
            "Epoch 47/100\n",
            "\u001b[1m373/373\u001b[0m \u001b[32m━━━━━━━━━━━━━━━━━━━━\u001b[0m\u001b[37m\u001b[0m \u001b[1m143s\u001b[0m 296ms/step - accuracy: 0.9903 - loss: 0.0283 - val_accuracy: 0.9140 - val_loss: 0.3310 - learning_rate: 2.5000e-04\n",
            "Epoch 48/100\n",
            "\u001b[1m373/373\u001b[0m \u001b[32m━━━━━━━━━━━━━━━━━━━━\u001b[0m\u001b[37m\u001b[0m \u001b[1m142s\u001b[0m 296ms/step - accuracy: 0.9893 - loss: 0.0292 - val_accuracy: 0.9159 - val_loss: 0.3258 - learning_rate: 2.5000e-04\n",
            "Epoch 49/100\n",
            "\u001b[1m373/373\u001b[0m \u001b[32m━━━━━━━━━━━━━━━━━━━━\u001b[0m\u001b[37m\u001b[0m \u001b[1m110s\u001b[0m 296ms/step - accuracy: 0.9934 - loss: 0.0196 - val_accuracy: 0.9177 - val_loss: 0.3169 - learning_rate: 2.5000e-04\n",
            "Epoch 50/100\n",
            "\u001b[1m373/373\u001b[0m \u001b[32m━━━━━━━━━━━━━━━━━━━━\u001b[0m\u001b[37m\u001b[0m \u001b[1m109s\u001b[0m 293ms/step - accuracy: 0.9944 - loss: 0.0174 - val_accuracy: 0.9192 - val_loss: 0.3084 - learning_rate: 2.5000e-04\n",
            "Epoch 51/100\n",
            "\u001b[1m373/373\u001b[0m \u001b[32m━━━━━━━━━━━━━━━━━━━━\u001b[0m\u001b[37m\u001b[0m \u001b[1m138s\u001b[0m 282ms/step - accuracy: 0.9939 - loss: 0.0193 - val_accuracy: 0.9177 - val_loss: 0.3123 - learning_rate: 2.5000e-04\n",
            "Epoch 52/100\n",
            "\u001b[1m373/373\u001b[0m \u001b[32m━━━━━━━━━━━━━━━━━━━━\u001b[0m\u001b[37m\u001b[0m \u001b[1m146s\u001b[0m 294ms/step - accuracy: 0.9931 - loss: 0.0205 - val_accuracy: 0.9180 - val_loss: 0.3134 - learning_rate: 2.5000e-04\n",
            "Epoch 53/100\n",
            "\u001b[1m373/373\u001b[0m \u001b[32m━━━━━━━━━━━━━━━━━━━━\u001b[0m\u001b[37m\u001b[0m \u001b[1m142s\u001b[0m 295ms/step - accuracy: 0.9956 - loss: 0.0160 - val_accuracy: 0.9118 - val_loss: 0.3675 - learning_rate: 2.5000e-04\n",
            "Epoch 54/100\n",
            "\u001b[1m373/373\u001b[0m \u001b[32m━━━━━━━━━━━━━━━━━━━━\u001b[0m\u001b[37m\u001b[0m \u001b[1m142s\u001b[0m 293ms/step - accuracy: 0.9880 - loss: 0.0438 - val_accuracy: 0.9160 - val_loss: 0.3367 - learning_rate: 2.5000e-04\n",
            "Epoch 55/100\n",
            "\u001b[1m372/373\u001b[0m \u001b[32m━━━━━━━━━━━━━━━━━━━\u001b[0m\u001b[37m━\u001b[0m \u001b[1m0s\u001b[0m 268ms/step - accuracy: 0.9928 - loss: 0.0207\n",
            "Epoch 55: ReduceLROnPlateau reducing learning rate to 0.0001250000059371814.\n",
            "\u001b[1m373/373\u001b[0m \u001b[32m━━━━━━━━━━━━━━━━━━━━\u001b[0m\u001b[37m\u001b[0m \u001b[1m105s\u001b[0m 281ms/step - accuracy: 0.9928 - loss: 0.0207 - val_accuracy: 0.9157 - val_loss: 0.3256 - learning_rate: 2.5000e-04\n",
            "Epoch 56/100\n",
            "\u001b[1m373/373\u001b[0m \u001b[32m━━━━━━━━━━━━━━━━━━━━\u001b[0m\u001b[37m\u001b[0m \u001b[1m150s\u001b[0m 304ms/step - accuracy: 0.9946 - loss: 0.0166 - val_accuracy: 0.9177 - val_loss: 0.3147 - learning_rate: 1.2500e-04\n",
            "Epoch 57/100\n",
            "\u001b[1m373/373\u001b[0m \u001b[32m━━━━━━━━━━━━━━━━━━━━\u001b[0m\u001b[37m\u001b[0m \u001b[1m106s\u001b[0m 285ms/step - accuracy: 0.9960 - loss: 0.0142 - val_accuracy: 0.9206 - val_loss: 0.3047 - learning_rate: 1.2500e-04\n",
            "Epoch 58/100\n",
            "\u001b[1m373/373\u001b[0m \u001b[32m━━━━━━━━━━━━━━━━━━━━\u001b[0m\u001b[37m\u001b[0m \u001b[1m146s\u001b[0m 295ms/step - accuracy: 0.9976 - loss: 0.0093 - val_accuracy: 0.9217 - val_loss: 0.3146 - learning_rate: 1.2500e-04\n",
            "Epoch 59/100\n",
            "\u001b[1m373/373\u001b[0m \u001b[32m━━━━━━━━━━━━━━━━━━━━\u001b[0m\u001b[37m\u001b[0m \u001b[1m139s\u001b[0m 286ms/step - accuracy: 0.9944 - loss: 0.0179 - val_accuracy: 0.9219 - val_loss: 0.3131 - learning_rate: 1.2500e-04\n",
            "Epoch 60/100\n",
            "\u001b[1m373/373\u001b[0m \u001b[32m━━━━━━━━━━━━━━━━━━━━\u001b[0m\u001b[37m\u001b[0m \u001b[1m146s\u001b[0m 296ms/step - accuracy: 0.9955 - loss: 0.0135 - val_accuracy: 0.9217 - val_loss: 0.3191 - learning_rate: 1.2500e-04\n",
            "Epoch 61/100\n",
            "\u001b[1m373/373\u001b[0m \u001b[32m━━━━━━━━━━━━━━━━━━━━\u001b[0m\u001b[37m\u001b[0m \u001b[1m137s\u001b[0m 285ms/step - accuracy: 0.9962 - loss: 0.0110 - val_accuracy: 0.9211 - val_loss: 0.3270 - learning_rate: 1.2500e-04\n",
            "Epoch 62/100\n",
            "\u001b[1m373/373\u001b[0m \u001b[32m━━━━━━━━━━━━━━━━━━━━\u001b[0m\u001b[37m\u001b[0m \u001b[1m148s\u001b[0m 300ms/step - accuracy: 0.9966 - loss: 0.0114 - val_accuracy: 0.9244 - val_loss: 0.3232 - learning_rate: 1.2500e-04\n",
            "Epoch 63/100\n",
            "\u001b[1m373/373\u001b[0m \u001b[32m━━━━━━━━━━━━━━━━━━━━\u001b[0m\u001b[37m\u001b[0m \u001b[1m143s\u001b[0m 302ms/step - accuracy: 0.9947 - loss: 0.0166 - val_accuracy: 0.9239 - val_loss: 0.3190 - learning_rate: 1.2500e-04\n",
            "Epoch 64/100\n",
            "\u001b[1m373/373\u001b[0m \u001b[32m━━━━━━━━━━━━━━━━━━━━\u001b[0m\u001b[37m\u001b[0m \u001b[1m142s\u001b[0m 303ms/step - accuracy: 0.9960 - loss: 0.0111 - val_accuracy: 0.9244 - val_loss: 0.3193 - learning_rate: 1.2500e-04\n",
            "Epoch 65/100\n",
            "\u001b[1m373/373\u001b[0m \u001b[32m━━━━━━━━━━━━━━━━━━━━\u001b[0m\u001b[37m\u001b[0m \u001b[1m141s\u001b[0m 302ms/step - accuracy: 0.9967 - loss: 0.0100 - val_accuracy: 0.9189 - val_loss: 0.3460 - learning_rate: 1.2500e-04\n",
            "Epoch 66/100\n",
            "\u001b[1m373/373\u001b[0m \u001b[32m━━━━━━━━━━━━━━━━━━━━\u001b[0m\u001b[37m\u001b[0m \u001b[1m142s\u001b[0m 302ms/step - accuracy: 0.9963 - loss: 0.0115 - val_accuracy: 0.9261 - val_loss: 0.3223 - learning_rate: 1.2500e-04\n",
            "Epoch 67/100\n",
            "\u001b[1m373/373\u001b[0m \u001b[32m━━━━━━━━━━━━━━━━━━━━\u001b[0m\u001b[37m\u001b[0m \u001b[1m142s\u001b[0m 301ms/step - accuracy: 0.9950 - loss: 0.0164 - val_accuracy: 0.9222 - val_loss: 0.3184 - learning_rate: 1.2500e-04\n",
            "Epoch 68/100\n",
            "\u001b[1m373/373\u001b[0m \u001b[32m━━━━━━━━━━━━━━━━━━━━\u001b[0m\u001b[37m\u001b[0m \u001b[1m143s\u001b[0m 304ms/step - accuracy: 0.9950 - loss: 0.0153 - val_accuracy: 0.9271 - val_loss: 0.2906 - learning_rate: 1.2500e-04\n",
            "Epoch 69/100\n",
            "\u001b[1m373/373\u001b[0m \u001b[32m━━━━━━━━━━━━━━━━━━━━\u001b[0m\u001b[37m\u001b[0m \u001b[1m142s\u001b[0m 303ms/step - accuracy: 0.9968 - loss: 0.0090 - val_accuracy: 0.9261 - val_loss: 0.3211 - learning_rate: 1.2500e-04\n",
            "Epoch 70/100\n",
            "\u001b[1m373/373\u001b[0m \u001b[32m━━━━━━━━━━━━━━━━━━━━\u001b[0m\u001b[37m\u001b[0m \u001b[1m141s\u001b[0m 302ms/step - accuracy: 0.9965 - loss: 0.0109 - val_accuracy: 0.9256 - val_loss: 0.3290 - learning_rate: 1.2500e-04\n",
            "Epoch 71/100\n",
            "\u001b[1m373/373\u001b[0m \u001b[32m━━━━━━━━━━━━━━━━━━━━\u001b[0m\u001b[37m\u001b[0m \u001b[1m113s\u001b[0m 303ms/step - accuracy: 0.9952 - loss: 0.0146 - val_accuracy: 0.9281 - val_loss: 0.3149 - learning_rate: 1.2500e-04\n",
            "Epoch 72/100\n",
            "\u001b[1m373/373\u001b[0m \u001b[32m━━━━━━━━━━━━━━━━━━━━\u001b[0m\u001b[37m\u001b[0m \u001b[1m140s\u001b[0m 298ms/step - accuracy: 0.9957 - loss: 0.0127 - val_accuracy: 0.9278 - val_loss: 0.3008 - learning_rate: 1.2500e-04\n",
            "Epoch 73/100\n",
            "\u001b[1m373/373\u001b[0m \u001b[32m━━━━━━━━━━━━━━━━━━━━\u001b[0m\u001b[37m\u001b[0m \u001b[1m143s\u001b[0m 300ms/step - accuracy: 0.9959 - loss: 0.0097 - val_accuracy: 0.9296 - val_loss: 0.2953 - learning_rate: 1.2500e-04\n",
            "Epoch 74/100\n",
            "\u001b[1m373/373\u001b[0m \u001b[32m━━━━━━━━━━━━━━━━━━━━\u001b[0m\u001b[37m\u001b[0m \u001b[1m141s\u001b[0m 298ms/step - accuracy: 0.9967 - loss: 0.0095 - val_accuracy: 0.9323 - val_loss: 0.2779 - learning_rate: 1.2500e-04\n",
            "Epoch 75/100\n",
            "\u001b[1m373/373\u001b[0m \u001b[32m━━━━━━━━━━━━━━━━━━━━\u001b[0m\u001b[37m\u001b[0m \u001b[1m142s\u001b[0m 297ms/step - accuracy: 0.9961 - loss: 0.0134 - val_accuracy: 0.9279 - val_loss: 0.2934 - learning_rate: 1.2500e-04\n",
            "Epoch 76/100\n",
            "\u001b[1m373/373\u001b[0m \u001b[32m━━━━━━━━━━━━━━━━━━━━\u001b[0m\u001b[37m\u001b[0m \u001b[1m141s\u001b[0m 293ms/step - accuracy: 0.9972 - loss: 0.0093 - val_accuracy: 0.9293 - val_loss: 0.2994 - learning_rate: 1.2500e-04\n",
            "Epoch 77/100\n",
            "\u001b[1m373/373\u001b[0m \u001b[32m━━━━━━━━━━━━━━━━━━━━\u001b[0m\u001b[37m\u001b[0m \u001b[1m138s\u001b[0m 284ms/step - accuracy: 0.9972 - loss: 0.0092 - val_accuracy: 0.9285 - val_loss: 0.2980 - learning_rate: 1.2500e-04\n",
            "Epoch 78/100\n",
            "\u001b[1m373/373\u001b[0m \u001b[32m━━━━━━━━━━━━━━━━━━━━\u001b[0m\u001b[37m\u001b[0m \u001b[1m106s\u001b[0m 283ms/step - accuracy: 0.9965 - loss: 0.0112 - val_accuracy: 0.9256 - val_loss: 0.3193 - learning_rate: 1.2500e-04\n",
            "Epoch 79/100\n",
            "\u001b[1m372/373\u001b[0m \u001b[32m━━━━━━━━━━━━━━━━━━━\u001b[0m\u001b[37m━\u001b[0m \u001b[1m0s\u001b[0m 270ms/step - accuracy: 0.9967 - loss: 0.0100\n",
            "Epoch 79: ReduceLROnPlateau reducing learning rate to 6.25000029685907e-05.\n",
            "\u001b[1m373/373\u001b[0m \u001b[32m━━━━━━━━━━━━━━━━━━━━\u001b[0m\u001b[37m\u001b[0m \u001b[1m144s\u001b[0m 289ms/step - accuracy: 0.9967 - loss: 0.0100 - val_accuracy: 0.9290 - val_loss: 0.3028 - learning_rate: 1.2500e-04\n",
            "Epoch 80/100\n",
            "\u001b[1m373/373\u001b[0m \u001b[32m━━━━━━━━━━━━━━━━━━━━\u001b[0m\u001b[37m\u001b[0m \u001b[1m145s\u001b[0m 297ms/step - accuracy: 0.9966 - loss: 0.0102 - val_accuracy: 0.9301 - val_loss: 0.2984 - learning_rate: 6.2500e-05\n",
            "Epoch 81/100\n",
            "\u001b[1m373/373\u001b[0m \u001b[32m━━━━━━━━━━━━━━━━━━━━\u001b[0m\u001b[37m\u001b[0m \u001b[1m141s\u001b[0m 295ms/step - accuracy: 0.9968 - loss: 0.0094 - val_accuracy: 0.9305 - val_loss: 0.3004 - learning_rate: 6.2500e-05\n",
            "Epoch 82/100\n",
            "\u001b[1m373/373\u001b[0m \u001b[32m━━━━━━━━━━━━━━━━━━━━\u001b[0m\u001b[37m\u001b[0m \u001b[1m137s\u001b[0m 283ms/step - accuracy: 0.9978 - loss: 0.0069 - val_accuracy: 0.9305 - val_loss: 0.3032 - learning_rate: 6.2500e-05\n",
            "Epoch 83/100\n",
            "\u001b[1m373/373\u001b[0m \u001b[32m━━━━━━━━━━━━━━━━━━━━\u001b[0m\u001b[37m\u001b[0m \u001b[1m110s\u001b[0m 296ms/step - accuracy: 0.9971 - loss: 0.0084 - val_accuracy: 0.9301 - val_loss: 0.3009 - learning_rate: 6.2500e-05\n",
            "Epoch 84/100\n",
            "\u001b[1m372/373\u001b[0m \u001b[32m━━━━━━━━━━━━━━━━━━━\u001b[0m\u001b[37m━\u001b[0m \u001b[1m0s\u001b[0m 271ms/step - accuracy: 0.9976 - loss: 0.0078\n",
            "Epoch 84: ReduceLROnPlateau reducing learning rate to 3.125000148429535e-05.\n",
            "\u001b[1m373/373\u001b[0m \u001b[32m━━━━━━━━━━━━━━━━━━━━\u001b[0m\u001b[37m\u001b[0m \u001b[1m143s\u001b[0m 298ms/step - accuracy: 0.9976 - loss: 0.0078 - val_accuracy: 0.9308 - val_loss: 0.2987 - learning_rate: 6.2500e-05\n",
            "Epoch 85/100\n",
            "\u001b[1m373/373\u001b[0m \u001b[32m━━━━━━━━━━━━━━━━━━━━\u001b[0m\u001b[37m\u001b[0m \u001b[1m141s\u001b[0m 297ms/step - accuracy: 0.9978 - loss: 0.0066 - val_accuracy: 0.9328 - val_loss: 0.2881 - learning_rate: 3.1250e-05\n",
            "Epoch 86/100\n",
            "\u001b[1m373/373\u001b[0m \u001b[32m━━━━━━━━━━━━━━━━━━━━\u001b[0m\u001b[37m\u001b[0m \u001b[1m111s\u001b[0m 298ms/step - accuracy: 0.9983 - loss: 0.0051 - val_accuracy: 0.9321 - val_loss: 0.2967 - learning_rate: 3.1250e-05\n",
            "Epoch 87/100\n",
            "\u001b[1m373/373\u001b[0m \u001b[32m━━━━━━━━━━━━━━━━━━━━\u001b[0m\u001b[37m\u001b[0m \u001b[1m142s\u001b[0m 297ms/step - accuracy: 0.9973 - loss: 0.0079 - val_accuracy: 0.9333 - val_loss: 0.2941 - learning_rate: 3.1250e-05\n",
            "Epoch 88/100\n",
            "\u001b[1m373/373\u001b[0m \u001b[32m━━━━━━━━━━━━━━━━━━━━\u001b[0m\u001b[37m\u001b[0m \u001b[1m106s\u001b[0m 284ms/step - accuracy: 0.9980 - loss: 0.0053 - val_accuracy: 0.9332 - val_loss: 0.2901 - learning_rate: 3.1250e-05\n",
            "Epoch 89/100\n",
            "\u001b[1m373/373\u001b[0m \u001b[32m━━━━━━━━━━━━━━━━━━━━\u001b[0m\u001b[37m\u001b[0m \u001b[1m111s\u001b[0m 297ms/step - accuracy: 0.9981 - loss: 0.0058 - val_accuracy: 0.9333 - val_loss: 0.2925 - learning_rate: 3.1250e-05\n",
            "Epoch 90/100\n",
            "\u001b[1m373/373\u001b[0m \u001b[32m━━━━━━━━━━━━━━━━━━━━\u001b[0m\u001b[37m\u001b[0m \u001b[1m111s\u001b[0m 297ms/step - accuracy: 0.9984 - loss: 0.0049 - val_accuracy: 0.9328 - val_loss: 0.2890 - learning_rate: 3.1250e-05\n",
            "Epoch 91/100\n",
            "\u001b[1m373/373\u001b[0m \u001b[32m━━━━━━━━━━━━━━━━━━━━\u001b[0m\u001b[37m\u001b[0m \u001b[1m142s\u001b[0m 298ms/step - accuracy: 0.9983 - loss: 0.0060 - val_accuracy: 0.9333 - val_loss: 0.2836 - learning_rate: 3.1250e-05\n",
            "Epoch 92/100\n",
            "\u001b[1m373/373\u001b[0m \u001b[32m━━━━━━━━━━━━━━━━━━━━\u001b[0m\u001b[37m\u001b[0m \u001b[1m111s\u001b[0m 297ms/step - accuracy: 0.9980 - loss: 0.0056 - val_accuracy: 0.9335 - val_loss: 0.2876 - learning_rate: 3.1250e-05\n",
            "Epoch 93/100\n",
            "\u001b[1m373/373\u001b[0m \u001b[32m━━━━━━━━━━━━━━━━━━━━\u001b[0m\u001b[37m\u001b[0m \u001b[1m142s\u001b[0m 297ms/step - accuracy: 0.9980 - loss: 0.0062 - val_accuracy: 0.9316 - val_loss: 0.2965 - learning_rate: 3.1250e-05\n",
            "Epoch 94/100\n",
            "\u001b[1m373/373\u001b[0m \u001b[32m━━━━━━━━━━━━━━━━━━━━\u001b[0m\u001b[37m\u001b[0m \u001b[1m141s\u001b[0m 296ms/step - accuracy: 0.9987 - loss: 0.0044 - val_accuracy: 0.9335 - val_loss: 0.2864 - learning_rate: 3.1250e-05\n",
            "Epoch 95/100\n",
            "\u001b[1m373/373\u001b[0m \u001b[32m━━━━━━━━━━━━━━━━━━━━\u001b[0m\u001b[37m\u001b[0m \u001b[1m142s\u001b[0m 296ms/step - accuracy: 0.9982 - loss: 0.0056 - val_accuracy: 0.9328 - val_loss: 0.2864 - learning_rate: 3.1250e-05\n",
            "Epoch 96/100\n",
            "\u001b[1m373/373\u001b[0m \u001b[32m━━━━━━━━━━━━━━━━━━━━\u001b[0m\u001b[37m\u001b[0m \u001b[1m142s\u001b[0m 296ms/step - accuracy: 0.9980 - loss: 0.0067 - val_accuracy: 0.9335 - val_loss: 0.2852 - learning_rate: 3.1250e-05\n",
            "Epoch 97/100\n",
            "\u001b[1m373/373\u001b[0m \u001b[32m━━━━━━━━━━━━━━━━━━━━\u001b[0m\u001b[37m\u001b[0m \u001b[1m137s\u001b[0m 283ms/step - accuracy: 0.9981 - loss: 0.0057 - val_accuracy: 0.9342 - val_loss: 0.2869 - learning_rate: 3.1250e-05\n",
            "Epoch 98/100\n",
            "\u001b[1m373/373\u001b[0m \u001b[32m━━━━━━━━━━━━━━━━━━━━\u001b[0m\u001b[37m\u001b[0m \u001b[1m142s\u001b[0m 283ms/step - accuracy: 0.9990 - loss: 0.0043 - val_accuracy: 0.9347 - val_loss: 0.2803 - learning_rate: 3.1250e-05\n",
            "Epoch 99/100\n",
            "\u001b[1m373/373\u001b[0m \u001b[32m━━━━━━━━━━━━━━━━━━━━\u001b[0m\u001b[37m\u001b[0m \u001b[1m147s\u001b[0m 296ms/step - accuracy: 0.9984 - loss: 0.0049 - val_accuracy: 0.9352 - val_loss: 0.2809 - learning_rate: 3.1250e-05\n",
            "Epoch 100/100\n",
            "\u001b[1m373/373\u001b[0m \u001b[32m━━━━━━━━━━━━━━━━━━━━\u001b[0m\u001b[37m\u001b[0m \u001b[1m113s\u001b[0m 304ms/step - accuracy: 0.9979 - loss: 0.0070 - val_accuracy: 0.9316 - val_loss: 0.2913 - learning_rate: 3.1250e-05\n",
            "\n",
            "Model training complete.\n"
          ]
        }
      ]
    },
    {
      "cell_type": "code",
      "source": [
        "\n",
        "epochs = range(1, len(history.history['accuracy']) + 1)\n",
        "fig, ax = plt.subplots(1, 2, figsize=(15, 5))\n",
        "ax[0].plot(epochs, history.history['loss'], label='Training Loss')\n",
        "ax[0].plot(epochs, history.history['val_loss'], label='Validation Loss')\n",
        "ax[0].set_title('Training & Validation Loss')\n",
        "ax[0].set_xlabel('Epochs')\n",
        "ax[0].set_ylabel('Loss')\n",
        "ax[0].legend()\n",
        "ax[1].plot(epochs, history.history['accuracy'], label='Training Accuracy')\n",
        "ax[1].plot(epochs, history.history['val_accuracy'], label='Validation Accuracy')\n",
        "ax[1].set_title('Training & Validation Accuracy')\n",
        "ax[1].set_xlabel('Epochs')\n",
        "ax[1].set_ylabel('Accuracy')\n",
        "ax[1].legend()\n",
        "plt.show()\n",
        "\n",
        "\n",
        "print(\"\\nFinal Model Evaluation on Test Data:\")\n",
        "test_loss, test_accuracy = model.evaluate(x_test, y_test, verbose=0)\n",
        "print(f\"Test Accuracy: {test_accuracy*100:.2f}%\")\n",
        "print(f\"Test Loss: {test_loss:.4f}\")\n",
        "\n",
        "\n",
        "lstm_cnn_preds = model.predict(x_test)\n",
        "\n",
        "\n",
        "np.save(\"lstm_cnn_preds.npy\", lstm_cnn_preds)\n",
        "print(\"\\nTest set predictions saved to lstm_cnn_preds.npy\")\n",
        "\n",
        "\n",
        "y_pred_labels = encoder.inverse_transform(lstm_cnn_preds)\n",
        "y_test_labels = encoder.inverse_transform(y_test)\n",
        "\n",
        "\n",
        "print(\"\\nClassification Report:\")\n",
        "print(classification_report(y_test_labels, y_pred_labels, target_names=encoder.categories_[0]))\n",
        "\n",
        "\n",
        "cm = confusion_matrix(y_test_labels, y_pred_labels)\n",
        "plt.figure(figsize=(10, 8))\n",
        "sns.heatmap(cm, annot=True, fmt='d', cmap='Blues', xticklabels=encoder.categories_[0], yticklabels=encoder.categories_[0])\n",
        "plt.title('Confusion Matrix')\n",
        "plt.ylabel('Actual Labels')\n",
        "plt.xlabel('Predicted Labels')\n",
        "plt.show()"
      ],
      "metadata": {
        "colab": {
          "base_uri": "https://localhost:8080/",
          "height": 1000
        },
        "id": "orHGjEtpMwsh",
        "outputId": "92f4d886-ed7e-4f8c-c016-12b63a9c7aeb"
      },
      "execution_count": 12,
      "outputs": [
        {
          "output_type": "display_data",
          "data": {
            "text/plain": [
              "<Figure size 1500x500 with 2 Axes>"
            ],
            "image/png": "[encoded data removed]"
          },
          "metadata": {}
        },
        {
          "output_type": "stream",
          "name": "stdout",
          "text": [
            "\n",
            "Final Model Evaluation on Test Data:\n",
            "Test Accuracy: 93.52%\n",
            "Test Loss: 0.2809\n",
            "\u001b[1m187/187\u001b[0m \u001b[32m━━━━━━━━━━━━━━━━━━━━\u001b[0m\u001b[37m\u001b[0m \u001b[1m9s\u001b[0m 44ms/step\n",
            "\n",
            "Test set predictions saved to lstm_cnn_preds.npy\n",
            "\n",
            "Classification Report:\n",
            "              precision    recall  f1-score   support\n",
            "\n",
            "       angry       0.98      0.95      0.97      1011\n",
            "     disgust       0.94      0.92      0.93      1035\n",
            "        fear       0.92      0.93      0.93      1016\n",
            "       happy       0.96      0.92      0.94      1015\n",
            "     neutral       0.91      0.95      0.93       837\n",
            "         sad       0.90      0.95      0.92      1040\n",
            "\n",
            "    accuracy                           0.94      5954\n",
            "   macro avg       0.94      0.94      0.94      5954\n",
            "weighted avg       0.94      0.94      0.94      5954\n",
            "\n"
          ]
        },
        {
          "output_type": "display_data",
          "data": {
            "text/plain": [
              "<Figure size 1000x800 with 2 Axes>"
            ],
            "image/png": "[encoded data removed]"
          },
          "metadata": {}
        }
      ]
    },
    {
      "cell_type": "code",
      "source": [
        "def get_valence(emotion):\n",
        "\n",
        "    emotion = emotion.lower()\n",
        "    if emotion == 'happy':\n",
        "        return 'Positive'\n",
        "    elif emotion in ['sad', 'angry', 'fear', 'disgust']:\n",
        "        return 'Negative'\n",
        "    else:\n",
        "        return 'Neutral'\n",
        "\n",
        "print(\"\\n--- Example Predictions with Emotional Valence ---\")\n",
        "for i in range(10):\n",
        "    actual_emotion = y_test_labels[i][0]\n",
        "    predicted_emotion = y_pred_labels[i][0]\n",
        "    valence = get_valence(predicted_emotion)\n",
        "    print(f\"Actual: {actual_emotion:<10} | Predicted: {predicted_emotion:<10} | Valence: {valence}\")"
      ],
      "metadata": {
        "colab": {
          "base_uri": "https://localhost:8080/"
        },
        "id": "mVRjP8XGNkfq",
        "outputId": "08ca9f78-a62f-4fc1-fa9d-bb97b0cf7eb0"
      },
      "execution_count": 13,
      "outputs": [
        {
          "output_type": "stream",
          "name": "stdout",
          "text": [
            "\n",
            "--- Example Predictions with Emotional Valence ---\n",
            "Actual: angry      | Predicted: angry      | Valence: Negative\n",
            "Actual: angry      | Predicted: angry      | Valence: Negative\n",
            "Actual: sad        | Predicted: sad        | Valence: Negative\n",
            "Actual: disgust    | Predicted: disgust    | Valence: Negative\n",
            "Actual: fear       | Predicted: fear       | Valence: Negative\n",
            "Actual: neutral    | Predicted: neutral    | Valence: Neutral\n",
            "Actual: happy      | Predicted: happy      | Valence: Positive\n",
            "Actual: happy      | Predicted: happy      | Valence: Positive\n",
            "Actual: disgust    | Predicted: disgust    | Valence: Negative\n",
            "Actual: sad        | Predicted: sad        | Valence: Negative\n"
          ]
        }
      ]
    },
    {
      "cell_type": "code",
      "source": [
        "\n",
        "model_json = model.to_json()\n",
        "with open(\"cnn_lstm_attention_model.json\", \"w\") as json_file:\n",
        "    json_file.write(model_json)\n",
        "print(\"Model architecture saved to cnn_lstm_attention_model.json\")\n",
        "print(\"Best model weights were saved to best_cnn_lstm_attention_model.keras during training.\")\n",
        "\n",
        "\n",
        "with open('scaler_seq.pickle', 'wb') as f:\n",
        "    pickle.dump(scaler, f)\n",
        "print(\"Scaler saved to scaler_seq.pickle\")\n",
        "\n",
        "with open('encoder_seq.pickle', 'wb') as f:\n",
        "    pickle.dump(encoder, f)\n",
        "print(\"Encoder saved to encoder_seq.pickle\")"
      ],
      "metadata": {
        "colab": {
          "base_uri": "https://localhost:8080/"
        },
        "id": "d-Oitzt2Nwmo",
        "outputId": "5a9ea557-3475-4f2f-831f-41cd35f44a26"
      },
      "execution_count": 14,
      "outputs": [
        {
          "output_type": "stream",
          "name": "stdout",
          "text": [
            "Model architecture saved to cnn_lstm_attention_model.json\n",
            "Best model weights were saved to best_cnn_lstm_attention_model.keras during training.\n",
            "Scaler saved to scaler_seq.pickle\n",
            "Encoder saved to encoder_seq.pickle\n"
          ]
        }
      ]
    },
    {
      "cell_type": "code",
      "source": [
        "def predict_emotion_and_valence(audio_path):\n",
        "    \"\"\"\n",
        "    Loads a single audio file and predicts its emotion and valence using the\n",
        "    saved model and preprocessing objects.\n",
        "    \"\"\"\n",
        "    print(f\"\\n--- Prediction for: {os.path.basename(audio_path)} ---\")\n",
        "    try:\n",
        "\n",
        "        with open('cnn_lstm_attention_model.json', 'r') as json_file:\n",
        "            loaded_model_json = json_file.read()\n",
        "        loaded_model = model_from_json(\n",
        "            loaded_model_json,\n",
        "            custom_objects={'Attention': Attention}\n",
        "        )\n",
        "\n",
        "        loaded_model.load_weights(\"best_cnn_lstm_attention_model.keras\")\n",
        "\n",
        "\n",
        "        with open('scaler_seq.pickle', 'rb') as f:\n",
        "            scaler = pickle.load(f)\n",
        "        with open('encoder_seq.pickle', 'rb') as f:\n",
        "            encoder = pickle.load(f)\n",
        "        with open('max_len.txt', 'r') as f:\n",
        "            max_len = int(f.read())\n",
        "\n",
        "\n",
        "        data, sr = librosa.load(audio_path, duration=2.5, offset=0.6)\n",
        "        features = extract_features_sequential(data, sr, n_mfcc=40)\n",
        "\n",
        "        padded_features = pad_sequences([features], maxlen=max_len, padding='post', dtype='float32')\n",
        "        padded_features_2d = padded_features.reshape(1, -1)\n",
        "        scaled_features_2d = scaler.transform(padded_features_2d)\n",
        "        final_features = scaled_features_2d.reshape(padded_features.shape)\n",
        "\n",
        "        # Make prediction\n",
        "        prediction = loaded_model.predict(final_features, verbose=0)\n",
        "        predicted_label = encoder.inverse_transform(prediction)[0][0]\n",
        "        predicted_valence = get_valence(predicted_label)\n",
        "\n",
        "        return predicted_label, predicted_valence\n",
        "\n",
        "    except Exception as e:\n",
        "        print(f\"An error occurred during prediction: {e}\")\n",
        "        return None, None\n",
        "\n",
        "try:\n",
        "    # Select a random file from the dataset to test\n",
        "    if not data_path.empty:\n",
        "      test_file_path = data_path.Path.sample(1).iloc[0]\n",
        "      predicted_emotion, predicted_valence = predict_emotion_and_valence(test_file_path)\n",
        "\n",
        "      if predicted_emotion:\n",
        "          print(f\"\\n--- Prediction Test Result ---\")\n",
        "          print(f\"Predicted Emotion: {predicted_emotion.upper()}\")\n",
        "          print(f\"Predicted Valence: {predicted_valence.upper()}\")\n",
        "except Exception as e:\n",
        "    print(f\"\\nCould not run prediction example. Error: {e}\")"
      ],
      "metadata": {
        "colab": {
          "base_uri": "https://localhost:8080/"
        },
        "id": "wrcYcu_ZN7t7",
        "outputId": "2843cb04-a991-4876-a1d3-69289cd9ed97"
      },
      "execution_count": 15,
      "outputs": [
        {
          "output_type": "stream",
          "name": "stdout",
          "text": [
            "\n",
            "--- Prediction for: 1058_TIE_ANG_XX.wav ---\n",
            "\n",
            "--- Prediction Test Result ---\n",
            "Predicted Emotion: ANGRY\n",
            "Predicted Valence: NEGATIVE\n"
          ]
        }
      ]
    },
    {
      "cell_type": "code",
      "source": [
        "# Save model architecture to JSON\n",
        "model_json = model.to_json()\n",
        "with open(\"cnn_lstm_model.json\", \"w\") as json_file:\n",
        "    json_file.write(model_json)\n",
        "\n",
        "# Save model weights\n",
        "model.save(\"best_cnn_lstm_model.h5\")\n",
        "\n",
        "# Save scaler\n",
        "import pickle\n",
        "with open(\"scaler_seq.pickle\", \"wb\") as f:\n",
        "    pickle.dump(scaler, f)\n",
        "\n",
        "# Save encoder\n",
        "with open(\"encoder_seq.pickle\", \"wb\") as f:\n",
        "    pickle.dump(encoder, f)\n",
        "\n",
        "# Save max_len\n",
        "with open(\"max_len.txt\", \"w\") as f:\n",
        "    f.write(str(max_len))\n"
      ],
      "metadata": {
        "colab": {
          "base_uri": "https://localhost:8080/"
        },
        "id": "CT9RXtfA4zlp",
        "outputId": "7ba966d2-3444-40b7-a8d2-c1ddc5c2f582"
      },
      "execution_count": 16,
      "outputs": [
        {
          "output_type": "stream",
          "name": "stderr",
          "text": [
            "WARNING:absl:You are saving your model as an HDF5 file via `model.save()` or `keras.saving.save_model(model)`. This file format is considered legacy. We recommend using instead the native Keras format, e.g. `model.save('my_model.keras')` or `keras.saving.save_model(model, 'my_model.keras')`. \n"
          ]
        }
      ]
    },
    {
      "cell_type": "code",
      "source": [
        "from google.colab import files\n",
        "\n",
        "files.download('best_cnn_lstm_model.h5')\n",
        "files.download('cnn_lstm_model.json')\n",
        "files.download('scaler_seq.pickle')\n",
        "files.download('encoder_seq.pickle')\n",
        "files.download('max_len.txt')\n"
      ],
      "metadata": {
        "colab": {
          "base_uri": "https://localhost:8080/",
          "height": 17
        },
        "id": "xU9gPTRt46wT",
        "outputId": "d9aa58cc-0f6e-4987-e6bb-3ccc749255d8"
      },
      "execution_count": 17,
      "outputs": [
        {
          "output_type": "display_data",
          "data": {
            "text/plain": [
              "<IPython.core.display.Javascript object>"
            ],
            "application/javascript": [
              "\n",
              "    async function download(id, filename, size) {\n",
              "      if (!google.colab.kernel.accessAllowed) {\n",
              "        return;\n",
              "      }\n",
              "      const div = document.createElement('div');\n",
              "      const label = document.createElement('label');\n",
              "      label.textContent = `Downloading \"${filename}\": `;\n",
              "      div.appendChild(label);\n",
              "      const progress = document.createElement('progress');\n",
              "      progress.max = size;\n",
              "      div.appendChild(progress);\n",
              "      document.body.appendChild(div);\n",
              "\n",
              "      const buffers = [];\n",
              "      let downloaded = 0;\n",
              "\n",
              "      const channel = await google.colab.kernel.comms.open(id);\n",
              "      // Send a message to notify the kernel that we're ready.\n",
              "      channel.send({})\n",
              "\n",
              "      for await (const message of channel.messages) {\n",
              "        // Send a message to notify the kernel that we're ready.\n",
              "        channel.send({})\n",
              "        if (message.buffers) {\n",
              "          for (const buffer of message.buffers) {\n",
              "            buffers.push(buffer);\n",
              "            downloaded += buffer.byteLength;\n",
              "            progress.value = downloaded;\n",
              "          }\n",
              "        }\n",
              "      }\n",
              "      const blob = new Blob(buffers, {type: 'application/binary'});\n",
              "      const a = document.createElement('a');\n",
              "      a.href = window.URL.createObjectURL(blob);\n",
              "      a.download = filename;\n",
              "      div.appendChild(a);\n",
              "      a.click();\n",
              "      div.remove();\n",
              "    }\n",
              "  "
            ]
          },
          "metadata": {}
        },
        {
          "output_type": "display_data",
          "data": {
            "text/plain": [
              "<IPython.core.display.Javascript object>"
            ],
            "application/javascript": [
              "download(\"download_6e8d96e1-b973-4837-bc1a-07d3090055b7\", \"best_cnn_lstm_model.h5\", 4286824)"
            ]
          },
          "metadata": {}
        },
        {
          "output_type": "display_data",
          "data": {
            "text/plain": [
              "<IPython.core.display.Javascript object>"
            ],
            "application/javascript": [
              "\n",
              "    async function download(id, filename, size) {\n",
              "      if (!google.colab.kernel.accessAllowed) {\n",
              "        return;\n",
              "      }\n",
              "      const div = document.createElement('div');\n",
              "      const label = document.createElement('label');\n",
              "      label.textContent = `Downloading \"${filename}\": `;\n",
              "      div.appendChild(label);\n",
              "      const progress = document.createElement('progress');\n",
              "      progress.max = size;\n",
              "      div.appendChild(progress);\n",
              "      document.body.appendChild(div);\n",
              "\n",
              "      const buffers = [];\n",
              "      let downloaded = 0;\n",
              "\n",
              "      const channel = await google.colab.kernel.comms.open(id);\n",
              "      // Send a message to notify the kernel that we're ready.\n",
              "      channel.send({})\n",
              "\n",
              "      for await (const message of channel.messages) {\n",
              "        // Send a message to notify the kernel that we're ready.\n",
              "        channel.send({})\n",
              "        if (message.buffers) {\n",
              "          for (const buffer of message.buffers) {\n",
              "            buffers.push(buffer);\n",
              "            downloaded += buffer.byteLength;\n",
              "            progress.value = downloaded;\n",
              "          }\n",
              "        }\n",
              "      }\n",
              "      const blob = new Blob(buffers, {type: 'application/binary'});\n",
              "      const a = document.createElement('a');\n",
              "      a.href = window.URL.createObjectURL(blob);\n",
              "      a.download = filename;\n",
              "      div.appendChild(a);\n",
              "      a.click();\n",
              "      div.remove();\n",
              "    }\n",
              "  "
            ]
          },
          "metadata": {}
        },
        {
          "output_type": "display_data",
          "data": {
            "text/plain": [
              "<IPython.core.display.Javascript object>"
            ],
            "application/javascript": [
              "download(\"download_94048acf-b122-463c-9383-28bfce57908b\", \"cnn_lstm_model.json\", 12262)"
            ]
          },
          "metadata": {}
        },
        {
          "output_type": "display_data",
          "data": {
            "text/plain": [
              "<IPython.core.display.Javascript object>"
            ],
            "application/javascript": [
              "\n",
              "    async function download(id, filename, size) {\n",
              "      if (!google.colab.kernel.accessAllowed) {\n",
              "        return;\n",
              "      }\n",
              "      const div = document.createElement('div');\n",
              "      const label = document.createElement('label');\n",
              "      label.textContent = `Downloading \"${filename}\": `;\n",
              "      div.appendChild(label);\n",
              "      const progress = document.createElement('progress');\n",
              "      progress.max = size;\n",
              "      div.appendChild(progress);\n",
              "      document.body.appendChild(div);\n",
              "\n",
              "      const buffers = [];\n",
              "      let downloaded = 0;\n",
              "\n",
              "      const channel = await google.colab.kernel.comms.open(id);\n",
              "      // Send a message to notify the kernel that we're ready.\n",
              "      channel.send({})\n",
              "\n",
              "      for await (const message of channel.messages) {\n",
              "        // Send a message to notify the kernel that we're ready.\n",
              "        channel.send({})\n",
              "        if (message.buffers) {\n",
              "          for (const buffer of message.buffers) {\n",
              "            buffers.push(buffer);\n",
              "            downloaded += buffer.byteLength;\n",
              "            progress.value = downloaded;\n",
              "          }\n",
              "        }\n",
              "      }\n",
              "      const blob = new Blob(buffers, {type: 'application/binary'});\n",
              "      const a = document.createElement('a');\n",
              "      a.href = window.URL.createObjectURL(blob);\n",
              "      a.download = filename;\n",
              "      div.appendChild(a);\n",
              "      a.click();\n",
              "      div.remove();\n",
              "    }\n",
              "  "
            ]
          },
          "metadata": {}
        },
        {
          "output_type": "display_data",
          "data": {
            "text/plain": [
              "<IPython.core.display.Javascript object>"
            ],
            "application/javascript": [
              "download(\"download_52867328-3350-4d0d-9e01-f0a5da5b30f6\", \"scaler_seq.pickle\", 130072)"
            ]
          },
          "metadata": {}
        },
        {
          "output_type": "display_data",
          "data": {
            "text/plain": [
              "<IPython.core.display.Javascript object>"
            ],
            "application/javascript": [
              "\n",
              "    async function download(id, filename, size) {\n",
              "      if (!google.colab.kernel.accessAllowed) {\n",
              "        return;\n",
              "      }\n",
              "      const div = document.createElement('div');\n",
              "      const label = document.createElement('label');\n",
              "      label.textContent = `Downloading \"${filename}\": `;\n",
              "      div.appendChild(label);\n",
              "      const progress = document.createElement('progress');\n",
              "      progress.max = size;\n",
              "      div.appendChild(progress);\n",
              "      document.body.appendChild(div);\n",
              "\n",
              "      const buffers = [];\n",
              "      let downloaded = 0;\n",
              "\n",
              "      const channel = await google.colab.kernel.comms.open(id);\n",
              "      // Send a message to notify the kernel that we're ready.\n",
              "      channel.send({})\n",
              "\n",
              "      for await (const message of channel.messages) {\n",
              "        // Send a message to notify the kernel that we're ready.\n",
              "        channel.send({})\n",
              "        if (message.buffers) {\n",
              "          for (const buffer of message.buffers) {\n",
              "            buffers.push(buffer);\n",
              "            downloaded += buffer.byteLength;\n",
              "            progress.value = downloaded;\n",
              "          }\n",
              "        }\n",
              "      }\n",
              "      const blob = new Blob(buffers, {type: 'application/binary'});\n",
              "      const a = document.createElement('a');\n",
              "      a.href = window.URL.createObjectURL(blob);\n",
              "      a.download = filename;\n",
              "      div.appendChild(a);\n",
              "      a.click();\n",
              "      div.remove();\n",
              "    }\n",
              "  "
            ]
          },
          "metadata": {}
        },
        {
          "output_type": "display_data",
          "data": {
            "text/plain": [
              "<IPython.core.display.Javascript object>"
            ],
            "application/javascript": [
              "download(\"download_ceafb880-5eda-4eff-ae7a-14b2c92f86db\", \"encoder_seq.pickle\", 681)"
            ]
          },
          "metadata": {}
        },
        {
          "output_type": "display_data",
          "data": {
            "text/plain": [
              "<IPython.core.display.Javascript object>"
            ],
            "application/javascript": [
              "\n",
              "    async function download(id, filename, size) {\n",
              "      if (!google.colab.kernel.accessAllowed) {\n",
              "        return;\n",
              "      }\n",
              "      const div = document.createElement('div');\n",
              "      const label = document.createElement('label');\n",
              "      label.textContent = `Downloading \"${filename}\": `;\n",
              "      div.appendChild(label);\n",
              "      const progress = document.createElement('progress');\n",
              "      progress.max = size;\n",
              "      div.appendChild(progress);\n",
              "      document.body.appendChild(div);\n",
              "\n",
              "      const buffers = [];\n",
              "      let downloaded = 0;\n",
              "\n",
              "      const channel = await google.colab.kernel.comms.open(id);\n",
              "      // Send a message to notify the kernel that we're ready.\n",
              "      channel.send({})\n",
              "\n",
              "      for await (const message of channel.messages) {\n",
              "        // Send a message to notify the kernel that we're ready.\n",
              "        channel.send({})\n",
              "        if (message.buffers) {\n",
              "          for (const buffer of message.buffers) {\n",
              "            buffers.push(buffer);\n",
              "            downloaded += buffer.byteLength;\n",
              "            progress.value = downloaded;\n",
              "          }\n",
              "        }\n",
              "      }\n",
              "      const blob = new Blob(buffers, {type: 'application/binary'});\n",
              "      const a = document.createElement('a');\n",
              "      a.href = window.URL.createObjectURL(blob);\n",
              "      a.download = filename;\n",
              "      div.appendChild(a);\n",
              "      a.click();\n",
              "      div.remove();\n",
              "    }\n",
              "  "
            ]
          },
          "metadata": {}
        },
        {
          "output_type": "display_data",
          "data": {
            "text/plain": [
              "<IPython.core.display.Javascript object>"
            ],
            "application/javascript": [
              "download(\"download_32e3d268-ebed-4d95-94bb-bc6127525737\", \"max_len.txt\", 3)"
            ]
          },
          "metadata": {}
        }
      ]
    },
    {
      "cell_type": "code",
      "source": [
        "drive_save_path = \"/content/drive/MyDrive/My_LSTM_CNN_ATTENTION_Speech_Model\"\n",
        "\n",
        "!mkdir -p \"{drive_save_path}\"\n",
        "\n",
        "print(f\"Ready to save files to: {drive_save_path}\")"
      ],
      "metadata": {
        "colab": {
          "base_uri": "https://localhost:8080/"
        },
        "id": "nhX4yGmhOFNY",
        "outputId": "9fee75c0-e761-4a00-e89b-d0790763d129"
      },
      "execution_count": 18,
      "outputs": [
        {
          "output_type": "stream",
          "name": "stdout",
          "text": [
            "Ready to save files to: /content/drive/MyDrive/My_LSTM_CNN_ATTENTION_Speech_Model\n"
          ]
        }
      ]
    },
    {
      "cell_type": "code",
      "source": [
        "source_file = \"lstm_cnn_preds.npy\"\n",
        "\n",
        "\n",
        "destination_path = \"/content/drive/MyDrive/My_LSTM_CNN_ATTENTION_Speech_Model/\"\n",
        "\n",
        "\n",
        "!cp \"{source_file}\" \"{destination_path}\"\n",
        "\n",
        "print(f\"Successfully copied '{source_file}' to your Google Drive!\")"
      ],
      "metadata": {
        "colab": {
          "base_uri": "https://localhost:8080/"
        },
        "id": "rCH8_AyuO3XW",
        "outputId": "af211d06-876c-4a13-d9ee-e9fad683f5cd"
      },
      "execution_count": 19,
      "outputs": [
        {
          "output_type": "stream",
          "name": "stdout",
          "text": [
            "Successfully copied 'lstm_cnn_preds.npy' to your Google Drive!\n"
          ]
        }
      ]
    },
    {
      "cell_type": "code",
      "source": [
        "model.save(\"lstm_cnn_attention_model.h5\")"
      ],
      "metadata": {
        "colab": {
          "base_uri": "https://localhost:8080/"
        },
        "id": "ISX5Ku1RVCUH",
        "outputId": "ca293a31-bf19-43fd-aff6-4a63900db124"
      },
      "execution_count": 20,
      "outputs": [
        {
          "output_type": "stream",
          "name": "stderr",
          "text": [
            "WARNING:absl:You are saving your model as an HDF5 file via `model.save()` or `keras.saving.save_model(model)`. This file format is considered legacy. We recommend using instead the native Keras format, e.g. `model.save('my_model.keras')` or `keras.saving.save_model(model, 'my_model.keras')`. \n"
          ]
        }
      ]
    },
    {
      "cell_type": "code",
      "source": [
        "from google.colab import files\n",
        "files.download(\"lstm_cnn_attention_model.h5\")"
      ],
      "metadata": {
        "colab": {
          "base_uri": "https://localhost:8080/",
          "height": 17
        },
        "id": "vFX8jm8iVKEC",
        "outputId": "7dde2158-f640-4521-804e-1c7a3b3594d9"
      },
      "execution_count": 21,
      "outputs": [
        {
          "output_type": "display_data",
          "data": {
            "text/plain": [
              "<IPython.core.display.Javascript object>"
            ],
            "application/javascript": [
              "\n",
              "    async function download(id, filename, size) {\n",
              "      if (!google.colab.kernel.accessAllowed) {\n",
              "        return;\n",
              "      }\n",
              "      const div = document.createElement('div');\n",
              "      const label = document.createElement('label');\n",
              "      label.textContent = `Downloading \"${filename}\": `;\n",
              "      div.appendChild(label);\n",
              "      const progress = document.createElement('progress');\n",
              "      progress.max = size;\n",
              "      div.appendChild(progress);\n",
              "      document.body.appendChild(div);\n",
              "\n",
              "      const buffers = [];\n",
              "      let downloaded = 0;\n",
              "\n",
              "      const channel = await google.colab.kernel.comms.open(id);\n",
              "      // Send a message to notify the kernel that we're ready.\n",
              "      channel.send({})\n",
              "\n",
              "      for await (const message of channel.messages) {\n",
              "        // Send a message to notify the kernel that we're ready.\n",
              "        channel.send({})\n",
              "        if (message.buffers) {\n",
              "          for (const buffer of message.buffers) {\n",
              "            buffers.push(buffer);\n",
              "            downloaded += buffer.byteLength;\n",
              "            progress.value = downloaded;\n",
              "          }\n",
              "        }\n",
              "      }\n",
              "      const blob = new Blob(buffers, {type: 'application/binary'});\n",
              "      const a = document.createElement('a');\n",
              "      a.href = window.URL.createObjectURL(blob);\n",
              "      a.download = filename;\n",
              "      div.appendChild(a);\n",
              "      a.click();\n",
              "      div.remove();\n",
              "    }\n",
              "  "
            ]
          },
          "metadata": {}
        },
        {
          "output_type": "display_data",
          "data": {
            "text/plain": [
              "<IPython.core.display.Javascript object>"
            ],
            "application/javascript": [
              "download(\"download_13cb3aae-9a92-4251-8ed3-618280fc82d3\", \"lstm_cnn_attention_model.h5\", 4286824)"
            ]
          },
          "metadata": {}
        }
      ]
    },
    {
      "cell_type": "code",
      "source": [
        "!ls -lh \"/content/drive/MyDrive/My_LSTM_CNN_ATTENTION_Speech_Model\""
      ],
      "metadata": {
        "colab": {
          "base_uri": "https://localhost:8080/"
        },
        "id": "RHXJrSflPK6D",
        "outputId": "cec929ca-f12f-4854-ba81-e3f097a7b6d3"
      },
      "execution_count": 23,
      "outputs": [
        {
          "output_type": "stream",
          "name": "stdout",
          "text": [
            "total 140K\n",
            "-rw------- 1 root root 140K Aug  3 17:05 lstm_cnn_preds.npy\n"
          ]
        }
      ]
    }
  ]
}