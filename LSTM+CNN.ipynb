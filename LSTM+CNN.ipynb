{
  "nbformat": 4,
  "nbformat_minor": 0,
  "metadata": {
    "colab": {
      "provenance": [],
      "authorship_tag": "ABX9TyN/0161gAGDOdhmmvmrJzKM",
      "include_colab_link": true
    },
    "kernelspec": {
      "name": "python3",
      "display_name": "Python 3"
    },
    "language_info": {
      "name": "python"
    }
  },
  "cells": [
    {
      "cell_type": "markdown",
      "metadata": {
        "id": "view-in-github",
        "colab_type": "text"
      },
      "source": [
        "<a href=\"https://colab.research.google.com/github/Mihirirj/Audio_PRE-FE/blob/main/LSTM%2BCNN.ipynb\" target=\"_parent\"><img src=\"https://colab.research.google.com/assets/colab-badge.svg\" alt=\"Open In Colab\"/></a>"
      ]
    },
    {
      "cell_type": "code",
      "execution_count": null,
      "metadata": {
        "id": "G94h8H58H3LX"
      },
      "outputs": [],
      "source": [
        "# ==============================================================================\n",
        "# STEP 1: IMPORT LIBRARIES AND SETUP ENVIRONMENT\n",
        "# ==============================================================================\n",
        "import pandas as pd\n",
        "import numpy as np\n",
        "import os\n",
        "import sys\n",
        "import pickle\n",
        "import timeit\n",
        "from tqdm import tqdm"
      ]
    },
    {
      "cell_type": "code",
      "source": [
        "# Audio Processing\n",
        "import librosa\n",
        "import librosa.display"
      ],
      "metadata": {
        "id": "wcpTrKtKI5c8"
      },
      "execution_count": null,
      "outputs": []
    },
    {
      "cell_type": "code",
      "source": [
        "# Visualization\n",
        "import seaborn as sns\n",
        "import matplotlib.pyplot as plt"
      ],
      "metadata": {
        "id": "OSkJfr4tI8up"
      },
      "execution_count": null,
      "outputs": []
    },
    {
      "cell_type": "code",
      "source": [
        "# Scikit-learn for Preprocessing and Metrics\n",
        "from sklearn.preprocessing import StandardScaler, OneHotEncoder\n",
        "from sklearn.model_selection import train_test_split\n",
        "from sklearn.metrics import confusion_matrix, classification_report"
      ],
      "metadata": {
        "id": "lCYcZRrgJAk7"
      },
      "execution_count": null,
      "outputs": []
    },
    {
      "cell_type": "code",
      "source": [
        "# Keras / TensorFlow for Model Building\n",
        "import tensorflow as tf\n",
        "from tensorflow.keras.models import Sequential, model_from_json\n",
        "from tensorflow.keras.layers import (\n",
        "    Conv1D, MaxPooling1D, BatchNormalization, Dropout, Flatten, Dense,\n",
        "    LSTM, Reshape\n",
        ")\n",
        "from tensorflow.keras.preprocessing.sequence import pad_sequences\n",
        "from tensorflow.keras.callbacks import ModelCheckpoint, EarlyStopping, ReduceLROnPlateau"
      ],
      "metadata": {
        "id": "2pM0SDzBJIbF"
      },
      "execution_count": null,
      "outputs": []
    },
    {
      "cell_type": "code",
      "source": [
        "# Ignore warnings for a cleaner output\n",
        "import warnings\n",
        "if not sys.warnoptions:\n",
        "    warnings.simplefilter(\"ignore\")\n",
        "warnings.filterwarnings(\"ignore\", category=DeprecationWarning)"
      ],
      "metadata": {
        "id": "xYZZPq5MJM_L"
      },
      "execution_count": null,
      "outputs": []
    },
    {
      "cell_type": "code",
      "source": [
        "# Install libsndfile for audio processing in Colab\n",
        "!apt-get update -qq && apt-get install -y libsndfile1 -qq\n",
        "\n",
        "print(\"Libraries imported and system updated successfully.\")"
      ],
      "metadata": {
        "colab": {
          "base_uri": "https://localhost:8080/"
        },
        "id": "PmTvHpa-JTe0",
        "outputId": "3b526427-0b4e-4096-b69b-66d57dceceeb"
      },
      "execution_count": null,
      "outputs": [
        {
          "output_type": "stream",
          "name": "stdout",
          "text": [
            "W: Skipping acquire of configured file 'main/source/Sources' as repository 'https://r2u.stat.illinois.edu/ubuntu jammy InRelease' does not seem to provide it (sources.list entry misspelt?)\n",
            "Libraries imported and system updated successfully.\n"
          ]
        }
      ]
    },
    {
      "cell_type": "code",
      "source": [
        "# ==============================================================================\n",
        "# STEP 2: MOUNT GOOGLE DRIVE AND SET PATHS\n",
        "# ==============================================================================\n",
        "print(\"\\nStep 2: Mounting Google Drive and setting paths...\")\n",
        "\n",
        "from google.colab import drive\n",
        "drive.mount('/content/drive')"
      ],
      "metadata": {
        "colab": {
          "base_uri": "https://localhost:8080/"
        },
        "id": "zf7iDaGAJd9U",
        "outputId": "9914a99b-8223-4e3f-daa4-925274a32220"
      },
      "execution_count": null,
      "outputs": [
        {
          "output_type": "stream",
          "name": "stdout",
          "text": [
            "\n",
            "Step 2: Mounting Google Drive and setting paths...\n",
            "Mounted at /content/drive\n"
          ]
        }
      ]
    },
    {
      "cell_type": "code",
      "source": [
        "# !!! IMPORTANT: MAKE SURE THIS PATH IS CORRECT !!!\n",
        "CREMA_D_PATH = \"/content/drive/MyDrive/AudioWAV/\"\n",
        "\n",
        "if not os.path.exists(CREMA_D_PATH):\n",
        "    print(f\"ERROR: The path '{CREMA_D_PATH}' does not exist.\")\n",
        "    print(\"Please make sure you have uploaded the 'AudioWAV' folder to your Google Drive and updated the CREMA_D_PATH variable.\")\n",
        "else:\n",
        "    print(\"Dataset path confirmed.\")"
      ],
      "metadata": {
        "colab": {
          "base_uri": "https://localhost:8080/"
        },
        "id": "blBDiCziJq2b",
        "outputId": "161ab65f-e0ee-4c06-cfd4-5d389ce4f12b"
      },
      "execution_count": null,
      "outputs": [
        {
          "output_type": "stream",
          "name": "stdout",
          "text": [
            "Dataset path confirmed.\n"
          ]
        }
      ]
    },
    {
      "cell_type": "code",
      "source": [
        "# ==============================================================================\n",
        "# STEP 3: LOAD AND PROCESS DATASET METADATA (No Changes Here)\n",
        "# ==============================================================================\n",
        "print(\"\\nStep 3: Loading and processing CREMA-D metadata...\")\n",
        "\n",
        "crema_directory_list = os.listdir(CREMA_D_PATH)\n",
        "\n",
        "file_emotion = []\n",
        "file_path = []\n",
        "\n",
        "for file in crema_directory_list:\n",
        "    file_path.append(os.path.join(CREMA_D_PATH, file))\n",
        "    part = file.split('_')\n",
        "    if part[2] == 'SAD':\n",
        "        file_emotion.append('sad')\n",
        "    elif part[2] == 'ANG':\n",
        "        file_emotion.append('angry')\n",
        "    elif part[2] == 'DIS':\n",
        "        file_emotion.append('disgust')\n",
        "    elif part[2] == 'FEA':\n",
        "        file_emotion.append('fear')\n",
        "    elif part[2] == 'HAP':\n",
        "        file_emotion.append('happy')\n",
        "    elif part[2] == 'NEU':\n",
        "        file_emotion.append('neutral')\n",
        "    else:\n",
        "        file_emotion.append('Unknown')\n",
        "\n",
        "emotion_df = pd.DataFrame(file_emotion, columns=['Emotions'])\n",
        "path_df = pd.DataFrame(file_path, columns=['Path'])\n",
        "data_path = pd.concat([emotion_df, path_df], axis=1)\n",
        "\n",
        "print(\"CREMA-D DataFrame created successfully.\")\n",
        "print(\"Emotion Counts:\")\n",
        "print(data_path['Emotions'].value_counts())"
      ],
      "metadata": {
        "colab": {
          "base_uri": "https://localhost:8080/"
        },
        "id": "2O_AcJATJyXs",
        "outputId": "aafe6d9d-e1f5-4ac2-9ac5-9a66ffa6aad6"
      },
      "execution_count": null,
      "outputs": [
        {
          "output_type": "stream",
          "name": "stdout",
          "text": [
            "\n",
            "Step 3: Loading and processing CREMA-D metadata...\n",
            "CREMA-D DataFrame created successfully.\n",
            "Emotion Counts:\n",
            "Emotions\n",
            "sad        1271\n",
            "happy      1271\n",
            "angry      1271\n",
            "fear       1271\n",
            "disgust    1271\n",
            "neutral    1087\n",
            "Name: count, dtype: int64\n"
          ]
        }
      ]
    },
    {
      "cell_type": "code",
      "source": [
        "# ==============================================================================\n",
        "# STEP 4: VISUALIZING DATA DISTRIBUTION (No Changes Here)\n",
        "# ==============================================================================\n",
        "print(\"\\nStep 4: Visualizing data distribution...\")\n",
        "\n",
        "plt.figure(figsize=(10, 5))\n",
        "plt.title('Count of Emotions in CREMA-D Dataset', size=16)\n",
        "sns.countplot(x=data_path.Emotions, palette=\"viridis\")\n",
        "plt.ylabel('Count', size=12)\n",
        "plt.xlabel('Emotions', size=12)\n",
        "sns.despine(top=True, right=True, left=False, bottom=False)\n",
        "plt.show()"
      ],
      "metadata": {
        "colab": {
          "base_uri": "https://localhost:8080/",
          "height": 621
        },
        "id": "4JpiDg2FJ-Zs",
        "outputId": "d15eb649-b739-4c58-e451-e7cb47133d42"
      },
      "execution_count": null,
      "outputs": [
        {
          "output_type": "stream",
          "name": "stdout",
          "text": [
            "\n",
            "Step 4: Visualizing data distribution...\n"
          ]
        },
        {
          "output_type": "stream",
          "name": "stderr",
          "text": [
            "/tmp/ipython-input-11-753509345.py:8: FutureWarning: \n",
            "\n",
            "Passing `palette` without assigning `hue` is deprecated and will be removed in v0.14.0. Assign the `x` variable to `hue` and set `legend=False` for the same effect.\n",
            "\n",
            "  sns.countplot(x=data_path.Emotions, palette=\"viridis\")\n"
          ]
        },
        {
          "output_type": "display_data",
          "data": {
            "text/plain": [
              "<Figure size 1000x500 with 1 Axes>"
            ],
            "image/png": "[encoded data removed]"
          },
          "metadata": {}
        }
      ]
    },
    {
      "cell_type": "code",
      "source": [
        "\n",
        "# ==============================================================================\n",
        "# STEP 5: **NEW** FEATURE EXTRACTION & AUGMENTATION FUNCTIONS\n",
        "# ==============================================================================\n",
        "print(\"\\nStep 5: Defining NEW feature extraction and augmentation functions...\")\n",
        "\n",
        "# --- Data Augmentation Functions (Added Time Stretching) ---\n",
        "def noise(data):\n",
        "    noise_amp = 0.035 * np.random.uniform() * np.amax(data)\n",
        "    data = data + noise_amp * np.random.normal(size=data.shape[0])\n",
        "    return data\n",
        "\n",
        "def pitch(data, sampling_rate, pitch_factor=0.7):\n",
        "    return librosa.effects.pitch_shift(data, sr=sampling_rate, n_steps=pitch_factor)\n",
        "\n",
        "def stretch(data, rate=0.8):\n",
        "    return librosa.effects.time_stretch(data, rate=rate)\n",
        "\n",
        "\n",
        "# --- NEW Feature Extraction Function (extracts MFCCs over time) ---\n",
        "def extract_features_sequential(data, sr=22050, n_mfcc=40):\n",
        "    \"\"\"Extracts MFCCs and returns them as a sequence (time_steps, n_mfcc)\"\"\"\n",
        "    mfccs = librosa.feature.mfcc(y=data, sr=sr, n_mfcc=n_mfcc)\n",
        "    return mfccs.T # Transpose to get (time_steps, n_mfcc)\n",
        "\n",
        "# --- NEW Function to get all features including augmentations ---\n",
        "def get_features_with_augmentation_sequential(path):\n",
        "    \"\"\"\n",
        "    Loads an audio file and returns a list of feature sequences:\n",
        "    [original_features, noise_features, pitch_features, stretch_features]\n",
        "    \"\"\"\n",
        "    data, sr = librosa.load(path, duration=2.5, offset=0.6)\n",
        "\n",
        "    # 1. Original\n",
        "    res1 = extract_features_sequential(data, sr)\n",
        "    # 2. Noise\n",
        "    noise_data = noise(data)\n",
        "    res2 = extract_features_sequential(noise_data, sr)\n",
        "    # 3. Pitch\n",
        "    pitch_data = pitch(data, sr)\n",
        "    res3 = extract_features_sequential(pitch_data, sr)\n",
        "    # 4. Stretch\n",
        "    stretch_data = stretch(data)\n",
        "    res4 = extract_features_sequential(stretch_data, sr)\n",
        "\n",
        "    return [res1, res2, res3, res4]\n",
        "\n",
        "print(\"Functions defined.\")"
      ],
      "metadata": {
        "colab": {
          "base_uri": "https://localhost:8080/"
        },
        "id": "aSZo-J9UKc1f",
        "outputId": "f52d1221-bd3f-439f-955e-eff08dcde32b"
      },
      "execution_count": null,
      "outputs": [
        {
          "output_type": "stream",
          "name": "stdout",
          "text": [
            "\n",
            "Step 5: Defining NEW feature extraction and augmentation functions...\n",
            "Functions defined.\n"
          ]
        }
      ]
    },
    {
      "cell_type": "code",
      "source": [
        "# ==============================================================================\n",
        "# STEP 6: **NEW** GENERATE, PAD, AND SAVE FEATURES (LONG PROCESS)\n",
        "# ==============================================================================\n",
        "print(\"\\nStep 6: Generating sequential features from audio files. This may take a long time...\")\n",
        "\n",
        "start_time = timeit.default_timer()\n",
        "\n",
        "X_seq, Y_seq = [], []\n",
        "for path, emotion in tqdm(zip(data_path.Path, data_path.Emotions), total=len(data_path)):\n",
        "    try:\n",
        "        feature_list = get_features_with_augmentation_sequential(path)\n",
        "        for features in feature_list:\n",
        "            X_seq.append(features)\n",
        "            Y_seq.append(emotion)\n",
        "    except Exception as e:\n",
        "        print(f\"Error processing {path}: {e}\")\n",
        "\n",
        "# Find the maximum length of a sequence\n",
        "max_len = max([len(x) for x in X_seq])\n",
        "print(f\"\\nMaximum sequence length: {max_len}\")\n",
        "\n",
        "# Pad all sequences to the maximum length\n",
        "X_padded = pad_sequences(X_seq, maxlen=max_len, padding='post', dtype='float32')\n",
        "\n",
        "stop_time = timeit.default_timer()\n",
        "print(f'Feature extraction completed in: {stop_time - start_time:.2f}s')\n",
        "\n",
        "# Save features and labels using numpy for efficiency\n",
        "np.save('X_padded_features.npy', X_padded)\n",
        "np.save('Y_labels.npy', np.array(Y_seq))\n",
        "# Save the max_len value for the prediction script\n",
        "with open('max_len.txt', 'w') as f:\n",
        "    f.write(str(max_len))\n",
        "\n",
        "print(\"Sequential features saved to 'X_padded_features.npy' and 'Y_labels.npy'\")\n",
        "print(\"Max sequence length saved to 'max_len.txt'\")"
      ],
      "metadata": {
        "colab": {
          "base_uri": "https://localhost:8080/"
        },
        "id": "F4EOwHIWKk70",
        "outputId": "c20e5987-47e3-4967-91bc-265bd884f125"
      },
      "execution_count": null,
      "outputs": [
        {
          "output_type": "stream",
          "name": "stdout",
          "text": [
            "\n",
            "Step 6: Generating sequential features from audio files. This may take a long time...\n"
          ]
        },
        {
          "output_type": "stream",
          "name": "stderr",
          "text": [
            "100%|██████████| 7442/7442 [20:45<00:00,  5.98it/s]\n"
          ]
        },
        {
          "output_type": "stream",
          "name": "stdout",
          "text": [
            "\n",
            "Maximum sequence length: 135\n",
            "Feature extraction completed in: 1245.84s\n",
            "Sequential features saved to 'X_padded_features.npy' and 'Y_labels.npy'\n",
            "Max sequence length saved to 'max_len.txt'\n"
          ]
        }
      ]
    },
    {
      "cell_type": "code",
      "source": [
        "# ==============================================================================\n",
        "# STEP 7: **NEW** LOAD SAVED FEATURES AND PREPARE FOR MODELING\n",
        "# ==============================================================================\n",
        "print(\"\\nStep 7: Loading sequential features and preparing data for the model...\")\n",
        "\n",
        "# Load the saved features and labels\n",
        "X = np.load('X_padded_features.npy')\n",
        "Y = np.load('Y_labels.npy')\n",
        "\n",
        "# One-Hot Encode the labels\n",
        "encoder = OneHotEncoder()\n",
        "Y = encoder.fit_transform(np.array(Y).reshape(-1, 1)).toarray()\n",
        "\n",
        "# Split data into training and testing sets\n",
        "x_train, x_test, y_train, y_test = train_test_split(X, Y, random_state=42, test_size=0.2, shuffle=True)\n",
        "\n",
        "# Scale the features\n",
        "# We need to reshape data to 2D for scaler, then reshape back to 3D for model\n",
        "scaler = StandardScaler()\n",
        "x_train_2d = x_train.reshape(x_train.shape[0], -1)\n",
        "x_train_scaled_2d = scaler.fit_transform(x_train_2d)\n",
        "x_train = x_train_scaled_2d.reshape(x_train.shape)\n",
        "\n",
        "x_test_2d = x_test.reshape(x_test.shape[0], -1)\n",
        "x_test_scaled_2d = scaler.transform(x_test_2d)\n",
        "x_test = x_test_scaled_2d.reshape(x_test.shape)\n",
        "\n",
        "print(f\"Data shapes: \\nx_train: {x_train.shape}\\ny_train: {y_train.shape}\\nx_test: {x_test.shape}\\ny_test: {y_test.shape}\")"
      ],
      "metadata": {
        "colab": {
          "base_uri": "https://localhost:8080/"
        },
        "id": "UIrT7ZzekiHV",
        "outputId": "a9635fb8-1290-4350-c721-7d9c0eabecd5"
      },
      "execution_count": null,
      "outputs": [
        {
          "output_type": "stream",
          "name": "stdout",
          "text": [
            "\n",
            "Step 7: Loading sequential features and preparing data for the model...\n",
            "Data shapes: \n",
            "x_train: (23814, 135, 40)\n",
            "y_train: (23814, 6)\n",
            "x_test: (5954, 135, 40)\n",
            "y_test: (5954, 6)\n"
          ]
        }
      ]
    },
    {
      "cell_type": "code",
      "source": [
        "# ==============================================================================\n",
        "# STEP 8: **NEW** BUILD THE HYBRID CNN-LSTM MODEL\n",
        "# ==============================================================================\n",
        "print(\"\\nStep 8: Building the Hybrid CNN-LSTM model...\")\n",
        "\n",
        "# Input shape will be (max_len, n_mfcc)\n",
        "input_shape = (x_train.shape[1], x_train.shape[2])\n",
        "\n",
        "model = Sequential()\n",
        "\n",
        "# 1st CNN Layer\n",
        "model.add(Conv1D(256, kernel_size=5, strides=1, padding='same', activation='relu', input_shape=input_shape))\n",
        "model.add(BatchNormalization())\n",
        "model.add(MaxPooling1D(pool_size=5, strides=2, padding='same'))\n",
        "\n",
        "# 2nd CNN Layer\n",
        "model.add(Conv1D(128, kernel_size=5, strides=1, padding='same', activation='relu'))\n",
        "model.add(BatchNormalization())\n",
        "model.add(MaxPooling1D(pool_size=5, strides=2, padding='same'))\n",
        "model.add(Dropout(0.3))\n",
        "\n",
        "# 3rd CNN Layer\n",
        "model.add(Conv1D(64, kernel_size=3, strides=1, padding='same', activation='relu'))\n",
        "model.add(BatchNormalization())\n",
        "model.add(MaxPooling1D(pool_size=5, strides=2, padding='same'))\n",
        "\n",
        "# LSTM Layer\n",
        "model.add(LSTM(64))\n",
        "model.add(Dropout(0.3))\n",
        "\n",
        "# Dense Layer\n",
        "model.add(Dense(64, activation='relu'))\n",
        "model.add(BatchNormalization())\n",
        "\n",
        "# Output Layer\n",
        "model.add(Dense(y_train.shape[1], activation='softmax'))\n",
        "\n",
        "model.compile(optimizer='adam', loss='categorical_crossentropy', metrics=['accuracy'])\n",
        "model.summary()"
      ],
      "metadata": {
        "colab": {
          "base_uri": "https://localhost:8080/",
          "height": 766
        },
        "id": "Dvb4KdTLkrbp",
        "outputId": "771d9782-7bd6-4acb-fe39-638315e9af25"
      },
      "execution_count": null,
      "outputs": [
        {
          "output_type": "stream",
          "name": "stdout",
          "text": [
            "\n",
            "Step 8: Building the Hybrid CNN-LSTM model...\n"
          ]
        },
        {
          "output_type": "stream",
          "name": "stderr",
          "text": [
            "/usr/local/lib/python3.11/dist-packages/keras/src/layers/convolutional/base_conv.py:107: UserWarning: Do not pass an `input_shape`/`input_dim` argument to a layer. When using Sequential models, prefer using an `Input(shape)` object as the first layer in the model instead.\n",
            "  super().__init__(activity_regularizer=activity_regularizer, **kwargs)\n"
          ]
        },
        {
          "output_type": "display_data",
          "data": {
            "text/plain": [
              "\u001b[1mModel: \"sequential\"\u001b[0m\n"
            ],
            "text/html": [
              "<pre style=\"white-space:pre;overflow-x:auto;line-height:normal;font-family:Menlo,'DejaVu Sans Mono',consolas,'Courier New',monospace\"><span style=\"font-weight: bold\">Model: \"sequential\"</span>\n",
              "</pre>\n"
            ]
          },
          "metadata": {}
        },
        {
          "output_type": "display_data",
          "data": {
            "text/plain": [
              "┏━━━━━━━━━━━━━━━━━━━━━━━━━━━━━━━━━┳━━━━━━━━━━━━━━━━━━━━━━━━┳━━━━━━━━━━━━━━━┓\n",
              "┃\u001b[1m \u001b[0m\u001b[1mLayer (type)                   \u001b[0m\u001b[1m \u001b[0m┃\u001b[1m \u001b[0m\u001b[1mOutput Shape          \u001b[0m\u001b[1m \u001b[0m┃\u001b[1m \u001b[0m\u001b[1m      Param #\u001b[0m\u001b[1m \u001b[0m┃\n",
              "┡━━━━━━━━━━━━━━━━━━━━━━━━━━━━━━━━━╇━━━━━━━━━━━━━━━━━━━━━━━━╇━━━━━━━━━━━━━━━┩\n",
              "│ conv1d (\u001b[38;5;33mConv1D\u001b[0m)                 │ (\u001b[38;5;45mNone\u001b[0m, \u001b[38;5;34m135\u001b[0m, \u001b[38;5;34m256\u001b[0m)       │        \u001b[38;5;34m51,456\u001b[0m │\n",
              "├─────────────────────────────────┼────────────────────────┼───────────────┤\n",
              "│ batch_normalization             │ (\u001b[38;5;45mNone\u001b[0m, \u001b[38;5;34m135\u001b[0m, \u001b[38;5;34m256\u001b[0m)       │         \u001b[38;5;34m1,024\u001b[0m │\n",
              "│ (\u001b[38;5;33mBatchNormalization\u001b[0m)            │                        │               │\n",
              "├─────────────────────────────────┼────────────────────────┼───────────────┤\n",
              "│ max_pooling1d (\u001b[38;5;33mMaxPooling1D\u001b[0m)    │ (\u001b[38;5;45mNone\u001b[0m, \u001b[38;5;34m68\u001b[0m, \u001b[38;5;34m256\u001b[0m)        │             \u001b[38;5;34m0\u001b[0m │\n",
              "├─────────────────────────────────┼────────────────────────┼───────────────┤\n",
              "│ conv1d_1 (\u001b[38;5;33mConv1D\u001b[0m)               │ (\u001b[38;5;45mNone\u001b[0m, \u001b[38;5;34m68\u001b[0m, \u001b[38;5;34m128\u001b[0m)        │       \u001b[38;5;34m163,968\u001b[0m │\n",
              "├─────────────────────────────────┼────────────────────────┼───────────────┤\n",
              "│ batch_normalization_1           │ (\u001b[38;5;45mNone\u001b[0m, \u001b[38;5;34m68\u001b[0m, \u001b[38;5;34m128\u001b[0m)        │           \u001b[38;5;34m512\u001b[0m │\n",
              "│ (\u001b[38;5;33mBatchNormalization\u001b[0m)            │                        │               │\n",
              "├─────────────────────────────────┼────────────────────────┼───────────────┤\n",
              "│ max_pooling1d_1 (\u001b[38;5;33mMaxPooling1D\u001b[0m)  │ (\u001b[38;5;45mNone\u001b[0m, \u001b[38;5;34m34\u001b[0m, \u001b[38;5;34m128\u001b[0m)        │             \u001b[38;5;34m0\u001b[0m │\n",
              "├─────────────────────────────────┼────────────────────────┼───────────────┤\n",
              "│ dropout (\u001b[38;5;33mDropout\u001b[0m)               │ (\u001b[38;5;45mNone\u001b[0m, \u001b[38;5;34m34\u001b[0m, \u001b[38;5;34m128\u001b[0m)        │             \u001b[38;5;34m0\u001b[0m │\n",
              "├─────────────────────────────────┼────────────────────────┼───────────────┤\n",
              "│ conv1d_2 (\u001b[38;5;33mConv1D\u001b[0m)               │ (\u001b[38;5;45mNone\u001b[0m, \u001b[38;5;34m34\u001b[0m, \u001b[38;5;34m64\u001b[0m)         │        \u001b[38;5;34m24,640\u001b[0m │\n",
              "├─────────────────────────────────┼────────────────────────┼───────────────┤\n",
              "│ batch_normalization_2           │ (\u001b[38;5;45mNone\u001b[0m, \u001b[38;5;34m34\u001b[0m, \u001b[38;5;34m64\u001b[0m)         │           \u001b[38;5;34m256\u001b[0m │\n",
              "│ (\u001b[38;5;33mBatchNormalization\u001b[0m)            │                        │               │\n",
              "├─────────────────────────────────┼────────────────────────┼───────────────┤\n",
              "│ max_pooling1d_2 (\u001b[38;5;33mMaxPooling1D\u001b[0m)  │ (\u001b[38;5;45mNone\u001b[0m, \u001b[38;5;34m17\u001b[0m, \u001b[38;5;34m64\u001b[0m)         │             \u001b[38;5;34m0\u001b[0m │\n",
              "├─────────────────────────────────┼────────────────────────┼───────────────┤\n",
              "│ lstm (\u001b[38;5;33mLSTM\u001b[0m)                     │ (\u001b[38;5;45mNone\u001b[0m, \u001b[38;5;34m64\u001b[0m)             │        \u001b[38;5;34m33,024\u001b[0m │\n",
              "├─────────────────────────────────┼────────────────────────┼───────────────┤\n",
              "│ dropout_1 (\u001b[38;5;33mDropout\u001b[0m)             │ (\u001b[38;5;45mNone\u001b[0m, \u001b[38;5;34m64\u001b[0m)             │             \u001b[38;5;34m0\u001b[0m │\n",
              "├─────────────────────────────────┼────────────────────────┼───────────────┤\n",
              "│ dense (\u001b[38;5;33mDense\u001b[0m)                   │ (\u001b[38;5;45mNone\u001b[0m, \u001b[38;5;34m64\u001b[0m)             │         \u001b[38;5;34m4,160\u001b[0m │\n",
              "├─────────────────────────────────┼────────────────────────┼───────────────┤\n",
              "│ batch_normalization_3           │ (\u001b[38;5;45mNone\u001b[0m, \u001b[38;5;34m64\u001b[0m)             │           \u001b[38;5;34m256\u001b[0m │\n",
              "│ (\u001b[38;5;33mBatchNormalization\u001b[0m)            │                        │               │\n",
              "├─────────────────────────────────┼────────────────────────┼───────────────┤\n",
              "│ dense_1 (\u001b[38;5;33mDense\u001b[0m)                 │ (\u001b[38;5;45mNone\u001b[0m, \u001b[38;5;34m6\u001b[0m)              │           \u001b[38;5;34m390\u001b[0m │\n",
              "└─────────────────────────────────┴────────────────────────┴───────────────┘\n"
            ],
            "text/html": [
              "<pre style=\"white-space:pre;overflow-x:auto;line-height:normal;font-family:Menlo,'DejaVu Sans Mono',consolas,'Courier New',monospace\">┏━━━━━━━━━━━━━━━━━━━━━━━━━━━━━━━━━┳━━━━━━━━━━━━━━━━━━━━━━━━┳━━━━━━━━━━━━━━━┓\n",
              "┃<span style=\"font-weight: bold\"> Layer (type)                    </span>┃<span style=\"font-weight: bold\"> Output Shape           </span>┃<span style=\"font-weight: bold\">       Param # </span>┃\n",
              "┡━━━━━━━━━━━━━━━━━━━━━━━━━━━━━━━━━╇━━━━━━━━━━━━━━━━━━━━━━━━╇━━━━━━━━━━━━━━━┩\n",
              "│ conv1d (<span style=\"color: #0087ff; text-decoration-color: #0087ff\">Conv1D</span>)                 │ (<span style=\"color: #00d7ff; text-decoration-color: #00d7ff\">None</span>, <span style=\"color: #00af00; text-decoration-color: #00af00\">135</span>, <span style=\"color: #00af00; text-decoration-color: #00af00\">256</span>)       │        <span style=\"color: #00af00; text-decoration-color: #00af00\">51,456</span> │\n",
              "├─────────────────────────────────┼────────────────────────┼───────────────┤\n",
              "│ batch_normalization             │ (<span style=\"color: #00d7ff; text-decoration-color: #00d7ff\">None</span>, <span style=\"color: #00af00; text-decoration-color: #00af00\">135</span>, <span style=\"color: #00af00; text-decoration-color: #00af00\">256</span>)       │         <span style=\"color: #00af00; text-decoration-color: #00af00\">1,024</span> │\n",
              "│ (<span style=\"color: #0087ff; text-decoration-color: #0087ff\">BatchNormalization</span>)            │                        │               │\n",
              "├─────────────────────────────────┼────────────────────────┼───────────────┤\n",
              "│ max_pooling1d (<span style=\"color: #0087ff; text-decoration-color: #0087ff\">MaxPooling1D</span>)    │ (<span style=\"color: #00d7ff; text-decoration-color: #00d7ff\">None</span>, <span style=\"color: #00af00; text-decoration-color: #00af00\">68</span>, <span style=\"color: #00af00; text-decoration-color: #00af00\">256</span>)        │             <span style=\"color: #00af00; text-decoration-color: #00af00\">0</span> │\n",
              "├─────────────────────────────────┼────────────────────────┼───────────────┤\n",
              "│ conv1d_1 (<span style=\"color: #0087ff; text-decoration-color: #0087ff\">Conv1D</span>)               │ (<span style=\"color: #00d7ff; text-decoration-color: #00d7ff\">None</span>, <span style=\"color: #00af00; text-decoration-color: #00af00\">68</span>, <span style=\"color: #00af00; text-decoration-color: #00af00\">128</span>)        │       <span style=\"color: #00af00; text-decoration-color: #00af00\">163,968</span> │\n",
              "├─────────────────────────────────┼────────────────────────┼───────────────┤\n",
              "│ batch_normalization_1           │ (<span style=\"color: #00d7ff; text-decoration-color: #00d7ff\">None</span>, <span style=\"color: #00af00; text-decoration-color: #00af00\">68</span>, <span style=\"color: #00af00; text-decoration-color: #00af00\">128</span>)        │           <span style=\"color: #00af00; text-decoration-color: #00af00\">512</span> │\n",
              "│ (<span style=\"color: #0087ff; text-decoration-color: #0087ff\">BatchNormalization</span>)            │                        │               │\n",
              "├─────────────────────────────────┼────────────────────────┼───────────────┤\n",
              "│ max_pooling1d_1 (<span style=\"color: #0087ff; text-decoration-color: #0087ff\">MaxPooling1D</span>)  │ (<span style=\"color: #00d7ff; text-decoration-color: #00d7ff\">None</span>, <span style=\"color: #00af00; text-decoration-color: #00af00\">34</span>, <span style=\"color: #00af00; text-decoration-color: #00af00\">128</span>)        │             <span style=\"color: #00af00; text-decoration-color: #00af00\">0</span> │\n",
              "├─────────────────────────────────┼────────────────────────┼───────────────┤\n",
              "│ dropout (<span style=\"color: #0087ff; text-decoration-color: #0087ff\">Dropout</span>)               │ (<span style=\"color: #00d7ff; text-decoration-color: #00d7ff\">None</span>, <span style=\"color: #00af00; text-decoration-color: #00af00\">34</span>, <span style=\"color: #00af00; text-decoration-color: #00af00\">128</span>)        │             <span style=\"color: #00af00; text-decoration-color: #00af00\">0</span> │\n",
              "├─────────────────────────────────┼────────────────────────┼───────────────┤\n",
              "│ conv1d_2 (<span style=\"color: #0087ff; text-decoration-color: #0087ff\">Conv1D</span>)               │ (<span style=\"color: #00d7ff; text-decoration-color: #00d7ff\">None</span>, <span style=\"color: #00af00; text-decoration-color: #00af00\">34</span>, <span style=\"color: #00af00; text-decoration-color: #00af00\">64</span>)         │        <span style=\"color: #00af00; text-decoration-color: #00af00\">24,640</span> │\n",
              "├─────────────────────────────────┼────────────────────────┼───────────────┤\n",
              "│ batch_normalization_2           │ (<span style=\"color: #00d7ff; text-decoration-color: #00d7ff\">None</span>, <span style=\"color: #00af00; text-decoration-color: #00af00\">34</span>, <span style=\"color: #00af00; text-decoration-color: #00af00\">64</span>)         │           <span style=\"color: #00af00; text-decoration-color: #00af00\">256</span> │\n",
              "│ (<span style=\"color: #0087ff; text-decoration-color: #0087ff\">BatchNormalization</span>)            │                        │               │\n",
              "├─────────────────────────────────┼────────────────────────┼───────────────┤\n",
              "│ max_pooling1d_2 (<span style=\"color: #0087ff; text-decoration-color: #0087ff\">MaxPooling1D</span>)  │ (<span style=\"color: #00d7ff; text-decoration-color: #00d7ff\">None</span>, <span style=\"color: #00af00; text-decoration-color: #00af00\">17</span>, <span style=\"color: #00af00; text-decoration-color: #00af00\">64</span>)         │             <span style=\"color: #00af00; text-decoration-color: #00af00\">0</span> │\n",
              "├─────────────────────────────────┼────────────────────────┼───────────────┤\n",
              "│ lstm (<span style=\"color: #0087ff; text-decoration-color: #0087ff\">LSTM</span>)                     │ (<span style=\"color: #00d7ff; text-decoration-color: #00d7ff\">None</span>, <span style=\"color: #00af00; text-decoration-color: #00af00\">64</span>)             │        <span style=\"color: #00af00; text-decoration-color: #00af00\">33,024</span> │\n",
              "├─────────────────────────────────┼────────────────────────┼───────────────┤\n",
              "│ dropout_1 (<span style=\"color: #0087ff; text-decoration-color: #0087ff\">Dropout</span>)             │ (<span style=\"color: #00d7ff; text-decoration-color: #00d7ff\">None</span>, <span style=\"color: #00af00; text-decoration-color: #00af00\">64</span>)             │             <span style=\"color: #00af00; text-decoration-color: #00af00\">0</span> │\n",
              "├─────────────────────────────────┼────────────────────────┼───────────────┤\n",
              "│ dense (<span style=\"color: #0087ff; text-decoration-color: #0087ff\">Dense</span>)                   │ (<span style=\"color: #00d7ff; text-decoration-color: #00d7ff\">None</span>, <span style=\"color: #00af00; text-decoration-color: #00af00\">64</span>)             │         <span style=\"color: #00af00; text-decoration-color: #00af00\">4,160</span> │\n",
              "├─────────────────────────────────┼────────────────────────┼───────────────┤\n",
              "│ batch_normalization_3           │ (<span style=\"color: #00d7ff; text-decoration-color: #00d7ff\">None</span>, <span style=\"color: #00af00; text-decoration-color: #00af00\">64</span>)             │           <span style=\"color: #00af00; text-decoration-color: #00af00\">256</span> │\n",
              "│ (<span style=\"color: #0087ff; text-decoration-color: #0087ff\">BatchNormalization</span>)            │                        │               │\n",
              "├─────────────────────────────────┼────────────────────────┼───────────────┤\n",
              "│ dense_1 (<span style=\"color: #0087ff; text-decoration-color: #0087ff\">Dense</span>)                 │ (<span style=\"color: #00d7ff; text-decoration-color: #00d7ff\">None</span>, <span style=\"color: #00af00; text-decoration-color: #00af00\">6</span>)              │           <span style=\"color: #00af00; text-decoration-color: #00af00\">390</span> │\n",
              "└─────────────────────────────────┴────────────────────────┴───────────────┘\n",
              "</pre>\n"
            ]
          },
          "metadata": {}
        },
        {
          "output_type": "display_data",
          "data": {
            "text/plain": [
              "\u001b[1m Total params: \u001b[0m\u001b[38;5;34m279,686\u001b[0m (1.07 MB)\n"
            ],
            "text/html": [
              "<pre style=\"white-space:pre;overflow-x:auto;line-height:normal;font-family:Menlo,'DejaVu Sans Mono',consolas,'Courier New',monospace\"><span style=\"font-weight: bold\"> Total params: </span><span style=\"color: #00af00; text-decoration-color: #00af00\">279,686</span> (1.07 MB)\n",
              "</pre>\n"
            ]
          },
          "metadata": {}
        },
        {
          "output_type": "display_data",
          "data": {
            "text/plain": [
              "\u001b[1m Trainable params: \u001b[0m\u001b[38;5;34m278,662\u001b[0m (1.06 MB)\n"
            ],
            "text/html": [
              "<pre style=\"white-space:pre;overflow-x:auto;line-height:normal;font-family:Menlo,'DejaVu Sans Mono',consolas,'Courier New',monospace\"><span style=\"font-weight: bold\"> Trainable params: </span><span style=\"color: #00af00; text-decoration-color: #00af00\">278,662</span> (1.06 MB)\n",
              "</pre>\n"
            ]
          },
          "metadata": {}
        },
        {
          "output_type": "display_data",
          "data": {
            "text/plain": [
              "\u001b[1m Non-trainable params: \u001b[0m\u001b[38;5;34m1,024\u001b[0m (4.00 KB)\n"
            ],
            "text/html": [
              "<pre style=\"white-space:pre;overflow-x:auto;line-height:normal;font-family:Menlo,'DejaVu Sans Mono',consolas,'Courier New',monospace\"><span style=\"font-weight: bold\"> Non-trainable params: </span><span style=\"color: #00af00; text-decoration-color: #00af00\">1,024</span> (4.00 KB)\n",
              "</pre>\n"
            ]
          },
          "metadata": {}
        }
      ]
    },
    {
      "cell_type": "code",
      "source": [
        "# ==============================================================================\n",
        "# STEP 9: TRAIN THE MODEL (No changes here, just runs on new data/model)\n",
        "# ==============================================================================\n",
        "print(\"\\nStep 9: Training the model...\")\n",
        "\n",
        "# Callbacks\n",
        "early_stop = EarlyStopping(monitor='val_accuracy', mode='auto', patience=15, restore_best_weights=True)\n",
        "lr_reduction = ReduceLROnPlateau(monitor='val_accuracy', patience=5, verbose=1, factor=0.5, min_lr=0.00001)\n",
        "model_checkpoint = ModelCheckpoint('best_cnn_lstm_model.h5', monitor='val_accuracy', save_best_only=True)\n",
        "\n",
        "# Train the model\n",
        "history = model.fit(\n",
        "    x_train, y_train,\n",
        "    epochs=100, # EarlyStopping will find the best epoch\n",
        "    batch_size=64,\n",
        "    validation_data=(x_test, y_test),\n",
        "    callbacks=[early_stop, lr_reduction, model_checkpoint]\n",
        ")"
      ],
      "metadata": {
        "colab": {
          "base_uri": "https://localhost:8080/"
        },
        "id": "DJZCHEo5k1dM",
        "outputId": "7c95bd25-f43f-4f2f-b27a-bc6ad8beb19b"
      },
      "execution_count": 18,
      "outputs": [
        {
          "metadata": {
            "tags": null
          },
          "name": "stdout",
          "output_type": "stream",
          "text": [
            "\n",
            "Step 9: Training the model...\n",
            "Epoch 1/100\n",
            "\u001b[1m372/373\u001b[0m \u001b[32m━━━━━━━━━━━━━━━━━━━\u001b[0m\u001b[37m━\u001b[0m \u001b[1m0s\u001b[0m 293ms/step - accuracy: 0.2879 - loss: 1.7876"
          ]
        },
        {
          "metadata": {
            "tags": null
          },
          "name": "stderr",
          "output_type": "stream",
          "text": [
            "WARNING:absl:You are saving your model as an HDF5 file via `model.save()` or `keras.saving.save_model(model)`. This file format is considered legacy. We recommend using instead the native Keras format, e.g. `model.save('my_model.keras')` or `keras.saving.save_model(model, 'my_model.keras')`. \n"
          ]
        },
        {
          "metadata": {
            "tags": null
          },
          "name": "stdout",
          "output_type": "stream",
          "text": [
            "\u001b[1m373/373\u001b[0m \u001b[32m━━━━━━━━━━━━━━━━━━━━\u001b[0m\u001b[37m\u001b[0m \u001b[1m127s\u001b[0m 323ms/step - accuracy: 0.2882 - loss: 1.7867 - val_accuracy: 0.4449 - val_loss: 1.3944 - learning_rate: 0.0010\n",
            "Epoch 2/100\n",
            "\u001b[1m373/373\u001b[0m \u001b[32m━━━━━━━━━━━━━━━━━━━━\u001b[0m\u001b[37m\u001b[0m \u001b[1m0s\u001b[0m 289ms/step - accuracy: 0.4442 - loss: 1.3997"
          ]
        },
        {
          "metadata": {
            "tags": null
          },
          "name": "stderr",
          "output_type": "stream",
          "text": [
            "WARNING:absl:You are saving your model as an HDF5 file via `model.save()` or `keras.saving.save_model(model)`. This file format is considered legacy. We recommend using instead the native Keras format, e.g. `model.save('my_model.keras')` or `keras.saving.save_model(model, 'my_model.keras')`. \n"
          ]
        },
        {
          "metadata": {
            "tags": null
          },
          "name": "stdout",
          "output_type": "stream",
          "text": [
            "\u001b[1m373/373\u001b[0m \u001b[32m━━━━━━━━━━━━━━━━━━━━\u001b[0m\u001b[37m\u001b[0m \u001b[1m139s\u001b[0m 317ms/step - accuracy: 0.4442 - loss: 1.3996 - val_accuracy: 0.5099 - val_loss: 1.2511 - learning_rate: 0.0010\n",
            "Epoch 3/100\n",
            "\u001b[1m372/373\u001b[0m \u001b[32m━━━━━━━━━━━━━━━━━━━\u001b[0m\u001b[37m━\u001b[0m \u001b[1m0s\u001b[0m 295ms/step - accuracy: 0.5162 - loss: 1.2507"
          ]
        },
        {
          "metadata": {
            "tags": null
          },
          "name": "stderr",
          "output_type": "stream",
          "text": [
            "WARNING:absl:You are saving your model as an HDF5 file via `model.save()` or `keras.saving.save_model(model)`. This file format is considered legacy. We recommend using instead the native Keras format, e.g. `model.save('my_model.keras')` or `keras.saving.save_model(model, 'my_model.keras')`. \n"
          ]
        },
        {
          "metadata": {
            "tags": null
          },
          "name": "stdout",
          "output_type": "stream",
          "text": [
            "\u001b[1m373/373\u001b[0m \u001b[32m━━━━━━━━━━━━━━━━━━━━\u001b[0m\u001b[37m\u001b[0m \u001b[1m144s\u001b[0m 322ms/step - accuracy: 0.5163 - loss: 1.2506 - val_accuracy: 0.5507 - val_loss: 1.1500 - learning_rate: 0.0010\n",
            "Epoch 4/100\n",
            "\u001b[1m372/373\u001b[0m \u001b[32m━━━━━━━━━━━━━━━━━━━\u001b[0m\u001b[37m━\u001b[0m \u001b[1m0s\u001b[0m 306ms/step - accuracy: 0.5690 - loss: 1.1428"
          ]
        },
        {
          "metadata": {
            "tags": null
          },
          "name": "stderr",
          "output_type": "stream",
          "text": [
            "WARNING:absl:You are saving your model as an HDF5 file via `model.save()` or `keras.saving.save_model(model)`. This file format is considered legacy. We recommend using instead the native Keras format, e.g. `model.save('my_model.keras')` or `keras.saving.save_model(model, 'my_model.keras')`. \n"
          ]
        },
        {
          "metadata": {
            "tags": null
          },
          "name": "stdout",
          "output_type": "stream",
          "text": [
            "\u001b[1m373/373\u001b[0m \u001b[32m━━━━━━━━━━━━━━━━━━━━\u001b[0m\u001b[37m\u001b[0m \u001b[1m146s\u001b[0m 333ms/step - accuracy: 0.5690 - loss: 1.1427 - val_accuracy: 0.5663 - val_loss: 1.1093 - learning_rate: 0.0010\n",
            "Epoch 5/100\n",
            "\u001b[1m372/373\u001b[0m \u001b[32m━━━━━━━━━━━━━━━━━━━\u001b[0m\u001b[37m━\u001b[0m \u001b[1m0s\u001b[0m 295ms/step - accuracy: 0.6159 - loss: 1.0423"
          ]
        },
        {
          "metadata": {
            "tags": null
          },
          "name": "stderr",
          "output_type": "stream",
          "text": [
            "WARNING:absl:You are saving your model as an HDF5 file via `model.save()` or `keras.saving.save_model(model)`. This file format is considered legacy. We recommend using instead the native Keras format, e.g. `model.save('my_model.keras')` or `keras.saving.save_model(model, 'my_model.keras')`. \n"
          ]
        },
        {
          "metadata": {
            "tags": null
          },
          "name": "stdout",
          "output_type": "stream",
          "text": [
            "\u001b[1m373/373\u001b[0m \u001b[32m━━━━━━━━━━━━━━━━━━━━\u001b[0m\u001b[37m\u001b[0m \u001b[1m138s\u001b[0m 323ms/step - accuracy: 0.6160 - loss: 1.0422 - val_accuracy: 0.6083 - val_loss: 1.0191 - learning_rate: 0.0010\n",
            "Epoch 6/100\n",
            "\u001b[1m372/373\u001b[0m \u001b[32m━━━━━━━━━━━━━━━━━━━\u001b[0m\u001b[37m━\u001b[0m \u001b[1m0s\u001b[0m 289ms/step - accuracy: 0.6564 - loss: 0.9351"
          ]
        },
        {
          "metadata": {
            "tags": null
          },
          "name": "stderr",
          "output_type": "stream",
          "text": [
            "WARNING:absl:You are saving your model as an HDF5 file via `model.save()` or `keras.saving.save_model(model)`. This file format is considered legacy. We recommend using instead the native Keras format, e.g. `model.save('my_model.keras')` or `keras.saving.save_model(model, 'my_model.keras')`. \n"
          ]
        },
        {
          "metadata": {
            "tags": null
          },
          "name": "stdout",
          "output_type": "stream",
          "text": [
            "\u001b[1m373/373\u001b[0m \u001b[32m━━━━━━━━━━━━━━━━━━━━\u001b[0m\u001b[37m\u001b[0m \u001b[1m118s\u001b[0m 316ms/step - accuracy: 0.6564 - loss: 0.9351 - val_accuracy: 0.6407 - val_loss: 0.9524 - learning_rate: 0.0010\n",
            "Epoch 7/100\n",
            "\u001b[1m372/373\u001b[0m \u001b[32m━━━━━━━━━━━━━━━━━━━\u001b[0m\u001b[37m━\u001b[0m \u001b[1m0s\u001b[0m 297ms/step - accuracy: 0.6716 - loss: 0.8986"
          ]
        },
        {
          "metadata": {
            "tags": null
          },
          "name": "stderr",
          "output_type": "stream",
          "text": [
            "WARNING:absl:You are saving your model as an HDF5 file via `model.save()` or `keras.saving.save_model(model)`. This file format is considered legacy. We recommend using instead the native Keras format, e.g. `model.save('my_model.keras')` or `keras.saving.save_model(model, 'my_model.keras')`. \n"
          ]
        },
        {
          "metadata": {
            "tags": null
          },
          "name": "stdout",
          "output_type": "stream",
          "text": [
            "\u001b[1m373/373\u001b[0m \u001b[32m━━━━━━━━━━━━━━━━━━━━\u001b[0m\u001b[37m\u001b[0m \u001b[1m145s\u001b[0m 325ms/step - accuracy: 0.6717 - loss: 0.8985 - val_accuracy: 0.6611 - val_loss: 0.9138 - learning_rate: 0.0010\n",
            "Epoch 8/100\n",
            "\u001b[1m373/373\u001b[0m \u001b[32m━━━━━━━━━━━━━━━━━━━━\u001b[0m\u001b[37m\u001b[0m \u001b[1m0s\u001b[0m 298ms/step - accuracy: 0.7192 - loss: 0.7813"
          ]
        },
        {
          "metadata": {
            "tags": null
          },
          "name": "stderr",
          "output_type": "stream",
          "text": [
            "WARNING:absl:You are saving your model as an HDF5 file via `model.save()` or `keras.saving.save_model(model)`. This file format is considered legacy. We recommend using instead the native Keras format, e.g. `model.save('my_model.keras')` or `keras.saving.save_model(model, 'my_model.keras')`. \n"
          ]
        },
        {
          "metadata": {
            "tags": null
          },
          "name": "stdout",
          "output_type": "stream",
          "text": [
            "\u001b[1m373/373\u001b[0m \u001b[32m━━━━━━━━━━━━━━━━━━━━\u001b[0m\u001b[37m\u001b[0m \u001b[1m121s\u001b[0m 326ms/step - accuracy: 0.7192 - loss: 0.7813 - val_accuracy: 0.6693 - val_loss: 0.9058 - learning_rate: 0.0010\n",
            "Epoch 9/100\n",
            "\u001b[1m372/373\u001b[0m \u001b[32m━━━━━━━━━━━━━━━━━━━\u001b[0m\u001b[37m━\u001b[0m \u001b[1m0s\u001b[0m 299ms/step - accuracy: 0.7467 - loss: 0.7151"
          ]
        },
        {
          "metadata": {
            "tags": null
          },
          "name": "stderr",
          "output_type": "stream",
          "text": [
            "WARNING:absl:You are saving your model as an HDF5 file via `model.save()` or `keras.saving.save_model(model)`. This file format is considered legacy. We recommend using instead the native Keras format, e.g. `model.save('my_model.keras')` or `keras.saving.save_model(model, 'my_model.keras')`. \n"
          ]
        },
        {
          "metadata": {
            "tags": null
          },
          "name": "stdout",
          "output_type": "stream",
          "text": [
            "\u001b[1m373/373\u001b[0m \u001b[32m━━━━━━━━━━━━━━━━━━━━\u001b[0m\u001b[37m\u001b[0m \u001b[1m122s\u001b[0m 326ms/step - accuracy: 0.7467 - loss: 0.7151 - val_accuracy: 0.6723 - val_loss: 0.8945 - learning_rate: 0.0010\n",
            "Epoch 10/100\n",
            "\u001b[1m372/373\u001b[0m \u001b[32m━━━━━━━━━━━━━━━━━━━\u001b[0m\u001b[37m━\u001b[0m \u001b[1m0s\u001b[0m 299ms/step - accuracy: 0.7471 - loss: 0.7100"
          ]
        },
        {
          "metadata": {
            "tags": null
          },
          "name": "stderr",
          "output_type": "stream",
          "text": [
            "WARNING:absl:You are saving your model as an HDF5 file via `model.save()` or `keras.saving.save_model(model)`. This file format is considered legacy. We recommend using instead the native Keras format, e.g. `model.save('my_model.keras')` or `keras.saving.save_model(model, 'my_model.keras')`. \n"
          ]
        },
        {
          "metadata": {
            "tags": null
          },
          "name": "stdout",
          "output_type": "stream",
          "text": [
            "\u001b[1m373/373\u001b[0m \u001b[32m━━━━━━━━━━━━━━━━━━━━\u001b[0m\u001b[37m\u001b[0m \u001b[1m122s\u001b[0m 326ms/step - accuracy: 0.7472 - loss: 0.7098 - val_accuracy: 0.7366 - val_loss: 0.7255 - learning_rate: 0.0010\n",
            "Epoch 11/100\n",
            "\u001b[1m373/373\u001b[0m \u001b[32m━━━━━━━━━━━━━━━━━━━━\u001b[0m\u001b[37m\u001b[0m \u001b[1m139s\u001b[0m 319ms/step - accuracy: 0.7843 - loss: 0.6028 - val_accuracy: 0.6863 - val_loss: 0.8659 - learning_rate: 0.0010\n",
            "Epoch 12/100\n",
            "\u001b[1m372/373\u001b[0m \u001b[32m━━━━━━━━━━━━━━━━━━━\u001b[0m\u001b[37m━\u001b[0m \u001b[1m0s\u001b[0m 286ms/step - accuracy: 0.7868 - loss: 0.6021"
          ]
        },
        {
          "metadata": {
            "tags": null
          },
          "name": "stderr",
          "output_type": "stream",
          "text": [
            "WARNING:absl:You are saving your model as an HDF5 file via `model.save()` or `keras.saving.save_model(model)`. This file format is considered legacy. We recommend using instead the native Keras format, e.g. `model.save('my_model.keras')` or `keras.saving.save_model(model, 'my_model.keras')`. \n"
          ]
        },
        {
          "metadata": {
            "tags": null
          },
          "name": "stdout",
          "output_type": "stream",
          "text": [
            "\u001b[1m373/373\u001b[0m \u001b[32m━━━━━━━━━━━━━━━━━━━━\u001b[0m\u001b[37m\u001b[0m \u001b[1m117s\u001b[0m 313ms/step - accuracy: 0.7869 - loss: 0.6019 - val_accuracy: 0.7501 - val_loss: 0.7027 - learning_rate: 0.0010\n",
            "Epoch 13/100\n",
            "\u001b[1m372/373\u001b[0m \u001b[32m━━━━━━━━━━━━━━━━━━━\u001b[0m\u001b[37m━\u001b[0m \u001b[1m0s\u001b[0m 284ms/step - accuracy: 0.8230 - loss: 0.4997"
          ]
        },
        {
          "metadata": {
            "tags": null
          },
          "name": "stderr",
          "output_type": "stream",
          "text": [
            "WARNING:absl:You are saving your model as an HDF5 file via `model.save()` or `keras.saving.save_model(model)`. This file format is considered legacy. We recommend using instead the native Keras format, e.g. `model.save('my_model.keras')` or `keras.saving.save_model(model, 'my_model.keras')`. \n"
          ]
        },
        {
          "metadata": {
            "tags": null
          },
          "name": "stdout",
          "output_type": "stream",
          "text": [
            "\u001b[1m373/373\u001b[0m \u001b[32m━━━━━━━━━━━━━━━━━━━━\u001b[0m\u001b[37m\u001b[0m \u001b[1m138s\u001b[0m 303ms/step - accuracy: 0.8230 - loss: 0.4998 - val_accuracy: 0.7659 - val_loss: 0.6597 - learning_rate: 0.0010\n",
            "Epoch 14/100\n",
            "\u001b[1m373/373\u001b[0m \u001b[32m━━━━━━━━━━━━━━━━━━━━\u001b[0m\u001b[37m\u001b[0m \u001b[1m114s\u001b[0m 305ms/step - accuracy: 0.8377 - loss: 0.4701 - val_accuracy: 0.7474 - val_loss: 0.7480 - learning_rate: 0.0010\n",
            "Epoch 15/100\n",
            "\u001b[1m372/373\u001b[0m \u001b[32m━━━━━━━━━━━━━━━━━━━\u001b[0m\u001b[37m━\u001b[0m \u001b[1m0s\u001b[0m 281ms/step - accuracy: 0.8501 - loss: 0.4336"
          ]
        },
        {
          "metadata": {
            "tags": null
          },
          "name": "stderr",
          "output_type": "stream",
          "text": [
            "WARNING:absl:You are saving your model as an HDF5 file via `model.save()` or `keras.saving.save_model(model)`. This file format is considered legacy. We recommend using instead the native Keras format, e.g. `model.save('my_model.keras')` or `keras.saving.save_model(model, 'my_model.keras')`. \n"
          ]
        },
        {
          "output_type": "stream",
          "name": "stdout",
          "text": [
            "\u001b[1m373/373\u001b[0m \u001b[32m━━━━━━━━━━━━━━━━━━━━\u001b[0m\u001b[37m\u001b[0m \u001b[1m143s\u001b[0m 308ms/step - accuracy: 0.8501 - loss: 0.4336 - val_accuracy: 0.7855 - val_loss: 0.6389 - learning_rate: 0.0010\n",
            "Epoch 16/100\n",
            "\u001b[1m373/373\u001b[0m \u001b[32m━━━━━━━━━━━━━━━━━━━━\u001b[0m\u001b[37m\u001b[0m \u001b[1m142s\u001b[0m 309ms/step - accuracy: 0.8572 - loss: 0.3990 - val_accuracy: 0.7800 - val_loss: 0.6490 - learning_rate: 0.0010\n",
            "Epoch 17/100\n",
            "\u001b[1m373/373\u001b[0m \u001b[32m━━━━━━━━━━━━━━━━━━━━\u001b[0m\u001b[37m\u001b[0m \u001b[1m120s\u001b[0m 321ms/step - accuracy: 0.8621 - loss: 0.3902 - val_accuracy: 0.7751 - val_loss: 0.6948 - learning_rate: 0.0010\n",
            "Epoch 18/100\n",
            "\u001b[1m373/373\u001b[0m \u001b[32m━━━━━━━━━━━━━━━━━━━━\u001b[0m\u001b[37m\u001b[0m \u001b[1m142s\u001b[0m 322ms/step - accuracy: 0.8789 - loss: 0.3469 - val_accuracy: 0.7603 - val_loss: 0.7482 - learning_rate: 0.0010\n",
            "Epoch 19/100\n",
            "\u001b[1m373/373\u001b[0m \u001b[32m━━━━━━━━━━━━━━━━━━━━\u001b[0m\u001b[37m\u001b[0m \u001b[1m0s\u001b[0m 300ms/step - accuracy: 0.8908 - loss: 0.3140"
          ]
        },
        {
          "output_type": "stream",
          "name": "stderr",
          "text": [
            "WARNING:absl:You are saving your model as an HDF5 file via `model.save()` or `keras.saving.save_model(model)`. This file format is considered legacy. We recommend using instead the native Keras format, e.g. `model.save('my_model.keras')` or `keras.saving.save_model(model, 'my_model.keras')`. \n"
          ]
        },
        {
          "output_type": "stream",
          "name": "stdout",
          "text": [
            "\b\b\b\b\b\b\b\b\b\b\b\b\b\b\b\b\b\b\b\b\b\b\b\b\b\b\b\b\b\b\b\b\b\b\b\b\b\b\b\b\b\b\b\b\b\b\b\b\b\b\b\b\b\b\b\b\b\b\b\b\b\b\b\b\b\b\b\b\b\b\b\b\b\b\b\b\r\u001b[1m373/373\u001b[0m \u001b[32m━━━━━━━━━━━━━━━━━━━━\u001b[0m\u001b[37m\u001b[0m \u001b[1m144s\u001b[0m 328ms/step - accuracy: 0.8908 - loss: 0.3140 - val_accuracy: 0.8109 - val_loss: 0.5668 - learning_rate: 0.0010\n",
            "Epoch 20/100\n",
            "\u001b[1m373/373\u001b[0m \u001b[32m━━━━━━━━━━━━━━━━━━━━\u001b[0m\u001b[37m\u001b[0m \u001b[1m120s\u001b[0m 323ms/step - accuracy: 0.8919 - loss: 0.3215 - val_accuracy: 0.7859 - val_loss: 0.6830 - learning_rate: 0.0010\n",
            "Epoch 21/100\n",
            "\u001b[1m373/373\u001b[0m \u001b[32m━━━━━━━━━━━━━━━━━━━━\u001b[0m\u001b[37m\u001b[0m \u001b[1m139s\u001b[0m 315ms/step - accuracy: 0.9020 - loss: 0.2898 - val_accuracy: 0.7944 - val_loss: 0.6183 - learning_rate: 0.0010\n",
            "Epoch 22/100\n",
            "\u001b[1m373/373\u001b[0m \u001b[32m━━━━━━━━━━━━━━━━━━━━\u001b[0m\u001b[37m\u001b[0m \u001b[1m136s\u001b[0m 299ms/step - accuracy: 0.9044 - loss: 0.2869 - val_accuracy: 0.8027 - val_loss: 0.6196 - learning_rate: 0.0010\n",
            "Epoch 23/100\n",
            "\u001b[1m372/373\u001b[0m \u001b[32m━━━━━━━━━━━━━━━━━━━\u001b[0m\u001b[37m━\u001b[0m \u001b[1m0s\u001b[0m 285ms/step - accuracy: 0.9092 - loss: 0.2671"
          ]
        },
        {
          "output_type": "stream",
          "name": "stderr",
          "text": [
            "WARNING:absl:You are saving your model as an HDF5 file via `model.save()` or `keras.saving.save_model(model)`. This file format is considered legacy. We recommend using instead the native Keras format, e.g. `model.save('my_model.keras')` or `keras.saving.save_model(model, 'my_model.keras')`. \n"
          ]
        },
        {
          "output_type": "stream",
          "name": "stdout",
          "text": [
            "\b\b\b\b\b\b\b\b\b\b\b\b\b\b\b\b\b\b\b\b\b\b\b\b\b\b\b\b\b\b\b\b\b\b\b\b\b\b\b\b\b\b\b\b\b\b\b\b\b\b\b\b\b\b\b\b\b\b\b\b\b\b\b\b\b\b\b\b\b\b\b\b\b\b\b\b\r\u001b[1m373/373\u001b[0m \u001b[32m━━━━━━━━━━━━━━━━━━━━\u001b[0m\u001b[37m\u001b[0m \u001b[1m113s\u001b[0m 304ms/step - accuracy: 0.9092 - loss: 0.2671 - val_accuracy: 0.8146 - val_loss: 0.5881 - learning_rate: 0.0010\n",
            "Epoch 24/100\n",
            "\u001b[1m373/373\u001b[0m \u001b[32m━━━━━━━━━━━━━━━━━━━━\u001b[0m\u001b[37m\u001b[0m \u001b[1m0s\u001b[0m 292ms/step - accuracy: 0.9126 - loss: 0.2576"
          ]
        },
        {
          "output_type": "stream",
          "name": "stderr",
          "text": [
            "WARNING:absl:You are saving your model as an HDF5 file via `model.save()` or `keras.saving.save_model(model)`. This file format is considered legacy. We recommend using instead the native Keras format, e.g. `model.save('my_model.keras')` or `keras.saving.save_model(model, 'my_model.keras')`. \n"
          ]
        },
        {
          "output_type": "stream",
          "name": "stdout",
          "text": [
            "\b\b\b\b\b\b\b\b\b\b\b\b\b\b\b\b\b\b\b\b\b\b\b\b\b\b\b\b\b\b\b\b\b\b\b\b\b\b\b\b\b\b\b\b\b\b\b\b\b\b\b\b\b\b\b\b\b\b\b\b\b\b\b\b\b\b\b\b\b\b\b\b\b\b\b\b\r\u001b[1m373/373\u001b[0m \u001b[32m━━━━━━━━━━━━━━━━━━━━\u001b[0m\u001b[37m\u001b[0m \u001b[1m148s\u001b[0m 320ms/step - accuracy: 0.9126 - loss: 0.2576 - val_accuracy: 0.8198 - val_loss: 0.5613 - learning_rate: 0.0010\n",
            "Epoch 25/100\n",
            "\u001b[1m373/373\u001b[0m \u001b[32m━━━━━━━━━━━━━━━━━━━━\u001b[0m\u001b[37m\u001b[0m \u001b[1m140s\u001b[0m 316ms/step - accuracy: 0.9225 - loss: 0.2313 - val_accuracy: 0.8085 - val_loss: 0.6523 - learning_rate: 0.0010\n",
            "Epoch 26/100\n",
            "\u001b[1m373/373\u001b[0m \u001b[32m━━━━━━━━━━━━━━━━━━━━\u001b[0m\u001b[37m\u001b[0m \u001b[1m141s\u001b[0m 315ms/step - accuracy: 0.9238 - loss: 0.2305 - val_accuracy: 0.7936 - val_loss: 0.6705 - learning_rate: 0.0010\n",
            "Epoch 27/100\n",
            "\u001b[1m373/373\u001b[0m \u001b[32m━━━━━━━━━━━━━━━━━━━━\u001b[0m\u001b[37m\u001b[0m \u001b[1m141s\u001b[0m 313ms/step - accuracy: 0.9281 - loss: 0.2105 - val_accuracy: 0.7941 - val_loss: 0.6830 - learning_rate: 0.0010\n",
            "Epoch 28/100\n",
            "\u001b[1m372/373\u001b[0m \u001b[32m━━━━━━━━━━━━━━━━━━━\u001b[0m\u001b[37m━\u001b[0m \u001b[1m0s\u001b[0m 283ms/step - accuracy: 0.9097 - loss: 0.2579"
          ]
        },
        {
          "output_type": "stream",
          "name": "stderr",
          "text": [
            "WARNING:absl:You are saving your model as an HDF5 file via `model.save()` or `keras.saving.save_model(model)`. This file format is considered legacy. We recommend using instead the native Keras format, e.g. `model.save('my_model.keras')` or `keras.saving.save_model(model, 'my_model.keras')`. \n"
          ]
        },
        {
          "output_type": "stream",
          "name": "stdout",
          "text": [
            "\b\b\b\b\b\b\b\b\b\b\b\b\b\b\b\b\b\b\b\b\b\b\b\b\b\b\b\b\b\b\b\b\b\b\b\b\b\b\b\b\b\b\b\b\b\b\b\b\b\b\b\b\b\b\b\b\b\b\b\b\b\b\b\b\b\b\b\b\b\b\b\b\b\b\b\b\r\u001b[1m373/373\u001b[0m \u001b[32m━━━━━━━━━━━━━━━━━━━━\u001b[0m\u001b[37m\u001b[0m \u001b[1m141s\u001b[0m 310ms/step - accuracy: 0.9098 - loss: 0.2577 - val_accuracy: 0.8230 - val_loss: 0.5978 - learning_rate: 0.0010\n",
            "Epoch 29/100\n",
            "\u001b[1m373/373\u001b[0m \u001b[32m━━━━━━━━━━━━━━━━━━━━\u001b[0m\u001b[37m\u001b[0m \u001b[1m143s\u001b[0m 312ms/step - accuracy: 0.9354 - loss: 0.1915 - val_accuracy: 0.8030 - val_loss: 0.6658 - learning_rate: 0.0010\n",
            "Epoch 30/100\n",
            "\u001b[1m373/373\u001b[0m \u001b[32m━━━━━━━━━━━━━━━━━━━━\u001b[0m\u001b[37m\u001b[0m \u001b[1m0s\u001b[0m 285ms/step - accuracy: 0.9222 - loss: 0.2331"
          ]
        },
        {
          "output_type": "stream",
          "name": "stderr",
          "text": [
            "WARNING:absl:You are saving your model as an HDF5 file via `model.save()` or `keras.saving.save_model(model)`. This file format is considered legacy. We recommend using instead the native Keras format, e.g. `model.save('my_model.keras')` or `keras.saving.save_model(model, 'my_model.keras')`. \n"
          ]
        },
        {
          "output_type": "stream",
          "name": "stdout",
          "text": [
            "\b\b\b\b\b\b\b\b\b\b\b\b\b\b\b\b\b\b\b\b\b\b\b\b\b\b\b\b\b\b\b\b\b\b\b\b\b\b\b\b\b\b\b\b\b\b\b\b\b\b\b\b\b\b\b\b\b\b\b\b\b\b\b\b\b\b\b\b\b\b\b\b\b\b\b\b\r\u001b[1m373/373\u001b[0m \u001b[32m━━━━━━━━━━━━━━━━━━━━\u001b[0m\u001b[37m\u001b[0m \u001b[1m142s\u001b[0m 313ms/step - accuracy: 0.9222 - loss: 0.2330 - val_accuracy: 0.8331 - val_loss: 0.5424 - learning_rate: 0.0010\n",
            "Epoch 31/100\n",
            "\u001b[1m373/373\u001b[0m \u001b[32m━━━━━━━━━━━━━━━━━━━━\u001b[0m\u001b[37m\u001b[0m \u001b[1m0s\u001b[0m 285ms/step - accuracy: 0.9167 - loss: 0.2553"
          ]
        },
        {
          "output_type": "stream",
          "name": "stderr",
          "text": [
            "WARNING:absl:You are saving your model as an HDF5 file via `model.save()` or `keras.saving.save_model(model)`. This file format is considered legacy. We recommend using instead the native Keras format, e.g. `model.save('my_model.keras')` or `keras.saving.save_model(model, 'my_model.keras')`. \n"
          ]
        },
        {
          "output_type": "stream",
          "name": "stdout",
          "text": [
            "\b\b\b\b\b\b\b\b\b\b\b\b\b\b\b\b\b\b\b\b\b\b\b\b\b\b\b\b\b\b\b\b\b\b\b\b\b\b\b\b\b\b\b\b\b\b\b\b\b\b\b\b\b\b\b\b\b\b\b\b\b\b\b\b\b\b\b\b\b\b\b\b\b\b\b\b\r\u001b[1m373/373\u001b[0m \u001b[32m━━━━━━━━━━━━━━━━━━━━\u001b[0m\u001b[37m\u001b[0m \u001b[1m137s\u001b[0m 300ms/step - accuracy: 0.9168 - loss: 0.2552 - val_accuracy: 0.8352 - val_loss: 0.5730 - learning_rate: 0.0010\n",
            "Epoch 32/100\n",
            "\u001b[1m372/373\u001b[0m \u001b[32m━━━━━━━━━━━━━━━━━━━\u001b[0m\u001b[37m━\u001b[0m \u001b[1m0s\u001b[0m 280ms/step - accuracy: 0.9396 - loss: 0.1797"
          ]
        },
        {
          "output_type": "stream",
          "name": "stderr",
          "text": [
            "WARNING:absl:You are saving your model as an HDF5 file via `model.save()` or `keras.saving.save_model(model)`. This file format is considered legacy. We recommend using instead the native Keras format, e.g. `model.save('my_model.keras')` or `keras.saving.save_model(model, 'my_model.keras')`. \n"
          ]
        },
        {
          "output_type": "stream",
          "name": "stdout",
          "text": [
            "\b\b\b\b\b\b\b\b\b\b\b\b\b\b\b\b\b\b\b\b\b\b\b\b\b\b\b\b\b\b\b\b\b\b\b\b\b\b\b\b\b\b\b\b\b\b\b\b\b\b\b\b\b\b\b\b\b\b\b\b\b\b\b\b\b\b\b\b\b\b\b\b\b\b\b\b\r\u001b[1m373/373\u001b[0m \u001b[32m━━━━━━━━━━━━━━━━━━━━\u001b[0m\u001b[37m\u001b[0m \u001b[1m115s\u001b[0m 308ms/step - accuracy: 0.9396 - loss: 0.1797 - val_accuracy: 0.8364 - val_loss: 0.5308 - learning_rate: 0.0010\n",
            "Epoch 33/100\n",
            "\u001b[1m373/373\u001b[0m \u001b[32m━━━━━━━━━━━━━━━━━━━━\u001b[0m\u001b[37m\u001b[0m \u001b[1m141s\u001b[0m 304ms/step - accuracy: 0.9461 - loss: 0.1572 - val_accuracy: 0.8317 - val_loss: 0.5760 - learning_rate: 0.0010\n",
            "Epoch 34/100\n",
            "\u001b[1m373/373\u001b[0m \u001b[32m━━━━━━━━━━━━━━━━━━━━\u001b[0m\u001b[37m\u001b[0m \u001b[1m0s\u001b[0m 292ms/step - accuracy: 0.9172 - loss: 0.2403"
          ]
        },
        {
          "output_type": "stream",
          "name": "stderr",
          "text": [
            "WARNING:absl:You are saving your model as an HDF5 file via `model.save()` or `keras.saving.save_model(model)`. This file format is considered legacy. We recommend using instead the native Keras format, e.g. `model.save('my_model.keras')` or `keras.saving.save_model(model, 'my_model.keras')`. \n"
          ]
        },
        {
          "output_type": "stream",
          "name": "stdout",
          "text": [
            "\b\b\b\b\b\b\b\b\b\b\b\b\b\b\b\b\b\b\b\b\b\b\b\b\b\b\b\b\b\b\b\b\b\b\b\b\b\b\b\b\b\b\b\b\b\b\b\b\b\b\b\b\b\b\b\b\b\b\b\b\b\b\b\b\b\b\b\b\b\b\b\b\b\b\b\b\r\u001b[1m373/373\u001b[0m \u001b[32m━━━━━━━━━━━━━━━━━━━━\u001b[0m\u001b[37m\u001b[0m \u001b[1m148s\u001b[0m 320ms/step - accuracy: 0.9172 - loss: 0.2401 - val_accuracy: 0.8482 - val_loss: 0.5057 - learning_rate: 0.0010\n",
            "Epoch 35/100\n",
            "\u001b[1m373/373\u001b[0m \u001b[32m━━━━━━━━━━━━━━━━━━━━\u001b[0m\u001b[37m\u001b[0m \u001b[1m120s\u001b[0m 322ms/step - accuracy: 0.9452 - loss: 0.1609 - val_accuracy: 0.8357 - val_loss: 0.5729 - learning_rate: 0.0010\n",
            "Epoch 36/100\n",
            "\u001b[1m373/373\u001b[0m \u001b[32m━━━━━━━━━━━━━━━━━━━━\u001b[0m\u001b[37m\u001b[0m \u001b[1m138s\u001b[0m 311ms/step - accuracy: 0.9471 - loss: 0.1557 - val_accuracy: 0.8445 - val_loss: 0.5396 - learning_rate: 0.0010\n",
            "Epoch 37/100\n",
            "\u001b[1m373/373\u001b[0m \u001b[32m━━━━━━━━━━━━━━━━━━━━\u001b[0m\u001b[37m\u001b[0m \u001b[1m116s\u001b[0m 311ms/step - accuracy: 0.9448 - loss: 0.1712 - val_accuracy: 0.8294 - val_loss: 0.5866 - learning_rate: 0.0010\n",
            "Epoch 38/100\n",
            "\u001b[1m373/373\u001b[0m \u001b[32m━━━━━━━━━━━━━━━━━━━━\u001b[0m\u001b[37m\u001b[0m \u001b[1m0s\u001b[0m 284ms/step - accuracy: 0.9483 - loss: 0.1591"
          ]
        },
        {
          "output_type": "stream",
          "name": "stderr",
          "text": [
            "WARNING:absl:You are saving your model as an HDF5 file via `model.save()` or `keras.saving.save_model(model)`. This file format is considered legacy. We recommend using instead the native Keras format, e.g. `model.save('my_model.keras')` or `keras.saving.save_model(model, 'my_model.keras')`. \n"
          ]
        },
        {
          "output_type": "stream",
          "name": "stdout",
          "text": [
            "\b\b\b\b\b\b\b\b\b\b\b\b\b\b\b\b\b\b\b\b\b\b\b\b\b\b\b\b\b\b\b\b\b\b\b\b\b\b\b\b\b\b\b\b\b\b\b\b\b\b\b\b\b\b\b\b\b\b\b\b\b\b\b\b\b\b\b\b\b\b\b\b\b\b\b\b\r\u001b[1m373/373\u001b[0m \u001b[32m━━━━━━━━━━━━━━━━━━━━\u001b[0m\u001b[37m\u001b[0m \u001b[1m116s\u001b[0m 312ms/step - accuracy: 0.9483 - loss: 0.1590 - val_accuracy: 0.8493 - val_loss: 0.5409 - learning_rate: 0.0010\n",
            "Epoch 39/100\n",
            "\u001b[1m373/373\u001b[0m \u001b[32m━━━━━━━━━━━━━━━━━━━━\u001b[0m\u001b[37m\u001b[0m \u001b[1m138s\u001b[0m 300ms/step - accuracy: 0.9517 - loss: 0.1412 - val_accuracy: 0.8295 - val_loss: 0.5999 - learning_rate: 0.0010\n",
            "Epoch 40/100\n",
            "\u001b[1m373/373\u001b[0m \u001b[32m━━━━━━━━━━━━━━━━━━━━\u001b[0m\u001b[37m\u001b[0m \u001b[1m117s\u001b[0m 313ms/step - accuracy: 0.9511 - loss: 0.1491 - val_accuracy: 0.8309 - val_loss: 0.5690 - learning_rate: 0.0010\n",
            "Epoch 41/100\n",
            "\u001b[1m373/373\u001b[0m \u001b[32m━━━━━━━━━━━━━━━━━━━━\u001b[0m\u001b[37m\u001b[0m \u001b[1m147s\u001b[0m 326ms/step - accuracy: 0.9457 - loss: 0.1603 - val_accuracy: 0.8465 - val_loss: 0.5226 - learning_rate: 0.0010\n",
            "Epoch 42/100\n",
            "\u001b[1m372/373\u001b[0m \u001b[32m━━━━━━━━━━━━━━━━━━━\u001b[0m\u001b[37m━\u001b[0m \u001b[1m0s\u001b[0m 292ms/step - accuracy: 0.9527 - loss: 0.1473"
          ]
        },
        {
          "output_type": "stream",
          "name": "stderr",
          "text": [
            "WARNING:absl:You are saving your model as an HDF5 file via `model.save()` or `keras.saving.save_model(model)`. This file format is considered legacy. We recommend using instead the native Keras format, e.g. `model.save('my_model.keras')` or `keras.saving.save_model(model, 'my_model.keras')`. \n"
          ]
        },
        {
          "output_type": "stream",
          "name": "stdout",
          "text": [
            "\b\b\b\b\b\b\b\b\b\b\b\b\b\b\b\b\b\b\b\b\b\b\b\b\b\b\b\b\b\b\b\b\b\b\b\b\b\b\b\b\b\b\b\b\b\b\b\b\b\b\b\b\b\b\b\b\b\b\b\b\b\b\b\b\b\b\b\b\b\b\b\b\b\b\b\b\r\u001b[1m373/373\u001b[0m \u001b[32m━━━━━━━━━━━━━━━━━━━━\u001b[0m\u001b[37m\u001b[0m \u001b[1m119s\u001b[0m 319ms/step - accuracy: 0.9527 - loss: 0.1473 - val_accuracy: 0.8524 - val_loss: 0.5379 - learning_rate: 0.0010\n",
            "Epoch 43/100\n",
            "\u001b[1m373/373\u001b[0m \u001b[32m━━━━━━━━━━━━━━━━━━━━\u001b[0m\u001b[37m\u001b[0m \u001b[1m141s\u001b[0m 316ms/step - accuracy: 0.9499 - loss: 0.1465 - val_accuracy: 0.8433 - val_loss: 0.5335 - learning_rate: 0.0010\n",
            "Epoch 44/100\n",
            "\u001b[1m372/373\u001b[0m \u001b[32m━━━━━━━━━━━━━━━━━━━\u001b[0m\u001b[37m━\u001b[0m \u001b[1m0s\u001b[0m 286ms/step - accuracy: 0.9569 - loss: 0.1305"
          ]
        },
        {
          "output_type": "stream",
          "name": "stderr",
          "text": [
            "WARNING:absl:You are saving your model as an HDF5 file via `model.save()` or `keras.saving.save_model(model)`. This file format is considered legacy. We recommend using instead the native Keras format, e.g. `model.save('my_model.keras')` or `keras.saving.save_model(model, 'my_model.keras')`. \n"
          ]
        },
        {
          "output_type": "stream",
          "name": "stdout",
          "text": [
            "\b\b\b\b\b\b\b\b\b\b\b\b\b\b\b\b\b\b\b\b\b\b\b\b\b\b\b\b\b\b\b\b\b\b\b\b\b\b\b\b\b\b\b\b\b\b\b\b\b\b\b\b\b\b\b\b\b\b\b\b\b\b\b\b\b\b\b\b\b\b\b\b\b\b\b\b\r\u001b[1m373/373\u001b[0m \u001b[32m━━━━━━━━━━━━━━━━━━━━\u001b[0m\u001b[37m\u001b[0m \u001b[1m141s\u001b[0m 313ms/step - accuracy: 0.9569 - loss: 0.1305 - val_accuracy: 0.8624 - val_loss: 0.4683 - learning_rate: 0.0010\n",
            "Epoch 45/100\n",
            "\u001b[1m373/373\u001b[0m \u001b[32m━━━━━━━━━━━━━━━━━━━━\u001b[0m\u001b[37m\u001b[0m \u001b[1m140s\u001b[0m 308ms/step - accuracy: 0.9536 - loss: 0.1457 - val_accuracy: 0.8453 - val_loss: 0.5722 - learning_rate: 0.0010\n",
            "Epoch 46/100\n",
            "\u001b[1m373/373\u001b[0m \u001b[32m━━━━━━━━━━━━━━━━━━━━\u001b[0m\u001b[37m\u001b[0m \u001b[1m144s\u001b[0m 315ms/step - accuracy: 0.9498 - loss: 0.1532 - val_accuracy: 0.8576 - val_loss: 0.5189 - learning_rate: 0.0010\n",
            "Epoch 47/100\n",
            "\u001b[1m373/373\u001b[0m \u001b[32m━━━━━━━━━━━━━━━━━━━━\u001b[0m\u001b[37m\u001b[0m \u001b[1m121s\u001b[0m 324ms/step - accuracy: 0.9607 - loss: 0.1224 - val_accuracy: 0.8483 - val_loss: 0.5696 - learning_rate: 0.0010\n",
            "Epoch 48/100\n",
            "\u001b[1m373/373\u001b[0m \u001b[32m━━━━━━━━━━━━━━━━━━━━\u001b[0m\u001b[37m\u001b[0m \u001b[1m119s\u001b[0m 319ms/step - accuracy: 0.9639 - loss: 0.1134 - val_accuracy: 0.8413 - val_loss: 0.6138 - learning_rate: 0.0010\n",
            "Epoch 49/100\n",
            "\u001b[1m373/373\u001b[0m \u001b[32m━━━━━━━━━━━━━━━━━━━━\u001b[0m\u001b[37m\u001b[0m \u001b[1m0s\u001b[0m 287ms/step - accuracy: 0.9300 - loss: 0.2109"
          ]
        },
        {
          "output_type": "stream",
          "name": "stderr",
          "text": [
            "WARNING:absl:You are saving your model as an HDF5 file via `model.save()` or `keras.saving.save_model(model)`. This file format is considered legacy. We recommend using instead the native Keras format, e.g. `model.save('my_model.keras')` or `keras.saving.save_model(model, 'my_model.keras')`. \n"
          ]
        },
        {
          "output_type": "stream",
          "name": "stdout",
          "text": [
            "\b\b\b\b\b\b\b\b\b\b\b\b\b\b\b\b\b\b\b\b\b\b\b\b\b\b\b\b\b\b\b\b\b\b\b\b\b\b\b\b\b\b\b\b\b\b\b\b\b\b\b\b\b\b\b\b\b\b\b\b\b\b\b\b\b\b\b\b\b\b\b\b\b\b\b\b\r\u001b[1m373/373\u001b[0m \u001b[32m━━━━━━━━━━━━━━━━━━━━\u001b[0m\u001b[37m\u001b[0m \u001b[1m140s\u001b[0m 315ms/step - accuracy: 0.9301 - loss: 0.2108 - val_accuracy: 0.8658 - val_loss: 0.4983 - learning_rate: 0.0010\n",
            "Epoch 50/100\n",
            "\u001b[1m373/373\u001b[0m \u001b[32m━━━━━━━━━━━━━━━━━━━━\u001b[0m\u001b[37m\u001b[0m \u001b[1m119s\u001b[0m 318ms/step - accuracy: 0.9595 - loss: 0.1267 - val_accuracy: 0.8547 - val_loss: 0.5058 - learning_rate: 0.0010\n",
            "Epoch 51/100\n",
            "\u001b[1m373/373\u001b[0m \u001b[32m━━━━━━━━━━━━━━━━━━━━\u001b[0m\u001b[37m\u001b[0m \u001b[1m149s\u001b[0m 337ms/step - accuracy: 0.9638 - loss: 0.1098 - val_accuracy: 0.8636 - val_loss: 0.4913 - learning_rate: 0.0010\n",
            "Epoch 52/100\n",
            "\u001b[1m373/373\u001b[0m \u001b[32m━━━━━━━━━━━━━━━━━━━━\u001b[0m\u001b[37m\u001b[0m \u001b[1m0s\u001b[0m 290ms/step - accuracy: 0.9661 - loss: 0.1020"
          ]
        },
        {
          "output_type": "stream",
          "name": "stderr",
          "text": [
            "WARNING:absl:You are saving your model as an HDF5 file via `model.save()` or `keras.saving.save_model(model)`. This file format is considered legacy. We recommend using instead the native Keras format, e.g. `model.save('my_model.keras')` or `keras.saving.save_model(model, 'my_model.keras')`. \n"
          ]
        },
        {
          "output_type": "stream",
          "name": "stdout",
          "text": [
            "\b\b\b\b\b\b\b\b\b\b\b\b\b\b\b\b\b\b\b\b\b\b\b\b\b\b\b\b\b\b\b\b\b\b\b\b\b\b\b\b\b\b\b\b\b\b\b\b\b\b\b\b\b\b\b\b\b\b\b\b\b\b\b\b\b\b\b\b\b\b\b\b\b\b\b\b\r\u001b[1m373/373\u001b[0m \u001b[32m━━━━━━━━━━━━━━━━━━━━\u001b[0m\u001b[37m\u001b[0m \u001b[1m135s\u001b[0m 318ms/step - accuracy: 0.9661 - loss: 0.1020 - val_accuracy: 0.8661 - val_loss: 0.4750 - learning_rate: 0.0010\n",
            "Epoch 53/100\n",
            "\u001b[1m373/373\u001b[0m \u001b[32m━━━━━━━━━━━━━━━━━━━━\u001b[0m\u001b[37m\u001b[0m \u001b[1m146s\u001b[0m 329ms/step - accuracy: 0.9523 - loss: 0.1387 - val_accuracy: 0.8603 - val_loss: 0.4917 - learning_rate: 0.0010\n",
            "Epoch 54/100\n",
            "\u001b[1m373/373\u001b[0m \u001b[32m━━━━━━━━━━━━━━━━━━━━\u001b[0m\u001b[37m\u001b[0m \u001b[1m117s\u001b[0m 314ms/step - accuracy: 0.9684 - loss: 0.0969 - val_accuracy: 0.8609 - val_loss: 0.5228 - learning_rate: 0.0010\n",
            "Epoch 55/100\n",
            "\u001b[1m373/373\u001b[0m \u001b[32m━━━━━━━━━━━━━━━━━━━━\u001b[0m\u001b[37m\u001b[0m \u001b[1m116s\u001b[0m 311ms/step - accuracy: 0.9618 - loss: 0.1245 - val_accuracy: 0.8603 - val_loss: 0.5092 - learning_rate: 0.0010\n",
            "Epoch 56/100\n",
            "\u001b[1m373/373\u001b[0m \u001b[32m━━━━━━━━━━━━━━━━━━━━\u001b[0m\u001b[37m\u001b[0m \u001b[1m122s\u001b[0m 327ms/step - accuracy: 0.9660 - loss: 0.1035 - val_accuracy: 0.8462 - val_loss: 0.6050 - learning_rate: 0.0010\n",
            "Epoch 57/100\n",
            "\u001b[1m372/373\u001b[0m \u001b[32m━━━━━━━━━━━━━━━━━━━\u001b[0m\u001b[37m━\u001b[0m \u001b[1m0s\u001b[0m 285ms/step - accuracy: 0.9704 - loss: 0.0883\n",
            "Epoch 57: ReduceLROnPlateau reducing learning rate to 0.0005000000237487257.\n",
            "\u001b[1m373/373\u001b[0m \u001b[32m━━━━━━━━━━━━━━━━━━━━\u001b[0m\u001b[37m\u001b[0m \u001b[1m136s\u001b[0m 312ms/step - accuracy: 0.9704 - loss: 0.0883 - val_accuracy: 0.8655 - val_loss: 0.4934 - learning_rate: 0.0010\n",
            "Epoch 58/100\n",
            "\u001b[1m372/373\u001b[0m \u001b[32m━━━━━━━━━━━━━━━━━━━\u001b[0m\u001b[37m━\u001b[0m \u001b[1m0s\u001b[0m 282ms/step - accuracy: 0.9766 - loss: 0.0694"
          ]
        },
        {
          "output_type": "stream",
          "name": "stderr",
          "text": [
            "WARNING:absl:You are saving your model as an HDF5 file via `model.save()` or `keras.saving.save_model(model)`. This file format is considered legacy. We recommend using instead the native Keras format, e.g. `model.save('my_model.keras')` or `keras.saving.save_model(model, 'my_model.keras')`. \n"
          ]
        },
        {
          "output_type": "stream",
          "name": "stdout",
          "text": [
            "\b\b\b\b\b\b\b\b\b\b\b\b\b\b\b\b\b\b\b\b\b\b\b\b\b\b\b\b\b\b\b\b\b\b\b\b\b\b\b\b\b\b\b\b\b\b\b\b\b\b\b\b\b\b\b\b\b\b\b\b\b\b\b\b\b\b\b\b\b\b\b\b\b\b\b\b\r\u001b[1m373/373\u001b[0m \u001b[32m━━━━━━━━━━━━━━━━━━━━\u001b[0m\u001b[37m\u001b[0m \u001b[1m141s\u001b[0m 309ms/step - accuracy: 0.9767 - loss: 0.0694 - val_accuracy: 0.8796 - val_loss: 0.4710 - learning_rate: 5.0000e-04\n",
            "Epoch 59/100\n",
            "\u001b[1m373/373\u001b[0m \u001b[32m━━━━━━━━━━━━━━━━━━━━\u001b[0m\u001b[37m\u001b[0m \u001b[1m138s\u001b[0m 300ms/step - accuracy: 0.9864 - loss: 0.0423 - val_accuracy: 0.8762 - val_loss: 0.5131 - learning_rate: 5.0000e-04\n",
            "Epoch 60/100\n",
            "\u001b[1m373/373\u001b[0m \u001b[32m━━━━━━━━━━━━━━━━━━━━\u001b[0m\u001b[37m\u001b[0m \u001b[1m143s\u001b[0m 301ms/step - accuracy: 0.9854 - loss: 0.0512 - val_accuracy: 0.8786 - val_loss: 0.4985 - learning_rate: 5.0000e-04\n",
            "Epoch 61/100\n",
            "\u001b[1m373/373\u001b[0m \u001b[32m━━━━━━━━━━━━━━━━━━━━\u001b[0m\u001b[37m\u001b[0m \u001b[1m145s\u001b[0m 309ms/step - accuracy: 0.9768 - loss: 0.0679 - val_accuracy: 0.8742 - val_loss: 0.5262 - learning_rate: 5.0000e-04\n",
            "Epoch 62/100\n",
            "\u001b[1m373/373\u001b[0m \u001b[32m━━━━━━━━━━━━━━━━━━━━\u001b[0m\u001b[37m\u001b[0m \u001b[1m149s\u001b[0m 328ms/step - accuracy: 0.9856 - loss: 0.0468 - val_accuracy: 0.8740 - val_loss: 0.5226 - learning_rate: 5.0000e-04\n",
            "Epoch 63/100\n",
            "\u001b[1m373/373\u001b[0m \u001b[32m━━━━━━━━━━━━━━━━━━━━\u001b[0m\u001b[37m\u001b[0m \u001b[1m0s\u001b[0m 283ms/step - accuracy: 0.9871 - loss: 0.0449"
          ]
        },
        {
          "output_type": "stream",
          "name": "stderr",
          "text": [
            "WARNING:absl:You are saving your model as an HDF5 file via `model.save()` or `keras.saving.save_model(model)`. This file format is considered legacy. We recommend using instead the native Keras format, e.g. `model.save('my_model.keras')` or `keras.saving.save_model(model, 'my_model.keras')`. \n"
          ]
        },
        {
          "output_type": "stream",
          "name": "stdout",
          "text": [
            "\b\b\b\b\b\b\b\b\b\b\b\b\b\b\b\b\b\b\b\b\b\b\b\b\b\b\b\b\b\b\b\b\b\b\b\b\b\b\b\b\b\b\b\b\b\b\b\b\b\b\b\b\b\b\b\b\b\b\b\b\b\b\b\b\b\b\b\b\b\b\b\b\b\b\b\b\r\u001b[1m373/373\u001b[0m \u001b[32m━━━━━━━━━━━━━━━━━━━━\u001b[0m\u001b[37m\u001b[0m \u001b[1m136s\u001b[0m 311ms/step - accuracy: 0.9871 - loss: 0.0449 - val_accuracy: 0.8828 - val_loss: 0.4730 - learning_rate: 5.0000e-04\n",
            "Epoch 64/100\n",
            "\u001b[1m373/373\u001b[0m \u001b[32m━━━━━━━━━━━━━━━━━━━━\u001b[0m\u001b[37m\u001b[0m \u001b[1m145s\u001b[0m 319ms/step - accuracy: 0.9841 - loss: 0.0511 - val_accuracy: 0.8752 - val_loss: 0.5351 - learning_rate: 5.0000e-04\n",
            "Epoch 65/100\n",
            "\u001b[1m372/373\u001b[0m \u001b[32m━━━━━━━━━━━━━━━━━━━\u001b[0m\u001b[37m━\u001b[0m \u001b[1m0s\u001b[0m 289ms/step - accuracy: 0.9806 - loss: 0.0600"
          ]
        },
        {
          "output_type": "stream",
          "name": "stderr",
          "text": [
            "WARNING:absl:You are saving your model as an HDF5 file via `model.save()` or `keras.saving.save_model(model)`. This file format is considered legacy. We recommend using instead the native Keras format, e.g. `model.save('my_model.keras')` or `keras.saving.save_model(model, 'my_model.keras')`. \n"
          ]
        },
        {
          "output_type": "stream",
          "name": "stdout",
          "text": [
            "\b\b\b\b\b\b\b\b\b\b\b\b\b\b\b\b\b\b\b\b\b\b\b\b\b\b\b\b\b\b\b\b\b\b\b\b\b\b\b\b\b\b\b\b\b\b\b\b\b\b\b\b\b\b\b\b\b\b\b\b\b\b\b\b\b\b\b\b\b\b\b\b\b\b\b\b\r\u001b[1m373/373\u001b[0m \u001b[32m━━━━━━━━━━━━━━━━━━━━\u001b[0m\u001b[37m\u001b[0m \u001b[1m118s\u001b[0m 316ms/step - accuracy: 0.9806 - loss: 0.0599 - val_accuracy: 0.8850 - val_loss: 0.4877 - learning_rate: 5.0000e-04\n",
            "Epoch 66/100\n",
            "\u001b[1m373/373\u001b[0m \u001b[32m━━━━━━━━━━━━━━━━━━━━\u001b[0m\u001b[37m\u001b[0m \u001b[1m140s\u001b[0m 310ms/step - accuracy: 0.9846 - loss: 0.0482 - val_accuracy: 0.8829 - val_loss: 0.4908 - learning_rate: 5.0000e-04\n",
            "Epoch 67/100\n",
            "\u001b[1m372/373\u001b[0m \u001b[32m━━━━━━━━━━━━━━━━━━━\u001b[0m\u001b[37m━\u001b[0m \u001b[1m0s\u001b[0m 283ms/step - accuracy: 0.9848 - loss: 0.0483"
          ]
        },
        {
          "output_type": "stream",
          "name": "stderr",
          "text": [
            "WARNING:absl:You are saving your model as an HDF5 file via `model.save()` or `keras.saving.save_model(model)`. This file format is considered legacy. We recommend using instead the native Keras format, e.g. `model.save('my_model.keras')` or `keras.saving.save_model(model, 'my_model.keras')`. \n"
          ]
        },
        {
          "output_type": "stream",
          "name": "stdout",
          "text": [
            "\b\b\b\b\b\b\b\b\b\b\b\b\b\b\b\b\b\b\b\b\b\b\b\b\b\b\b\b\b\b\b\b\b\b\b\b\b\b\b\b\b\b\b\b\b\b\b\b\b\b\b\b\b\b\b\b\b\b\b\b\b\b\b\b\b\b\b\b\b\b\b\b\b\b\b\b\r\u001b[1m373/373\u001b[0m \u001b[32m━━━━━━━━━━━━━━━━━━━━\u001b[0m\u001b[37m\u001b[0m \u001b[1m116s\u001b[0m 310ms/step - accuracy: 0.9848 - loss: 0.0483 - val_accuracy: 0.8905 - val_loss: 0.4567 - learning_rate: 5.0000e-04\n",
            "Epoch 68/100\n",
            "\u001b[1m373/373\u001b[0m \u001b[32m━━━━━━━━━━━━━━━━━━━━\u001b[0m\u001b[37m\u001b[0m \u001b[1m142s\u001b[0m 312ms/step - accuracy: 0.9882 - loss: 0.0370 - val_accuracy: 0.8688 - val_loss: 0.5940 - learning_rate: 5.0000e-04\n",
            "Epoch 69/100\n",
            "\u001b[1m373/373\u001b[0m \u001b[32m━━━━━━━━━━━━━━━━━━━━\u001b[0m\u001b[37m\u001b[0m \u001b[1m145s\u001b[0m 321ms/step - accuracy: 0.9834 - loss: 0.0509 - val_accuracy: 0.8774 - val_loss: 0.5208 - learning_rate: 5.0000e-04\n",
            "Epoch 70/100\n",
            "\u001b[1m373/373\u001b[0m \u001b[32m━━━━━━━━━━━━━━━━━━━━\u001b[0m\u001b[37m\u001b[0m \u001b[1m115s\u001b[0m 307ms/step - accuracy: 0.9873 - loss: 0.0406 - val_accuracy: 0.8804 - val_loss: 0.5068 - learning_rate: 5.0000e-04\n",
            "Epoch 71/100\n",
            "\u001b[1m373/373\u001b[0m \u001b[32m━━━━━━━━━━━━━━━━━━━━\u001b[0m\u001b[37m\u001b[0m \u001b[1m142s\u001b[0m 306ms/step - accuracy: 0.9856 - loss: 0.0432 - val_accuracy: 0.8863 - val_loss: 0.4820 - learning_rate: 5.0000e-04\n",
            "Epoch 72/100\n",
            "\u001b[1m372/373\u001b[0m \u001b[32m━━━━━━━━━━━━━━━━━━━\u001b[0m\u001b[37m━\u001b[0m \u001b[1m0s\u001b[0m 293ms/step - accuracy: 0.9855 - loss: 0.0445"
          ]
        },
        {
          "output_type": "stream",
          "name": "stderr",
          "text": [
            "WARNING:absl:You are saving your model as an HDF5 file via `model.save()` or `keras.saving.save_model(model)`. This file format is considered legacy. We recommend using instead the native Keras format, e.g. `model.save('my_model.keras')` or `keras.saving.save_model(model, 'my_model.keras')`. \n"
          ]
        },
        {
          "output_type": "stream",
          "name": "stdout",
          "text": [
            "\b\b\b\b\b\b\b\b\b\b\b\b\b\b\b\b\b\b\b\b\b\b\b\b\b\b\b\b\b\b\b\b\b\b\b\b\b\b\b\b\b\b\b\b\b\b\b\b\b\b\b\b\b\b\b\b\b\b\b\b\b\b\b\b\b\b\b\b\b\b\b\b\b\b\b\b\r\u001b[1m373/373\u001b[0m \u001b[32m━━━━━━━━━━━━━━━━━━━━\u001b[0m\u001b[37m\u001b[0m \u001b[1m147s\u001b[0m 320ms/step - accuracy: 0.9855 - loss: 0.0445 - val_accuracy: 0.8912 - val_loss: 0.4676 - learning_rate: 5.0000e-04\n",
            "Epoch 73/100\n",
            "\u001b[1m372/373\u001b[0m \u001b[32m━━━━━━━━━━━━━━━━━━━\u001b[0m\u001b[37m━\u001b[0m \u001b[1m0s\u001b[0m 295ms/step - accuracy: 0.9873 - loss: 0.0378"
          ]
        },
        {
          "output_type": "stream",
          "name": "stderr",
          "text": [
            "WARNING:absl:You are saving your model as an HDF5 file via `model.save()` or `keras.saving.save_model(model)`. This file format is considered legacy. We recommend using instead the native Keras format, e.g. `model.save('my_model.keras')` or `keras.saving.save_model(model, 'my_model.keras')`. \n"
          ]
        },
        {
          "output_type": "stream",
          "name": "stdout",
          "text": [
            "\b\b\b\b\b\b\b\b\b\b\b\b\b\b\b\b\b\b\b\b\b\b\b\b\b\b\b\b\b\b\b\b\b\b\b\b\b\b\b\b\b\b\b\b\b\b\b\b\b\b\b\b\b\b\b\b\b\b\b\b\b\b\b\b\b\b\b\b\b\b\b\b\b\b\b\b\r\u001b[1m373/373\u001b[0m \u001b[32m━━━━━━━━━━━━━━━━━━━━\u001b[0m\u001b[37m\u001b[0m \u001b[1m143s\u001b[0m 323ms/step - accuracy: 0.9873 - loss: 0.0378 - val_accuracy: 0.8913 - val_loss: 0.4632 - learning_rate: 5.0000e-04\n",
            "Epoch 74/100\n",
            "\u001b[1m373/373\u001b[0m \u001b[32m━━━━━━━━━━━━━━━━━━━━\u001b[0m\u001b[37m\u001b[0m \u001b[1m142s\u001b[0m 323ms/step - accuracy: 0.9889 - loss: 0.0366 - val_accuracy: 0.8796 - val_loss: 0.5150 - learning_rate: 5.0000e-04\n",
            "Epoch 75/100\n",
            "\u001b[1m373/373\u001b[0m \u001b[32m━━━━━━━━━━━━━━━━━━━━\u001b[0m\u001b[37m\u001b[0m \u001b[1m141s\u001b[0m 320ms/step - accuracy: 0.9838 - loss: 0.0489 - val_accuracy: 0.8846 - val_loss: 0.4915 - learning_rate: 5.0000e-04\n",
            "Epoch 76/100\n",
            "\u001b[1m373/373\u001b[0m \u001b[32m━━━━━━━━━━━━━━━━━━━━\u001b[0m\u001b[37m\u001b[0m \u001b[1m141s\u001b[0m 317ms/step - accuracy: 0.9877 - loss: 0.0397 - val_accuracy: 0.8797 - val_loss: 0.5367 - learning_rate: 5.0000e-04\n",
            "Epoch 77/100\n",
            "\u001b[1m373/373\u001b[0m \u001b[32m━━━━━━━━━━━━━━━━━━━━\u001b[0m\u001b[37m\u001b[0m \u001b[1m141s\u001b[0m 315ms/step - accuracy: 0.9865 - loss: 0.0425 - val_accuracy: 0.8870 - val_loss: 0.4841 - learning_rate: 5.0000e-04\n",
            "Epoch 78/100\n",
            "\u001b[1m373/373\u001b[0m \u001b[32m━━━━━━━━━━━━━━━━━━━━\u001b[0m\u001b[37m\u001b[0m \u001b[1m0s\u001b[0m 296ms/step - accuracy: 0.9816 - loss: 0.0606\n",
            "Epoch 78: ReduceLROnPlateau reducing learning rate to 0.0002500000118743628.\n",
            "\u001b[1m373/373\u001b[0m \u001b[32m━━━━━━━━━━━━━━━━━━━━\u001b[0m\u001b[37m\u001b[0m \u001b[1m141s\u001b[0m 314ms/step - accuracy: 0.9816 - loss: 0.0606 - val_accuracy: 0.8787 - val_loss: 0.5152 - learning_rate: 5.0000e-04\n",
            "Epoch 79/100\n",
            "\u001b[1m372/373\u001b[0m \u001b[32m━━━━━━━━━━━━━━━━━━━\u001b[0m\u001b[37m━\u001b[0m \u001b[1m0s\u001b[0m 300ms/step - accuracy: 0.9894 - loss: 0.0318"
          ]
        },
        {
          "output_type": "stream",
          "name": "stderr",
          "text": [
            "WARNING:absl:You are saving your model as an HDF5 file via `model.save()` or `keras.saving.save_model(model)`. This file format is considered legacy. We recommend using instead the native Keras format, e.g. `model.save('my_model.keras')` or `keras.saving.save_model(model, 'my_model.keras')`. \n"
          ]
        },
        {
          "output_type": "stream",
          "name": "stdout",
          "text": [
            "\b\b\b\b\b\b\b\b\b\b\b\b\b\b\b\b\b\b\b\b\b\b\b\b\b\b\b\b\b\b\b\b\b\b\b\b\b\b\b\b\b\b\b\b\b\b\b\b\b\b\b\b\b\b\b\b\b\b\b\b\b\b\b\b\b\b\b\b\b\b\b\b\b\b\b\b\r\u001b[1m373/373\u001b[0m \u001b[32m━━━━━━━━━━━━━━━━━━━━\u001b[0m\u001b[37m\u001b[0m \u001b[1m147s\u001b[0m 328ms/step - accuracy: 0.9894 - loss: 0.0318 - val_accuracy: 0.8917 - val_loss: 0.4632 - learning_rate: 2.5000e-04\n",
            "Epoch 80/100\n",
            "\u001b[1m373/373\u001b[0m \u001b[32m━━━━━━━━━━━━━━━━━━━━\u001b[0m\u001b[37m\u001b[0m \u001b[1m0s\u001b[0m 300ms/step - accuracy: 0.9923 - loss: 0.0234"
          ]
        },
        {
          "output_type": "stream",
          "name": "stderr",
          "text": [
            "WARNING:absl:You are saving your model as an HDF5 file via `model.save()` or `keras.saving.save_model(model)`. This file format is considered legacy. We recommend using instead the native Keras format, e.g. `model.save('my_model.keras')` or `keras.saving.save_model(model, 'my_model.keras')`. \n"
          ]
        },
        {
          "output_type": "stream",
          "name": "stdout",
          "text": [
            "\b\b\b\b\b\b\b\b\b\b\b\b\b\b\b\b\b\b\b\b\b\b\b\b\b\b\b\b\b\b\b\b\b\b\b\b\b\b\b\b\b\b\b\b\b\b\b\b\b\b\b\b\b\b\b\b\b\b\b\b\b\b\b\b\b\b\b\b\b\b\b\b\b\b\b\b\r\u001b[1m373/373\u001b[0m \u001b[32m━━━━━━━━━━━━━━━━━━━━\u001b[0m\u001b[37m\u001b[0m \u001b[1m122s\u001b[0m 328ms/step - accuracy: 0.9923 - loss: 0.0234 - val_accuracy: 0.8923 - val_loss: 0.4797 - learning_rate: 2.5000e-04\n",
            "Epoch 81/100\n",
            "\u001b[1m373/373\u001b[0m \u001b[32m━━━━━━━━━━━━━━━━━━━━\u001b[0m\u001b[37m\u001b[0m \u001b[1m116s\u001b[0m 311ms/step - accuracy: 0.9883 - loss: 0.0386 - val_accuracy: 0.8920 - val_loss: 0.4800 - learning_rate: 2.5000e-04\n",
            "Epoch 82/100\n",
            "\u001b[1m372/373\u001b[0m \u001b[32m━━━━━━━━━━━━━━━━━━━\u001b[0m\u001b[37m━\u001b[0m \u001b[1m0s\u001b[0m 316ms/step - accuracy: 0.9929 - loss: 0.0210"
          ]
        },
        {
          "output_type": "stream",
          "name": "stderr",
          "text": [
            "WARNING:absl:You are saving your model as an HDF5 file via `model.save()` or `keras.saving.save_model(model)`. This file format is considered legacy. We recommend using instead the native Keras format, e.g. `model.save('my_model.keras')` or `keras.saving.save_model(model, 'my_model.keras')`. \n"
          ]
        },
        {
          "output_type": "stream",
          "name": "stdout",
          "text": [
            "\b\b\b\b\b\b\b\b\b\b\b\b\b\b\b\b\b\b\b\b\b\b\b\b\b\b\b\b\b\b\b\b\b\b\b\b\b\b\b\b\b\b\b\b\b\b\b\b\b\b\b\b\b\b\b\b\b\b\b\b\b\b\b\b\b\b\b\b\b\b\b\b\b\b\b\b\r\u001b[1m373/373\u001b[0m \u001b[32m━━━━━━━━━━━━━━━━━━━━\u001b[0m\u001b[37m\u001b[0m \u001b[1m154s\u001b[0m 344ms/step - accuracy: 0.9929 - loss: 0.0210 - val_accuracy: 0.8933 - val_loss: 0.4817 - learning_rate: 2.5000e-04\n",
            "Epoch 83/100\n",
            "\u001b[1m373/373\u001b[0m \u001b[32m━━━━━━━━━━━━━━━━━━━━\u001b[0m\u001b[37m\u001b[0m \u001b[1m0s\u001b[0m 291ms/step - accuracy: 0.9935 - loss: 0.0189"
          ]
        },
        {
          "output_type": "stream",
          "name": "stderr",
          "text": [
            "WARNING:absl:You are saving your model as an HDF5 file via `model.save()` or `keras.saving.save_model(model)`. This file format is considered legacy. We recommend using instead the native Keras format, e.g. `model.save('my_model.keras')` or `keras.saving.save_model(model, 'my_model.keras')`. \n"
          ]
        },
        {
          "output_type": "stream",
          "name": "stdout",
          "text": [
            "\b\b\b\b\b\b\b\b\b\b\b\b\b\b\b\b\b\b\b\b\b\b\b\b\b\b\b\b\b\b\b\b\b\b\b\b\b\b\b\b\b\b\b\b\b\b\b\b\b\b\b\b\b\b\b\b\b\b\b\b\b\b\b\b\b\b\b\b\b\b\b\b\b\b\b\b\r\u001b[1m373/373\u001b[0m \u001b[32m━━━━━━━━━━━━━━━━━━━━\u001b[0m\u001b[37m\u001b[0m \u001b[1m129s\u001b[0m 309ms/step - accuracy: 0.9935 - loss: 0.0189 - val_accuracy: 0.8957 - val_loss: 0.4682 - learning_rate: 2.5000e-04\n",
            "Epoch 84/100\n",
            "\u001b[1m372/373\u001b[0m \u001b[32m━━━━━━━━━━━━━━━━━━━\u001b[0m\u001b[37m━\u001b[0m \u001b[1m0s\u001b[0m 305ms/step - accuracy: 0.9943 - loss: 0.0176"
          ]
        },
        {
          "output_type": "stream",
          "name": "stderr",
          "text": [
            "WARNING:absl:You are saving your model as an HDF5 file via `model.save()` or `keras.saving.save_model(model)`. This file format is considered legacy. We recommend using instead the native Keras format, e.g. `model.save('my_model.keras')` or `keras.saving.save_model(model, 'my_model.keras')`. \n"
          ]
        },
        {
          "output_type": "stream",
          "name": "stdout",
          "text": [
            "\b\b\b\b\b\b\b\b\b\b\b\b\b\b\b\b\b\b\b\b\b\b\b\b\b\b\b\b\b\b\b\b\b\b\b\b\b\b\b\b\b\b\b\b\b\b\b\b\b\b\b\b\b\b\b\b\b\b\b\b\b\b\b\b\b\b\b\b\b\b\b\b\b\b\b\b\r\u001b[1m373/373\u001b[0m \u001b[32m━━━━━━━━━━━━━━━━━━━━\u001b[0m\u001b[37m\u001b[0m \u001b[1m150s\u001b[0m 332ms/step - accuracy: 0.9943 - loss: 0.0176 - val_accuracy: 0.8984 - val_loss: 0.4934 - learning_rate: 2.5000e-04\n",
            "Epoch 85/100\n",
            "\u001b[1m373/373\u001b[0m \u001b[32m━━━━━━━━━━━━━━━━━━━━\u001b[0m\u001b[37m\u001b[0m \u001b[1m0s\u001b[0m 290ms/step - accuracy: 0.9949 - loss: 0.0147"
          ]
        },
        {
          "output_type": "stream",
          "name": "stderr",
          "text": [
            "WARNING:absl:You are saving your model as an HDF5 file via `model.save()` or `keras.saving.save_model(model)`. This file format is considered legacy. We recommend using instead the native Keras format, e.g. `model.save('my_model.keras')` or `keras.saving.save_model(model, 'my_model.keras')`. \n"
          ]
        },
        {
          "output_type": "stream",
          "name": "stdout",
          "text": [
            "\b\b\b\b\b\b\b\b\b\b\b\b\b\b\b\b\b\b\b\b\b\b\b\b\b\b\b\b\b\b\b\b\b\b\b\b\b\b\b\b\b\b\b\b\b\b\b\b\b\b\b\b\b\b\b\b\b\b\b\b\b\b\b\b\b\b\b\b\b\b\b\b\b\b\b\b\r\u001b[1m373/373\u001b[0m \u001b[32m━━━━━━━━━━━━━━━━━━━━\u001b[0m\u001b[37m\u001b[0m \u001b[1m137s\u001b[0m 318ms/step - accuracy: 0.9949 - loss: 0.0147 - val_accuracy: 0.9002 - val_loss: 0.4883 - learning_rate: 2.5000e-04\n",
            "Epoch 86/100\n",
            "\u001b[1m373/373\u001b[0m \u001b[32m━━━━━━━━━━━━━━━━━━━━\u001b[0m\u001b[37m\u001b[0m \u001b[1m143s\u001b[0m 320ms/step - accuracy: 0.9953 - loss: 0.0157 - val_accuracy: 0.8933 - val_loss: 0.5324 - learning_rate: 2.5000e-04\n",
            "Epoch 87/100\n",
            "\u001b[1m373/373\u001b[0m \u001b[32m━━━━━━━━━━━━━━━━━━━━\u001b[0m\u001b[37m\u001b[0m \u001b[1m143s\u001b[0m 324ms/step - accuracy: 0.9947 - loss: 0.0185 - val_accuracy: 0.8984 - val_loss: 0.5000 - learning_rate: 2.5000e-04\n",
            "Epoch 88/100\n",
            "\u001b[1m373/373\u001b[0m \u001b[32m━━━━━━━━━━━━━━━━━━━━\u001b[0m\u001b[37m\u001b[0m \u001b[1m144s\u001b[0m 329ms/step - accuracy: 0.9914 - loss: 0.0287 - val_accuracy: 0.8954 - val_loss: 0.5074 - learning_rate: 2.5000e-04\n",
            "Epoch 89/100\n",
            "\u001b[1m373/373\u001b[0m \u001b[32m━━━━━━━━━━━━━━━━━━━━\u001b[0m\u001b[37m\u001b[0m \u001b[1m140s\u001b[0m 324ms/step - accuracy: 0.9936 - loss: 0.0209 - val_accuracy: 0.8940 - val_loss: 0.5090 - learning_rate: 2.5000e-04\n",
            "Epoch 90/100\n",
            "\u001b[1m373/373\u001b[0m \u001b[32m━━━━━━━━━━━━━━━━━━━━\u001b[0m\u001b[37m\u001b[0m \u001b[1m0s\u001b[0m 302ms/step - accuracy: 0.9945 - loss: 0.0166\n",
            "Epoch 90: ReduceLROnPlateau reducing learning rate to 0.0001250000059371814.\n",
            "\u001b[1m373/373\u001b[0m \u001b[32m━━━━━━━━━━━━━━━━━━━━\u001b[0m\u001b[37m\u001b[0m \u001b[1m120s\u001b[0m 321ms/step - accuracy: 0.9945 - loss: 0.0166 - val_accuracy: 0.8977 - val_loss: 0.5115 - learning_rate: 2.5000e-04\n",
            "Epoch 91/100\n",
            "\u001b[1m372/373\u001b[0m \u001b[32m━━━━━━━━━━━━━━━━━━━\u001b[0m\u001b[37m━\u001b[0m \u001b[1m0s\u001b[0m 314ms/step - accuracy: 0.9956 - loss: 0.0153"
          ]
        },
        {
          "output_type": "stream",
          "name": "stderr",
          "text": [
            "WARNING:absl:You are saving your model as an HDF5 file via `model.save()` or `keras.saving.save_model(model)`. This file format is considered legacy. We recommend using instead the native Keras format, e.g. `model.save('my_model.keras')` or `keras.saving.save_model(model, 'my_model.keras')`. \n"
          ]
        },
        {
          "output_type": "stream",
          "name": "stdout",
          "text": [
            "\b\b\b\b\b\b\b\b\b\b\b\b\b\b\b\b\b\b\b\b\b\b\b\b\b\b\b\b\b\b\b\b\b\b\b\b\b\b\b\b\b\b\b\b\b\b\b\b\b\b\b\b\b\b\b\b\b\b\b\b\b\b\b\b\b\b\b\b\b\b\b\b\b\b\b\b\r\u001b[1m373/373\u001b[0m \u001b[32m━━━━━━━━━━━━━━━━━━━━\u001b[0m\u001b[37m\u001b[0m \u001b[1m127s\u001b[0m 341ms/step - accuracy: 0.9956 - loss: 0.0153 - val_accuracy: 0.9016 - val_loss: 0.4755 - learning_rate: 1.2500e-04\n",
            "Epoch 92/100\n",
            "\u001b[1m373/373\u001b[0m \u001b[32m━━━━━━━━━━━━━━━━━━━━\u001b[0m\u001b[37m\u001b[0m \u001b[1m136s\u001b[0m 324ms/step - accuracy: 0.9969 - loss: 0.0109 - val_accuracy: 0.9009 - val_loss: 0.4889 - learning_rate: 1.2500e-04\n",
            "Epoch 93/100\n",
            "\u001b[1m373/373\u001b[0m \u001b[32m━━━━━━━━━━━━━━━━━━━━\u001b[0m\u001b[37m\u001b[0m \u001b[1m142s\u001b[0m 324ms/step - accuracy: 0.9947 - loss: 0.0154 - val_accuracy: 0.9009 - val_loss: 0.4804 - learning_rate: 1.2500e-04\n",
            "Epoch 94/100\n",
            "\u001b[1m373/373\u001b[0m \u001b[32m━━━━━━━━━━━━━━━━━━━━\u001b[0m\u001b[37m\u001b[0m \u001b[1m142s\u001b[0m 324ms/step - accuracy: 0.9965 - loss: 0.0106 - val_accuracy: 0.9011 - val_loss: 0.4907 - learning_rate: 1.2500e-04\n",
            "Epoch 95/100\n",
            "\u001b[1m373/373\u001b[0m \u001b[32m━━━━━━━━━━━━━━━━━━━━\u001b[0m\u001b[37m\u001b[0m \u001b[1m0s\u001b[0m 303ms/step - accuracy: 0.9965 - loss: 0.0113"
          ]
        },
        {
          "output_type": "stream",
          "name": "stderr",
          "text": [
            "WARNING:absl:You are saving your model as an HDF5 file via `model.save()` or `keras.saving.save_model(model)`. This file format is considered legacy. We recommend using instead the native Keras format, e.g. `model.save('my_model.keras')` or `keras.saving.save_model(model, 'my_model.keras')`. \n"
          ]
        },
        {
          "output_type": "stream",
          "name": "stdout",
          "text": [
            "\b\b\b\b\b\b\b\b\b\b\b\b\b\b\b\b\b\b\b\b\b\b\b\b\b\b\b\b\b\b\b\b\b\b\b\b\b\b\b\b\b\b\b\b\b\b\b\b\b\b\b\b\b\b\b\b\b\b\b\b\b\b\b\b\b\b\b\b\b\b\b\b\b\b\b\b\r\u001b[1m373/373\u001b[0m \u001b[32m━━━━━━━━━━━━━━━━━━━━\u001b[0m\u001b[37m\u001b[0m \u001b[1m120s\u001b[0m 321ms/step - accuracy: 0.9965 - loss: 0.0113 - val_accuracy: 0.9058 - val_loss: 0.4701 - learning_rate: 1.2500e-04\n",
            "Epoch 96/100\n",
            "\u001b[1m373/373\u001b[0m \u001b[32m━━━━━━━━━━━━━━━━━━━━\u001b[0m\u001b[37m\u001b[0m \u001b[1m116s\u001b[0m 310ms/step - accuracy: 0.9962 - loss: 0.0102 - val_accuracy: 0.9019 - val_loss: 0.4981 - learning_rate: 1.2500e-04\n",
            "Epoch 97/100\n",
            "\u001b[1m373/373\u001b[0m \u001b[32m━━━━━━━━━━━━━━━━━━━━\u001b[0m\u001b[37m\u001b[0m \u001b[1m141s\u001b[0m 308ms/step - accuracy: 0.9959 - loss: 0.0127 - val_accuracy: 0.9031 - val_loss: 0.4914 - learning_rate: 1.2500e-04\n",
            "Epoch 98/100\n",
            "\u001b[1m373/373\u001b[0m \u001b[32m━━━━━━━━━━━━━━━━━━━━\u001b[0m\u001b[37m\u001b[0m \u001b[1m151s\u001b[0m 332ms/step - accuracy: 0.9959 - loss: 0.0115 - val_accuracy: 0.9053 - val_loss: 0.4825 - learning_rate: 1.2500e-04\n",
            "Epoch 99/100\n",
            "\u001b[1m373/373\u001b[0m \u001b[32m━━━━━━━━━━━━━━━━━━━━\u001b[0m\u001b[37m\u001b[0m \u001b[1m120s\u001b[0m 321ms/step - accuracy: 0.9969 - loss: 0.0098 - val_accuracy: 0.9034 - val_loss: 0.5015 - learning_rate: 1.2500e-04\n",
            "Epoch 100/100\n",
            "\u001b[1m372/373\u001b[0m \u001b[32m━━━━━━━━━━━━━━━━━━━\u001b[0m\u001b[37m━\u001b[0m \u001b[1m0s\u001b[0m 297ms/step - accuracy: 0.9950 - loss: 0.0178\n",
            "Epoch 100: ReduceLROnPlateau reducing learning rate to 6.25000029685907e-05.\n",
            "\u001b[1m373/373\u001b[0m \u001b[32m━━━━━━━━━━━━━━━━━━━━\u001b[0m\u001b[37m\u001b[0m \u001b[1m143s\u001b[0m 324ms/step - accuracy: 0.9950 - loss: 0.0178 - val_accuracy: 0.9036 - val_loss: 0.4840 - learning_rate: 1.2500e-04\n"
          ]
        }
      ]
    },
    {
      "cell_type": "code",
      "source": [
        "# ==============================================================================\n",
        "# STEP 10: EVALUATE THE MODEL & **ADD EMOTIONAL VALENCE**\n",
        "# ==============================================================================\n",
        "print(\"\\nStep 10: Evaluating the model performance...\")\n",
        "\n",
        "# Plot training history\n",
        "epochs = range(1, len(history.history['accuracy']) + 1)\n",
        "fig, ax = plt.subplots(1, 2, figsize=(15, 5))\n",
        "ax[0].plot(epochs, history.history['loss'], label='Training Loss'); ax[0].plot(epochs, history.history['val_loss'], label='Validation Loss')\n",
        "ax[0].set_title('Training & Validation Loss'); ax[0].set_xlabel('Epochs'); ax[0].set_ylabel('Loss'); ax[0].legend()\n",
        "ax[1].plot(epochs, history.history['accuracy'], label='Training Accuracy'); ax[1].plot(epochs, history.history['val_accuracy'], label='Validation Accuracy')\n",
        "ax[1].set_title('Training & Validation Accuracy'); ax[1].set_xlabel('Epochs'); ax[1].set_ylabel('Accuracy'); ax[1].legend()\n",
        "plt.show()\n",
        "\n",
        "# Final evaluation\n",
        "print(\"\\nFinal Model Evaluation on Test Data:\")\n",
        "test_loss, test_accuracy = model.evaluate(x_test, y_test, verbose=0)\n",
        "print(f\"Test Accuracy: {test_accuracy*100:.2f}%\")\n",
        "print(f\"Test Loss: {test_loss:.4f}\")\n",
        "\n",
        "# Predictions, Confusion Matrix, and Classification Report\n",
        "y_pred = model.predict(x_test)\n",
        "y_pred_labels = encoder.inverse_transform(y_pred)\n",
        "y_test_labels = encoder.inverse_transform(y_test)\n",
        "print(\"\\nClassification Report:\")\n",
        "print(classification_report(y_test_labels, y_pred_labels, target_names=encoder.categories_[0]))\n",
        "\n",
        "cm = confusion_matrix(y_test_labels, y_pred_labels)\n",
        "plt.figure(figsize=(10, 8))\n",
        "sns.heatmap(cm, annot=True, fmt='d', cmap='Blues', xticklabels=encoder.categories_[0], yticklabels=encoder.categories_[0])\n",
        "plt.title('Confusion Matrix'); plt.ylabel('Actual Labels'); plt.xlabel('Predicted Labels'); plt.show()\n",
        "\n",
        "# --- NEW: Emotional Valence Mapping ---\n",
        "def get_valence(emotion):\n",
        "    emotion = emotion.lower()\n",
        "    if emotion == 'happy':\n",
        "        return 'Positive'\n",
        "    elif emotion in ['sad', 'angry', 'fear', 'disgust']:\n",
        "        return 'Negative'\n",
        "    else: # neutral\n",
        "        return 'Neutral'\n",
        "\n",
        "# Show some examples with valence\n",
        "print(\"\\n--- Example Predictions with Emotional Valence ---\")\n",
        "for i in range(10):\n",
        "    actual_emotion = y_test_labels[i][0]\n",
        "    predicted_emotion = y_pred_labels[i][0]\n",
        "    valence = get_valence(predicted_emotion)\n",
        "    print(f\"Actual: {actual_emotion:<10} | Predicted: {predicted_emotion:<10} | Valence: {valence}\")"
      ],
      "metadata": {
        "colab": {
          "base_uri": "https://localhost:8080/",
          "height": 1000
        },
        "id": "p3JNe-MfYVp8",
        "outputId": "def5b5df-a74a-4353-b077-fb605da70171"
      },
      "execution_count": 19,
      "outputs": [
        {
          "output_type": "stream",
          "name": "stdout",
          "text": [
            "\n",
            "Step 10: Evaluating the model performance...\n"
          ]
        },
        {
          "output_type": "display_data",
          "data": {
            "text/plain": [
              "<Figure size 1500x500 with 2 Axes>"
            ],
            "image/png": "[encoded data removed]"
          },
          "metadata": {}
        },
        {
          "output_type": "stream",
          "name": "stdout",
          "text": [
            "\n",
            "Final Model Evaluation on Test Data:\n",
            "Test Accuracy: 90.58%\n",
            "Test Loss: 0.4701\n",
            "\u001b[1m187/187\u001b[0m \u001b[32m━━━━━━━━━━━━━━━━━━━━\u001b[0m\u001b[37m\u001b[0m \u001b[1m10s\u001b[0m 47ms/step\n",
            "\n",
            "Classification Report:\n",
            "              precision    recall  f1-score   support\n",
            "\n",
            "       angry       0.95      0.93      0.94      1037\n",
            "     disgust       0.91      0.88      0.90       979\n",
            "        fear       0.90      0.89      0.90      1027\n",
            "       happy       0.92      0.89      0.90      1035\n",
            "     neutral       0.88      0.93      0.90       857\n",
            "         sad       0.87      0.92      0.89      1019\n",
            "\n",
            "    accuracy                           0.91      5954\n",
            "   macro avg       0.91      0.91      0.91      5954\n",
            "weighted avg       0.91      0.91      0.91      5954\n",
            "\n"
          ]
        },
        {
          "output_type": "display_data",
          "data": {
            "text/plain": [
              "<Figure size 1000x800 with 2 Axes>"
            ],
            "image/png": "[encoded data removed]"
          },
          "metadata": {}
        },
        {
          "output_type": "stream",
          "name": "stdout",
          "text": [
            "\n",
            "--- Example Predictions with Emotional Valence ---\n",
            "Actual: sad        | Predicted: neutral    | Valence: Neutral\n",
            "Actual: neutral    | Predicted: neutral    | Valence: Neutral\n",
            "Actual: happy      | Predicted: happy      | Valence: Positive\n",
            "Actual: happy      | Predicted: happy      | Valence: Positive\n",
            "Actual: disgust    | Predicted: disgust    | Valence: Negative\n",
            "Actual: happy      | Predicted: happy      | Valence: Positive\n",
            "Actual: neutral    | Predicted: neutral    | Valence: Neutral\n",
            "Actual: angry      | Predicted: angry      | Valence: Negative\n",
            "Actual: fear       | Predicted: fear       | Valence: Negative\n",
            "Actual: happy      | Predicted: happy      | Valence: Positive\n"
          ]
        }
      ]
    },
    {
      "cell_type": "code",
      "source": [],
      "metadata": {
        "id": "uZug2-rXY4ms"
      },
      "execution_count": null,
      "outputs": []
    },
    {
      "cell_type": "code",
      "source": [
        "# ==============================================================================\n",
        "# STEP 11: SAVE MODEL, SCALER, AND ENCODER (Updated filenames)\n",
        "# ==============================================================================\n",
        "print(\"\\nStep 11: Saving model architecture, weights, and preprocessing objects...\")\n",
        "\n",
        "model_json = model.to_json()\n",
        "with open(\"cnn_lstm_model.json\", \"w\") as json_file:\n",
        "    json_file.write(model_json)\n",
        "# Best weights already saved as 'best_cnn_lstm_model.h5'\n",
        "print(\"Model architecture saved to cnn_lstm_model.json\")\n",
        "print(\"Best model weights saved to best_cnn_lstm_model.h5\")\n",
        "\n",
        "with open('scaler_seq.pickle', 'wb') as f:\n",
        "    pickle.dump(scaler, f)\n",
        "with open('encoder_seq.pickle', 'wb') as f:\n",
        "    pickle.dump(encoder, f)\n",
        "print(\"Scaler saved to scaler_seq.pickle\")\n",
        "print(\"Encoder saved to encoder_seq.pickle\")"
      ],
      "metadata": {
        "colab": {
          "base_uri": "https://localhost:8080/"
        },
        "id": "Dvimgj_vY94I",
        "outputId": "88932416-8cdb-475b-e550-4a6f5d2ed427"
      },
      "execution_count": 20,
      "outputs": [
        {
          "output_type": "stream",
          "name": "stdout",
          "text": [
            "\n",
            "Step 11: Saving model architecture, weights, and preprocessing objects...\n",
            "Model architecture saved to cnn_lstm_model.json\n",
            "Best model weights saved to best_cnn_lstm_model.h5\n",
            "Scaler saved to scaler_seq.pickle\n",
            "Encoder saved to encoder_seq.pickle\n"
          ]
        }
      ]
    },
    {
      "cell_type": "code",
      "source": [
        "# ==============================================================================\n",
        "# STEP 12: **UPDATED** PREDICTION SCRIPT FOR NEW AUDIO\n",
        "# ==============================================================================\n",
        "print(\"\\nStep 12: Example prediction script for a new audio file.\")\n",
        "print(\"You can use this block to test single audio files in the future.\")\n",
        "\n",
        "# Define the prediction function\n",
        "def predict_emotion_and_valence(audio_path):\n",
        "    # --- Load all necessary files ---\n",
        "    with open('cnn_lstm_model.json', 'r') as json_file:\n",
        "        loaded_model_json = json_file.read()\n",
        "    loaded_model = model_from_json(loaded_model_json)\n",
        "    loaded_model.load_weights(\"best_cnn_lstm_model.h5\")\n",
        "\n",
        "    with open('scaler_seq.pickle', 'rb') as f:\n",
        "        scaler = pickle.load(f)\n",
        "    with open('encoder_seq.pickle', 'rb') as f:\n",
        "        encoder = pickle.load(f)\n",
        "    with open('max_len.txt', 'r') as f:\n",
        "        max_len = int(f.read())\n",
        "\n",
        "    # --- Feature Extraction for a single file ---\n",
        "    data, sr = librosa.load(audio_path, duration=2.5, offset=0.6)\n",
        "    features = extract_features_sequential(data, sr, n_mfcc=40)\n",
        "\n",
        "    # --- Padding, Scaling and Reshaping ---\n",
        "    padded_features = pad_sequences([features], maxlen=max_len, padding='post', dtype='float32')\n",
        "    padded_features_2d = padded_features.reshape(1, -1)\n",
        "    scaled_features_2d = scaler.transform(padded_features_2d)\n",
        "    final_features = scaled_features_2d.reshape(padded_features.shape)\n",
        "\n",
        "    # --- Prediction ---\n",
        "    prediction = loaded_model.predict(final_features, verbose=0)\n",
        "    predicted_label = encoder.inverse_transform(prediction)[0][0]\n",
        "    predicted_valence = get_valence(predicted_label)\n",
        "\n",
        "    return predicted_label, predicted_valence\n",
        "\n",
        "# --- USAGE EXAMPLE ---\n",
        "try:\n",
        "    test_file_path = data_path.Path.sample(1).iloc[0]\n",
        "    predicted_emotion, predicted_valence = predict_emotion_and_valence(test_file_path)\n",
        "\n",
        "    print(f\"\\n--- Prediction Test ---\")\n",
        "    print(f\"File Path: {test_file_path}\")\n",
        "    print(f\"Predicted Emotion: {predicted_emotion.upper()}\")\n",
        "    print(f\"Predicted Valence: {predicted_valence.upper()}\")\n",
        "except Exception as e:\n",
        "    print(f\"\\nCould not run prediction example. Error: {e}\")"
      ],
      "metadata": {
        "colab": {
          "base_uri": "https://localhost:8080/"
        },
        "id": "VFFObE-NZF1A",
        "outputId": "9d21c5c4-6e6d-4c5b-a834-79b1edb841e5"
      },
      "execution_count": 21,
      "outputs": [
        {
          "output_type": "stream",
          "name": "stdout",
          "text": [
            "\n",
            "Step 12: Example prediction script for a new audio file.\n",
            "You can use this block to test single audio files in the future.\n",
            "\n",
            "--- Prediction Test ---\n",
            "File Path: /content/drive/MyDrive/AudioWAV/1067_WSI_NEU_XX.wav\n",
            "Predicted Emotion: NEUTRAL\n",
            "Predicted Valence: NEUTRAL\n"
          ]
        }
      ]
    },
    {
      "cell_type": "code",
      "source": [
        "# ==============================================================================\n",
        "# FINAL AI EMOTION COMPANION (V5) - Continuous, Intelligent & Mic-Enabled\n",
        "# ==============================================================================\n",
        "import os\n",
        "import io\n",
        "import random\n",
        "import pickle\n",
        "import numpy as np\n",
        "import librosa\n",
        "from IPython.display import display, HTML, Markdown, clear_output\n",
        "\n",
        "# --- NECESSARY IMPORTS ---\n",
        "from google.colab.output import eval_js\n",
        "from base64 import b64decode\n",
        "from tensorflow.keras.models import model_from_json\n",
        "from tensorflow.keras.preprocessing.sequence import pad_sequences\n",
        "\n",
        "# --- CONFIGURATION ---\n",
        "MODEL_JSON_PATH = \"cnn_lstm_model.json\"\n",
        "MODEL_WEIGHTS_PATH = \"best_cnn_lstm_model.h5\"\n",
        "SCALER_PATH = \"scaler_seq.pickle\"\n",
        "ENCODER_PATH = \"encoder_seq.pickle\"\n",
        "MAX_LEN_PATH = \"max_len.txt\"\n",
        "RECORDING_FILENAME = \"user_audio.wav\"\n",
        "\n",
        "# --- UPGRADED JAVASCRIPT FOR A BETTER MIC RECORDER ---\n",
        "AUDIO_HTML_WITH_TIMER = \"\"\"\n",
        "<script>\n",
        "var record = () => new Promise(async resolve => {\n",
        "  const div = document.createElement('div');\n",
        "  const startButton = document.createElement('button');\n",
        "  startButton.textContent = 'Start Recording';\n",
        "  div.appendChild(startButton);\n",
        "\n",
        "  const stopButton = document.createElement('button');\n",
        "  stopButton.textContent = 'Stop Recording';\n",
        "  stopButton.disabled = true;\n",
        "  div.appendChild(stopButton);\n",
        "\n",
        "  const statusDiv = document.createElement('div');\n",
        "  statusDiv.innerHTML = '<i>Ready to record.</i>';\n",
        "  div.appendChild(statusDiv);\n",
        "\n",
        "  const audio = document.createElement('audio');\n",
        "  audio.controls = true;\n",
        "  div.appendChild(audio);\n",
        "\n",
        "  document.body.appendChild(div);\n",
        "\n",
        "  let recorder, stream, timerInterval;\n",
        "  let seconds = 0;\n",
        "\n",
        "  startButton.onclick = async () => {\n",
        "    try {\n",
        "      stream = await navigator.mediaDevices.getUserMedia({audio: true});\n",
        "      recorder = new MediaRecorder(stream);\n",
        "      let chunks = [];\n",
        "      recorder.ondataavailable = e => chunks.push(e.data);\n",
        "\n",
        "      recorder.onstop = e => {\n",
        "        const blob = new Blob(chunks, { 'type' : 'audio/ogg; codecs=opus' });\n",
        "        const audioURL = window.URL.createObjectURL(blob);\n",
        "        audio.src = audioURL;\n",
        "        const reader = new FileReader();\n",
        "        reader.readAsDataURL(blob);\n",
        "        reader.onloadend = () => {\n",
        "            statusDiv.innerHTML = '<i>Recording finished. Click play to listen.</i>';\n",
        "            resolve(reader.result);\n",
        "        };\n",
        "      };\n",
        "\n",
        "      recorder.start();\n",
        "      startButton.disabled = true;\n",
        "      stopButton.disabled = false;\n",
        "      seconds = 0;\n",
        "      statusDiv.innerHTML = '🔴 Recording... <b>0s</b>';\n",
        "      timerInterval = setInterval(() => {\n",
        "        seconds++;\n",
        "        statusDiv.innerHTML = `🔴 Recording... <b>${seconds}s</b>`;\n",
        "      }, 1000);\n",
        "\n",
        "    } catch (err) {\n",
        "        statusDiv.innerHTML = `⚠️ Error: Could not access microphone. Please allow permissions.`;\n",
        "        resolve(null);\n",
        "    }\n",
        "  };\n",
        "\n",
        "  stopButton.onclick = () => {\n",
        "    recorder.stop();\n",
        "    stream.getTracks().forEach(track => track.stop());\n",
        "    clearInterval(timerInterval);\n",
        "    startButton.disabled = false;\n",
        "    stopButton.disabled = true;\n",
        "    statusDiv.innerHTML = '<i>Processing recording...</i>';\n",
        "  };\n",
        "});\n",
        "</script>\n",
        "\"\"\"\n",
        "\n",
        "def get_audio():\n",
        "  display(HTML(AUDIO_HTML_WITH_TIMER))\n",
        "  data = eval_js(\"record()\")\n",
        "  if not data or ',' not in data: return None\n",
        "  binary = b64decode(data.split(',')[1])\n",
        "  with open(RECORDING_FILENAME, 'wb') as f: f.write(binary)\n",
        "  return RECORDING_FILENAME\n",
        "\n",
        "# --- HELPER FUNCTIONS ---\n",
        "def extract_features_sequential(data, sr=22050, n_mfcc=40):\n",
        "    mfccs = librosa.feature.mfcc(y=data, sr=sr, n_mfcc=n_mfcc)\n",
        "    return mfccs.T\n",
        "\n",
        "def get_valence(emotion):\n",
        "    emotion = emotion.lower()\n",
        "    if emotion == 'happy': return 'Positive'\n",
        "    elif emotion in ['sad', 'angry', 'fear', 'disgust']: return 'Negative'\n",
        "    else: return 'Neutral'\n",
        "\n",
        "# --- RICH RESPONSE GENERATION ---\n",
        "def get_rich_response(emotion):\n",
        "    emotion = emotion.lower()\n",
        "    happy_responses = [\"It's wonderful to hear such joy in your voice! Keep that fantastic energy going. 🎉<br>Quote: *'The purpose of our lives is to be happy.'* - Dalai Lama\",\"You sound genuinely happy, and that's amazing! Let's celebrate that feeling. 😊<br>Quote: *'Happiness is not something ready made. It comes from your own actions.'* - Dalai Lama\"]\n",
        "    sad_responses = [\"I hear a note of sadness in your voice. Please remember that it's okay to feel this way, and this feeling will pass. Be gentle with yourself.<br>Words of Encouragement: *'The oak fought the wind and was broken, the willow bent when it must and survived.'* - Robert Jordan\",\"It sounds like you're going through a tough time. Remember that every storm runs out of rain. You are stronger than you know.<br>Words of Encouragement: *'A smooth sea never made a skilled sailor.'*\"]\n",
        "    angry_responses = [\"There's a strong, intense energy in your voice. When you feel anger, it's a sign that something needs attention. Take a moment for a deep breath.<br>Suggestion: Try the 4-7-8 breathing technique: Inhale for 4 seconds, hold for 7, and exhale slowly for 8. It can make a world of difference.\",\"I sense some anger in your tone. It's a powerful emotion. Before you act, try to channel that energy. Step away from the situation for a few minutes if you can. A clear head makes for better decisions.\"]\n",
        "    fear_responses = [\"I detect a note of fear. Fear can be paralyzing, but you are capable of moving through it. You are safe in this moment.<br>Suggestion: Distract your mind with something calming. How about a relaxing game like [2048](https://play2048.co/) or listen to this calming song: [Weightless by Marconi Union](https://www.youtube.com/watch?v=UfcAVejslrU).\",\"Your voice suggests you might be feeling fearful. Remember to ground yourself in the present. Focus on one thing you can see, one thing you can hear, and one thing you can feel.<br>Suggestion: Sometimes a happy, upbeat song can change everything. Try listening to this one: [Don't Stop Me Now by Queen](https://www.youtube.com/watch?v=HgzGwKwLmgM).\"]\n",
        "    disgust_responses = [\"That's a very strong, negative reaction. Whatever caused it, let's try to reset your mind.<br>Suggestion: Think of three things you are grateful for right now, no matter how small. This can help shift your focus to something positive.\",\"I hear disgust in your voice. Let's not let that feeling linger. <br>Suggestion: Close your eyes and imagine a place where you feel completely at peace, like a quiet beach or a forest. Spend 30 seconds there.\"]\n",
        "    neutral_responses = [\"Your tone is calm and measured. It's a good state for reflection. What's on your mind today?\",\"I'm picking up a neutral tone. A blank canvas. What would you like to paint on it today?\"]\n",
        "    response_map = {'happy': happy_responses,'sad': sad_responses,'angry': angry_responses,'fear': fear_responses,'disgust': disgust_responses,'neutral': neutral_responses}\n",
        "    return random.choice(response_map.get(emotion, [\"I'm listening. Tell me more.\"]))\n",
        "\n",
        "# --- THE MAIN CONTINUOUS COMPANION FUNCTION ---\n",
        "def run_emotion_companion_continuous():\n",
        "    # Load models and preprocessors once at the start\n",
        "    try:\n",
        "        with open(MODEL_JSON_PATH, 'r') as json_file:\n",
        "            loaded_model_json = json_file.read()\n",
        "        model = model_from_json(loaded_model_json)\n",
        "        model.load_weights(MODEL_WEIGHTS_PATH)\n",
        "        with open(SCALER_PATH, 'rb') as f:\n",
        "            scaler = pickle.load(f)\n",
        "        with open(ENCODER_PATH, 'rb') as f:\n",
        "            encoder = pickle.load(f)\n",
        "        with open(MAX_LEN_PATH, 'r') as f:\n",
        "            max_len = int(f.read())\n",
        "    except Exception as e:\n",
        "        display(Markdown(f\"❌ **Error:** Could not load model files. Please run the training script first. Details: `{e}`\"))\n",
        "        return\n",
        "\n",
        "    # NEW: More intelligent and welcoming intro\n",
        "    display(Markdown(\"## Ready to Listen\"))\n",
        "    display(Markdown(\"Let's explore the emotion in your voice. I'm here to listen and reflect with you.\"))\n",
        "    display(Markdown(\"> **This is a continuous session. To stop, click the square 'Stop' button next to the cell.**\"))\n",
        "\n",
        "    # NEW: Main conversation loop\n",
        "    try:\n",
        "        while True:\n",
        "            display(HTML(\"<hr style='border-top: 2px solid #bbb;'>\")) # Visual separator\n",
        "            display(Markdown(\"### Whenever you're ready, record your voice:\"))\n",
        "            audio_file = get_audio()\n",
        "\n",
        "            # If user cancels or mic fails, loop again for another try\n",
        "            if audio_file is None:\n",
        "                clear_output(wait=True)\n",
        "                display(Markdown(\"## Ready to Listen\"))\n",
        "                display(Markdown(\"Let's explore the emotion in your voice. I'm here to listen and reflect with you.\"))\n",
        "                display(Markdown(\"> **Recording cancelled. Let's try again.**\"))\n",
        "                continue\n",
        "\n",
        "            # Clear the recorder and show processing steps\n",
        "            clear_output(wait=True)\n",
        "            display(Markdown(\"### 🔍 Listening closely...\"))\n",
        "\n",
        "            # Process audio and predict\n",
        "            data, sr = librosa.load(audio_file, sr=22050)\n",
        "            features = extract_features_sequential(data, sr, n_mfcc=40)\n",
        "            padded_features = pad_sequences([features], maxlen=max_len, padding='post', dtype='float32')\n",
        "            padded_features_2d = padded_features.reshape(1, -1)\n",
        "            scaled_features_2d = scaler.transform(padded_features_2d)\n",
        "            final_features = scaled_features_2d.reshape(padded_features.shape)\n",
        "\n",
        "            prediction = model.predict(final_features, verbose=0)\n",
        "            predicted_label = encoder.inverse_transform(prediction)[0][0]\n",
        "            predicted_valence = get_valence(predicted_label)\n",
        "\n",
        "            # Display results with the new persona\n",
        "            clear_output(wait=True)\n",
        "            display(Markdown(\"### 🤔 Here's what I heard...\"))\n",
        "            display(Markdown(f\"**Emotion:** **{predicted_label.upper()}**\"))\n",
        "            display(Markdown(f\"**Valence:** **{predicted_valence.upper()}**\"))\n",
        "\n",
        "            display(Markdown(\"### ❤️ A Thought for You...\"))\n",
        "            response = get_rich_response(predicted_label)\n",
        "            display(Markdown(response))\n",
        "\n",
        "    except KeyboardInterrupt:\n",
        "        # Handle the user stopping the cell gracefully\n",
        "        clear_output(wait=True)\n",
        "        display(Markdown(\"### Session Ended. \\nHope this was helpful. Have a great day!\"))\n",
        "\n",
        "# --- START THE CONTINUOUS SESSION ---\n",
        "run_emotion_companion_continuous()"
      ],
      "metadata": {
        "colab": {
          "base_uri": "https://localhost:8080/",
          "height": 324
        },
        "id": "J1aRAazMdmNY",
        "outputId": "18728158-beb1-4ed8-8db7-5ff7bf7358e6"
      },
      "execution_count": null,
      "outputs": [
        {
          "output_type": "display_data",
          "data": {
            "text/plain": [
              "<IPython.core.display.Markdown object>"
            ],
            "text/markdown": "### 🤔 Here's what I heard..."
          },
          "metadata": {}
        },
        {
          "output_type": "display_data",
          "data": {
            "text/plain": [
              "<IPython.core.display.Markdown object>"
            ],
            "text/markdown": "**Emotion:** **ANGRY**"
          },
          "metadata": {}
        },
        {
          "output_type": "display_data",
          "data": {
            "text/plain": [
              "<IPython.core.display.Markdown object>"
            ],
            "text/markdown": "**Valence:** **NEGATIVE**"
          },
          "metadata": {}
        },
        {
          "output_type": "display_data",
          "data": {
            "text/plain": [
              "<IPython.core.display.Markdown object>"
            ],
            "text/markdown": "### ❤️ A Thought for You..."
          },
          "metadata": {}
        },
        {
          "output_type": "display_data",
          "data": {
            "text/plain": [
              "<IPython.core.display.Markdown object>"
            ],
            "text/markdown": "I sense some anger in your tone. It's a powerful emotion. Before you act, try to channel that energy. Step away from the situation for a few minutes if you can. A clear head makes for better decisions."
          },
          "metadata": {}
        },
        {
          "output_type": "display_data",
          "data": {
            "text/plain": [
              "<IPython.core.display.HTML object>"
            ],
            "text/html": [
              "<hr style='border-top: 2px solid #bbb;'>"
            ]
          },
          "metadata": {}
        },
        {
          "output_type": "display_data",
          "data": {
            "text/plain": [
              "<IPython.core.display.Markdown object>"
            ],
            "text/markdown": "### Whenever you're ready, record your voice:"
          },
          "metadata": {}
        },
        {
          "output_type": "display_data",
          "data": {
            "text/plain": [
              "<IPython.core.display.HTML object>"
            ],
            "text/html": [
              "\n",
              "<script>\n",
              "var record = () => new Promise(async resolve => {\n",
              "  const div = document.createElement('div');\n",
              "  const startButton = document.createElement('button');\n",
              "  startButton.textContent = 'Start Recording';\n",
              "  div.appendChild(startButton);\n",
              "\n",
              "  const stopButton = document.createElement('button');\n",
              "  stopButton.textContent = 'Stop Recording';\n",
              "  stopButton.disabled = true;\n",
              "  div.appendChild(stopButton);\n",
              "\n",
              "  const statusDiv = document.createElement('div');\n",
              "  statusDiv.innerHTML = '<i>Ready to record.</i>';\n",
              "  div.appendChild(statusDiv);\n",
              "\n",
              "  const audio = document.createElement('audio');\n",
              "  audio.controls = true;\n",
              "  div.appendChild(audio);\n",
              "\n",
              "  document.body.appendChild(div);\n",
              "\n",
              "  let recorder, stream, timerInterval;\n",
              "  let seconds = 0;\n",
              "\n",
              "  startButton.onclick = async () => {\n",
              "    try {\n",
              "      stream = await navigator.mediaDevices.getUserMedia({audio: true});\n",
              "      recorder = new MediaRecorder(stream);\n",
              "      let chunks = [];\n",
              "      recorder.ondataavailable = e => chunks.push(e.data);\n",
              "\n",
              "      recorder.onstop = e => {\n",
              "        const blob = new Blob(chunks, { 'type' : 'audio/ogg; codecs=opus' });\n",
              "        const audioURL = window.URL.createObjectURL(blob);\n",
              "        audio.src = audioURL;\n",
              "        const reader = new FileReader();\n",
              "        reader.readAsDataURL(blob);\n",
              "        reader.onloadend = () => {\n",
              "            statusDiv.innerHTML = '<i>Recording finished. Click play to listen.</i>';\n",
              "            resolve(reader.result);\n",
              "        };\n",
              "      };\n",
              "\n",
              "      recorder.start();\n",
              "      startButton.disabled = true;\n",
              "      stopButton.disabled = false;\n",
              "      seconds = 0;\n",
              "      statusDiv.innerHTML = '🔴 Recording... <b>0s</b>';\n",
              "      timerInterval = setInterval(() => {\n",
              "        seconds++;\n",
              "        statusDiv.innerHTML = `🔴 Recording... <b>${seconds}s</b>`;\n",
              "      }, 1000);\n",
              "\n",
              "    } catch (err) {\n",
              "        statusDiv.innerHTML = `⚠️ Error: Could not access microphone. Please allow permissions.`;\n",
              "        resolve(null);\n",
              "    }\n",
              "  };\n",
              "\n",
              "  stopButton.onclick = () => {\n",
              "    recorder.stop();\n",
              "    stream.getTracks().forEach(track => track.stop());\n",
              "    clearInterval(timerInterval);\n",
              "    startButton.disabled = false;\n",
              "    stopButton.disabled = true;\n",
              "    statusDiv.innerHTML = '<i>Processing recording...</i>';\n",
              "  };\n",
              "});\n",
              "</script>\n"
            ]
          },
          "metadata": {}
        }
      ]
    }
  ]
}